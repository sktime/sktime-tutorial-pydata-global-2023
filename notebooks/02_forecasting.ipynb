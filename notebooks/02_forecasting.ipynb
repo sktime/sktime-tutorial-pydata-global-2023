{
 "cells": [
  {
   "attachments": {},
   "cell_type": "markdown",
   "metadata": {},
   "source": [
    "# 2 Time series forecasting with sktime\n",
    "Estimated time: 20 min"
   ]
  },
  {
   "attachments": {},
   "cell_type": "markdown",
   "metadata": {},
   "source": [
    "## Introduction\n",
    "\n",
    "What is a time series and what can we forecast?\n",
    "\n",
    "![](../images/ts_quiz.png)"
   ]
  },
  {
   "attachments": {},
   "cell_type": "markdown",
   "metadata": {},
   "source": [
    "## Agenda"
   ]
  },
  {
   "attachments": {},
   "cell_type": "markdown",
   "metadata": {},
   "source": [
    "- Quickstart\n",
    "- Univariate forecasting\n",
    "    - With statistical models\n",
    "    - With machine learning models\n",
    "    - Model evaluation and selection\n",
    "- Univariate forecasting with exogenous data\n",
    "- Multivariate forecasting\n",
    "- Probabilistic forecasting\n",
    "- Hierarchical forecasting"
   ]
  },
  {
   "attachments": {},
   "cell_type": "markdown",
   "metadata": {},
   "source": [
    "## Quickstart"
   ]
  },
  {
   "attachments": {},
   "cell_type": "markdown",
   "metadata": {},
   "source": [
    "* typical business use case :-)\n",
    "* here's some monthly historic sales data"
   ]
  },
  {
   "cell_type": "code",
   "execution_count": null,
   "metadata": {},
   "outputs": [],
   "source": [
    "import warnings\n",
    "\n",
    "warnings.filterwarnings(\"ignore\")"
   ]
  },
  {
   "cell_type": "code",
   "execution_count": null,
   "metadata": {},
   "outputs": [],
   "source": [
    "from sktime.datasets import load_shampoo_sales\n",
    "from sktime.utils.plotting import plot_series\n",
    "\n",
    "y = load_shampoo_sales()\n",
    "\n",
    "fig, ax = plot_series(y)"
   ]
  },
  {
   "cell_type": "code",
   "execution_count": null,
   "metadata": {},
   "outputs": [],
   "source": [
    "from sktime.forecasting.model_selection import temporal_train_test_split\n",
    "\n",
    "y_train, y_test = temporal_train_test_split(y=y, test_size=6)\n",
    "fig, ax = plot_series(y_train, y_test, labels=[\"train\", \"test\"])"
   ]
  },
  {
   "cell_type": "code",
   "execution_count": null,
   "metadata": {},
   "outputs": [],
   "source": [
    "from sktime.forecasting.arima import AutoARIMA\n",
    "\n",
    "# 1) Define the model\n",
    "forecaster = AutoARIMA(suppress_warnings=True)\n",
    "\n",
    "# 2) Fit on train data\n",
    "forecaster.fit(y_train)\n",
    "\n",
    "# 3) Use fitted model to predict for a certain forecast horizon (fh)\n",
    "fh = [1, 2, 3, 4, 5, 6]  # Relative to y_train\n",
    "y_pred = forecaster.predict(fh)\n",
    "\n",
    "fig, ax = plot_series(y_train, y_test, y_pred, labels=[\"train\", \"test\", \"pred\"])"
   ]
  },
  {
   "attachments": {},
   "cell_type": "markdown",
   "metadata": {},
   "source": [
    "* scoring using `sktime` performance metrics\n",
    "* requires forecasts & true values as `sktime` compatible time series"
   ]
  },
  {
   "cell_type": "code",
   "execution_count": null,
   "metadata": {},
   "outputs": [],
   "source": [
    "from sktime.performance_metrics.forecasting import MeanAbsolutePercentageError\n",
    "\n",
    "smape = MeanAbsolutePercentageError(symmetric=True)\n",
    "\n",
    "print(f\"AutoARIMA - sMAPE error: {smape(y_test, y_pred):.1%}\")"
   ]
  },
  {
   "attachments": {},
   "cell_type": "markdown",
   "metadata": {},
   "source": [
    "Notes:\n",
    "\n",
    "* MAPE just for illustration - not always best choice\n",
    "* for robust evaluation & comparison, use backtesting (not single train/test split)"
   ]
  },
  {
   "attachments": {},
   "cell_type": "markdown",
   "metadata": {},
   "source": [
    "## 2.1 Univariate forecasting"
   ]
  },
  {
   "attachments": {},
   "cell_type": "markdown",
   "metadata": {},
   "source": [
    "showcase common approaches for forecasting univariate time series in `sktime`:\n",
    "- Classical statistical models (e.g., econometric, ARIMA, etc)\n",
    "- Machine learning models (e.g., direct/recursive reduction)\n",
    "\n",
    "Recommendation: try simple models and naive baselines first!"
   ]
  },
  {
   "attachments": {},
   "cell_type": "markdown",
   "metadata": {},
   "source": [
    "### Classical forecasting method example: `AutoETS`"
   ]
  },
  {
   "cell_type": "code",
   "execution_count": null,
   "metadata": {},
   "outputs": [],
   "source": [
    "from sktime.forecasting.ets import AutoETS\n",
    "from sktime.forecasting.theta import ThetaForecaster\n",
    "\n",
    "forecasters = [AutoETS(auto=True), ThetaForecaster()]\n",
    "\n",
    "for forecaster in forecasters:\n",
    "    y_pred = forecaster.fit_predict(y=y_train, fh=fh)\n",
    "    title = (\n",
    "        f\"{str(forecaster).split('(')[0]} - sMAPE error: {smape(y_test, y_pred):.1%}\"\n",
    "    )\n",
    "    fig, ax = plot_series(\n",
    "        y_train, y_test, y_pred, labels=[\"train\", \"test\", \"pred\"], title=title\n",
    "    )"
   ]
  },
  {
   "attachments": {},
   "cell_type": "markdown",
   "metadata": {},
   "source": [
    "Check out all other sktime forecasting algorithms [in the documentation](https://www.sktime.net/en/latest/api_reference/forecasting.html) or by running the code below:"
   ]
  },
  {
   "cell_type": "code",
   "execution_count": null,
   "metadata": {},
   "outputs": [],
   "source": [
    "from sktime.registry import all_estimators\n",
    "\n",
    "all_estimators(\"forecaster\", as_dataframe=True, suppress_import_stdout=False)"
   ]
  },
  {
   "attachments": {},
   "cell_type": "markdown",
   "metadata": {},
   "source": [
    "### Forecasting with ML algorithms (reduction)\n",
    "\n",
    "- uses sklearn regressor on tabulated data to forecast\n",
    "- plug & play any sklearn compatible regressor, e.g., lightgbm or xgboost\n",
    "- important: forecasting != regression\n",
    "\n",
    "Estimator does this internally:"
   ]
  },
  {
   "attachments": {},
   "cell_type": "markdown",
   "metadata": {},
   "source": [
    "![](./img/forecasting-to-regression-reduction.png)"
   ]
  },
  {
   "attachments": {},
   "cell_type": "markdown",
   "metadata": {},
   "source": [
    "in unified forecasting interface! No need to handle `sklearn` directly"
   ]
  },
  {
   "cell_type": "code",
   "execution_count": null,
   "metadata": {},
   "outputs": [],
   "source": [
    "from sklearn.ensemble import HistGradientBoostingRegressor\n",
    "from sktime.forecasting.compose import make_reduction\n",
    "\n",
    "# Can be swapped with XBGoost, LightGBM, CatBoost, etc.\n",
    "regressor = HistGradientBoostingRegressor()\n",
    "\n",
    "# Create a forecaster from the tabular regressor by wrapping it in `make_reduction`\n",
    "forecaster = make_reduction(regressor, strategy=\"direct\", window_length=16)\n",
    "\n",
    "y_pred = forecaster.fit_predict(y=y_train, fh=fh)\n",
    "title = f\"Gradient-boosted tree regressor - sMAPE error: {smape(y_test, y_pred):.1%}\"\n",
    "fig, ax = plot_series(\n",
    "    y_train, y_test, y_pred, labels=[\"y_train\", \"y_test\", \"y_pred\"], title=title\n",
    ")"
   ]
  },
  {
   "attachments": {},
   "cell_type": "markdown",
   "metadata": {},
   "source": [
    "... this is bad! Why?\n",
    "\n",
    "Subtle:\n",
    "\n",
    "- Gradient boosting trees cannot \"extrapolate\"\n",
    "- only forecast well within their observed range\n",
    "\n",
    "Solution: make (more) stationary by differencing"
   ]
  },
  {
   "attachments": {},
   "cell_type": "markdown",
   "metadata": {},
   "source": [
    "easy to do in `sktime`: transformers (= transformation estimators)\n",
    "\n",
    "(note: wider concept than deep learn transformers, includes simple trafos too)\n",
    "\n",
    "Let's see how to use the `Differencer` transformer:"
   ]
  },
  {
   "cell_type": "code",
   "execution_count": null,
   "metadata": {},
   "outputs": [],
   "source": [
    "from sktime.transformations.series.difference import Differencer\n",
    "\n",
    "transformer = Differencer(lags=1)\n",
    "y_transform = transformer.fit_transform(y)\n",
    "fig, ax = plot_series(\n",
    "    y, y_transform, labels=[\"y\", \"y_diff\"], title=\"Difference transformation\"\n",
    ")"
   ]
  },
  {
   "attachments": {},
   "cell_type": "markdown",
   "metadata": {},
   "source": [
    "Transformers composable with forecasters, plug together to forecaster!\n",
    "\n",
    "here: plug `Differencer` into tree-based reduction forecaster, via `*` dunder:"
   ]
  },
  {
   "cell_type": "code",
   "execution_count": null,
   "metadata": {},
   "outputs": [],
   "source": [
    "regressor = HistGradientBoostingRegressor()\n",
    "forecaster = make_reduction(regressor, strategy=\"direct\", window_length=16)\n",
    "forecaster_with_differencer = Differencer(lags=1) * forecaster\n",
    "\n",
    "y_pred = forecaster_with_differencer.fit_predict(y=y_train, fh=fh)\n",
    "title = f\"Gradient-boosted tree regressor with difference transform - sMAPE error: {smape(y_test, y_pred):.1%}\"\n",
    "fig, ax = plot_series(\n",
    "    y_train, y_test, y_pred, labels=[\"y_train\", \"y_test\", \"y_pred\"], title=title\n",
    ")"
   ]
  },
  {
   "attachments": {},
   "cell_type": "markdown",
   "metadata": {},
   "source": [
    "More on transformers and composition later!"
   ]
  },
  {
   "attachments": {},
   "cell_type": "markdown",
   "metadata": {},
   "source": [
    "## 2.2 Univariate forecasting with exogenous data"
   ]
  },
  {
   "attachments": {},
   "cell_type": "markdown",
   "metadata": {},
   "source": [
    "- exogeneous data = other related time series that can improve prediction\n",
    "- Example: information about promotions when forecasting sales (promotions drive sales)\n"
   ]
  },
  {
   "attachments": {},
   "cell_type": "markdown",
   "metadata": {},
   "source": [
    "We start by loading the same sales data we have been working on before."
   ]
  },
  {
   "cell_type": "code",
   "execution_count": null,
   "metadata": {},
   "outputs": [],
   "source": [
    "from sktime.datasets import load_shampoo_sales\n",
    "\n",
    "y = load_shampoo_sales()"
   ]
  },
  {
   "attachments": {},
   "cell_type": "markdown",
   "metadata": {},
   "source": [
    "Let's use the sales data, noise and some simple transformations to create *fake* promotion"
   ]
  },
  {
   "cell_type": "code",
   "execution_count": null,
   "metadata": {},
   "outputs": [],
   "source": [
    "import numpy as np\n",
    "from sktime.utils.plotting import plot_series\n",
    "from sktime.transformations.series.difference import Differencer\n",
    "\n",
    "# Use a differencer, clipping and some noise to generate fake promotional data\n",
    "transformer = Differencer(lags=1)\n",
    "y_transform = transformer.fit_transform(y)\n",
    "noise = np.random.RandomState(seed=93).normal(0, 100, np.shape(y))\n",
    "X_promo = (y_transform + noise).clip(lower=0)\n",
    "\n",
    "fig, ax = plot_series(\n",
    "    y, X_promo, labels=[\"y\", \"fake_promotions\"], title=\"Sales and Promotions\"\n",
    ")"
   ]
  },
  {
   "attachments": {},
   "cell_type": "markdown",
   "metadata": {},
   "source": [
    "We can split both the target time series (y: sales) and the exogenous time series (X: promotions) with the `temporal_train_test_split` we have used before."
   ]
  },
  {
   "cell_type": "code",
   "execution_count": null,
   "metadata": {},
   "outputs": [],
   "source": [
    "from sktime.forecasting.model_selection import temporal_train_test_split\n",
    "\n",
    "fh = [1, 2, 3, 4]\n",
    "y_train, y_test, X_train, X_test = temporal_train_test_split(\n",
    "    y=y, X=X_promo, test_size=len(fh)\n",
    ")\n",
    "\n",
    "fig, ax = plot_series(\n",
    "    y_train,\n",
    "    X_train,\n",
    "    y_test,\n",
    "    X_test,\n",
    "    labels=[\"y_train\", \"X_train\", \"y_train\", \"X_test\"],\n",
    "    title=\"Test and train: sales and promotions\",\n",
    ")"
   ]
  },
  {
   "attachments": {},
   "cell_type": "markdown",
   "metadata": {},
   "source": [
    "Now we can forecast y (sales) also using the known values of future X (promotions) by passing the future X data in the predict step."
   ]
  },
  {
   "cell_type": "code",
   "execution_count": null,
   "metadata": {},
   "outputs": [],
   "source": [
    "from sktime.forecasting.arima import AutoARIMA\n",
    "\n",
    "forecaster = AutoARIMA(suppress_warnings=True)\n",
    "\n",
    "# Use train data in fit\n",
    "forecaster.fit(y=y_train, X=X_train, fh=fh)\n",
    "\n",
    "# Note how the \"future\" data of X is passed in the predict step\n",
    "y_pred = forecaster.predict(X=X_test)"
   ]
  },
  {
   "attachments": {},
   "cell_type": "markdown",
   "metadata": {},
   "source": [
    "Let's see how the prediction looks like when adding promotional data."
   ]
  },
  {
   "cell_type": "code",
   "execution_count": null,
   "metadata": {},
   "outputs": [],
   "source": [
    "from sktime.performance_metrics.forecasting import MeanAbsolutePercentageError\n",
    "\n",
    "smape = MeanAbsolutePercentageError(symmetric=True)\n",
    "\n",
    "title = f\"AutoARIMA with promotional data - sMAPE error: {smape(y_test, y_pred):.1%}\"\n",
    "fig, ax = plot_series(\n",
    "    y_train, y_test, y_pred, labels=[\"y_train\", \"y_test\", \"y_pred\"], title=title\n",
    ")"
   ]
  },
  {
   "attachments": {},
   "cell_type": "markdown",
   "metadata": {},
   "source": [
    "Note: as we created the promotions from the sales data, the performance upflift is over-optimistic (data leakage)."
   ]
  },
  {
   "attachments": {},
   "cell_type": "markdown",
   "metadata": {},
   "source": [
    "But what if don't have future promotional data?\n",
    "\n",
    "If we believe that we can forecast `X` (promotions) independently of `y` (sales) we can use these predictions of `X` to inform the predictions of `y`.\n",
    "\n",
    "Here, we decide to use a different model for `X` than for `y`:\n",
    "- y (sales): AutoARIMA\n",
    "- X (promotion): Croston - due to intermittency\n"
   ]
  },
  {
   "cell_type": "code",
   "execution_count": null,
   "metadata": {},
   "outputs": [],
   "source": [
    "from sktime.forecasting.compose import ForecastX\n",
    "from sktime.forecasting.croston import Croston\n",
    "\n",
    "forecaster_X = ForecastX(\n",
    "    forecaster_y=AutoARIMA(suppress_warnings=True),\n",
    "    forecaster_X=Croston(),\n",
    ")\n",
    "forecaster_X.fit(y=y, X=X_promo, fh=fh)"
   ]
  },
  {
   "attachments": {},
   "cell_type": "markdown",
   "metadata": {},
   "source": [
    "After fitting on both `X` and `y` we can creat predictions of `y` directly. Under the hood `sktime` is forecasting `X` with the `Croston()` model and using it in the prediction step of `y`."
   ]
  },
  {
   "cell_type": "code",
   "execution_count": null,
   "metadata": {},
   "outputs": [],
   "source": [
    "# Now in the `predict` step we don't need to pass X\n",
    "y_pred = forecaster_X.predict(fh=fh)\n",
    "\n",
    "title = \"ForecastX: Using AutoARIMA for y (sales) and Croston for X (promotions)\"\n",
    "fig, ax = plot_series(y, y_pred, labels=[\"y\", \"y_pred\"], title=title)"
   ]
  },
  {
   "attachments": {},
   "cell_type": "markdown",
   "metadata": {},
   "source": [
    "- Sometimes, the focus is not on a single univariate time series, but rather on forecasting a group of time series that represent different aspects of a single entity.\n",
    "- Example: forecasting multiple macroeconomic indicators that collectively measure \"the economy\".\n",
    "\n",
    "Let's explore how `sktime` enables multivariate forecasting for this use-case."
   ]
  },
  {
   "attachments": {},
   "cell_type": "markdown",
   "metadata": {},
   "source": [
    "## 2.3 Multivariate forecasting"
   ]
  },
  {
   "attachments": {},
   "cell_type": "markdown",
   "metadata": {},
   "source": [
    "We begin by loading the historical data of a couple of macro indicators, which are reported yearly."
   ]
  },
  {
   "cell_type": "code",
   "execution_count": null,
   "metadata": {},
   "outputs": [],
   "source": [
    "from sktime.datasets import load_longley\n",
    "\n",
    "_, y = load_longley()\n",
    "\n",
    "y = y.drop(columns=[\"UNEMP\", \"ARMED\", \"POP\"])\n",
    "\n",
    "y"
   ]
  },
  {
   "attachments": {},
   "cell_type": "markdown",
   "metadata": {},
   "source": [
    "In `sktime` some forecasters such as `VAR()` are purely mutlivariate. Let's use it to make some predictions:"
   ]
  },
  {
   "cell_type": "code",
   "execution_count": null,
   "metadata": {},
   "outputs": [],
   "source": [
    "from sktime.forecasting.var import VAR\n",
    "\n",
    "forecaster = VAR()\n",
    "forecaster.fit(y, fh=[1, 2, 3])\n",
    "\n",
    "y_pred = forecaster.predict()\n",
    "y_pred"
   ]
  },
  {
   "attachments": {},
   "cell_type": "markdown",
   "metadata": {},
   "source": [
    "We can inspects the tags of the `VAR()` forecasteer through to `get_tags` to check its multivariate nature."
   ]
  },
  {
   "cell_type": "code",
   "execution_count": null,
   "metadata": {},
   "outputs": [],
   "source": [
    "forecaster.get_tags()"
   ]
  },
  {
   "attachments": {},
   "cell_type": "markdown",
   "metadata": {},
   "source": [
    "But we can also use univariate forecasters to forecast multiple time series! Let's see how this is done using `ARIMA` which is a purely univariate model."
   ]
  },
  {
   "cell_type": "code",
   "execution_count": null,
   "metadata": {},
   "outputs": [],
   "source": [
    "from sktime.datasets import load_longley\n",
    "from sktime.forecasting.arima import ARIMA\n",
    "\n",
    "_, y = load_longley()\n",
    "\n",
    "y = y.drop(columns=[\"UNEMP\", \"ARMED\", \"POP\"])\n",
    "\n",
    "forecaster = ARIMA()\n",
    "forecaster.fit(y, fh=[1, 2, 3])\n",
    "\n",
    "forecaster.forecasters_"
   ]
  },
  {
   "attachments": {},
   "cell_type": "markdown",
   "metadata": {},
   "source": [
    "As we can see `sktime` fits one single `ARIMA()` model per time series."
   ]
  },
  {
   "attachments": {},
   "cell_type": "markdown",
   "metadata": {},
   "source": [
    "We can also check the nature of the `ARIMA()` model using the `get_tags`."
   ]
  },
  {
   "cell_type": "code",
   "execution_count": null,
   "metadata": {},
   "outputs": [],
   "source": [
    "forecaster.get_tags()"
   ]
  },
  {
   "attachments": {},
   "cell_type": "markdown",
   "metadata": {},
   "source": [
    "- Point predictions may not suffice in many forecasting scenarios.\n",
    "- Even with the best models, forecasts inherently contain some level of uncertainty.\n",
    "- This uncertainty can be expressed, by for example, providing prediction intervals.\n",
    "\n",
    "`sktime` allows for straightforward generation of prediction intervals to capture forecast uncertainty."
   ]
  },
  {
   "attachments": {},
   "cell_type": "markdown",
   "metadata": {},
   "source": [
    "## 2.4 Probabilistic forecasting"
   ]
  },
  {
   "cell_type": "code",
   "execution_count": null,
   "metadata": {},
   "outputs": [],
   "source": [
    "from sktime.datasets import load_shampoo_sales\n",
    "\n",
    "y = load_shampoo_sales()"
   ]
  },
  {
   "cell_type": "code",
   "execution_count": null,
   "metadata": {},
   "outputs": [],
   "source": [
    "from sktime.forecasting.ets import AutoETS\n",
    "\n",
    "# 1) Define the model\n",
    "forecaster = AutoETS(auto=True)\n",
    "\n",
    "# 2) Fit on train data\n",
    "forecaster.fit(y_train)\n",
    "\n",
    "# 3) Use fitted model to predict for a certain forecast horizon (fh)\n",
    "fh = [1, 2, 3, 4]\n",
    "y_pred = forecaster.predict(fh)\n",
    "\n",
    "# 4) Call a probabilistic method after or in place of step 3\n",
    "y_pred_int = forecaster.predict_interval(coverage=0.95)\n",
    "\n",
    "fig, ax = plot_series(\n",
    "    y_train, y_test, y_pred, labels=[\"train\", \"test\", \"pred\"], pred_interval=y_pred_int\n",
    ")"
   ]
  },
  {
   "attachments": {},
   "cell_type": "markdown",
   "metadata": {},
   "source": [
    "The following methods are possibly available for probabilistic forecasts:\n",
    "\n",
    "- `predict_interval` produces interval forecasts. Additionally to any `predict` arguments, an argument `coverage` (nominal interval coverage) must be provided.\n",
    "- `predict_quantiles` produces quantile forecasts. Additionally to any `predict` arguments, an argument `alpha` (quantile values) must be provided.\n",
    "- `predict_var` produces variance forecasts. This has same arguments as `predict`.\n",
    "- `predict_proba` produces full distributional forecasts. This has same arguments as `predict`.\n",
    "\n",
    "| Name | param | prediction/estimate of | `sktime` |\n",
    "| ---- | ----- | ---------------------- | -------- |\n",
    "| point forecast | | conditional expectation $\\mathbb{E}[y'\\|y]$ | `predict` |\n",
    "| variance forecast | | conditional variance $Var[y'\\|y]$ | `predict_var` |\n",
    "| quantile forecast | $\\alpha\\in (0,1)$ | $\\alpha$-quantile of $y'\\|y$ | `predict_quantiles` |\n",
    "| interval forecast | $c\\in (0,1)$| $[a,b]$ s.t. $P(a\\le y' \\le b\\| y) = c$ | `predict_interval` |\n",
    "| distribution forecast | | the law/distribution of $y'\\|y$ | `predict_proba` |"
   ]
  },
  {
   "attachments": {},
   "cell_type": "markdown",
   "metadata": {},
   "source": [
    "We can check which estimators can perform probabiilistic forecasting by checking `all_stimators`."
   ]
  },
  {
   "cell_type": "code",
   "execution_count": null,
   "metadata": {},
   "outputs": [],
   "source": [
    "from sktime.registry import all_estimators\n",
    "\n",
    "all_estimators(\n",
    "    \"forecaster\",\n",
    "    filter_tags={\"capability:pred_int\": True},\n",
    "    as_dataframe=True,\n",
    "    suppress_import_stdout=False,\n",
    ")"
   ]
  },
  {
   "attachments": {},
   "cell_type": "markdown",
   "metadata": {},
   "source": [
    "Note:  estimators that have the `pred_int` tag always have all the probabilistic methods available. So estimators either have all of them or none."
   ]
  },
  {
   "attachments": {},
   "cell_type": "markdown",
   "metadata": {},
   "source": [
    "Now let's look at the difference probabilistic methods and their different outputs."
   ]
  },
  {
   "cell_type": "code",
   "execution_count": null,
   "metadata": {},
   "outputs": [],
   "source": [
    "forecaster.predict_interval(coverage=0.95)"
   ]
  },
  {
   "cell_type": "code",
   "execution_count": null,
   "metadata": {},
   "outputs": [],
   "source": [
    "forecaster.predict_quantiles(alpha=[0.275, 0.95])"
   ]
  },
  {
   "cell_type": "code",
   "execution_count": null,
   "metadata": {},
   "outputs": [],
   "source": [
    "forecaster.predict_var()"
   ]
  },
  {
   "attachments": {},
   "cell_type": "markdown",
   "metadata": {},
   "source": [
    "To predict full predictive distributions, `predict_proba` can be used. This returns a `BaseDistribution` child instance."
   ]
  },
  {
   "cell_type": "code",
   "execution_count": null,
   "metadata": {},
   "outputs": [],
   "source": [
    "forecaster.predict_proba()"
   ]
  },
  {
   "cell_type": "markdown",
   "metadata": {},
   "source": [
    "More probabilistic forecasting features not shown here:\n",
    "\n",
    "* wrappers to add forecast intervals or proba forecasts to any forecaster - `NaiveVariance`, `ConformalIntervals`\n",
    "* automatic broadcasting across variables and hierarchy levels of probabilistic forecasts\n",
    "* bootstrapping probabilistic forecasts, `BaggingForecaster`, `STLBootstrapTransformer`"
   ]
  },
  {
   "attachments": {},
   "cell_type": "markdown",
   "metadata": {},
   "source": [
    "## 2.5 Hierarchical forecasting"
   ]
  },
  {
   "attachments": {},
   "cell_type": "markdown",
   "metadata": {},
   "source": [
    "![](./img/hierarchy.png)"
   ]
  },
  {
   "attachments": {},
   "cell_type": "markdown",
   "metadata": {},
   "source": [
    "Let's use some sktime utilities to create a hierarchical dataframe of historical monthly sales"
   ]
  },
  {
   "cell_type": "code",
   "execution_count": null,
   "metadata": {},
   "outputs": [],
   "source": [
    "from hierarchical_demo_utils import load_product_hierarchy\n",
    "from sktime.forecasting.model_selection import temporal_train_test_split\n",
    "\n",
    "y = load_product_hierarchy()\n",
    "\n",
    "y_train, y_test = temporal_train_test_split(y, test_size=4)\n",
    "y_train"
   ]
  },
  {
   "attachments": {},
   "cell_type": "markdown",
   "metadata": {},
   "source": [
    "We can pick a specific date to clearly see the hierarchy."
   ]
  },
  {
   "cell_type": "code",
   "execution_count": null,
   "metadata": {},
   "outputs": [],
   "source": [
    "# Multiindex slicing can become important when using hierarchical data!\n",
    "y.loc[(slice(None), slice(None), \"2000-01\")]"
   ]
  },
  {
   "attachments": {},
   "cell_type": "markdown",
   "metadata": {},
   "source": [
    "Now we can visualize the different time series in the hierarchy"
   ]
  },
  {
   "cell_type": "code",
   "execution_count": null,
   "metadata": {},
   "outputs": [],
   "source": [
    "product_index = y.droplevel(-1).index.unique()\n",
    "fig, ax = plot_series(\n",
    "    *(y.loc[idx] for idx in product_index), labels=product_index, title=\"Product sales\"\n",
    ")"
   ]
  },
  {
   "attachments": {},
   "cell_type": "markdown",
   "metadata": {},
   "source": [
    "Forecasting this data simultaneously is easy as `sktime` automatically vectorizes/\"up-casts\" the models to hierarchical data."
   ]
  },
  {
   "cell_type": "code",
   "execution_count": null,
   "metadata": {},
   "outputs": [],
   "source": [
    "from sktime.forecasting.ets import AutoETS\n",
    "\n",
    "forecaster = AutoETS(auto=True)\n",
    "\n",
    "y_pred = forecaster.fit_predict(y_train, fh=[1, 2, 3, 4])\n",
    "y_pred"
   ]
  },
  {
   "cell_type": "code",
   "execution_count": null,
   "metadata": {},
   "outputs": [],
   "source": [
    "forecaster.forecasters_"
   ]
  },
  {
   "cell_type": "markdown",
   "metadata": {},
   "source": [
    "Error metrics all apply to hierarchical forecasts by aggregation via mean:"
   ]
  },
  {
   "cell_type": "markdown",
   "metadata": {},
   "source": [
    "smape = MeanAbsolutePercentageError(symmetric=True)\n",
    "smape(y_test, y_pred)"
   ]
  },
  {
   "attachments": {},
   "cell_type": "markdown",
   "metadata": {},
   "source": [
    "Metrics can also be computed by level, setting `multilevel=\"raw_values\"`:"
   ]
  },
  {
   "cell_type": "code",
   "execution_count": null,
   "metadata": {},
   "outputs": [],
   "source": [
    "hier_smape = MeanAbsolutePercentageError(symmetric=True, multilevel=\"raw_values\")\n",
    "errors_local = hier_smape(y_test, y_pred)\n",
    "errors_local"
   ]
  },
  {
   "cell_type": "markdown",
   "metadata": {},
   "source": [
    "More hierarchical forecasting features not shown here:\n",
    "\n",
    "* hierarchical reconciliation - `ReconcilerForecaster`, `Reconciler`, `Aggregator`\n",
    "* global models via `make_reduction` and the `pooling` argument\n",
    "* using different forecasters per level/node, `ForecastByLevel`"
   ]
  },
  {
   "cell_type": "markdown",
   "metadata": {},
   "source": [
    "### Recap"
   ]
  },
  {
   "attachments": {},
   "cell_type": "markdown",
   "metadata": {},
   "source": [
    "Quick recap of what we have covered in this notebook:\n",
    "\n",
    "- Univariate forecasting (stats and ML)\n",
    "- Univariate with exogenous data\n",
    "- Multivariate forecasting\n",
    "- Probabilistic forecasting\n",
    "- Hierarchical forecasting"
   ]
  },
  {
   "attachments": {},
   "cell_type": "markdown",
   "metadata": {},
   "source": [
    "### Credits: notebook 2 - forecasting\n",
    "\n",
    "notebook creation: marrov, fkiraly\n",
    "\n",
    "partly based on:\n",
    "\n",
    "* same notebook at ODSC and EuroPython 2023 workshops (fkiraly, marrov)\n",
    "* pydata 2022 Berlin notebooks (fkiraly, danbartl)\n",
    "* sktime forecasting tutorial (fkiraly, mloning and others)\n",
    "\n",
    "sktime forecasting module: [many contributors](https://www.sktime.net/en/latest/about/contributors.html)"
   ]
  }
 ],
 "metadata": {
  "kernelspec": {
   "display_name": "pydata_sktime",
   "language": "python",
   "name": "python3"
  },
  "language_info": {
   "codemirror_mode": {
    "name": "ipython",
    "version": 3
   },
   "file_extension": ".py",
   "mimetype": "text/x-python",
   "name": "python",
   "nbconvert_exporter": "python",
   "pygments_lexer": "ipython3",
   "version": "3.9.13"
  },
  "orig_nbformat": 4
 },
 "nbformat": 4,
 "nbformat_minor": 2
}

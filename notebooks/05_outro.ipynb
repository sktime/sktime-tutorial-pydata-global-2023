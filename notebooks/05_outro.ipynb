{
 "cells": [
  {
   "attachments": {},
   "cell_type": "markdown",
   "id": "37997396",
   "metadata": {},
   "source": [
    "# Summary & get involved!"
   ]
  },
  {
   "attachments": {},
   "cell_type": "markdown",
   "id": "9936be02",
   "metadata": {},
   "source": [
    "- `sklearn` / `sktime` interface:\n",
    "  - unified interface for objects/estimators\n",
    "  - modular design, strategy pattern\n",
    "  - composable, composites are interface homogenous\n",
    "  - simple specification language and parameter interface\n",
    "  - visually informative pretty printing"
   ]
  },
  {
   "attachments": {},
   "cell_type": "markdown",
   "id": "7820cc3c",
   "metadata": {},
   "source": [
    "* Forecasting module:\n",
    "    - Univariate/multivariate forecasting (stats and ML)\n",
    "    - Use of exogeneous data\n",
    "    - Probabilistic forecasting\n",
    "    - Hierarchical forecasting"
   ]
  },
  {
   "attachments": {},
   "cell_type": "markdown",
   "id": "cd081e8c",
   "metadata": {},
   "source": [
    "* New features 2022-2023 - advanced modelling\n",
    "\n",
    "    * extended parallelism, including parallel broadcasting to hierarchical data\n",
    "    * fully distributional probabilistic forecasts and metrics, skpro\n",
    "    * composable time series classifiers, regressors, distances, time series aligners\n",
    "    * benchmarking frameworks for comparing estimator performance"
   ]
  },
  {
   "attachments": {},
   "cell_type": "markdown",
   "id": "4a55d803",
   "metadata": {},
   "source": [
    "* New features 2022-2023 - marketplace, search, sharing\n",
    "\n",
    "    * estimator search, estimator tags\n",
    "    * scikit-base interface for multiple libraries\n",
    "    * blueprint serialization and sharing\n",
    "    * fitted estimator serialization and sharing\n",
    "    * mlflow deployment via custom flavour"
   ]
  },
  {
   "attachments": {},
   "cell_type": "markdown",
   "id": "fbb8d3c5",
   "metadata": {},
   "source": [
    "Further reading:\n",
    "\n",
    "* main `sktime` [tutorials on binder](https://mybinder.org/v2/gh/sktime/sktime/main?filepath=examples)\n",
    "* recorded [video tutorials](https://www.youtube.com/playlist?list=PLKs3UgGjlWHqNzu0LEOeLKvnjvvest2d0)\n",
    "* find a bug or type? [tutorial feedback thread](https://github.com/sktime/sktime/issues/1447)"
   ]
  },
  {
   "attachments": {},
   "cell_type": "markdown",
   "id": "b66e01a8",
   "metadata": {},
   "source": [
    "---"
   ]
  },
  {
   "attachments": {},
   "cell_type": "markdown",
   "id": "b6da2ae3",
   "metadata": {},
   "source": [
    "## Join sktime!\n",
    "\n",
    "### Vision statement\n",
    "\n",
    "* an easy-to-use, easy-to-extend, comprehensive **python framework** for ML and AI with time series\n",
    "* **open source, permissive license, free to use**\n",
    "* **openly and transparently governed**\n",
    "* **friendly, responsive, kind and inclusive** community, with an active commitment to ensure fairness and equal opportunity\n",
    "* an academically and commercially **neutral space**, with an **ecosystem integration** ambition and neutral point of view\n",
    "* an **educational platform**, providing mentoring and upskilling opportunities for all career stages, especially early career\n",
    "\n",
    "**EVERYONE CAN JOIN! EVERYONE CAN BECOME A COMMUNITY LEADER!**\n",
    "\n",
    "* join our community discord ([join link](https://discord.com/invite/54ACzaFsn7))!\n",
    "    * **help-desk for Q&A** and getting started as a user!\n",
    "    * **dev-chat** for help getting started with open source!\n",
    "        * contributor [getting started guide](https://github.com/sktime/sktime/issues/1147)\n",
    "        * [good first issues](https://github.com/sktime/sktime/issues?q=is%3Aissue+is%3Aopen+label%3A%22good+first+issue%22)\n",
    "* join `sktime`'s user representatives or governance working group\n",
    "    * register as a user ([form](https://forms.gle/eVuzrCjKDRupxawL7)) - roadmap, bugfix prio, elections\n",
    "        * [roadmap 2023-2024 planning](https://github.com/sktime/sktime/issues/4691)\n",
    "    * join [council sessions](https://github.com/sktime/community-org/tree/main/community_council/previous_meetings) and give input\n",
    "\n",
    "Opportunities:\n",
    "\n",
    "* regular **job opportunities**, watch the jobs channel on discord\n",
    "* sktime **mentoring programme**: [link](github.com/sktime/mentoring)\n",
    "    * applications on a rolling basis\n",
    "    * summer programme is starting over next weeks!\n",
    "\n",
    "Events & meetups:\n",
    "\n",
    "* regular **community collaboration sessions**\n",
    "    * meet-ups Fri 4pm UTC on [discord](https://discord.com/invite/54ACzaFsn7)\n",
    "* multiple **Sprints and Dev Days** per year\n",
    "    * watch [LinkedIn](https://www.linkedin.com/company/scikit-time/) for announcements!\n",
    "\n",
    "Support us if `sktime` has generated value for you!\n",
    "\n",
    "* star us on [GitHub](https://github.com/sktime/sktime)\n",
    "* follow us on [LinkedIn](https://www.linkedin.com/company/scikit-time/)\n",
    "* donate! Every cent helps the time series ecosystem ([GitHub sponsors](https://github.com/sponsors/sktime))"
   ]
  },
  {
   "attachments": {},
   "cell_type": "markdown",
   "id": "adfa5420",
   "metadata": {},
   "source": [
    "---"
   ]
  },
  {
   "attachments": {},
   "cell_type": "markdown",
   "id": "286d4c8d",
   "metadata": {},
   "source": [
    "## Thank you for your attention\n",
    "\n",
    "<img src=\"./img/sktime-logo-text-horizontal.jpg\" alt=\"Sktime Logo\" width=\"1000\"/>"
   ]
  },
  {
   "cell_type": "markdown",
   "id": "824062a0",
   "metadata": {},
   "source": [
    "---\n",
    "\n",
    "Benedikt Heidrich (`benheid`) was funded by the Helmholtz Association’s Initiative and Networking Fund through Helmholtz AI.\n",
    "\n",
    "The graphical pipeline was first developed by `pyWATTS` and was then adapted for sktime. The original implementation can be found [pyWATTS](https://github.com/KIT-IAI/pyWATTS). `pyWATTS` is a open source library developed at the Institute of Applied Informatics and Automation at the KIT and funded by HelmholtzAI.\n",
    "\n",
    "<img src=\"img/kit.png\" height=60  style=\"background-color:white; padding:5px\" /> \n",
    "<p></p>\n",
    "<img src=\"img/helmholtz.png\" width=900  style=\"background-color:white; padding:5px\" />\n"
   ]
  },
  {
   "attachments": {},
   "cell_type": "markdown",
   "id": "2d1c59a2",
   "metadata": {},
   "source": [
    "---\n",
    "### Credits: sktime\n",
    "\n",
    "#### many thanks to [all `sktime` contributors](https://www.sktime.net/en/latest/about/contributors.html)!\n",
    "Citations & credits in academic research papers:\n",
    "\n",
    "`sktime` toolbox:\n",
    " [sktime: A unified interface for machine learning with time series](https://arxiv.org/abs/1909.07872)\n",
    "\n",
    "`sktime` design principles: [Designing machine learning toolboxes: Concepts, principles and patterns](https://arxiv.org/abs/2101.04938)"
   ]
  }
 ],
 "metadata": {
  "kernelspec": {
   "display_name": "Python 3 (ipykernel)",
   "language": "python",
   "name": "python3"
  },
  "language_info": {
   "codemirror_mode": {
    "name": "ipython",
    "version": 3
   },
   "file_extension": ".py",
   "mimetype": "text/x-python",
   "name": "python",
   "nbconvert_exporter": "python",
   "pygments_lexer": "ipython3",
   "version": "3.10.11"
  }
 },
 "nbformat": 4,
 "nbformat_minor": 5
}

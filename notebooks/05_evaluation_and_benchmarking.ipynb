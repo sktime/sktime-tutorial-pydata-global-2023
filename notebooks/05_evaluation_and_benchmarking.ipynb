{
 "cells": [
  {
   "cell_type": "code",
   "execution_count": 1,
   "id": "a8a0a8ee",
   "metadata": {},
   "outputs": [],
   "source": [
    "import warnings\n",
    "warnings.filterwarnings(\"ignore\")"
   ]
  },
  {
   "cell_type": "markdown",
   "id": "6cd55181",
   "metadata": {
    "collapsed": false
   },
   "source": [
    "# 5 Reproducible experiments with `sktime`"
   ]
  },
  {
   "cell_type": "markdown",
   "id": "11cbd704",
   "metadata": {},
   "source": [
    "this notebook: setting up reproducible forecasting benchmarking experiments with `sktime`.\n",
    "\n",
    "A benchmarking experiment is specified by:\n",
    "\n",
    "* one or multiple models, possibly highly composite pipelines as before!\n",
    "* evaluation metrics, e.g., MAPE, CRPS\n",
    "* data sets, e.g., M5 collection\n",
    "* re-sampling setup, e.g., expanding window splitter with certain parameters\n",
    "* fit/update specification\n",
    "* possibly, post-hoc analyses on results of the above"
   ]
  },
  {
   "cell_type": "markdown",
   "id": "10f77c01",
   "metadata": {},
   "source": [
    "for *reproducible* benchmarking, need to pass on the above information"
   ]
  },
  {
   "cell_type": "markdown",
   "id": "54c818a8",
   "metadata": {},
   "source": [
    "`sktime` makes this easy via:\n",
    "\n",
    "* persisting blueprints of composites, metrics, re-sampling set-ups\n",
    "* persisting fitted estimators if required\n",
    "* standard data access interfaces for common benchmark data\n",
    "* few-line set-up of benchmarking experiment"
   ]
  },
  {
   "cell_type": "markdown",
   "id": "6f899fc8",
   "metadata": {},
   "source": [
    "explained below!"
   ]
  },
  {
   "cell_type": "markdown",
   "id": "31600872",
   "metadata": {},
   "source": [
    "option 1:\n",
    "\n",
    "* python environment versions\n",
    "* jupyter notebook with experiment\n",
    "* any code for custom estimator classes\n",
    "\n",
    "option 2:\n",
    "\n",
    "* python environment versions\n",
    "* list of persisted object blueprints - estimators, metrics, cv\n",
    "* benchmark experiment setup params\n",
    "* any code for custom estimator classes"
   ]
  },
  {
   "cell_type": "markdown",
   "id": "b1750d80",
   "metadata": {},
   "source": [
    "## 5.1 Persisting models and objects\n"
   ]
  },
  {
   "cell_type": "markdown",
   "id": "1c3ba3ae",
   "metadata": {},
   "source": [
    "for reproducibility, one may like to share:\n",
    "\n",
    "* model blueprint specs, e.g., equivalent of spec `Pipeline([(\"foo\", Foo()), (\"bar\", Bar(42))])`\n",
    "* fitted models, e.g., state of `my_pipe.fit(y)` after the `fit` - specific to data!"
   ]
  },
  {
   "cell_type": "markdown",
   "id": "c8d16ee8",
   "metadata": {},
   "source": [
    "### 5.1.1 Persisting model blueprints"
   ]
  },
  {
   "cell_type": "markdown",
   "id": "4d733376",
   "metadata": {},
   "source": [
    "blueprint specs can be serialized using simple string print - this contains all information!"
   ]
  },
  {
   "cell_type": "code",
   "execution_count": 2,
   "id": "40207180",
   "metadata": {},
   "outputs": [],
   "source": [
    "# let's define an example pipeline\n",
    "from sktime.forecasting.compose._pipeline import TransformedTargetForecaster\n",
    "from sktime.forecasting.naive import NaiveForecaster\n",
    "from sktime.transformations.series.impute import Imputer\n",
    "\n",
    "pipe = TransformedTargetForecaster(\n",
    "    steps=[\n",
    "        (\"imputer\", Imputer()),\n",
    "        (\"forecaster\", NaiveForecaster()),\n",
    "    ]\n",
    ")"
   ]
  },
  {
   "cell_type": "code",
   "execution_count": 3,
   "id": "eb0991da",
   "metadata": {},
   "outputs": [
    {
     "data": {
      "text/plain": [
       "\"TransformedTargetForecaster(steps=[('imputer', Imputer()),\\n                                   ('forecaster', NaiveForecaster())])\""
      ]
     },
     "execution_count": 3,
     "metadata": {},
     "output_type": "execute_result"
    }
   ],
   "source": [
    "# serialize the pipeline to a string\n",
    "# this is useful for logging and sharing\n",
    "# pipe_str can be saved to a file, database, or shared over the internet\n",
    "pipe_str = str(pipe)\n",
    "pipe_str"
   ]
  },
  {
   "cell_type": "markdown",
   "id": "27604a73",
   "metadata": {},
   "source": [
    "for pseudo-random determinism, set any `random_state` parameters in the estimators"
   ]
  },
  {
   "cell_type": "markdown",
   "id": "ec360734",
   "metadata": {},
   "source": [
    "to deserialize, use `registry.craft` in the same python environment\n",
    "\n",
    "for python environment, e.g., use `pip freeze`"
   ]
  },
  {
   "cell_type": "code",
   "execution_count": 4,
   "id": "e889565e",
   "metadata": {},
   "outputs": [
    {
     "data": {
      "text/html": [
       "<style>#sk-df7efb91-cc96-4230-a173-022fae9c918e {color: black;background-color: white;}#sk-df7efb91-cc96-4230-a173-022fae9c918e pre{padding: 0;}#sk-df7efb91-cc96-4230-a173-022fae9c918e div.sk-toggleable {background-color: white;}#sk-df7efb91-cc96-4230-a173-022fae9c918e label.sk-toggleable__label {cursor: pointer;display: block;width: 100%;margin-bottom: 0;padding: 0.3em;box-sizing: border-box;text-align: center;}#sk-df7efb91-cc96-4230-a173-022fae9c918e label.sk-toggleable__label-arrow:before {content: \"▸\";float: left;margin-right: 0.25em;color: #696969;}#sk-df7efb91-cc96-4230-a173-022fae9c918e label.sk-toggleable__label-arrow:hover:before {color: black;}#sk-df7efb91-cc96-4230-a173-022fae9c918e div.sk-estimator:hover label.sk-toggleable__label-arrow:before {color: black;}#sk-df7efb91-cc96-4230-a173-022fae9c918e div.sk-toggleable__content {max-height: 0;max-width: 0;overflow: hidden;text-align: left;background-color: #f0f8ff;}#sk-df7efb91-cc96-4230-a173-022fae9c918e div.sk-toggleable__content pre {margin: 0.2em;color: black;border-radius: 0.25em;background-color: #f0f8ff;}#sk-df7efb91-cc96-4230-a173-022fae9c918e input.sk-toggleable__control:checked~div.sk-toggleable__content {max-height: 200px;max-width: 100%;overflow: auto;}#sk-df7efb91-cc96-4230-a173-022fae9c918e input.sk-toggleable__control:checked~label.sk-toggleable__label-arrow:before {content: \"▾\";}#sk-df7efb91-cc96-4230-a173-022fae9c918e div.sk-estimator input.sk-toggleable__control:checked~label.sk-toggleable__label {background-color: #d4ebff;}#sk-df7efb91-cc96-4230-a173-022fae9c918e div.sk-label input.sk-toggleable__control:checked~label.sk-toggleable__label {background-color: #d4ebff;}#sk-df7efb91-cc96-4230-a173-022fae9c918e input.sk-hidden--visually {border: 0;clip: rect(1px 1px 1px 1px);clip: rect(1px, 1px, 1px, 1px);height: 1px;margin: -1px;overflow: hidden;padding: 0;position: absolute;width: 1px;}#sk-df7efb91-cc96-4230-a173-022fae9c918e div.sk-estimator {font-family: monospace;background-color: #f0f8ff;border: 1px dotted black;border-radius: 0.25em;box-sizing: border-box;margin-bottom: 0.5em;}#sk-df7efb91-cc96-4230-a173-022fae9c918e div.sk-estimator:hover {background-color: #d4ebff;}#sk-df7efb91-cc96-4230-a173-022fae9c918e div.sk-parallel-item::after {content: \"\";width: 100%;border-bottom: 1px solid gray;flex-grow: 1;}#sk-df7efb91-cc96-4230-a173-022fae9c918e div.sk-label:hover label.sk-toggleable__label {background-color: #d4ebff;}#sk-df7efb91-cc96-4230-a173-022fae9c918e div.sk-serial::before {content: \"\";position: absolute;border-left: 1px solid gray;box-sizing: border-box;top: 2em;bottom: 0;left: 50%;}#sk-df7efb91-cc96-4230-a173-022fae9c918e div.sk-serial {display: flex;flex-direction: column;align-items: center;background-color: white;padding-right: 0.2em;padding-left: 0.2em;}#sk-df7efb91-cc96-4230-a173-022fae9c918e div.sk-item {z-index: 1;}#sk-df7efb91-cc96-4230-a173-022fae9c918e div.sk-parallel {display: flex;align-items: stretch;justify-content: center;background-color: white;}#sk-df7efb91-cc96-4230-a173-022fae9c918e div.sk-parallel::before {content: \"\";position: absolute;border-left: 1px solid gray;box-sizing: border-box;top: 2em;bottom: 0;left: 50%;}#sk-df7efb91-cc96-4230-a173-022fae9c918e div.sk-parallel-item {display: flex;flex-direction: column;position: relative;background-color: white;}#sk-df7efb91-cc96-4230-a173-022fae9c918e div.sk-parallel-item:first-child::after {align-self: flex-end;width: 50%;}#sk-df7efb91-cc96-4230-a173-022fae9c918e div.sk-parallel-item:last-child::after {align-self: flex-start;width: 50%;}#sk-df7efb91-cc96-4230-a173-022fae9c918e div.sk-parallel-item:only-child::after {width: 0;}#sk-df7efb91-cc96-4230-a173-022fae9c918e div.sk-dashed-wrapped {border: 1px dashed gray;margin: 0 0.4em 0.5em 0.4em;box-sizing: border-box;padding-bottom: 0.4em;background-color: white;position: relative;}#sk-df7efb91-cc96-4230-a173-022fae9c918e div.sk-label label {font-family: monospace;font-weight: bold;background-color: white;display: inline-block;line-height: 1.2em;}#sk-df7efb91-cc96-4230-a173-022fae9c918e div.sk-label-container {position: relative;z-index: 2;text-align: center;}#sk-df7efb91-cc96-4230-a173-022fae9c918e div.sk-container {/* jupyter's `normalize.less` sets `[hidden] { display: none; }` but bootstrap.min.css set `[hidden] { display: none !important; }` so we also need the `!important` here to be able to override the default hidden behavior on the sphinx rendered scikit-learn.org. See: https://github.com/scikit-learn/scikit-learn/issues/21755 */display: inline-block !important;position: relative;}#sk-df7efb91-cc96-4230-a173-022fae9c918e div.sk-text-repr-fallback {display: none;}</style><div id='sk-df7efb91-cc96-4230-a173-022fae9c918e' class=\"sk-top-container\"><div class=\"sk-text-repr-fallback\"><pre>TransformedTargetForecaster(steps=[(&#x27;imputer&#x27;, Imputer()),\n",
       "                                   (&#x27;forecaster&#x27;, NaiveForecaster())])</pre><b>Please rerun this cell to show the HTML repr or trust the notebook.</b></div><div class=\"sk-container\" hidden><div class=\"sk-item sk-dashed-wrapped\"><div class='sk-label-container'><div class=\"sk-label sk-toggleable\"><input class=\"sk-toggleable__control sk-hidden--visually\" id=UUID('1bae8b0b-556e-40d4-aa2a-aff39d6efc58') type=\"checkbox\" ><label for=UUID('1bae8b0b-556e-40d4-aa2a-aff39d6efc58') class='sk-toggleable__label sk-toggleable__label-arrow'>TransformedTargetForecaster</label><div class=\"sk-toggleable__content\"><pre>TransformedTargetForecaster(steps=[(&#x27;imputer&#x27;, Imputer()),\n",
       "                                   (&#x27;forecaster&#x27;, NaiveForecaster())])</pre></div></div></div><div class=\"sk-parallel\"><div class=\"sk-parallel-item\"><div class=\"sk-item\"><div class=\"sk-serial\"><div class='sk-item'><div class=\"sk-estimator sk-toggleable\"><input class=\"sk-toggleable__control sk-hidden--visually\" id=UUID('f205f791-78f7-45c6-8f7f-b344743fcf68') type=\"checkbox\" ><label for=UUID('f205f791-78f7-45c6-8f7f-b344743fcf68') class='sk-toggleable__label sk-toggleable__label-arrow'>Imputer</label><div class=\"sk-toggleable__content\"><pre>Imputer()</pre></div></div></div></div></div></div><div class=\"sk-parallel-item\"><div class=\"sk-item\"><div class=\"sk-serial\"><div class='sk-item'><div class=\"sk-estimator sk-toggleable\"><input class=\"sk-toggleable__control sk-hidden--visually\" id=UUID('d9bbef18-f4c3-4e35-8391-ee24c3573c52') type=\"checkbox\" ><label for=UUID('d9bbef18-f4c3-4e35-8391-ee24c3573c52') class='sk-toggleable__label sk-toggleable__label-arrow'>NaiveForecaster</label><div class=\"sk-toggleable__content\"><pre>NaiveForecaster()</pre></div></div></div></div></div></div></div></div></div></div>"
      ],
      "text/plain": [
       "TransformedTargetForecaster(steps=[('imputer', Imputer()),\n",
       "                                   ('forecaster', NaiveForecaster())])"
      ]
     },
     "execution_count": 4,
     "metadata": {},
     "output_type": "execute_result"
    }
   ],
   "source": [
    "from sktime.registry import craft\n",
    "\n",
    "pipe_new = craft(pipe_str)\n",
    "pipe_new"
   ]
  },
  {
   "cell_type": "markdown",
   "id": "5cfffddf",
   "metadata": {},
   "source": [
    "this is the same estimator blueprint as `pipe`!\n",
    "\n",
    "To compare blueprint, simply use the `==` operator (this is a `scikit-base` feature)"
   ]
  },
  {
   "cell_type": "code",
   "execution_count": 5,
   "id": "66a5725c",
   "metadata": {},
   "outputs": [
    {
     "data": {
      "text/plain": [
       "True"
      ]
     },
     "execution_count": 5,
     "metadata": {},
     "output_type": "execute_result"
    }
   ],
   "source": [
    "pipe_new == pipe"
   ]
  },
  {
   "cell_type": "markdown",
   "id": "51e7ed2a",
   "metadata": {},
   "source": [
    "share complex pipelines like this with your researcher friends (or in the appendix of your publications)!\n",
    "\n",
    "I.e., process as follows:\n",
    "\n",
    "* publishing researcher shares `pipe_str = str(pipe)` or `str(my_estimator)` and `pip freeze > requirements.txt` output\n",
    "* reproducing researcher installs env from `requirements.txt` and runs `craft(pipe_str)` in that env\n",
    "\n",
    "For custom estimators, in addition, the custom module needs to be shared."
   ]
  },
  {
   "cell_type": "markdown",
   "id": "9a0672d7",
   "metadata": {},
   "source": [
    "Highly complex estimators can consist of multiple definition blocks - this is also supported by `craft` as follows.\n",
    "\n",
    "Instead of a string conversion, we can also serialize:"
   ]
  },
  {
   "cell_type": "code",
   "execution_count": 6,
   "id": "f5b721f9",
   "metadata": {},
   "outputs": [],
   "source": [
    "# pipe_spec is a string representation of the pipeline\n",
    "# it can be stored in a file or a database like this\n",
    "# the \"return\" statement indicates which object we store\n",
    "# temporary variables like pipe, cv can be defined\n",
    "pipe_spec = \"\"\"\n",
    "pipe = TransformedTargetForecaster(steps=[\n",
    "    (\"imputer\", Imputer()),\n",
    "    (\"forecaster\", NaiveForecaster())])\n",
    "cv = ExpandingWindowSplitter(\n",
    "    initial_window=24,\n",
    "    step_length=12,\n",
    "    fh=[1, 2, 3])\n",
    "\n",
    "return ForecastingGridSearchCV(\n",
    "    forecaster=pipe,\n",
    "    param_grid=[{\n",
    "        \"forecaster\": [NaiveForecaster(sp=12)],\n",
    "        \"forecaster__strategy\": [\"drift\", \"last\", \"mean\"],\n",
    "    },\n",
    "    {\n",
    "        \"imputer__method\": [\"mean\", \"drift\"],\n",
    "        \"forecaster\": [ThetaForecaster(sp=12)],\n",
    "    },\n",
    "    {\n",
    "        \"imputer__method\": [\"mean\", \"median\"],\n",
    "        \"forecaster\": [ExponentialSmoothing(sp=12)],\n",
    "        \"forecaster__trend\": [\"add\", \"mul\"],\n",
    "    },\n",
    "    ],\n",
    "    cv=cv,\n",
    "    n_jobs=-1)\n",
    "\"\"\""
   ]
  },
  {
   "cell_type": "code",
   "execution_count": 7,
   "id": "49d58a06",
   "metadata": {},
   "outputs": [
    {
     "data": {
      "text/html": [
       "<style>#sk-dd3e7faf-eef0-4d00-9135-e5f5ae2dc19f {color: black;background-color: white;}#sk-dd3e7faf-eef0-4d00-9135-e5f5ae2dc19f pre{padding: 0;}#sk-dd3e7faf-eef0-4d00-9135-e5f5ae2dc19f div.sk-toggleable {background-color: white;}#sk-dd3e7faf-eef0-4d00-9135-e5f5ae2dc19f label.sk-toggleable__label {cursor: pointer;display: block;width: 100%;margin-bottom: 0;padding: 0.3em;box-sizing: border-box;text-align: center;}#sk-dd3e7faf-eef0-4d00-9135-e5f5ae2dc19f label.sk-toggleable__label-arrow:before {content: \"▸\";float: left;margin-right: 0.25em;color: #696969;}#sk-dd3e7faf-eef0-4d00-9135-e5f5ae2dc19f label.sk-toggleable__label-arrow:hover:before {color: black;}#sk-dd3e7faf-eef0-4d00-9135-e5f5ae2dc19f div.sk-estimator:hover label.sk-toggleable__label-arrow:before {color: black;}#sk-dd3e7faf-eef0-4d00-9135-e5f5ae2dc19f div.sk-toggleable__content {max-height: 0;max-width: 0;overflow: hidden;text-align: left;background-color: #f0f8ff;}#sk-dd3e7faf-eef0-4d00-9135-e5f5ae2dc19f div.sk-toggleable__content pre {margin: 0.2em;color: black;border-radius: 0.25em;background-color: #f0f8ff;}#sk-dd3e7faf-eef0-4d00-9135-e5f5ae2dc19f input.sk-toggleable__control:checked~div.sk-toggleable__content {max-height: 200px;max-width: 100%;overflow: auto;}#sk-dd3e7faf-eef0-4d00-9135-e5f5ae2dc19f input.sk-toggleable__control:checked~label.sk-toggleable__label-arrow:before {content: \"▾\";}#sk-dd3e7faf-eef0-4d00-9135-e5f5ae2dc19f div.sk-estimator input.sk-toggleable__control:checked~label.sk-toggleable__label {background-color: #d4ebff;}#sk-dd3e7faf-eef0-4d00-9135-e5f5ae2dc19f div.sk-label input.sk-toggleable__control:checked~label.sk-toggleable__label {background-color: #d4ebff;}#sk-dd3e7faf-eef0-4d00-9135-e5f5ae2dc19f input.sk-hidden--visually {border: 0;clip: rect(1px 1px 1px 1px);clip: rect(1px, 1px, 1px, 1px);height: 1px;margin: -1px;overflow: hidden;padding: 0;position: absolute;width: 1px;}#sk-dd3e7faf-eef0-4d00-9135-e5f5ae2dc19f div.sk-estimator {font-family: monospace;background-color: #f0f8ff;border: 1px dotted black;border-radius: 0.25em;box-sizing: border-box;margin-bottom: 0.5em;}#sk-dd3e7faf-eef0-4d00-9135-e5f5ae2dc19f div.sk-estimator:hover {background-color: #d4ebff;}#sk-dd3e7faf-eef0-4d00-9135-e5f5ae2dc19f div.sk-parallel-item::after {content: \"\";width: 100%;border-bottom: 1px solid gray;flex-grow: 1;}#sk-dd3e7faf-eef0-4d00-9135-e5f5ae2dc19f div.sk-label:hover label.sk-toggleable__label {background-color: #d4ebff;}#sk-dd3e7faf-eef0-4d00-9135-e5f5ae2dc19f div.sk-serial::before {content: \"\";position: absolute;border-left: 1px solid gray;box-sizing: border-box;top: 2em;bottom: 0;left: 50%;}#sk-dd3e7faf-eef0-4d00-9135-e5f5ae2dc19f div.sk-serial {display: flex;flex-direction: column;align-items: center;background-color: white;padding-right: 0.2em;padding-left: 0.2em;}#sk-dd3e7faf-eef0-4d00-9135-e5f5ae2dc19f div.sk-item {z-index: 1;}#sk-dd3e7faf-eef0-4d00-9135-e5f5ae2dc19f div.sk-parallel {display: flex;align-items: stretch;justify-content: center;background-color: white;}#sk-dd3e7faf-eef0-4d00-9135-e5f5ae2dc19f div.sk-parallel::before {content: \"\";position: absolute;border-left: 1px solid gray;box-sizing: border-box;top: 2em;bottom: 0;left: 50%;}#sk-dd3e7faf-eef0-4d00-9135-e5f5ae2dc19f div.sk-parallel-item {display: flex;flex-direction: column;position: relative;background-color: white;}#sk-dd3e7faf-eef0-4d00-9135-e5f5ae2dc19f div.sk-parallel-item:first-child::after {align-self: flex-end;width: 50%;}#sk-dd3e7faf-eef0-4d00-9135-e5f5ae2dc19f div.sk-parallel-item:last-child::after {align-self: flex-start;width: 50%;}#sk-dd3e7faf-eef0-4d00-9135-e5f5ae2dc19f div.sk-parallel-item:only-child::after {width: 0;}#sk-dd3e7faf-eef0-4d00-9135-e5f5ae2dc19f div.sk-dashed-wrapped {border: 1px dashed gray;margin: 0 0.4em 0.5em 0.4em;box-sizing: border-box;padding-bottom: 0.4em;background-color: white;position: relative;}#sk-dd3e7faf-eef0-4d00-9135-e5f5ae2dc19f div.sk-label label {font-family: monospace;font-weight: bold;background-color: white;display: inline-block;line-height: 1.2em;}#sk-dd3e7faf-eef0-4d00-9135-e5f5ae2dc19f div.sk-label-container {position: relative;z-index: 2;text-align: center;}#sk-dd3e7faf-eef0-4d00-9135-e5f5ae2dc19f div.sk-container {/* jupyter's `normalize.less` sets `[hidden] { display: none; }` but bootstrap.min.css set `[hidden] { display: none !important; }` so we also need the `!important` here to be able to override the default hidden behavior on the sphinx rendered scikit-learn.org. See: https://github.com/scikit-learn/scikit-learn/issues/21755 */display: inline-block !important;position: relative;}#sk-dd3e7faf-eef0-4d00-9135-e5f5ae2dc19f div.sk-text-repr-fallback {display: none;}</style><div id='sk-dd3e7faf-eef0-4d00-9135-e5f5ae2dc19f' class=\"sk-top-container\"><div class=\"sk-text-repr-fallback\"><pre>ForecastingGridSearchCV(cv=ExpandingWindowSplitter(fh=[1, 2, 3],\n",
       "                                                   initial_window=24,\n",
       "                                                   step_length=12),\n",
       "                        forecaster=TransformedTargetForecaster(steps=[(&#x27;imputer&#x27;,\n",
       "                                                                       Imputer()),\n",
       "                                                                      (&#x27;forecaster&#x27;,\n",
       "                                                                       NaiveForecaster())]),\n",
       "                        n_jobs=-1,\n",
       "                        param_grid=[{&#x27;forecaster&#x27;: [NaiveForecaster(sp=12)],\n",
       "                                     &#x27;forecaster__strategy&#x27;: [&#x27;drift&#x27;, &#x27;last&#x27;,\n",
       "                                                              &#x27;mean&#x27;]},\n",
       "                                    {&#x27;forecaster&#x27;: [ThetaForecaster(sp=12)],\n",
       "                                     &#x27;imputer__method&#x27;: [&#x27;mean&#x27;, &#x27;drift&#x27;]},\n",
       "                                    {&#x27;forecaster&#x27;: [ExponentialSmoothing(sp=12)],\n",
       "                                     &#x27;forecaster__trend&#x27;: [&#x27;add&#x27;, &#x27;mul&#x27;],\n",
       "                                     &#x27;imputer__method&#x27;: [&#x27;mean&#x27;, &#x27;median&#x27;]}])</pre><b>Please rerun this cell to show the HTML repr or trust the notebook.</b></div><div class=\"sk-container\" hidden><div class=\"sk-item sk-dashed-wrapped\"><div class='sk-label-container'><div class=\"sk-label sk-toggleable\"><input class=\"sk-toggleable__control sk-hidden--visually\" id=UUID('ae59d07b-ca6e-433f-b568-548fcc78a76c') type=\"checkbox\" ><label for=UUID('ae59d07b-ca6e-433f-b568-548fcc78a76c') class='sk-toggleable__label sk-toggleable__label-arrow'>ForecastingGridSearchCV</label><div class=\"sk-toggleable__content\"><pre>ForecastingGridSearchCV(cv=ExpandingWindowSplitter(fh=[1, 2, 3],\n",
       "                                                   initial_window=24,\n",
       "                                                   step_length=12),\n",
       "                        forecaster=TransformedTargetForecaster(steps=[(&#x27;imputer&#x27;,\n",
       "                                                                       Imputer()),\n",
       "                                                                      (&#x27;forecaster&#x27;,\n",
       "                                                                       NaiveForecaster())]),\n",
       "                        n_jobs=-1,\n",
       "                        param_grid=[{&#x27;forecaster&#x27;: [NaiveForecaster(sp=12)],\n",
       "                                     &#x27;forecaster__strategy&#x27;: [&#x27;drift&#x27;, &#x27;last&#x27;,\n",
       "                                                              &#x27;mean&#x27;]},\n",
       "                                    {&#x27;forecaster&#x27;: [ThetaForecaster(sp=12)],\n",
       "                                     &#x27;imputer__method&#x27;: [&#x27;mean&#x27;, &#x27;drift&#x27;]},\n",
       "                                    {&#x27;forecaster&#x27;: [ExponentialSmoothing(sp=12)],\n",
       "                                     &#x27;forecaster__trend&#x27;: [&#x27;add&#x27;, &#x27;mul&#x27;],\n",
       "                                     &#x27;imputer__method&#x27;: [&#x27;mean&#x27;, &#x27;median&#x27;]}])</pre></div></div></div><div class=\"sk-parallel\"><div class=\"sk-parallel-item\"><div class=\"sk-item\"><div class=\"sk-serial\"><div class='sk-item'><div class=\"sk-estimator sk-toggleable\"><input class=\"sk-toggleable__control sk-hidden--visually\" id=UUID('fb94cb25-56eb-48f4-b18f-cfd1fba5c1ee') type=\"checkbox\" ><label for=UUID('fb94cb25-56eb-48f4-b18f-cfd1fba5c1ee') class='sk-toggleable__label sk-toggleable__label-arrow'>ExpandingWindowSplitter</label><div class=\"sk-toggleable__content\"><pre>ExpandingWindowSplitter(fh=[1, 2, 3], initial_window=24, step_length=12)</pre></div></div></div></div></div></div><div class=\"sk-parallel-item\"><div class=\"sk-item\"><div class=\"sk-serial\"><div class=\"sk-item sk-dashed-wrapped\"><div class=\"sk-parallel\"><div class=\"sk-parallel-item\"><div class=\"sk-item\"><div class=\"sk-serial\"><div class='sk-item'><div class=\"sk-estimator sk-toggleable\"><input class=\"sk-toggleable__control sk-hidden--visually\" id=UUID('032d5d58-8bb0-4a7b-b41d-4fd915c057be') type=\"checkbox\" ><label for=UUID('032d5d58-8bb0-4a7b-b41d-4fd915c057be') class='sk-toggleable__label sk-toggleable__label-arrow'>Imputer</label><div class=\"sk-toggleable__content\"><pre>Imputer()</pre></div></div></div></div></div></div><div class=\"sk-parallel-item\"><div class=\"sk-item\"><div class=\"sk-serial\"><div class='sk-item'><div class=\"sk-estimator sk-toggleable\"><input class=\"sk-toggleable__control sk-hidden--visually\" id=UUID('648aa11b-7c9c-4747-9025-a99455044912') type=\"checkbox\" ><label for=UUID('648aa11b-7c9c-4747-9025-a99455044912') class='sk-toggleable__label sk-toggleable__label-arrow'>NaiveForecaster</label><div class=\"sk-toggleable__content\"><pre>NaiveForecaster()</pre></div></div></div></div></div></div></div></div></div></div></div></div></div></div></div>"
      ],
      "text/plain": [
       "ForecastingGridSearchCV(cv=ExpandingWindowSplitter(fh=[1, 2, 3],\n",
       "                                                   initial_window=24,\n",
       "                                                   step_length=12),\n",
       "                        forecaster=TransformedTargetForecaster(steps=[('imputer',\n",
       "                                                                       Imputer()),\n",
       "                                                                      ('forecaster',\n",
       "                                                                       NaiveForecaster())]),\n",
       "                        n_jobs=-1,\n",
       "                        param_grid=[{'forecaster': [NaiveForecaster(sp=12)],\n",
       "                                     'forecaster__strategy': ['drift', 'last',\n",
       "                                                              'mean']},\n",
       "                                    {'forecaster': [ThetaForecaster(sp=12)],\n",
       "                                     'imputer__method': ['mean', 'drift']},\n",
       "                                    {'forecaster': [ExponentialSmoothing(sp=12)],\n",
       "                                     'forecaster__trend': ['add', 'mul'],\n",
       "                                     'imputer__method': ['mean', 'median']}])"
      ]
     },
     "execution_count": 7,
     "metadata": {},
     "output_type": "execute_result"
    }
   ],
   "source": [
    "craft(pipe_spec)"
   ]
  },
  {
   "cell_type": "markdown",
   "id": "7a5019fa",
   "metadata": {},
   "source": [
    "sometimes, estimators require soft dependencies to be installed,\n",
    "\n",
    "and complain at construction (or `craft`)\n",
    "\n",
    "for this, required dependencies can be queried *before* construction:"
   ]
  },
  {
   "cell_type": "code",
   "execution_count": 8,
   "id": "d2a2f566",
   "metadata": {},
   "outputs": [
    {
     "data": {
      "text/plain": [
       "['statsmodels']"
      ]
     },
     "execution_count": 8,
     "metadata": {},
     "output_type": "execute_result"
    }
   ],
   "source": [
    "from sktime.registry import deps\n",
    "\n",
    "deps(pipe_spec)"
   ]
  },
  {
   "cell_type": "markdown",
   "id": "eacc98de",
   "metadata": {},
   "source": [
    "... although this should not be necessary if `pip freeze` output is available"
   ]
  },
  {
   "cell_type": "markdown",
   "id": "87929231",
   "metadata": {},
   "source": [
    "another useful convenience: `imports` can be used to print a full import block:"
   ]
  },
  {
   "cell_type": "code",
   "execution_count": 9,
   "id": "864dd970",
   "metadata": {},
   "outputs": [
    {
     "data": {
      "text/plain": [
       "'from sktime.forecasting.compose._pipeline import TransformedTargetForecaster\\nfrom sktime.forecasting.exp_smoothing import ExponentialSmoothing\\nfrom sktime.forecasting.model_selection._split import ExpandingWindowSplitter\\nfrom sktime.forecasting.model_selection._tune import ForecastingGridSearchCV\\nfrom sktime.forecasting.naive import NaiveForecaster\\nfrom sktime.forecasting.naive import NaiveForecaster\\nfrom sktime.forecasting.theta import ThetaForecaster\\nfrom sktime.transformations.series.impute import Imputer'"
      ]
     },
     "execution_count": 9,
     "metadata": {},
     "output_type": "execute_result"
    }
   ],
   "source": [
    "from sktime.registry import imports\n",
    "\n",
    "imports(pipe_spec)  # the result can be copied above the spec in to a jupyter cell"
   ]
  },
  {
   "cell_type": "markdown",
   "id": "af39fe09",
   "metadata": {},
   "source": [
    "### 5.1.2 Persisting fitted models"
   ]
  },
  {
   "cell_type": "markdown",
   "id": "92e2f784",
   "metadata": {},
   "source": [
    "persisting fitted models can be useful to share in a reproducibility setting,\n",
    "\n",
    "(note, data source plus blueprint with `random_state` may be easier to share)"
   ]
  },
  {
   "cell_type": "markdown",
   "id": "ab450c88",
   "metadata": {},
   "source": [
    "to persist a fitted model:"
   ]
  },
  {
   "cell_type": "code",
   "execution_count": 10,
   "id": "b6a5ffd1",
   "metadata": {},
   "outputs": [],
   "source": [
    "from sktime.datasets import load_airline\n",
    "\n",
    "y = load_airline()"
   ]
  },
  {
   "cell_type": "code",
   "execution_count": 11,
   "id": "6a159e25",
   "metadata": {},
   "outputs": [
    {
     "data": {
      "text/html": [
       "<style>#sk-1efe1ff1-6432-4c5e-9e51-95502ace22b3 {color: black;background-color: white;}#sk-1efe1ff1-6432-4c5e-9e51-95502ace22b3 pre{padding: 0;}#sk-1efe1ff1-6432-4c5e-9e51-95502ace22b3 div.sk-toggleable {background-color: white;}#sk-1efe1ff1-6432-4c5e-9e51-95502ace22b3 label.sk-toggleable__label {cursor: pointer;display: block;width: 100%;margin-bottom: 0;padding: 0.3em;box-sizing: border-box;text-align: center;}#sk-1efe1ff1-6432-4c5e-9e51-95502ace22b3 label.sk-toggleable__label-arrow:before {content: \"▸\";float: left;margin-right: 0.25em;color: #696969;}#sk-1efe1ff1-6432-4c5e-9e51-95502ace22b3 label.sk-toggleable__label-arrow:hover:before {color: black;}#sk-1efe1ff1-6432-4c5e-9e51-95502ace22b3 div.sk-estimator:hover label.sk-toggleable__label-arrow:before {color: black;}#sk-1efe1ff1-6432-4c5e-9e51-95502ace22b3 div.sk-toggleable__content {max-height: 0;max-width: 0;overflow: hidden;text-align: left;background-color: #f0f8ff;}#sk-1efe1ff1-6432-4c5e-9e51-95502ace22b3 div.sk-toggleable__content pre {margin: 0.2em;color: black;border-radius: 0.25em;background-color: #f0f8ff;}#sk-1efe1ff1-6432-4c5e-9e51-95502ace22b3 input.sk-toggleable__control:checked~div.sk-toggleable__content {max-height: 200px;max-width: 100%;overflow: auto;}#sk-1efe1ff1-6432-4c5e-9e51-95502ace22b3 input.sk-toggleable__control:checked~label.sk-toggleable__label-arrow:before {content: \"▾\";}#sk-1efe1ff1-6432-4c5e-9e51-95502ace22b3 div.sk-estimator input.sk-toggleable__control:checked~label.sk-toggleable__label {background-color: #d4ebff;}#sk-1efe1ff1-6432-4c5e-9e51-95502ace22b3 div.sk-label input.sk-toggleable__control:checked~label.sk-toggleable__label {background-color: #d4ebff;}#sk-1efe1ff1-6432-4c5e-9e51-95502ace22b3 input.sk-hidden--visually {border: 0;clip: rect(1px 1px 1px 1px);clip: rect(1px, 1px, 1px, 1px);height: 1px;margin: -1px;overflow: hidden;padding: 0;position: absolute;width: 1px;}#sk-1efe1ff1-6432-4c5e-9e51-95502ace22b3 div.sk-estimator {font-family: monospace;background-color: #f0f8ff;border: 1px dotted black;border-radius: 0.25em;box-sizing: border-box;margin-bottom: 0.5em;}#sk-1efe1ff1-6432-4c5e-9e51-95502ace22b3 div.sk-estimator:hover {background-color: #d4ebff;}#sk-1efe1ff1-6432-4c5e-9e51-95502ace22b3 div.sk-parallel-item::after {content: \"\";width: 100%;border-bottom: 1px solid gray;flex-grow: 1;}#sk-1efe1ff1-6432-4c5e-9e51-95502ace22b3 div.sk-label:hover label.sk-toggleable__label {background-color: #d4ebff;}#sk-1efe1ff1-6432-4c5e-9e51-95502ace22b3 div.sk-serial::before {content: \"\";position: absolute;border-left: 1px solid gray;box-sizing: border-box;top: 2em;bottom: 0;left: 50%;}#sk-1efe1ff1-6432-4c5e-9e51-95502ace22b3 div.sk-serial {display: flex;flex-direction: column;align-items: center;background-color: white;padding-right: 0.2em;padding-left: 0.2em;}#sk-1efe1ff1-6432-4c5e-9e51-95502ace22b3 div.sk-item {z-index: 1;}#sk-1efe1ff1-6432-4c5e-9e51-95502ace22b3 div.sk-parallel {display: flex;align-items: stretch;justify-content: center;background-color: white;}#sk-1efe1ff1-6432-4c5e-9e51-95502ace22b3 div.sk-parallel::before {content: \"\";position: absolute;border-left: 1px solid gray;box-sizing: border-box;top: 2em;bottom: 0;left: 50%;}#sk-1efe1ff1-6432-4c5e-9e51-95502ace22b3 div.sk-parallel-item {display: flex;flex-direction: column;position: relative;background-color: white;}#sk-1efe1ff1-6432-4c5e-9e51-95502ace22b3 div.sk-parallel-item:first-child::after {align-self: flex-end;width: 50%;}#sk-1efe1ff1-6432-4c5e-9e51-95502ace22b3 div.sk-parallel-item:last-child::after {align-self: flex-start;width: 50%;}#sk-1efe1ff1-6432-4c5e-9e51-95502ace22b3 div.sk-parallel-item:only-child::after {width: 0;}#sk-1efe1ff1-6432-4c5e-9e51-95502ace22b3 div.sk-dashed-wrapped {border: 1px dashed gray;margin: 0 0.4em 0.5em 0.4em;box-sizing: border-box;padding-bottom: 0.4em;background-color: white;position: relative;}#sk-1efe1ff1-6432-4c5e-9e51-95502ace22b3 div.sk-label label {font-family: monospace;font-weight: bold;background-color: white;display: inline-block;line-height: 1.2em;}#sk-1efe1ff1-6432-4c5e-9e51-95502ace22b3 div.sk-label-container {position: relative;z-index: 2;text-align: center;}#sk-1efe1ff1-6432-4c5e-9e51-95502ace22b3 div.sk-container {/* jupyter's `normalize.less` sets `[hidden] { display: none; }` but bootstrap.min.css set `[hidden] { display: none !important; }` so we also need the `!important` here to be able to override the default hidden behavior on the sphinx rendered scikit-learn.org. See: https://github.com/scikit-learn/scikit-learn/issues/21755 */display: inline-block !important;position: relative;}#sk-1efe1ff1-6432-4c5e-9e51-95502ace22b3 div.sk-text-repr-fallback {display: none;}</style><div id='sk-1efe1ff1-6432-4c5e-9e51-95502ace22b3' class=\"sk-top-container\"><div class=\"sk-text-repr-fallback\"><pre>TransformedTargetForecaster(steps=[(&#x27;imputer&#x27;, Imputer()),\n",
       "                                   (&#x27;forecaster&#x27;, NaiveForecaster())])</pre><b>Please rerun this cell to show the HTML repr or trust the notebook.</b></div><div class=\"sk-container\" hidden><div class=\"sk-item sk-dashed-wrapped\"><div class='sk-label-container'><div class=\"sk-label sk-toggleable\"><input class=\"sk-toggleable__control sk-hidden--visually\" id=UUID('9f8804ae-4147-4430-9faf-877581a1d8f3') type=\"checkbox\" ><label for=UUID('9f8804ae-4147-4430-9faf-877581a1d8f3') class='sk-toggleable__label sk-toggleable__label-arrow'>TransformedTargetForecaster</label><div class=\"sk-toggleable__content\"><pre>TransformedTargetForecaster(steps=[(&#x27;imputer&#x27;, Imputer()),\n",
       "                                   (&#x27;forecaster&#x27;, NaiveForecaster())])</pre></div></div></div><div class=\"sk-parallel\"><div class=\"sk-parallel-item\"><div class=\"sk-item\"><div class=\"sk-serial\"><div class='sk-item'><div class=\"sk-estimator sk-toggleable\"><input class=\"sk-toggleable__control sk-hidden--visually\" id=UUID('d7cad1d7-dd8f-4033-8533-62d5ca9311c3') type=\"checkbox\" ><label for=UUID('d7cad1d7-dd8f-4033-8533-62d5ca9311c3') class='sk-toggleable__label sk-toggleable__label-arrow'>Imputer</label><div class=\"sk-toggleable__content\"><pre>Imputer()</pre></div></div></div></div></div></div><div class=\"sk-parallel-item\"><div class=\"sk-item\"><div class=\"sk-serial\"><div class='sk-item'><div class=\"sk-estimator sk-toggleable\"><input class=\"sk-toggleable__control sk-hidden--visually\" id=UUID('ad911773-90ba-4c26-b651-871bbe100ed6') type=\"checkbox\" ><label for=UUID('ad911773-90ba-4c26-b651-871bbe100ed6') class='sk-toggleable__label sk-toggleable__label-arrow'>NaiveForecaster</label><div class=\"sk-toggleable__content\"><pre>NaiveForecaster()</pre></div></div></div></div></div></div></div></div></div></div>"
      ],
      "text/plain": [
       "TransformedTargetForecaster(steps=[('imputer', Imputer()),\n",
       "                                   ('forecaster', NaiveForecaster())])"
      ]
     },
     "execution_count": 11,
     "metadata": {},
     "output_type": "execute_result"
    }
   ],
   "source": [
    "# example pipeline\n",
    "from sktime.forecasting.compose._pipeline import TransformedTargetForecaster\n",
    "from sktime.forecasting.naive import NaiveForecaster\n",
    "from sktime.transformations.series.impute import Imputer\n",
    "\n",
    "pipe = TransformedTargetForecaster(\n",
    "    steps=[\n",
    "        (\"imputer\", Imputer()),\n",
    "        (\"forecaster\", NaiveForecaster()),\n",
    "    ]\n",
    ")\n",
    "\n",
    "pipe.fit(y, fh=[1, 2, 3])"
   ]
  },
  {
   "cell_type": "markdown",
   "id": "587a47e1",
   "metadata": {},
   "source": [
    "to serialize fitted objects, use `save` - default is `pkl`, but may differ for deep learning\n",
    "\n",
    "* no args produces in-memory object\n",
    "* `str` or `Path` arg will serialize to file"
   ]
  },
  {
   "cell_type": "code",
   "execution_count": 12,
   "id": "f20bdb5f",
   "metadata": {},
   "outputs": [],
   "source": [
    "pipe_mem = pipe.save()\n",
    "# pipe_mem is a pickle"
   ]
  },
  {
   "cell_type": "markdown",
   "id": "e0889ecc",
   "metadata": {},
   "source": [
    "to deserialize use the `load` method on the memory object or a `str`, `Path`:"
   ]
  },
  {
   "cell_type": "code",
   "execution_count": 13,
   "id": "dc0b24ee",
   "metadata": {},
   "outputs": [],
   "source": [
    "from sktime.base import load\n",
    "\n",
    "pipe_new = load(pipe_mem)"
   ]
  },
  {
   "cell_type": "markdown",
   "id": "0255919c",
   "metadata": {},
   "source": [
    "the loaded object can be used for prediction now."
   ]
  },
  {
   "cell_type": "code",
   "execution_count": 14,
   "id": "c10dd21b",
   "metadata": {},
   "outputs": [
    {
     "data": {
      "text/plain": [
       "1961-01    432.0\n",
       "1961-02    432.0\n",
       "1961-03    432.0\n",
       "Freq: M, Name: Number of airline passengers, dtype: float64"
      ]
     },
     "execution_count": 14,
     "metadata": {},
     "output_type": "execute_result"
    }
   ],
   "source": [
    "pipe_new.predict()"
   ]
  },
  {
   "cell_type": "markdown",
   "metadata": {
    "collapsed": false
   },
   "source": [
    "## 5.2 Forecast evaluation metrics\n",
    "\n"
   ]
  },
  {
   "cell_type": "markdown",
   "metadata": {
    "collapsed": false
   },
   "source": [
    "### 5.2.1 Metrics for point forecasts - basic workflow"
   ]
  },
  {
   "cell_type": "markdown",
   "id": "29cf8ada",
   "metadata": {},
   "source": [
    "metrics are basic objects to compare actuals with forecasts.\n",
    "\n",
    "General usage pattern:\n",
    "\n",
    "1. get some actuals and forecasts\n",
    "2. specify the metric - similar to estimator specs\n",
    "3. plug the actuals and forecasts into metric to get metric values"
   ]
  },
  {
   "cell_type": "code",
   "execution_count": 15,
   "id": "e99bd19c",
   "metadata": {},
   "outputs": [],
   "source": [
    "# 1. get actuals and predictions\n",
    "from sktime.datasets import load_airline\n",
    "from sktime.forecasting.naive import NaiveForecaster\n",
    "\n",
    "y = load_airline()\n",
    "\n",
    "y_train = y.iloc[:132]\n",
    "y_test = y.iloc[132:]  # actuals\n",
    "fh = [1, 2, 3, 4, 5, 6, 7, 8, 9, 10, 11, 12]\n",
    "\n",
    "forecaster = NaiveForecaster(strategy=\"last\", sp=12)\n",
    "\n",
    "forecaster.fit(y_train, fh=fh)\n",
    "y_pred = forecaster.predict()  # predictions"
   ]
  },
  {
   "cell_type": "code",
   "execution_count": 16,
   "id": "658102dd",
   "metadata": {},
   "outputs": [
    {
     "data": {
      "image/png": "[encoded data removed]",
      "text/plain": [
       "<Figure size 1600x400 with 1 Axes>"
      ]
     },
     "metadata": {},
     "output_type": "display_data"
    }
   ],
   "source": [
    "from sktime.utils.plotting import plot_series\n",
    "\n",
    "title = f\"actuals vs. predictions for {forecaster}\"\n",
    "fig, ax = plot_series(\n",
    "    y_train, y_test, y_pred, labels=[\"y_train\", \"y_test\", \"y_pred\"], title=title\n",
    ")"
   ]
  },
  {
   "cell_type": "code",
   "execution_count": 17,
   "id": "1ee9f3fc",
   "metadata": {},
   "outputs": [],
   "source": [
    "# 2. specify the metric\n",
    "from sktime.performance_metrics.forecasting import MeanAbsolutePercentageError\n",
    "\n",
    "smape_loss = MeanAbsolutePercentageError(symmetric=True)"
   ]
  },
  {
   "cell_type": "code",
   "execution_count": 18,
   "id": "40192af6",
   "metadata": {},
   "outputs": [
    {
     "data": {
      "text/plain": [
       "0.105718082574979"
      ]
     },
     "execution_count": 18,
     "metadata": {},
     "output_type": "execute_result"
    }
   ],
   "source": [
    "# 3. evaluate the metric \n",
    "smape_loss(y_test, y_pred)"
   ]
  },
  {
   "cell_type": "markdown",
   "id": "62d2e54a",
   "metadata": {},
   "source": [
    "important note: this single number should not be used as a point of comparison, in general it is high variance!\n",
    "\n",
    "better practice: backtesting experiment with sliding window, and optimally statistical hypothesis test\n",
    "\n",
    "that's what `evaluate` and `benchmarking` are for (below)"
   ]
  },
  {
   "cell_type": "markdown",
   "id": "7f526406",
   "metadata": {},
   "source": [
    "side note: the `performance_metrics` module also contains \"loose functions\" for `sklearn` compatibility where needed, e.g., `mean_absolute_percentage_error`\n",
    "\n",
    "BUT we encourage the use of classes, because:\n",
    "\n",
    "* metric classes are first-class citizens in `sktime`, so\n",
    "* visible to `all_estimators` search\n",
    "* compatible with serialization workflows via `craft` or `save` (reproducibility!)\n",
    "* visible as parameter tunable components in estimators, e.g., grid search tuning"
   ]
  },
  {
   "cell_type": "markdown",
   "id": "a3a7c70c",
   "metadata": {},
   "source": [
    "to find metrics, use `all_estimators` with `\"metric\"` scitype for search:\n",
    "\n",
    "(or look in the online API reference)"
   ]
  },
  {
   "cell_type": "code",
   "execution_count": 19,
   "id": "c2139bef",
   "metadata": {},
   "outputs": [
    {
     "data": {
      "text/html": [
       "<div>\n",
       "<style scoped>\n",
       "    .dataframe tbody tr th:only-of-type {\n",
       "        vertical-align: middle;\n",
       "    }\n",
       "\n",
       "    .dataframe tbody tr th {\n",
       "        vertical-align: top;\n",
       "    }\n",
       "\n",
       "    .dataframe thead th {\n",
       "        text-align: right;\n",
       "    }\n",
       "</style>\n",
       "<table border=\"1\" class=\"dataframe\">\n",
       "  <thead>\n",
       "    <tr style=\"text-align: right;\">\n",
       "      <th></th>\n",
       "      <th>name</th>\n",
       "      <th>object</th>\n",
       "    </tr>\n",
       "  </thead>\n",
       "  <tbody>\n",
       "    <tr>\n",
       "      <th>0</th>\n",
       "      <td>CRPS</td>\n",
       "      <td>&lt;class 'sktime.performance_metrics.forecasting...</td>\n",
       "    </tr>\n",
       "    <tr>\n",
       "      <th>1</th>\n",
       "      <td>ConstraintViolation</td>\n",
       "      <td>&lt;class 'sktime.performance_metrics.forecasting...</td>\n",
       "    </tr>\n",
       "    <tr>\n",
       "      <th>2</th>\n",
       "      <td>EmpiricalCoverage</td>\n",
       "      <td>&lt;class 'sktime.performance_metrics.forecasting...</td>\n",
       "    </tr>\n",
       "    <tr>\n",
       "      <th>3</th>\n",
       "      <td>GeometricMeanAbsoluteError</td>\n",
       "      <td>&lt;class 'sktime.performance_metrics.forecasting...</td>\n",
       "    </tr>\n",
       "    <tr>\n",
       "      <th>4</th>\n",
       "      <td>GeometricMeanRelativeAbsoluteError</td>\n",
       "      <td>&lt;class 'sktime.performance_metrics.forecasting...</td>\n",
       "    </tr>\n",
       "    <tr>\n",
       "      <th>5</th>\n",
       "      <td>GeometricMeanRelativeSquaredError</td>\n",
       "      <td>&lt;class 'sktime.performance_metrics.forecasting...</td>\n",
       "    </tr>\n",
       "    <tr>\n",
       "      <th>6</th>\n",
       "      <td>GeometricMeanSquaredError</td>\n",
       "      <td>&lt;class 'sktime.performance_metrics.forecasting...</td>\n",
       "    </tr>\n",
       "    <tr>\n",
       "      <th>7</th>\n",
       "      <td>LogLoss</td>\n",
       "      <td>&lt;class 'sktime.performance_metrics.forecasting...</td>\n",
       "    </tr>\n",
       "    <tr>\n",
       "      <th>8</th>\n",
       "      <td>MeanAbsoluteError</td>\n",
       "      <td>&lt;class 'sktime.performance_metrics.forecasting...</td>\n",
       "    </tr>\n",
       "    <tr>\n",
       "      <th>9</th>\n",
       "      <td>MeanAbsolutePercentageError</td>\n",
       "      <td>&lt;class 'sktime.performance_metrics.forecasting...</td>\n",
       "    </tr>\n",
       "    <tr>\n",
       "      <th>10</th>\n",
       "      <td>MeanAbsoluteScaledError</td>\n",
       "      <td>&lt;class 'sktime.performance_metrics.forecasting...</td>\n",
       "    </tr>\n",
       "    <tr>\n",
       "      <th>11</th>\n",
       "      <td>MeanAsymmetricError</td>\n",
       "      <td>&lt;class 'sktime.performance_metrics.forecasting...</td>\n",
       "    </tr>\n",
       "    <tr>\n",
       "      <th>12</th>\n",
       "      <td>MeanLinexError</td>\n",
       "      <td>&lt;class 'sktime.performance_metrics.forecasting...</td>\n",
       "    </tr>\n",
       "    <tr>\n",
       "      <th>13</th>\n",
       "      <td>MeanRelativeAbsoluteError</td>\n",
       "      <td>&lt;class 'sktime.performance_metrics.forecasting...</td>\n",
       "    </tr>\n",
       "    <tr>\n",
       "      <th>14</th>\n",
       "      <td>MeanSquaredError</td>\n",
       "      <td>&lt;class 'sktime.performance_metrics.forecasting...</td>\n",
       "    </tr>\n",
       "    <tr>\n",
       "      <th>15</th>\n",
       "      <td>MeanSquaredPercentageError</td>\n",
       "      <td>&lt;class 'sktime.performance_metrics.forecasting...</td>\n",
       "    </tr>\n",
       "    <tr>\n",
       "      <th>16</th>\n",
       "      <td>MeanSquaredScaledError</td>\n",
       "      <td>&lt;class 'sktime.performance_metrics.forecasting...</td>\n",
       "    </tr>\n",
       "    <tr>\n",
       "      <th>17</th>\n",
       "      <td>MedianAbsoluteError</td>\n",
       "      <td>&lt;class 'sktime.performance_metrics.forecasting...</td>\n",
       "    </tr>\n",
       "    <tr>\n",
       "      <th>18</th>\n",
       "      <td>MedianAbsolutePercentageError</td>\n",
       "      <td>&lt;class 'sktime.performance_metrics.forecasting...</td>\n",
       "    </tr>\n",
       "    <tr>\n",
       "      <th>19</th>\n",
       "      <td>MedianAbsoluteScaledError</td>\n",
       "      <td>&lt;class 'sktime.performance_metrics.forecasting...</td>\n",
       "    </tr>\n",
       "    <tr>\n",
       "      <th>20</th>\n",
       "      <td>MedianRelativeAbsoluteError</td>\n",
       "      <td>&lt;class 'sktime.performance_metrics.forecasting...</td>\n",
       "    </tr>\n",
       "    <tr>\n",
       "      <th>21</th>\n",
       "      <td>MedianSquaredError</td>\n",
       "      <td>&lt;class 'sktime.performance_metrics.forecasting...</td>\n",
       "    </tr>\n",
       "    <tr>\n",
       "      <th>22</th>\n",
       "      <td>MedianSquaredPercentageError</td>\n",
       "      <td>&lt;class 'sktime.performance_metrics.forecasting...</td>\n",
       "    </tr>\n",
       "    <tr>\n",
       "      <th>23</th>\n",
       "      <td>MedianSquaredScaledError</td>\n",
       "      <td>&lt;class 'sktime.performance_metrics.forecasting...</td>\n",
       "    </tr>\n",
       "    <tr>\n",
       "      <th>24</th>\n",
       "      <td>PinballLoss</td>\n",
       "      <td>&lt;class 'sktime.performance_metrics.forecasting...</td>\n",
       "    </tr>\n",
       "    <tr>\n",
       "      <th>25</th>\n",
       "      <td>RelativeLoss</td>\n",
       "      <td>&lt;class 'sktime.performance_metrics.forecasting...</td>\n",
       "    </tr>\n",
       "    <tr>\n",
       "      <th>26</th>\n",
       "      <td>SquaredDistrLoss</td>\n",
       "      <td>&lt;class 'sktime.performance_metrics.forecasting...</td>\n",
       "    </tr>\n",
       "  </tbody>\n",
       "</table>\n",
       "</div>"
      ],
      "text/plain": [
       "                                  name  \\\n",
       "0                                 CRPS   \n",
       "1                  ConstraintViolation   \n",
       "2                    EmpiricalCoverage   \n",
       "3           GeometricMeanAbsoluteError   \n",
       "4   GeometricMeanRelativeAbsoluteError   \n",
       "5    GeometricMeanRelativeSquaredError   \n",
       "6            GeometricMeanSquaredError   \n",
       "7                              LogLoss   \n",
       "8                    MeanAbsoluteError   \n",
       "9          MeanAbsolutePercentageError   \n",
       "10             MeanAbsoluteScaledError   \n",
       "11                 MeanAsymmetricError   \n",
       "12                      MeanLinexError   \n",
       "13           MeanRelativeAbsoluteError   \n",
       "14                    MeanSquaredError   \n",
       "15          MeanSquaredPercentageError   \n",
       "16              MeanSquaredScaledError   \n",
       "17                 MedianAbsoluteError   \n",
       "18       MedianAbsolutePercentageError   \n",
       "19           MedianAbsoluteScaledError   \n",
       "20         MedianRelativeAbsoluteError   \n",
       "21                  MedianSquaredError   \n",
       "22        MedianSquaredPercentageError   \n",
       "23            MedianSquaredScaledError   \n",
       "24                         PinballLoss   \n",
       "25                        RelativeLoss   \n",
       "26                    SquaredDistrLoss   \n",
       "\n",
       "                                               object  \n",
       "0   <class 'sktime.performance_metrics.forecasting...  \n",
       "1   <class 'sktime.performance_metrics.forecasting...  \n",
       "2   <class 'sktime.performance_metrics.forecasting...  \n",
       "3   <class 'sktime.performance_metrics.forecasting...  \n",
       "4   <class 'sktime.performance_metrics.forecasting...  \n",
       "5   <class 'sktime.performance_metrics.forecasting...  \n",
       "6   <class 'sktime.performance_metrics.forecasting...  \n",
       "7   <class 'sktime.performance_metrics.forecasting...  \n",
       "8   <class 'sktime.performance_metrics.forecasting...  \n",
       "9   <class 'sktime.performance_metrics.forecasting...  \n",
       "10  <class 'sktime.performance_metrics.forecasting...  \n",
       "11  <class 'sktime.performance_metrics.forecasting...  \n",
       "12  <class 'sktime.performance_metrics.forecasting...  \n",
       "13  <class 'sktime.performance_metrics.forecasting...  \n",
       "14  <class 'sktime.performance_metrics.forecasting...  \n",
       "15  <class 'sktime.performance_metrics.forecasting...  \n",
       "16  <class 'sktime.performance_metrics.forecasting...  \n",
       "17  <class 'sktime.performance_metrics.forecasting...  \n",
       "18  <class 'sktime.performance_metrics.forecasting...  \n",
       "19  <class 'sktime.performance_metrics.forecasting...  \n",
       "20  <class 'sktime.performance_metrics.forecasting...  \n",
       "21  <class 'sktime.performance_metrics.forecasting...  \n",
       "22  <class 'sktime.performance_metrics.forecasting...  \n",
       "23  <class 'sktime.performance_metrics.forecasting...  \n",
       "24  <class 'sktime.performance_metrics.forecasting...  \n",
       "25  <class 'sktime.performance_metrics.forecasting...  \n",
       "26  <class 'sktime.performance_metrics.forecasting...  "
      ]
     },
     "execution_count": 19,
     "metadata": {},
     "output_type": "execute_result"
    }
   ],
   "source": [
    "from sktime.registry import all_estimators\n",
    "\n",
    "all_estimators(\"metric\", as_dataframe=True)"
   ]
  },
  {
   "cell_type": "markdown",
   "id": "b1f084f5",
   "metadata": {},
   "source": [
    "### 5.2.2 Metrics for point forecasts - advanced interface"
   ]
  },
  {
   "cell_type": "markdown",
   "id": "f1026cb8",
   "metadata": {},
   "source": [
    "metrics classes have a number of advanced features:\n",
    "\n",
    "* automatic broadcasting to multivariate and hierarchical data\n",
    "* automatic coercion of any `sktime` compatible data formats\n",
    "* control of averaging over variables, time points, or multiple instances"
   ]
  },
  {
   "cell_type": "markdown",
   "id": "1c0149d9",
   "metadata": {},
   "source": [
    "let's get some multivariate predictions:"
   ]
  },
  {
   "cell_type": "code",
   "execution_count": 20,
   "id": "06b061f3",
   "metadata": {},
   "outputs": [],
   "source": [
    "# 1. get actuals and predictions\n",
    "from sktime.datasets import load_longley\n",
    "from sktime.forecasting.naive import NaiveForecaster\n",
    "\n",
    "_, y = load_longley()\n",
    "\n",
    "y_train = y.iloc[:-3]\n",
    "y_test = y.iloc[-3:]  # actuals\n",
    "fh = [1, 2, 3]\n",
    "\n",
    "forecaster = NaiveForecaster(strategy=\"last\")\n",
    "\n",
    "forecaster.fit(y_train, fh=fh)\n",
    "y_pred = forecaster.predict()  # predictions"
   ]
  },
  {
   "cell_type": "code",
   "execution_count": 21,
   "id": "c9c61700",
   "metadata": {},
   "outputs": [
    {
     "data": {
      "text/plain": [
       "0.057968166987584516"
      ]
     },
     "execution_count": 21,
     "metadata": {},
     "output_type": "execute_result"
    }
   ],
   "source": [
    "# 2. specify the metric\n",
    "from sktime.performance_metrics.forecasting import MeanAbsolutePercentageError\n",
    "\n",
    "smape_loss = MeanAbsolutePercentageError(symmetric=True)\n",
    "\n",
    "# 3. evaluate the metric\n",
    "smape_loss(y_test, y_pred)"
   ]
  },
  {
   "cell_type": "markdown",
   "id": "f83a8161",
   "metadata": {},
   "source": [
    "... this also gives a number, by default:\n",
    "\n",
    "* averages over time points in `y_pred` / `y_test` (rows)\n",
    "* averages over variables (columns)"
   ]
  },
  {
   "cell_type": "markdown",
   "id": "d7b69721",
   "metadata": {},
   "source": [
    "so, 3 rows and 5 columns:"
   ]
  },
  {
   "cell_type": "code",
   "execution_count": 22,
   "id": "1c386f89",
   "metadata": {},
   "outputs": [
    {
     "data": {
      "text/html": [
       "<div>\n",
       "<style scoped>\n",
       "    .dataframe tbody tr th:only-of-type {\n",
       "        vertical-align: middle;\n",
       "    }\n",
       "\n",
       "    .dataframe tbody tr th {\n",
       "        vertical-align: top;\n",
       "    }\n",
       "\n",
       "    .dataframe thead th {\n",
       "        text-align: right;\n",
       "    }\n",
       "</style>\n",
       "<table border=\"1\" class=\"dataframe\">\n",
       "  <thead>\n",
       "    <tr style=\"text-align: right;\">\n",
       "      <th></th>\n",
       "      <th>GNPDEFL</th>\n",
       "      <th>GNP</th>\n",
       "      <th>UNEMP</th>\n",
       "      <th>ARMED</th>\n",
       "      <th>POP</th>\n",
       "    </tr>\n",
       "    <tr>\n",
       "      <th>Period</th>\n",
       "      <th></th>\n",
       "      <th></th>\n",
       "      <th></th>\n",
       "      <th></th>\n",
       "      <th></th>\n",
       "    </tr>\n",
       "  </thead>\n",
       "  <tbody>\n",
       "    <tr>\n",
       "      <th>1960</th>\n",
       "      <td>112.6</td>\n",
       "      <td>482704.0</td>\n",
       "      <td>3813.0</td>\n",
       "      <td>2552.0</td>\n",
       "      <td>123366.0</td>\n",
       "    </tr>\n",
       "    <tr>\n",
       "      <th>1961</th>\n",
       "      <td>112.6</td>\n",
       "      <td>482704.0</td>\n",
       "      <td>3813.0</td>\n",
       "      <td>2552.0</td>\n",
       "      <td>123366.0</td>\n",
       "    </tr>\n",
       "    <tr>\n",
       "      <th>1962</th>\n",
       "      <td>112.6</td>\n",
       "      <td>482704.0</td>\n",
       "      <td>3813.0</td>\n",
       "      <td>2552.0</td>\n",
       "      <td>123366.0</td>\n",
       "    </tr>\n",
       "  </tbody>\n",
       "</table>\n",
       "</div>"
      ],
      "text/plain": [
       "        GNPDEFL       GNP   UNEMP   ARMED       POP\n",
       "Period                                             \n",
       "1960      112.6  482704.0  3813.0  2552.0  123366.0\n",
       "1961      112.6  482704.0  3813.0  2552.0  123366.0\n",
       "1962      112.6  482704.0  3813.0  2552.0  123366.0"
      ]
     },
     "execution_count": 22,
     "metadata": {},
     "output_type": "execute_result"
    }
   ],
   "source": [
    "y_pred"
   ]
  },
  {
   "cell_type": "markdown",
   "id": "d75c6fdb",
   "metadata": {},
   "source": [
    "what if we don't want these averages?"
   ]
  },
  {
   "cell_type": "markdown",
   "id": "527dbb7f",
   "metadata": {},
   "source": [
    "variable (column) averaging is controlled by the `multioutput` arg.\n",
    "\n",
    "`\"raw_values\"` prevents averaging, `\"uniform_average\"` computes arithmetic mean.\n",
    "\n",
    "example without variable averaging:"
   ]
  },
  {
   "cell_type": "code",
   "execution_count": 23,
   "id": "6b41d5b0",
   "metadata": {},
   "outputs": [
    {
     "data": {
      "text/plain": [
       "array([0.02624645, 0.08347055, 0.10350425, 0.04168595, 0.03493363])"
      ]
     },
     "execution_count": 23,
     "metadata": {},
     "output_type": "execute_result"
    }
   ],
   "source": [
    "# 2. specify the metric\n",
    "from sktime.performance_metrics.forecasting import MeanAbsolutePercentageError\n",
    "\n",
    "smape_loss_by_var = MeanAbsolutePercentageError(symmetric=True, multioutput=\"raw_values\")\n",
    "\n",
    "# 3. evaluate the metric\n",
    "smape_loss_by_var(y_test, y_pred)"
   ]
  },
  {
   "cell_type": "markdown",
   "id": "ca9e54e8",
   "metadata": {},
   "source": [
    "evaluation by row can be useful for diagnostics or statistical tests\n",
    "\n",
    "for this, use the `evaluate_by_index` method:"
   ]
  },
  {
   "cell_type": "code",
   "execution_count": 24,
   "id": "238fbea5",
   "metadata": {},
   "outputs": [
    {
     "data": {
      "text/plain": [
       "Period\n",
       "1960    0.023214\n",
       "1961    0.074395\n",
       "1962    0.076295\n",
       "Freq: A-DEC, dtype: float64"
      ]
     },
     "execution_count": 24,
     "metadata": {},
     "output_type": "execute_result"
    }
   ],
   "source": [
    "smape_loss.evaluate_by_index(y_test, y_pred)\n",
    "# entries are the variable-averaged smape loss for each index"
   ]
  },
  {
   "cell_type": "code",
   "execution_count": 25,
   "id": "124f9c36",
   "metadata": {},
   "outputs": [
    {
     "data": {
      "text/html": [
       "<div>\n",
       "<style scoped>\n",
       "    .dataframe tbody tr th:only-of-type {\n",
       "        vertical-align: middle;\n",
       "    }\n",
       "\n",
       "    .dataframe tbody tr th {\n",
       "        vertical-align: top;\n",
       "    }\n",
       "\n",
       "    .dataframe thead th {\n",
       "        text-align: right;\n",
       "    }\n",
       "</style>\n",
       "<table border=\"1\" class=\"dataframe\">\n",
       "  <thead>\n",
       "    <tr style=\"text-align: right;\">\n",
       "      <th></th>\n",
       "      <th>GNPDEFL</th>\n",
       "      <th>GNP</th>\n",
       "      <th>UNEMP</th>\n",
       "      <th>ARMED</th>\n",
       "      <th>POP</th>\n",
       "    </tr>\n",
       "    <tr>\n",
       "      <th>Period</th>\n",
       "      <th></th>\n",
       "      <th></th>\n",
       "      <th></th>\n",
       "      <th></th>\n",
       "      <th></th>\n",
       "    </tr>\n",
       "  </thead>\n",
       "  <tbody>\n",
       "    <tr>\n",
       "      <th>1960</th>\n",
       "      <td>0.014109</td>\n",
       "      <td>0.040387</td>\n",
       "      <td>0.030475</td>\n",
       "      <td>0.015002</td>\n",
       "      <td>0.016098</td>\n",
       "    </tr>\n",
       "    <tr>\n",
       "      <th>1961</th>\n",
       "      <td>0.027157</td>\n",
       "      <td>0.070876</td>\n",
       "      <td>0.230421</td>\n",
       "      <td>0.007806</td>\n",
       "      <td>0.035714</td>\n",
       "    </tr>\n",
       "    <tr>\n",
       "      <th>1962</th>\n",
       "      <td>0.037473</td>\n",
       "      <td>0.139148</td>\n",
       "      <td>0.049616</td>\n",
       "      <td>0.102249</td>\n",
       "      <td>0.052989</td>\n",
       "    </tr>\n",
       "  </tbody>\n",
       "</table>\n",
       "</div>"
      ],
      "text/plain": [
       "         GNPDEFL       GNP     UNEMP     ARMED       POP\n",
       "Period                                                  \n",
       "1960    0.014109  0.040387  0.030475  0.015002  0.016098\n",
       "1961    0.027157  0.070876  0.230421  0.007806  0.035714\n",
       "1962    0.037473  0.139148  0.049616  0.102249  0.052989"
      ]
     },
     "execution_count": 25,
     "metadata": {},
     "output_type": "execute_result"
    }
   ],
   "source": [
    "smape_loss_by_var.evaluate_by_index(y_test, y_pred)\n",
    "# entries are the variable-wise smape loss for each index"
   ]
  },
  {
   "cell_type": "markdown",
   "id": "3e8207a6",
   "metadata": {},
   "source": [
    "Caveat: not every metric is an average over time points, e.g., RMSE\n",
    "\n",
    "In this case, `evaluate_by_index` computes jackknife pseudo-samples\n",
    "\n",
    "(for mean statistics, jackknife pseudo-samples are equal to individual samples)"
   ]
  },
  {
   "cell_type": "markdown",
   "id": "17ce9bd9",
   "metadata": {},
   "source": [
    "let's look at hierarchical data & hierarchical level aggregation now:"
   ]
  },
  {
   "cell_type": "code",
   "execution_count": 26,
   "id": "4febc423",
   "metadata": {},
   "outputs": [
    {
     "data": {
      "text/html": [
       "<div>\n",
       "<style scoped>\n",
       "    .dataframe tbody tr th:only-of-type {\n",
       "        vertical-align: middle;\n",
       "    }\n",
       "\n",
       "    .dataframe tbody tr th {\n",
       "        vertical-align: top;\n",
       "    }\n",
       "\n",
       "    .dataframe thead th {\n",
       "        text-align: right;\n",
       "    }\n",
       "</style>\n",
       "<table border=\"1\" class=\"dataframe\">\n",
       "  <thead>\n",
       "    <tr style=\"text-align: right;\">\n",
       "      <th></th>\n",
       "      <th></th>\n",
       "      <th></th>\n",
       "      <th>Sales</th>\n",
       "    </tr>\n",
       "    <tr>\n",
       "      <th>Product line</th>\n",
       "      <th>Product group</th>\n",
       "      <th>Date</th>\n",
       "      <th></th>\n",
       "    </tr>\n",
       "  </thead>\n",
       "  <tbody>\n",
       "    <tr>\n",
       "      <th rowspan=\"5\" valign=\"top\">Food preparation</th>\n",
       "      <th rowspan=\"5\" valign=\"top\">Hobs</th>\n",
       "      <th>2000-01</th>\n",
       "      <td>245.0</td>\n",
       "    </tr>\n",
       "    <tr>\n",
       "      <th>2000-02</th>\n",
       "      <td>144.0</td>\n",
       "    </tr>\n",
       "    <tr>\n",
       "      <th>2000-03</th>\n",
       "      <td>184.0</td>\n",
       "    </tr>\n",
       "    <tr>\n",
       "      <th>2000-04</th>\n",
       "      <td>265.0</td>\n",
       "    </tr>\n",
       "    <tr>\n",
       "      <th>2000-05</th>\n",
       "      <td>236.0</td>\n",
       "    </tr>\n",
       "    <tr>\n",
       "      <th>...</th>\n",
       "      <th>...</th>\n",
       "      <th>...</th>\n",
       "      <td>...</td>\n",
       "    </tr>\n",
       "    <tr>\n",
       "      <th rowspan=\"5\" valign=\"top\">Food preservation</th>\n",
       "      <th rowspan=\"5\" valign=\"top\">Fridges</th>\n",
       "      <th>2004-08</th>\n",
       "      <td>176.0</td>\n",
       "    </tr>\n",
       "    <tr>\n",
       "      <th>2004-09</th>\n",
       "      <td>205.0</td>\n",
       "    </tr>\n",
       "    <tr>\n",
       "      <th>2004-10</th>\n",
       "      <td>59.0</td>\n",
       "    </tr>\n",
       "    <tr>\n",
       "      <th>2004-11</th>\n",
       "      <td>151.0</td>\n",
       "    </tr>\n",
       "    <tr>\n",
       "      <th>2004-12</th>\n",
       "      <td>173.0</td>\n",
       "    </tr>\n",
       "  </tbody>\n",
       "</table>\n",
       "<p>240 rows × 1 columns</p>\n",
       "</div>"
      ],
      "text/plain": [
       "                                         Sales\n",
       "Product line      Product group Date          \n",
       "Food preparation  Hobs          2000-01  245.0\n",
       "                                2000-02  144.0\n",
       "                                2000-03  184.0\n",
       "                                2000-04  265.0\n",
       "                                2000-05  236.0\n",
       "...                                        ...\n",
       "Food preservation Fridges       2004-08  176.0\n",
       "                                2004-09  205.0\n",
       "                                2004-10   59.0\n",
       "                                2004-11  151.0\n",
       "                                2004-12  173.0\n",
       "\n",
       "[240 rows x 1 columns]"
      ]
     },
     "execution_count": 26,
     "metadata": {},
     "output_type": "execute_result"
    }
   ],
   "source": [
    "# get some hierarchical data\n",
    "from hierarchical_demo_utils import load_product_hierarchy\n",
    "\n",
    "y = load_product_hierarchy()\n",
    "y"
   ]
  },
  {
   "cell_type": "code",
   "execution_count": 27,
   "id": "94500586",
   "metadata": {},
   "outputs": [
    {
     "data": {
      "text/html": [
       "<div>\n",
       "<style scoped>\n",
       "    .dataframe tbody tr th:only-of-type {\n",
       "        vertical-align: middle;\n",
       "    }\n",
       "\n",
       "    .dataframe tbody tr th {\n",
       "        vertical-align: top;\n",
       "    }\n",
       "\n",
       "    .dataframe thead th {\n",
       "        text-align: right;\n",
       "    }\n",
       "</style>\n",
       "<table border=\"1\" class=\"dataframe\">\n",
       "  <thead>\n",
       "    <tr style=\"text-align: right;\">\n",
       "      <th></th>\n",
       "      <th></th>\n",
       "      <th></th>\n",
       "      <th>Sales</th>\n",
       "    </tr>\n",
       "    <tr>\n",
       "      <th>Product line</th>\n",
       "      <th>Product group</th>\n",
       "      <th>Date</th>\n",
       "      <th></th>\n",
       "    </tr>\n",
       "  </thead>\n",
       "  <tbody>\n",
       "    <tr>\n",
       "      <th rowspan=\"6\" valign=\"top\">Food preparation</th>\n",
       "      <th rowspan=\"3\" valign=\"top\">Hobs</th>\n",
       "      <th>2004-10</th>\n",
       "      <td>157.0</td>\n",
       "    </tr>\n",
       "    <tr>\n",
       "      <th>2004-11</th>\n",
       "      <td>113.0</td>\n",
       "    </tr>\n",
       "    <tr>\n",
       "      <th>2004-12</th>\n",
       "      <td>119.0</td>\n",
       "    </tr>\n",
       "    <tr>\n",
       "      <th rowspan=\"3\" valign=\"top\">Ovens</th>\n",
       "      <th>2004-10</th>\n",
       "      <td>139.0</td>\n",
       "    </tr>\n",
       "    <tr>\n",
       "      <th>2004-11</th>\n",
       "      <td>172.0</td>\n",
       "    </tr>\n",
       "    <tr>\n",
       "      <th>2004-12</th>\n",
       "      <td>178.0</td>\n",
       "    </tr>\n",
       "    <tr>\n",
       "      <th rowspan=\"6\" valign=\"top\">Food preservation</th>\n",
       "      <th rowspan=\"3\" valign=\"top\">Freezers</th>\n",
       "      <th>2004-10</th>\n",
       "      <td>115.0</td>\n",
       "    </tr>\n",
       "    <tr>\n",
       "      <th>2004-11</th>\n",
       "      <td>121.0</td>\n",
       "    </tr>\n",
       "    <tr>\n",
       "      <th>2004-12</th>\n",
       "      <td>137.0</td>\n",
       "    </tr>\n",
       "    <tr>\n",
       "      <th rowspan=\"3\" valign=\"top\">Fridges</th>\n",
       "      <th>2004-10</th>\n",
       "      <td>59.0</td>\n",
       "    </tr>\n",
       "    <tr>\n",
       "      <th>2004-11</th>\n",
       "      <td>151.0</td>\n",
       "    </tr>\n",
       "    <tr>\n",
       "      <th>2004-12</th>\n",
       "      <td>173.0</td>\n",
       "    </tr>\n",
       "  </tbody>\n",
       "</table>\n",
       "</div>"
      ],
      "text/plain": [
       "                                         Sales\n",
       "Product line      Product group Date          \n",
       "Food preparation  Hobs          2004-10  157.0\n",
       "                                2004-11  113.0\n",
       "                                2004-12  119.0\n",
       "                  Ovens         2004-10  139.0\n",
       "                                2004-11  172.0\n",
       "                                2004-12  178.0\n",
       "Food preservation Freezers      2004-10  115.0\n",
       "                                2004-11  121.0\n",
       "                                2004-12  137.0\n",
       "                  Fridges       2004-10   59.0\n",
       "                                2004-11  151.0\n",
       "                                2004-12  173.0"
      ]
     },
     "execution_count": 27,
     "metadata": {},
     "output_type": "execute_result"
    }
   ],
   "source": [
    "# split y in train/test\n",
    "# note that this is hierarchical,\n",
    "# so we either do arcane pandas magic or use a splitter...\n",
    "from sktime.forecasting.model_selection import ExpandingGreedySplitter\n",
    "\n",
    "splitter = ExpandingGreedySplitter(3, folds=1)\n",
    "\n",
    "y_train, y_test = next(splitter.split_series(y))\n",
    "\n",
    "y_test"
   ]
  },
  {
   "cell_type": "code",
   "execution_count": 28,
   "id": "969baa8a",
   "metadata": {},
   "outputs": [],
   "source": [
    "# get some predictions now\n",
    "fh = [1, 2, 3]\n",
    "\n",
    "forecaster = NaiveForecaster(strategy=\"last\")\n",
    "\n",
    "forecaster.fit(y_train, fh=fh)\n",
    "y_pred = forecaster.predict()  # predictions"
   ]
  },
  {
   "cell_type": "code",
   "execution_count": 29,
   "id": "076f7321",
   "metadata": {},
   "outputs": [
    {
     "data": {
      "text/plain": [
       "0.24986182525848374"
      ]
     },
     "execution_count": 29,
     "metadata": {},
     "output_type": "execute_result"
    }
   ],
   "source": [
    "# 2. specify the metric\n",
    "from sktime.performance_metrics.forecasting import MeanAbsolutePercentageError\n",
    "\n",
    "smape_loss = MeanAbsolutePercentageError(symmetric=True)\n",
    "\n",
    "# 3. evaluate the metric\n",
    "smape_loss(y_test, y_pred)"
   ]
  },
  {
   "cell_type": "markdown",
   "id": "ada83ba5",
   "metadata": {},
   "source": [
    "this has aggregated over hierarchy levels, by arithmetic mean"
   ]
  },
  {
   "cell_type": "markdown",
   "id": "88fa20fa",
   "metadata": {},
   "source": [
    "hierarchy level (row index level) averaging is controlled by the `multilevel` arg.\n",
    "\n",
    "`\"raw_values\"` prevents averaging, `\"uniform_average\"` computes arithmetic mean.\n",
    "\n",
    "example without hierarchy averaging:"
   ]
  },
  {
   "cell_type": "code",
   "execution_count": 30,
   "id": "e1cfd9ab",
   "metadata": {},
   "outputs": [
    {
     "data": {
      "text/html": [
       "<div>\n",
       "<style scoped>\n",
       "    .dataframe tbody tr th:only-of-type {\n",
       "        vertical-align: middle;\n",
       "    }\n",
       "\n",
       "    .dataframe tbody tr th {\n",
       "        vertical-align: top;\n",
       "    }\n",
       "\n",
       "    .dataframe thead th {\n",
       "        text-align: right;\n",
       "    }\n",
       "</style>\n",
       "<table border=\"1\" class=\"dataframe\">\n",
       "  <thead>\n",
       "    <tr style=\"text-align: right;\">\n",
       "      <th></th>\n",
       "      <th></th>\n",
       "      <th>MeanAbsolutePercentageError</th>\n",
       "    </tr>\n",
       "  </thead>\n",
       "  <tbody>\n",
       "    <tr>\n",
       "      <th rowspan=\"2\" valign=\"top\">Food preparation</th>\n",
       "      <th>Hobs</th>\n",
       "      <td>0.177069</td>\n",
       "    </tr>\n",
       "    <tr>\n",
       "      <th>Ovens</th>\n",
       "      <td>0.120988</td>\n",
       "    </tr>\n",
       "    <tr>\n",
       "      <th rowspan=\"2\" valign=\"top\">Food preservation</th>\n",
       "      <th>Freezers</th>\n",
       "      <td>0.175142</td>\n",
       "    </tr>\n",
       "    <tr>\n",
       "      <th>Fridges</th>\n",
       "      <td>0.526248</td>\n",
       "    </tr>\n",
       "  </tbody>\n",
       "</table>\n",
       "</div>"
      ],
      "text/plain": [
       "                            MeanAbsolutePercentageError\n",
       "Food preparation  Hobs                         0.177069\n",
       "                  Ovens                        0.120988\n",
       "Food preservation Freezers                     0.175142\n",
       "                  Fridges                      0.526248"
      ]
     },
     "execution_count": 30,
     "metadata": {},
     "output_type": "execute_result"
    }
   ],
   "source": [
    "# 2. specify the metric\n",
    "from sktime.performance_metrics.forecasting import MeanAbsolutePercentageError as MAPE\n",
    "\n",
    "smape_loss_by_level = MAPE(symmetric=True, multilevel=\"raw_values\")\n",
    "\n",
    "# 3. evaluate the metric\n",
    "smape_loss_by_level(y_test, y_pred)"
   ]
  },
  {
   "cell_type": "markdown",
   "id": "e81d3e14",
   "metadata": {},
   "source": [
    "this can be combined with the other choices of averaging (or not):"
   ]
  },
  {
   "cell_type": "code",
   "execution_count": 31,
   "id": "ae9219f2",
   "metadata": {},
   "outputs": [
    {
     "data": {
      "text/html": [
       "<div>\n",
       "<style scoped>\n",
       "    .dataframe tbody tr th:only-of-type {\n",
       "        vertical-align: middle;\n",
       "    }\n",
       "\n",
       "    .dataframe tbody tr th {\n",
       "        vertical-align: top;\n",
       "    }\n",
       "\n",
       "    .dataframe thead th {\n",
       "        text-align: right;\n",
       "    }\n",
       "</style>\n",
       "<table border=\"1\" class=\"dataframe\">\n",
       "  <thead>\n",
       "    <tr style=\"text-align: right;\">\n",
       "      <th></th>\n",
       "      <th></th>\n",
       "      <th></th>\n",
       "      <th>Sales</th>\n",
       "    </tr>\n",
       "    <tr>\n",
       "      <th>Product line</th>\n",
       "      <th>Product group</th>\n",
       "      <th>Date</th>\n",
       "      <th></th>\n",
       "    </tr>\n",
       "  </thead>\n",
       "  <tbody>\n",
       "    <tr>\n",
       "      <th rowspan=\"6\" valign=\"top\">Food preparation</th>\n",
       "      <th rowspan=\"3\" valign=\"top\">Hobs</th>\n",
       "      <th>2004-10</th>\n",
       "      <td>0.072607</td>\n",
       "    </tr>\n",
       "    <tr>\n",
       "      <th>2004-11</th>\n",
       "      <td>0.254826</td>\n",
       "    </tr>\n",
       "    <tr>\n",
       "      <th>2004-12</th>\n",
       "      <td>0.203774</td>\n",
       "    </tr>\n",
       "    <tr>\n",
       "      <th rowspan=\"3\" valign=\"top\">Ovens</th>\n",
       "      <th>2004-10</th>\n",
       "      <td>0.273292</td>\n",
       "    </tr>\n",
       "    <tr>\n",
       "      <th>2004-11</th>\n",
       "      <td>0.061972</td>\n",
       "    </tr>\n",
       "    <tr>\n",
       "      <th>2004-12</th>\n",
       "      <td>0.027701</td>\n",
       "    </tr>\n",
       "    <tr>\n",
       "      <th rowspan=\"6\" valign=\"top\">Food preservation</th>\n",
       "      <th rowspan=\"3\" valign=\"top\">Freezers</th>\n",
       "      <th>2004-10</th>\n",
       "      <td>0.100457</td>\n",
       "    </tr>\n",
       "    <tr>\n",
       "      <th>2004-11</th>\n",
       "      <td>0.151111</td>\n",
       "    </tr>\n",
       "    <tr>\n",
       "      <th>2004-12</th>\n",
       "      <td>0.273859</td>\n",
       "    </tr>\n",
       "    <tr>\n",
       "      <th rowspan=\"3\" valign=\"top\">Fridges</th>\n",
       "      <th>2004-10</th>\n",
       "      <td>1.106061</td>\n",
       "    </tr>\n",
       "    <tr>\n",
       "      <th>2004-11</th>\n",
       "      <td>0.303371</td>\n",
       "    </tr>\n",
       "    <tr>\n",
       "      <th>2004-12</th>\n",
       "      <td>0.169312</td>\n",
       "    </tr>\n",
       "  </tbody>\n",
       "</table>\n",
       "</div>"
      ],
      "text/plain": [
       "                                            Sales\n",
       "Product line      Product group Date             \n",
       "Food preparation  Hobs          2004-10  0.072607\n",
       "                                2004-11  0.254826\n",
       "                                2004-12  0.203774\n",
       "                  Ovens         2004-10  0.273292\n",
       "                                2004-11  0.061972\n",
       "                                2004-12  0.027701\n",
       "Food preservation Freezers      2004-10  0.100457\n",
       "                                2004-11  0.151111\n",
       "                                2004-12  0.273859\n",
       "                  Fridges       2004-10  1.106061\n",
       "                                2004-11  0.303371\n",
       "                                2004-12  0.169312"
      ]
     },
     "execution_count": 31,
     "metadata": {},
     "output_type": "execute_result"
    }
   ],
   "source": [
    "smape_loss_by_level_and_variable = MAPE(\n",
    "    symmetric=True, multilevel=\"raw_values\", multioutput=\"raw_values\"\n",
    ")\n",
    "\n",
    "smape_loss_by_level_and_variable.evaluate_by_index(y_test, y_pred)"
   ]
  },
  {
   "cell_type": "markdown",
   "id": "11c5a27d",
   "metadata": {
    "collapsed": false
   },
   "source": [
    "### 5.2.3 Metrics for Probabilistic Forecasts"
   ]
  },
  {
   "cell_type": "markdown",
   "id": "d7420ce3",
   "metadata": {},
   "source": [
    "General usage pattern same as for point prediction metrics:\n",
    "\n",
    "1. get some actuals and forecasts\n",
    "2. specify the metric - similar to estimator specs\n",
    "3. plug the actuals and forecasts into metric to get metric values\n",
    "\n",
    "*but*: need to use dedicated metric for probabilistic forecasts\n",
    "\n",
    "* i.e., match metric with type of forecast!"
   ]
  },
  {
   "cell_type": "markdown",
   "id": "bac367dc",
   "metadata": {},
   "source": [
    "Recall methods available for all probabilistic forecasters:\n",
    "\n",
    "- `predict_interval` produces interval forecasts.\n",
    "  Argument `coverage` (nominal interval coverage) must be provided.\n",
    "- `predict_quantiles` produces quantile forecasts.\n",
    "  Argument `alpha` (quantile values) must be provided.\n",
    "- `predict_var` produces variance forecasts. Same args as `predict`.\n",
    "- `predict_proba` produces full distributional forecasts. Same args as `predict`.\n",
    "\n",
    "| Name | param | prediction/estimate of | `sktime` |\n",
    "| ---- | ----- | ---------------------- | -------- |\n",
    "| point forecast | | conditional expectation $\\mathbb{E}[y'\\|y]$ | `predict` |\n",
    "| variance forecast | | conditional variance $Var[y'\\|y]$ | `predict_var` |\n",
    "| quantile forecast | $\\alpha\\in (0,1)$ | $\\alpha$-quantile of $y'\\|y$ | `predict_quantiles` |\n",
    "| interval forecast | $c\\in (0,1)$| $[a,b]$ s.t. $P(a\\le y' \\le b\\| y) = c$ | `predict_interval` |\n",
    "| distribution forecast | | the law/distribution of $y'\\|y$ | `predict_proba` |\n",
    "\n",
    "where $y'$ is the forecast (considered a random variable) and $y$ is the observed history"
   ]
  },
  {
   "cell_type": "markdown",
   "id": "2281d9f9",
   "metadata": {},
   "source": [
    "let's produce some probabilistic forecasts!"
   ]
  },
  {
   "cell_type": "code",
   "execution_count": 32,
   "id": "5c37c78d",
   "metadata": {},
   "outputs": [],
   "source": [
    "from sktime.datasets import load_shampoo_sales\n",
    "from sktime.forecasting.ets import AutoETS\n",
    "\n",
    "y = load_shampoo_sales()\n",
    "y_train = y.iloc[:-4]\n",
    "y_test = y.iloc[-4:]\n",
    "\n",
    "forecaster = AutoETS(auto=True)\n",
    "fh = [1, 2, 3, 4]\n",
    "\n",
    "forecaster.fit(y_train, fh=fh)\n",
    "\n",
    "# use any of the probabilistic methods, we have seen this\n",
    "y_pred_int = forecaster.predict_interval(coverage=0.95)\n",
    "y_pred_q = forecaster.predict_quantiles(alpha=[0.05, 0.95])\n",
    "y_pred_proba = forecaster.predict_proba()"
   ]
  },
  {
   "cell_type": "markdown",
   "id": "a4c78e5e",
   "metadata": {},
   "source": [
    "these now all have their own output format:"
   ]
  },
  {
   "cell_type": "code",
   "execution_count": 33,
   "id": "f7ca28eb",
   "metadata": {},
   "outputs": [
    {
     "data": {
      "text/html": [
       "<div>\n",
       "<style scoped>\n",
       "    .dataframe tbody tr th:only-of-type {\n",
       "        vertical-align: middle;\n",
       "    }\n",
       "\n",
       "    .dataframe tbody tr th {\n",
       "        vertical-align: top;\n",
       "    }\n",
       "\n",
       "    .dataframe thead tr th {\n",
       "        text-align: left;\n",
       "    }\n",
       "</style>\n",
       "<table border=\"1\" class=\"dataframe\">\n",
       "  <thead>\n",
       "    <tr>\n",
       "      <th></th>\n",
       "      <th colspan=\"2\" halign=\"left\">Number of shampoo sales</th>\n",
       "    </tr>\n",
       "    <tr>\n",
       "      <th></th>\n",
       "      <th colspan=\"2\" halign=\"left\">0.95</th>\n",
       "    </tr>\n",
       "    <tr>\n",
       "      <th></th>\n",
       "      <th>lower</th>\n",
       "      <th>upper</th>\n",
       "    </tr>\n",
       "  </thead>\n",
       "  <tbody>\n",
       "    <tr>\n",
       "      <th>1993-09</th>\n",
       "      <td>389.650236</td>\n",
       "      <td>630.743131</td>\n",
       "    </tr>\n",
       "    <tr>\n",
       "      <th>1993-10</th>\n",
       "      <td>409.429859</td>\n",
       "      <td>651.972595</td>\n",
       "    </tr>\n",
       "    <tr>\n",
       "      <th>1993-11</th>\n",
       "      <td>428.319020</td>\n",
       "      <td>674.092522</td>\n",
       "    </tr>\n",
       "    <tr>\n",
       "      <th>1993-12</th>\n",
       "      <td>446.003062</td>\n",
       "      <td>697.417568</td>\n",
       "    </tr>\n",
       "  </tbody>\n",
       "</table>\n",
       "</div>"
      ],
      "text/plain": [
       "        Number of shampoo sales            \n",
       "                           0.95            \n",
       "                          lower       upper\n",
       "1993-09              389.650236  630.743131\n",
       "1993-10              409.429859  651.972595\n",
       "1993-11              428.319020  674.092522\n",
       "1993-12              446.003062  697.417568"
      ]
     },
     "execution_count": 33,
     "metadata": {},
     "output_type": "execute_result"
    }
   ],
   "source": [
    "y_pred_int  # lower/upper intervals"
   ]
  },
  {
   "cell_type": "code",
   "execution_count": 34,
   "id": "0f521ba7",
   "metadata": {},
   "outputs": [
    {
     "data": {
      "text/html": [
       "<div>\n",
       "<style scoped>\n",
       "    .dataframe tbody tr th:only-of-type {\n",
       "        vertical-align: middle;\n",
       "    }\n",
       "\n",
       "    .dataframe tbody tr th {\n",
       "        vertical-align: top;\n",
       "    }\n",
       "\n",
       "    .dataframe thead tr th {\n",
       "        text-align: left;\n",
       "    }\n",
       "</style>\n",
       "<table border=\"1\" class=\"dataframe\">\n",
       "  <thead>\n",
       "    <tr>\n",
       "      <th></th>\n",
       "      <th colspan=\"2\" halign=\"left\">Number of shampoo sales</th>\n",
       "    </tr>\n",
       "    <tr>\n",
       "      <th></th>\n",
       "      <th>0.05</th>\n",
       "      <th>0.95</th>\n",
       "    </tr>\n",
       "  </thead>\n",
       "  <tbody>\n",
       "    <tr>\n",
       "      <th>1993-09</th>\n",
       "      <td>409.030916</td>\n",
       "      <td>611.362452</td>\n",
       "    </tr>\n",
       "    <tr>\n",
       "      <th>1993-10</th>\n",
       "      <td>428.927087</td>\n",
       "      <td>632.475368</td>\n",
       "    </tr>\n",
       "    <tr>\n",
       "      <th>1993-11</th>\n",
       "      <td>448.075958</td>\n",
       "      <td>654.335584</td>\n",
       "    </tr>\n",
       "    <tr>\n",
       "      <th>1993-12</th>\n",
       "      <td>466.213463</td>\n",
       "      <td>677.207167</td>\n",
       "    </tr>\n",
       "  </tbody>\n",
       "</table>\n",
       "</div>"
      ],
      "text/plain": [
       "        Number of shampoo sales            \n",
       "                           0.05        0.95\n",
       "1993-09              409.030916  611.362452\n",
       "1993-10              428.927087  632.475368\n",
       "1993-11              448.075958  654.335584\n",
       "1993-12              466.213463  677.207167"
      ]
     },
     "execution_count": 34,
     "metadata": {},
     "output_type": "execute_result"
    }
   ],
   "source": [
    "y_pred_q  # quantiles"
   ]
  },
  {
   "cell_type": "code",
   "execution_count": 35,
   "id": "70576925",
   "metadata": {},
   "outputs": [
    {
     "data": {
      "text/html": [
       "<style>#sk-e960ad14-c786-4732-9e1f-4cd296cc1317 {color: black;background-color: white;}#sk-e960ad14-c786-4732-9e1f-4cd296cc1317 pre{padding: 0;}#sk-e960ad14-c786-4732-9e1f-4cd296cc1317 div.sk-toggleable {background-color: white;}#sk-e960ad14-c786-4732-9e1f-4cd296cc1317 label.sk-toggleable__label {cursor: pointer;display: block;width: 100%;margin-bottom: 0;padding: 0.3em;box-sizing: border-box;text-align: center;}#sk-e960ad14-c786-4732-9e1f-4cd296cc1317 label.sk-toggleable__label-arrow:before {content: \"▸\";float: left;margin-right: 0.25em;color: #696969;}#sk-e960ad14-c786-4732-9e1f-4cd296cc1317 label.sk-toggleable__label-arrow:hover:before {color: black;}#sk-e960ad14-c786-4732-9e1f-4cd296cc1317 div.sk-estimator:hover label.sk-toggleable__label-arrow:before {color: black;}#sk-e960ad14-c786-4732-9e1f-4cd296cc1317 div.sk-toggleable__content {max-height: 0;max-width: 0;overflow: hidden;text-align: left;background-color: #f0f8ff;}#sk-e960ad14-c786-4732-9e1f-4cd296cc1317 div.sk-toggleable__content pre {margin: 0.2em;color: black;border-radius: 0.25em;background-color: #f0f8ff;}#sk-e960ad14-c786-4732-9e1f-4cd296cc1317 input.sk-toggleable__control:checked~div.sk-toggleable__content {max-height: 200px;max-width: 100%;overflow: auto;}#sk-e960ad14-c786-4732-9e1f-4cd296cc1317 input.sk-toggleable__control:checked~label.sk-toggleable__label-arrow:before {content: \"▾\";}#sk-e960ad14-c786-4732-9e1f-4cd296cc1317 div.sk-estimator input.sk-toggleable__control:checked~label.sk-toggleable__label {background-color: #d4ebff;}#sk-e960ad14-c786-4732-9e1f-4cd296cc1317 div.sk-label input.sk-toggleable__control:checked~label.sk-toggleable__label {background-color: #d4ebff;}#sk-e960ad14-c786-4732-9e1f-4cd296cc1317 input.sk-hidden--visually {border: 0;clip: rect(1px 1px 1px 1px);clip: rect(1px, 1px, 1px, 1px);height: 1px;margin: -1px;overflow: hidden;padding: 0;position: absolute;width: 1px;}#sk-e960ad14-c786-4732-9e1f-4cd296cc1317 div.sk-estimator {font-family: monospace;background-color: #f0f8ff;border: 1px dotted black;border-radius: 0.25em;box-sizing: border-box;margin-bottom: 0.5em;}#sk-e960ad14-c786-4732-9e1f-4cd296cc1317 div.sk-estimator:hover {background-color: #d4ebff;}#sk-e960ad14-c786-4732-9e1f-4cd296cc1317 div.sk-parallel-item::after {content: \"\";width: 100%;border-bottom: 1px solid gray;flex-grow: 1;}#sk-e960ad14-c786-4732-9e1f-4cd296cc1317 div.sk-label:hover label.sk-toggleable__label {background-color: #d4ebff;}#sk-e960ad14-c786-4732-9e1f-4cd296cc1317 div.sk-serial::before {content: \"\";position: absolute;border-left: 1px solid gray;box-sizing: border-box;top: 2em;bottom: 0;left: 50%;}#sk-e960ad14-c786-4732-9e1f-4cd296cc1317 div.sk-serial {display: flex;flex-direction: column;align-items: center;background-color: white;padding-right: 0.2em;padding-left: 0.2em;}#sk-e960ad14-c786-4732-9e1f-4cd296cc1317 div.sk-item {z-index: 1;}#sk-e960ad14-c786-4732-9e1f-4cd296cc1317 div.sk-parallel {display: flex;align-items: stretch;justify-content: center;background-color: white;}#sk-e960ad14-c786-4732-9e1f-4cd296cc1317 div.sk-parallel::before {content: \"\";position: absolute;border-left: 1px solid gray;box-sizing: border-box;top: 2em;bottom: 0;left: 50%;}#sk-e960ad14-c786-4732-9e1f-4cd296cc1317 div.sk-parallel-item {display: flex;flex-direction: column;position: relative;background-color: white;}#sk-e960ad14-c786-4732-9e1f-4cd296cc1317 div.sk-parallel-item:first-child::after {align-self: flex-end;width: 50%;}#sk-e960ad14-c786-4732-9e1f-4cd296cc1317 div.sk-parallel-item:last-child::after {align-self: flex-start;width: 50%;}#sk-e960ad14-c786-4732-9e1f-4cd296cc1317 div.sk-parallel-item:only-child::after {width: 0;}#sk-e960ad14-c786-4732-9e1f-4cd296cc1317 div.sk-dashed-wrapped {border: 1px dashed gray;margin: 0 0.4em 0.5em 0.4em;box-sizing: border-box;padding-bottom: 0.4em;background-color: white;position: relative;}#sk-e960ad14-c786-4732-9e1f-4cd296cc1317 div.sk-label label {font-family: monospace;font-weight: bold;background-color: white;display: inline-block;line-height: 1.2em;}#sk-e960ad14-c786-4732-9e1f-4cd296cc1317 div.sk-label-container {position: relative;z-index: 2;text-align: center;}#sk-e960ad14-c786-4732-9e1f-4cd296cc1317 div.sk-container {/* jupyter's `normalize.less` sets `[hidden] { display: none; }` but bootstrap.min.css set `[hidden] { display: none !important; }` so we also need the `!important` here to be able to override the default hidden behavior on the sphinx rendered scikit-learn.org. See: https://github.com/scikit-learn/scikit-learn/issues/21755 */display: inline-block !important;position: relative;}#sk-e960ad14-c786-4732-9e1f-4cd296cc1317 div.sk-text-repr-fallback {display: none;}</style><div id='sk-e960ad14-c786-4732-9e1f-4cd296cc1317' class=\"sk-top-container\"><div class=\"sk-text-repr-fallback\"><pre>Normal(columns=Index([&#x27;Number of shampoo sales&#x27;], dtype=&#x27;object&#x27;),\n",
       "       index=PeriodIndex([&#x27;1993-09&#x27;, &#x27;1993-10&#x27;, &#x27;1993-11&#x27;, &#x27;1993-12&#x27;], dtype=&#x27;period[M]&#x27;),\n",
       "       mu=         Number of shampoo sales\n",
       "1993-09               510.196684\n",
       "1993-10               530.701227\n",
       "1993-11               551.205771\n",
       "1993-12               571.710315,\n",
       "       sigma=         Number of shampoo sales\n",
       "1993-09                61.504420\n",
       "1993-10                61.874284\n",
       "1993-11                62.698474\n",
       "1993-12                64.137532)</pre><b>Please rerun this cell to show the HTML repr or trust the notebook.</b></div><div class=\"sk-container\" hidden><div class='sk-item'><div class=\"sk-estimator sk-toggleable\"><input class=\"sk-toggleable__control sk-hidden--visually\" id=UUID('eb6de123-babc-42a7-942b-702efe9fc57d') type=\"checkbox\" checked><label for=UUID('eb6de123-babc-42a7-942b-702efe9fc57d') class='sk-toggleable__label sk-toggleable__label-arrow'>Normal</label><div class=\"sk-toggleable__content\"><pre>Normal(columns=Index([&#x27;Number of shampoo sales&#x27;], dtype=&#x27;object&#x27;),\n",
       "       index=PeriodIndex([&#x27;1993-09&#x27;, &#x27;1993-10&#x27;, &#x27;1993-11&#x27;, &#x27;1993-12&#x27;], dtype=&#x27;period[M]&#x27;),\n",
       "       mu=         Number of shampoo sales\n",
       "1993-09               510.196684\n",
       "1993-10               530.701227\n",
       "1993-11               551.205771\n",
       "1993-12               571.710315,\n",
       "       sigma=         Number of shampoo sales\n",
       "1993-09                61.504420\n",
       "1993-10                61.874284\n",
       "1993-11                62.698474\n",
       "1993-12                64.137532)</pre></div></div></div></div></div>"
      ],
      "text/plain": [
       "Normal(columns=Index(['Number of shampoo sales'], dtype='object'),\n",
       "       index=PeriodIndex(['1993-09', '1993-10', '1993-11', '1993-12'], dtype='period[M]'),\n",
       "       mu=         Number of shampoo sales\n",
       "1993-09               510.196684\n",
       "1993-10               530.701227\n",
       "1993-11               551.205771\n",
       "1993-12               571.710315,\n",
       "       sigma=         Number of shampoo sales\n",
       "1993-09                61.504420\n",
       "1993-10                61.874284\n",
       "1993-11                62.698474\n",
       "1993-12                64.137532)"
      ]
     },
     "execution_count": 35,
     "metadata": {},
     "output_type": "execute_result"
    }
   ],
   "source": [
    "y_pred_proba  # sktime/skpro BaseDistribution"
   ]
  },
  {
   "cell_type": "markdown",
   "id": "98ed59e0",
   "metadata": {},
   "source": [
    "we now need to apply a suitable metric, `metric(y_test, y_pred)`\n",
    "\n",
    "IMPORTANT: sequence matters, `y_test` first; `y_pred` has very different type!"
   ]
  },
  {
   "cell_type": "code",
   "execution_count": 36,
   "id": "e3292d66",
   "metadata": {},
   "outputs": [
    {
     "data": {
      "text/plain": [
       "59.28763218963754"
      ]
     },
     "execution_count": 36,
     "metadata": {},
     "output_type": "execute_result"
    }
   ],
   "source": [
    "# 2. specify metric\n",
    "# CRPS = continuous ranked probability score, for distribution predictions\n",
    "from sktime.performance_metrics.forecasting.probabilistic import CRPS\n",
    "\n",
    "crps = CRPS()\n",
    "\n",
    "# 3. evaluate metric\n",
    "crps(y_test, y_pred_proba)"
   ]
  },
  {
   "cell_type": "markdown",
   "id": "fecc66d8",
   "metadata": {},
   "source": [
    "for averaging, same syntax as for point prediction metrics:\n",
    "\n",
    "* `multioutput` for averaging over variables or not, via `multioutput=\"raw_values\"`\n",
    "* `multilevel` for averaging over hierarchy levels or not\n",
    "* `evaluate_by_index` to return the loss by time index value (raw or pseudo-values)"
   ]
  },
  {
   "cell_type": "code",
   "execution_count": 37,
   "id": "37d9a219",
   "metadata": {},
   "outputs": [
    {
     "data": {
      "text/html": [
       "<div>\n",
       "<style scoped>\n",
       "    .dataframe tbody tr th:only-of-type {\n",
       "        vertical-align: middle;\n",
       "    }\n",
       "\n",
       "    .dataframe tbody tr th {\n",
       "        vertical-align: top;\n",
       "    }\n",
       "\n",
       "    .dataframe thead th {\n",
       "        text-align: right;\n",
       "    }\n",
       "</style>\n",
       "<table border=\"1\" class=\"dataframe\">\n",
       "  <thead>\n",
       "    <tr style=\"text-align: right;\">\n",
       "      <th></th>\n",
       "      <th>Number of shampoo sales</th>\n",
       "    </tr>\n",
       "  </thead>\n",
       "  <tbody>\n",
       "    <tr>\n",
       "      <th>1993-09</th>\n",
       "      <td>137.198896</td>\n",
       "    </tr>\n",
       "    <tr>\n",
       "      <th>1993-10</th>\n",
       "      <td>33.026107</td>\n",
       "    </tr>\n",
       "    <tr>\n",
       "      <th>1993-11</th>\n",
       "      <td>20.306795</td>\n",
       "    </tr>\n",
       "    <tr>\n",
       "      <th>1993-12</th>\n",
       "      <td>46.618731</td>\n",
       "    </tr>\n",
       "  </tbody>\n",
       "</table>\n",
       "</div>"
      ],
      "text/plain": [
       "         Number of shampoo sales\n",
       "1993-09               137.198896\n",
       "1993-10                33.026107\n",
       "1993-11                20.306795\n",
       "1993-12                46.618731"
      ]
     },
     "execution_count": 37,
     "metadata": {},
     "output_type": "execute_result"
    }
   ],
   "source": [
    "# no averaging over time points, variables\n",
    "from sktime.performance_metrics.forecasting.probabilistic import CRPS\n",
    "\n",
    "crps_no_avg = CRPS(multioutput=\"raw_values\")\n",
    "\n",
    "crps_no_avg.evaluate_by_index(y_test, y_pred_proba)"
   ]
  },
  {
   "cell_type": "markdown",
   "id": "3716cc08",
   "metadata": {},
   "source": [
    "there are a lot of metrics...\n",
    "\n",
    "how do we find a metric that fits the prediction type?"
   ]
  },
  {
   "cell_type": "markdown",
   "id": "febe0962",
   "metadata": {},
   "source": [
    "answer: metrics are tagged\n",
    "\n",
    "important tag: `scitype:y_pred`\n",
    "\n",
    "* `\"pred_proba\"` - distributional, can applied to distributions, `predict_proba` output\n",
    "* `\"pred_quantiles\"` - quantile forecast metric, can be applied to quantile predictions, interval predictions, distributional predictions\n",
    "    * applicable to `predict_quantiles`, `predict_interval`, `predict_proba` outputs\n",
    "* `\"pred_interval\"` - interval forecast metric, can be applied to interval predictions, distributional predictions\n",
    "    * applicable to `predict_interval`, `predict_proba` outputs"
   ]
  },
  {
   "cell_type": "code",
   "execution_count": 38,
   "id": "ba74be29",
   "metadata": {},
   "outputs": [
    {
     "data": {
      "text/plain": [
       "{'requires-y-train': False,\n",
       " 'requires-y-pred-benchmark': False,\n",
       " 'univariate-only': False,\n",
       " 'lower_is_better': True,\n",
       " 'inner_implements_multilevel': False,\n",
       " 'reserved_params': ['multioutput', 'score_average'],\n",
       " 'scitype:y_pred': 'pred_proba'}"
      ]
     },
     "execution_count": 38,
     "metadata": {},
     "output_type": "execute_result"
    }
   ],
   "source": [
    "crps.get_tags()"
   ]
  },
  {
   "cell_type": "markdown",
   "id": "0a1c2dfd",
   "metadata": {},
   "source": [
    "listing metrics with the tag, filtering for probabilistic tags:\n",
    "\n",
    "(let's try to find a quantile forecast metric!)"
   ]
  },
  {
   "cell_type": "code",
   "execution_count": 39,
   "id": "aea65267",
   "metadata": {},
   "outputs": [
    {
     "data": {
      "text/html": [
       "<div>\n",
       "<style scoped>\n",
       "    .dataframe tbody tr th:only-of-type {\n",
       "        vertical-align: middle;\n",
       "    }\n",
       "\n",
       "    .dataframe tbody tr th {\n",
       "        vertical-align: top;\n",
       "    }\n",
       "\n",
       "    .dataframe thead th {\n",
       "        text-align: right;\n",
       "    }\n",
       "</style>\n",
       "<table border=\"1\" class=\"dataframe\">\n",
       "  <thead>\n",
       "    <tr style=\"text-align: right;\">\n",
       "      <th></th>\n",
       "      <th>name</th>\n",
       "      <th>object</th>\n",
       "      <th>scitype:y_pred</th>\n",
       "    </tr>\n",
       "  </thead>\n",
       "  <tbody>\n",
       "    <tr>\n",
       "      <th>0</th>\n",
       "      <td>CRPS</td>\n",
       "      <td>&lt;class 'sktime.performance_metrics.forecasting...</td>\n",
       "      <td>pred_proba</td>\n",
       "    </tr>\n",
       "    <tr>\n",
       "      <th>1</th>\n",
       "      <td>ConstraintViolation</td>\n",
       "      <td>&lt;class 'sktime.performance_metrics.forecasting...</td>\n",
       "      <td>pred_interval</td>\n",
       "    </tr>\n",
       "    <tr>\n",
       "      <th>2</th>\n",
       "      <td>EmpiricalCoverage</td>\n",
       "      <td>&lt;class 'sktime.performance_metrics.forecasting...</td>\n",
       "      <td>pred_interval</td>\n",
       "    </tr>\n",
       "    <tr>\n",
       "      <th>3</th>\n",
       "      <td>LogLoss</td>\n",
       "      <td>&lt;class 'sktime.performance_metrics.forecasting...</td>\n",
       "      <td>pred_proba</td>\n",
       "    </tr>\n",
       "    <tr>\n",
       "      <th>4</th>\n",
       "      <td>PinballLoss</td>\n",
       "      <td>&lt;class 'sktime.performance_metrics.forecasting...</td>\n",
       "      <td>pred_quantiles</td>\n",
       "    </tr>\n",
       "    <tr>\n",
       "      <th>5</th>\n",
       "      <td>SquaredDistrLoss</td>\n",
       "      <td>&lt;class 'sktime.performance_metrics.forecasting...</td>\n",
       "      <td>pred_proba</td>\n",
       "    </tr>\n",
       "  </tbody>\n",
       "</table>\n",
       "</div>"
      ],
      "text/plain": [
       "                  name                                             object  \\\n",
       "0                 CRPS  <class 'sktime.performance_metrics.forecasting...   \n",
       "1  ConstraintViolation  <class 'sktime.performance_metrics.forecasting...   \n",
       "2    EmpiricalCoverage  <class 'sktime.performance_metrics.forecasting...   \n",
       "3              LogLoss  <class 'sktime.performance_metrics.forecasting...   \n",
       "4          PinballLoss  <class 'sktime.performance_metrics.forecasting...   \n",
       "5     SquaredDistrLoss  <class 'sktime.performance_metrics.forecasting...   \n",
       "\n",
       "   scitype:y_pred  \n",
       "0      pred_proba  \n",
       "1   pred_interval  \n",
       "2   pred_interval  \n",
       "3      pred_proba  \n",
       "4  pred_quantiles  \n",
       "5      pred_proba  "
      ]
     },
     "execution_count": 39,
     "metadata": {},
     "output_type": "execute_result"
    }
   ],
   "source": [
    "from sktime.registry import all_estimators\n",
    "\n",
    "proba_tag_values = [\"pred_proba\", \"pred_interval\", \"pred_quantiles\"]\n",
    "all_estimators(\n",
    "    \"metric\",\n",
    "    as_dataframe=True,\n",
    "    filter_tags={\"scitype:y_pred\": proba_tag_values},\n",
    "    return_tags=\"scitype:y_pred\",\n",
    ")"
   ]
  },
  {
   "cell_type": "markdown",
   "id": "c25f982c",
   "metadata": {},
   "source": [
    "`PinballLoss` is a quantile forecast metric:"
   ]
  },
  {
   "cell_type": "code",
   "execution_count": 40,
   "id": "f77c1f78",
   "metadata": {},
   "outputs": [
    {
     "data": {
      "text/plain": [
       "13.974275714765097"
      ]
     },
     "execution_count": 40,
     "metadata": {},
     "output_type": "execute_result"
    }
   ],
   "source": [
    "from sktime.performance_metrics.forecasting.probabilistic import PinballLoss\n",
    "\n",
    "pinball_loss = PinballLoss()\n",
    "\n",
    "pinball_loss(y_test, y_pred_q)"
   ]
  },
  {
   "cell_type": "markdown",
   "id": "11849ad7",
   "metadata": {},
   "source": [
    "### 5.2.4 Time series splitters\n",
    "\n",
    "Tuning and evaluation uses data splitter schemas, e.g., expanding window splitter.\n",
    "\n",
    "`sktime` encodes data splitting schemas as objects of `\"splitter\"` type. Examples:\n",
    "\n",
    "- `SingleWindowSplitter`, single train-test-split\n",
    "- `SlidingWindowSplitter`, sliding window train set, followed by test set\n",
    "- `ExpandingWindowSplitter`, expanding window test set, followed by test set\n",
    "- `ExpandingGreedySplitter`, slices test set off from the end, rest is test set"
   ]
  },
  {
   "cell_type": "code",
   "execution_count": 41,
   "id": "6f72e270",
   "metadata": {},
   "outputs": [
    {
     "data": {
      "image/png": "[encoded data removed]",
      "text/plain": [
       "<Figure size 1600x400 with 1 Axes>"
      ]
     },
     "metadata": {},
     "output_type": "display_data"
    }
   ],
   "source": [
    "from sktime.datasets import load_shampoo_sales\n",
    "from sktime.forecasting.model_selection import temporal_train_test_split\n",
    "\n",
    "y = load_shampoo_sales()\n",
    "y_train, y_test = temporal_train_test_split(y=y, test_size=6)\n",
    "plot_series(y_train, y_test, labels=[\"y_train\", \"y_test\"]);"
   ]
  },
  {
   "cell_type": "code",
   "execution_count": 42,
   "id": "540960b6",
   "metadata": {},
   "outputs": [],
   "source": [
    "from sktime.forecasting.base import ForecastingHorizon\n",
    "from sktime.forecasting.model_selection import (\n",
    "    ExpandingGreedySplitter,\n",
    "    ExpandingWindowSplitter,\n",
    "    SlidingWindowSplitter,\n",
    "    SingleWindowSplitter,\n",
    ")\n",
    "from sktime.utils.plotting import plot_windows\n",
    "\n",
    "fh = ForecastingHorizon(y_test.index, is_relative=False).to_relative(\n",
    "    cutoff=y_train.index[-1]\n",
    ")"
   ]
  },
  {
   "cell_type": "code",
   "execution_count": 43,
   "id": "02e69831",
   "metadata": {},
   "outputs": [
    {
     "data": {
      "image/png": "[encoded data removed]",
      "text/plain": [
       "<Figure size 1600x480 with 1 Axes>"
      ]
     },
     "metadata": {},
     "output_type": "display_data"
    }
   ],
   "source": [
    "cv = SingleWindowSplitter(fh=fh, window_length=len(y_train) - 6)\n",
    "plot_windows(cv=cv, y=y_train)"
   ]
  },
  {
   "cell_type": "code",
   "execution_count": 44,
   "id": "0c658bf4",
   "metadata": {},
   "outputs": [
    {
     "data": {
      "image/png": "[encoded data removed]",
      "text/plain": [
       "<Figure size 1600x480 with 1 Axes>"
      ]
     },
     "metadata": {},
     "output_type": "display_data"
    }
   ],
   "source": [
    "cv = SlidingWindowSplitter(fh=fh, window_length=12, step_length=1)\n",
    "plot_windows(cv=cv, y=y_train)"
   ]
  },
  {
   "cell_type": "code",
   "execution_count": 45,
   "id": "32f4bdad",
   "metadata": {},
   "outputs": [
    {
     "data": {
      "image/png": "[encoded data removed]",
      "text/plain": [
       "<Figure size 1600x480 with 1 Axes>"
      ]
     },
     "metadata": {},
     "output_type": "display_data"
    }
   ],
   "source": [
    "cv = ExpandingGreedySplitter(test_size=4)\n",
    "plot_windows(cv=cv, y=y_train)"
   ]
  },
  {
   "cell_type": "code",
   "execution_count": 46,
   "id": "dba76da9",
   "metadata": {},
   "outputs": [
    {
     "data": {
      "image/png": "[encoded data removed]",
      "text/plain": [
       "<Figure size 1600x480 with 1 Axes>"
      ]
     },
     "metadata": {},
     "output_type": "display_data"
    }
   ],
   "source": [
    "cv = ExpandingWindowSplitter(fh=fh, initial_window=12, step_length=1)\n",
    "plot_windows(cv=cv, y=y_train)"
   ]
  },
  {
   "cell_type": "code",
   "execution_count": 47,
   "id": "93d6ced2",
   "metadata": {},
   "outputs": [
    {
     "data": {
      "text/plain": [
       "13"
      ]
     },
     "execution_count": 47,
     "metadata": {},
     "output_type": "execute_result"
    }
   ],
   "source": [
    "# get number of total splits (folds)\n",
    "cv.get_n_splits(y=y_train)"
   ]
  },
  {
   "cell_type": "markdown",
   "id": "719a15e3",
   "metadata": {},
   "source": [
    "to list available splitters, use `all_estimators` with `\"splitter\"` type"
   ]
  },
  {
   "cell_type": "code",
   "execution_count": 48,
   "id": "b0d0fda8",
   "metadata": {},
   "outputs": [
    {
     "data": {
      "text/html": [
       "<div>\n",
       "<style scoped>\n",
       "    .dataframe tbody tr th:only-of-type {\n",
       "        vertical-align: middle;\n",
       "    }\n",
       "\n",
       "    .dataframe tbody tr th {\n",
       "        vertical-align: top;\n",
       "    }\n",
       "\n",
       "    .dataframe thead th {\n",
       "        text-align: right;\n",
       "    }\n",
       "</style>\n",
       "<table border=\"1\" class=\"dataframe\">\n",
       "  <thead>\n",
       "    <tr style=\"text-align: right;\">\n",
       "      <th></th>\n",
       "      <th>name</th>\n",
       "      <th>object</th>\n",
       "    </tr>\n",
       "  </thead>\n",
       "  <tbody>\n",
       "    <tr>\n",
       "      <th>0</th>\n",
       "      <td>CutoffSplitter</td>\n",
       "      <td>&lt;class 'sktime.forecasting.model_selection._sp...</td>\n",
       "    </tr>\n",
       "    <tr>\n",
       "      <th>1</th>\n",
       "      <td>ExpandingGreedySplitter</td>\n",
       "      <td>&lt;class 'sktime.forecasting.model_selection._sp...</td>\n",
       "    </tr>\n",
       "    <tr>\n",
       "      <th>2</th>\n",
       "      <td>ExpandingWindowSplitter</td>\n",
       "      <td>&lt;class 'sktime.forecasting.model_selection._sp...</td>\n",
       "    </tr>\n",
       "    <tr>\n",
       "      <th>3</th>\n",
       "      <td>SameLocSplitter</td>\n",
       "      <td>&lt;class 'sktime.forecasting.model_selection._sp...</td>\n",
       "    </tr>\n",
       "    <tr>\n",
       "      <th>4</th>\n",
       "      <td>SingleWindowSplitter</td>\n",
       "      <td>&lt;class 'sktime.forecasting.model_selection._sp...</td>\n",
       "    </tr>\n",
       "    <tr>\n",
       "      <th>5</th>\n",
       "      <td>SlidingWindowSplitter</td>\n",
       "      <td>&lt;class 'sktime.forecasting.model_selection._sp...</td>\n",
       "    </tr>\n",
       "    <tr>\n",
       "      <th>6</th>\n",
       "      <td>TestPlusTrainSplitter</td>\n",
       "      <td>&lt;class 'sktime.forecasting.model_selection._sp...</td>\n",
       "    </tr>\n",
       "  </tbody>\n",
       "</table>\n",
       "</div>"
      ],
      "text/plain": [
       "                      name                                             object\n",
       "0           CutoffSplitter  <class 'sktime.forecasting.model_selection._sp...\n",
       "1  ExpandingGreedySplitter  <class 'sktime.forecasting.model_selection._sp...\n",
       "2  ExpandingWindowSplitter  <class 'sktime.forecasting.model_selection._sp...\n",
       "3          SameLocSplitter  <class 'sktime.forecasting.model_selection._sp...\n",
       "4     SingleWindowSplitter  <class 'sktime.forecasting.model_selection._sp...\n",
       "5    SlidingWindowSplitter  <class 'sktime.forecasting.model_selection._sp...\n",
       "6    TestPlusTrainSplitter  <class 'sktime.forecasting.model_selection._sp..."
      ]
     },
     "execution_count": 48,
     "metadata": {},
     "output_type": "execute_result"
    }
   ],
   "source": [
    "from sktime.registry import all_estimators\n",
    "\n",
    "all_estimators(\"splitter\", as_dataframe=True)"
   ]
  },
  {
   "cell_type": "markdown",
   "id": "924eb4d5",
   "metadata": {},
   "source": [
    "### 5.2.5 Simple evaluation and backtesting"
   ]
  },
  {
   "cell_type": "markdown",
   "id": "5110ffdf",
   "metadata": {},
   "source": [
    "Best practice for model evaluation: backtesting, sliding window\n",
    "\n",
    "(not single split MAPE etc...)\n",
    "\n",
    "how this works:\n",
    "\n",
    "* define backtesting schema using cross-validation splitter\n",
    "* simple workflows: use `evaluate` all-in-one evaluator\n",
    "    * raw evaluates by backtest split, estimator, metric\n",
    "* more advanced: use benchmarking module for experiments, next chapter!"
   ]
  },
  {
   "cell_type": "markdown",
   "id": "224510c0",
   "metadata": {},
   "source": [
    "data splitters (e.g., backtesting schemas) are first-class citizens in `sktime`"
   ]
  },
  {
   "cell_type": "code",
   "execution_count": 49,
   "id": "c08ae4a5",
   "metadata": {},
   "outputs": [
    {
     "data": {
      "image/png": "[encoded data removed]",
      "text/plain": [
       "<Figure size 1600x480 with 1 Axes>"
      ]
     },
     "metadata": {},
     "output_type": "display_data"
    }
   ],
   "source": [
    "from sktime.forecasting.model_selection import ExpandingWindowSplitter\n",
    "from sktime.utils.plotting import plot_windows\n",
    "\n",
    "cv = ExpandingWindowSplitter(initial_window=24, fh=fh, step_length=2)\n",
    "n_folds = cv.get_n_splits(y)\n",
    "plot_windows(cv, y)"
   ]
  },
  {
   "cell_type": "markdown",
   "id": "b567b09d",
   "metadata": {},
   "source": [
    "Let's now run a simple evaluation loop:"
   ]
  },
  {
   "cell_type": "code",
   "execution_count": 50,
   "id": "707030da",
   "metadata": {},
   "outputs": [],
   "source": [
    "# specify the data\n",
    "from sktime.datasets import load_shampoo_sales\n",
    "\n",
    "y = load_shampoo_sales()"
   ]
  },
  {
   "cell_type": "code",
   "execution_count": 51,
   "id": "587317ab",
   "metadata": {},
   "outputs": [],
   "source": [
    "# specify the estimator\n",
    "from sklearn.ensemble import HistGradientBoostingRegressor\n",
    "from sktime.forecasting.compose import make_reduction\n",
    "\n",
    "regressor = HistGradientBoostingRegressor()\n",
    "forecaster = make_reduction(regressor, strategy=\"direct\", window_length=16)"
   ]
  },
  {
   "cell_type": "code",
   "execution_count": 52,
   "id": "87abe89f",
   "metadata": {},
   "outputs": [],
   "source": [
    "# specify evaluation metric\n",
    "from sktime.performance_metrics.forecasting import MeanAbsolutePercentageError\n",
    "\n",
    "smape_loss = MeanAbsolutePercentageError(symmetric=True)"
   ]
  },
  {
   "cell_type": "code",
   "execution_count": 53,
   "id": "15edc5c6",
   "metadata": {},
   "outputs": [
    {
     "data": {
      "text/html": [
       "<div>\n",
       "<style scoped>\n",
       "    .dataframe tbody tr th:only-of-type {\n",
       "        vertical-align: middle;\n",
       "    }\n",
       "\n",
       "    .dataframe tbody tr th {\n",
       "        vertical-align: top;\n",
       "    }\n",
       "\n",
       "    .dataframe thead th {\n",
       "        text-align: right;\n",
       "    }\n",
       "</style>\n",
       "<table border=\"1\" class=\"dataframe\">\n",
       "  <thead>\n",
       "    <tr style=\"text-align: right;\">\n",
       "      <th></th>\n",
       "      <th>test_MeanAbsolutePercentageError</th>\n",
       "      <th>fit_time</th>\n",
       "      <th>pred_time</th>\n",
       "      <th>len_train_window</th>\n",
       "      <th>cutoff</th>\n",
       "    </tr>\n",
       "  </thead>\n",
       "  <tbody>\n",
       "    <tr>\n",
       "      <th>0</th>\n",
       "      <td>0.282254</td>\n",
       "      <td>0.250374</td>\n",
       "      <td>0.021574</td>\n",
       "      <td>24</td>\n",
       "      <td>1992-12</td>\n",
       "    </tr>\n",
       "    <tr>\n",
       "      <th>1</th>\n",
       "      <td>0.298950</td>\n",
       "      <td>0.244031</td>\n",
       "      <td>0.026972</td>\n",
       "      <td>26</td>\n",
       "      <td>1993-02</td>\n",
       "    </tr>\n",
       "    <tr>\n",
       "      <th>2</th>\n",
       "      <td>0.396792</td>\n",
       "      <td>0.479918</td>\n",
       "      <td>0.023325</td>\n",
       "      <td>28</td>\n",
       "      <td>1993-04</td>\n",
       "    </tr>\n",
       "    <tr>\n",
       "      <th>3</th>\n",
       "      <td>0.477489</td>\n",
       "      <td>0.265965</td>\n",
       "      <td>0.024721</td>\n",
       "      <td>30</td>\n",
       "      <td>1993-06</td>\n",
       "    </tr>\n",
       "  </tbody>\n",
       "</table>\n",
       "</div>"
      ],
      "text/plain": [
       "   test_MeanAbsolutePercentageError  fit_time  pred_time  len_train_window  \\\n",
       "0                          0.282254  0.250374   0.021574                24   \n",
       "1                          0.298950  0.244031   0.026972                26   \n",
       "2                          0.396792  0.479918   0.023325                28   \n",
       "3                          0.477489  0.265965   0.024721                30   \n",
       "\n",
       "    cutoff  \n",
       "0  1992-12  \n",
       "1  1993-02  \n",
       "2  1993-04  \n",
       "3  1993-06  "
      ]
     },
     "execution_count": 53,
     "metadata": {},
     "output_type": "execute_result"
    }
   ],
   "source": [
    "from sktime.forecasting.model_evaluation import evaluate\n",
    "\n",
    "forecaster = forecaster.clone()\n",
    "scorers = smape_loss\n",
    "backtest = evaluate(forecaster=forecaster, y=y, cv=cv, scoring=scorers)\n",
    "backtest"
   ]
  },
  {
   "cell_type": "markdown",
   "id": "056fd11a",
   "metadata": {},
   "source": [
    "result is a table with:\n",
    "\n",
    "* rows = index of backtest splits from data splitter, here: expanding window split\n",
    "* aggregated performance metric (over variables, instances, time points)\n",
    "* runtimes for fit and predict\n",
    "* cutoff = most recent time point seen in train in that split"
   ]
  },
  {
   "cell_type": "markdown",
   "id": "cf2699dc",
   "metadata": {},
   "source": [
    "`evaluate` can also:\n",
    "\n",
    "* compute multiple metrics\n",
    "* return data from individual splits"
   ]
  },
  {
   "cell_type": "code",
   "execution_count": 54,
   "id": "8e673808",
   "metadata": {},
   "outputs": [
    {
     "data": {
      "text/html": [
       "<div>\n",
       "<style scoped>\n",
       "    .dataframe tbody tr th:only-of-type {\n",
       "        vertical-align: middle;\n",
       "    }\n",
       "\n",
       "    .dataframe tbody tr th {\n",
       "        vertical-align: top;\n",
       "    }\n",
       "\n",
       "    .dataframe thead th {\n",
       "        text-align: right;\n",
       "    }\n",
       "</style>\n",
       "<table border=\"1\" class=\"dataframe\">\n",
       "  <thead>\n",
       "    <tr style=\"text-align: right;\">\n",
       "      <th></th>\n",
       "      <th>test_MeanAbsolutePercentageError</th>\n",
       "      <th>fit_time</th>\n",
       "      <th>pred_time</th>\n",
       "      <th>len_train_window</th>\n",
       "      <th>cutoff</th>\n",
       "      <th>y_train</th>\n",
       "      <th>y_test</th>\n",
       "      <th>y_pred</th>\n",
       "      <th>test_MeanSquaredError</th>\n",
       "    </tr>\n",
       "  </thead>\n",
       "  <tbody>\n",
       "    <tr>\n",
       "      <th>0</th>\n",
       "      <td>0.282254</td>\n",
       "      <td>0.247490</td>\n",
       "      <td>0.019745</td>\n",
       "      <td>24</td>\n",
       "      <td>1992-12</td>\n",
       "      <td>Period\n",
       "1991-01    266.0\n",
       "1991-02    145.9\n",
       "1991-...</td>\n",
       "      <td>Period\n",
       "1993-01    339.7\n",
       "1993-02    440.4\n",
       "1993-...</td>\n",
       "      <td>1993-01    234.800000\n",
       "1993-02    272.200000\n",
       "19...</td>\n",
       "      <td>104.903940</td>\n",
       "    </tr>\n",
       "    <tr>\n",
       "      <th>1</th>\n",
       "      <td>0.298950</td>\n",
       "      <td>0.243479</td>\n",
       "      <td>0.023854</td>\n",
       "      <td>26</td>\n",
       "      <td>1993-02</td>\n",
       "      <td>Period\n",
       "1991-01    266.0\n",
       "1991-02    145.9\n",
       "1991-...</td>\n",
       "      <td>Period\n",
       "1993-03    315.9\n",
       "1993-04    439.3\n",
       "1993-...</td>\n",
       "      <td>1993-03    259.58\n",
       "1993-04    305.62\n",
       "1993-05   ...</td>\n",
       "      <td>132.568132</td>\n",
       "    </tr>\n",
       "    <tr>\n",
       "      <th>2</th>\n",
       "      <td>0.396792</td>\n",
       "      <td>0.241734</td>\n",
       "      <td>0.020788</td>\n",
       "      <td>28</td>\n",
       "      <td>1993-04</td>\n",
       "      <td>Period\n",
       "1991-01    266.0\n",
       "1991-02    145.9\n",
       "1991-...</td>\n",
       "      <td>Period\n",
       "1993-05    401.3\n",
       "1993-06    437.4\n",
       "1993-...</td>\n",
       "      <td>1993-05    283.428571\n",
       "1993-06    304.985714\n",
       "19...</td>\n",
       "      <td>195.905290</td>\n",
       "    </tr>\n",
       "    <tr>\n",
       "      <th>3</th>\n",
       "      <td>0.477489</td>\n",
       "      <td>0.293742</td>\n",
       "      <td>0.026741</td>\n",
       "      <td>30</td>\n",
       "      <td>1993-06</td>\n",
       "      <td>Period\n",
       "1991-01    266.0\n",
       "1991-02    145.9\n",
       "1991-...</td>\n",
       "      <td>Period\n",
       "1993-07    575.5\n",
       "1993-08    407.6\n",
       "1993-...</td>\n",
       "      <td>1993-07    296.222222\n",
       "1993-08    323.888889\n",
       "19...</td>\n",
       "      <td>240.480380</td>\n",
       "    </tr>\n",
       "  </tbody>\n",
       "</table>\n",
       "</div>"
      ],
      "text/plain": [
       "   test_MeanAbsolutePercentageError  fit_time  pred_time  len_train_window  \\\n",
       "0                          0.282254  0.247490   0.019745                24   \n",
       "1                          0.298950  0.243479   0.023854                26   \n",
       "2                          0.396792  0.241734   0.020788                28   \n",
       "3                          0.477489  0.293742   0.026741                30   \n",
       "\n",
       "    cutoff                                            y_train  \\\n",
       "0  1992-12  Period\n",
       "1991-01    266.0\n",
       "1991-02    145.9\n",
       "1991-...   \n",
       "1  1993-02  Period\n",
       "1991-01    266.0\n",
       "1991-02    145.9\n",
       "1991-...   \n",
       "2  1993-04  Period\n",
       "1991-01    266.0\n",
       "1991-02    145.9\n",
       "1991-...   \n",
       "3  1993-06  Period\n",
       "1991-01    266.0\n",
       "1991-02    145.9\n",
       "1991-...   \n",
       "\n",
       "                                              y_test  \\\n",
       "0  Period\n",
       "1993-01    339.7\n",
       "1993-02    440.4\n",
       "1993-...   \n",
       "1  Period\n",
       "1993-03    315.9\n",
       "1993-04    439.3\n",
       "1993-...   \n",
       "2  Period\n",
       "1993-05    401.3\n",
       "1993-06    437.4\n",
       "1993-...   \n",
       "3  Period\n",
       "1993-07    575.5\n",
       "1993-08    407.6\n",
       "1993-...   \n",
       "\n",
       "                                              y_pred  test_MeanSquaredError  \n",
       "0  1993-01    234.800000\n",
       "1993-02    272.200000\n",
       "19...             104.903940  \n",
       "1  1993-03    259.58\n",
       "1993-04    305.62\n",
       "1993-05   ...             132.568132  \n",
       "2  1993-05    283.428571\n",
       "1993-06    304.985714\n",
       "19...             195.905290  \n",
       "3  1993-07    296.222222\n",
       "1993-08    323.888889\n",
       "19...             240.480380  "
      ]
     },
     "execution_count": 54,
     "metadata": {},
     "output_type": "execute_result"
    }
   ],
   "source": [
    "from sktime.forecasting.model_evaluation import evaluate\n",
    "from sktime.performance_metrics.forecasting import MeanSquaredError\n",
    "\n",
    "# another metric\n",
    "rmse = MeanSquaredError(square_root=True)\n",
    "\n",
    "forecaster = forecaster.clone()\n",
    "scorers = [smape_loss, rmse]\n",
    "backtest = evaluate(forecaster, y=y, cv=cv, scoring=scorers, return_data=True)\n",
    "backtest"
   ]
  },
  {
   "cell_type": "markdown",
   "id": "7103ac7a",
   "metadata": {},
   "source": [
    "## 5.3 Benchmarking - comparing estimator performance\n",
    "\n",
    "the `benchmarking` module allows you to set up experiments to:\n",
    "\n",
    "* compare the performance of one or more algorithms\n",
    "* over one or multiple datasets\n",
    "* against one or multiple performance metrics\n",
    "* for a benchmark configuration defined by temporal resampling scheme\n"
   ]
  },
  {
   "cell_type": "markdown",
   "id": "7819bf93",
   "metadata": {},
   "source": [
    "Benchmarking is very easy to get wrong...\n",
    "\n",
    "see this [2022 research from Princeton](https://reproducible.cs.princeton.edu/)\n",
    "for numerous examples of such mistakes in peer reviewed papers."
   ]
  },
  {
   "cell_type": "markdown",
   "id": "3e1cbe3f",
   "metadata": {},
   "source": [
    "`sktime`'s `benchmarking` module is designed to:\n",
    "\n",
    "* provide a high-level specification language\n",
    "* prevent mistakes by abstracting away \"dangerous\" implementation details\n",
    "* allow reproducible sharing of experiment setups and results\n",
    "\n",
    "Any `sktime` compatible object can be plugged in!\n",
    "\n",
    "* forecasters, transformers in pipelines, etc\n",
    "* performance metrics\n",
    "* cross-validation schemas\n",
    "* datasets in `sktime` compatible formats\n",
    "\n",
    "Use the `sktime` extension templates to add your favourite objects to the experiment!"
   ]
  },
  {
   "cell_type": "markdown",
   "id": "d218875c",
   "metadata": {},
   "source": [
    "advanced forecasting benchmark workflow, using `benchmark` module:"
   ]
  },
  {
   "cell_type": "code",
   "execution_count": 55,
   "id": "c1bd1038",
   "metadata": {},
   "outputs": [],
   "source": [
    "from sktime.benchmarking.forecasting import ForecastingBenchmark\n",
    "from sktime.datasets import load_airline\n",
    "from sktime.forecasting.model_selection import ExpandingWindowSplitter\n",
    "from sktime.forecasting.naive import NaiveForecaster\n",
    "from sktime.performance_metrics.forecasting import MeanSquaredPercentageError"
   ]
  },
  {
   "cell_type": "markdown",
   "id": "d19b19c7",
   "metadata": {},
   "source": [
    "### Instantiate an instance of a benchmark class\n",
    "In this example we are comparing forecasting estimators."
   ]
  },
  {
   "cell_type": "code",
   "execution_count": 56,
   "id": "5ed25ac5",
   "metadata": {},
   "outputs": [],
   "source": [
    "benchmark = ForecastingBenchmark()"
   ]
  },
  {
   "cell_type": "markdown",
   "id": "9bbd5032",
   "metadata": {},
   "source": [
    "### Add competing estimators\n",
    "We add different competing estimators to the benchmark instance. All added estimators will \n",
    "be automatically ran through each added benchmark tasks, and their results compiled."
   ]
  },
  {
   "cell_type": "code",
   "execution_count": 57,
   "id": "d9122963",
   "metadata": {},
   "outputs": [],
   "source": [
    "benchmark.add_estimator(\n",
    "    estimator=NaiveForecaster(strategy=\"mean\", sp=12),\n",
    "    estimator_id=\"NaiveForecaster-mean-v1\",\n",
    ")\n",
    "benchmark.add_estimator(\n",
    "    estimator=NaiveForecaster(strategy=\"last\", sp=12),\n",
    "    estimator_id=\"NaiveForecaster-last-v1\",\n",
    ")"
   ]
  },
  {
   "cell_type": "markdown",
   "id": "30056814",
   "metadata": {},
   "source": [
    "### Add benchmarking tasks\n",
    "These are the prediction/validation tasks over which every estimator will be tested and their results compiled.\n",
    "\n",
    "The exact arguments for a benchmarking task depend on the whether the objective is forecasting, classification, etc.,\n",
    "but generally they are similar. The following are the required arguments for defining a forecasting benchmark task."
   ]
  },
  {
   "cell_type": "markdown",
   "id": "3368d276",
   "metadata": {},
   "source": [
    "#### Specify cross-validation split regime(s)\n",
    "Define cross-validation split regimes, using standard `sktime` objects. "
   ]
  },
  {
   "cell_type": "code",
   "execution_count": 58,
   "id": "812bd976",
   "metadata": {},
   "outputs": [],
   "source": [
    "cv_splitter = ExpandingWindowSplitter(\n",
    "    initial_window=24,\n",
    "    step_length=12,\n",
    "    fh=12,\n",
    ")"
   ]
  },
  {
   "cell_type": "markdown",
   "id": "fa9e2a07",
   "metadata": {},
   "source": [
    "#### Specify performance metric(s)\n",
    "Define performance metrics on which to compare estimators, using standard `sktime` objects."
   ]
  },
  {
   "cell_type": "code",
   "execution_count": 59,
   "id": "8dde063e",
   "metadata": {},
   "outputs": [],
   "source": [
    "scorers = [MeanSquaredPercentageError()]"
   ]
  },
  {
   "cell_type": "markdown",
   "id": "374b66d3",
   "metadata": {},
   "source": [
    "#### Specify dataset loaders\n",
    "Define dataset loaders, which are callables (functions) which should return a dataset. Generally\n",
    "this is a callable which returns a dataframe containing the entire dataset. One can use\n",
    "the `sktime` defined datasets, or define their own. Something as simple as the following\n",
    "example will suffice: \n",
    "```python\n",
    "def my_dataset_loader():\n",
    "    return pd.read_csv(\"path/to/data.csv\")\n",
    "```\n",
    "The datasets will be loaded when running the benchmarking tasks, ran through the cross-validation\n",
    "regime(s) and subsequently the estimators will be tested over the dataset splits."
   ]
  },
  {
   "cell_type": "code",
   "execution_count": 60,
   "id": "d2f0f4f9",
   "metadata": {},
   "outputs": [],
   "source": [
    "dataset_loaders = [load_airline]"
   ]
  },
  {
   "cell_type": "markdown",
   "id": "8499be64",
   "metadata": {},
   "source": [
    "#### Add tasks to the benchmark instance\n",
    "Use the previously defined objects to add tasks to the benchmark instance.\n",
    "Optionally use loops etc. to easily setup multiple benchmark tasks reusing arguments."
   ]
  },
  {
   "cell_type": "code",
   "execution_count": 61,
   "id": "35ae72d8",
   "metadata": {},
   "outputs": [],
   "source": [
    "for dataset_loader in dataset_loaders:\n",
    "    benchmark.add_task(\n",
    "        dataset_loader,\n",
    "        cv_splitter,\n",
    "        scorers,\n",
    "    )"
   ]
  },
  {
   "cell_type": "markdown",
   "id": "401deb16",
   "metadata": {},
   "source": [
    "### Run all task-estimator combinations and store results\n",
    "\n",
    "Note that `run` won't rerun tasks it already has results for, so adding a new\n",
    "estimator and running `run` again will only run tasks for that new estimator."
   ]
  },
  {
   "cell_type": "code",
   "execution_count": 62,
   "id": "5f75a779",
   "metadata": {},
   "outputs": [
    {
     "data": {
      "text/html": [
       "<div>\n",
       "<style scoped>\n",
       "    .dataframe tbody tr th:only-of-type {\n",
       "        vertical-align: middle;\n",
       "    }\n",
       "\n",
       "    .dataframe tbody tr th {\n",
       "        vertical-align: top;\n",
       "    }\n",
       "\n",
       "    .dataframe thead th {\n",
       "        text-align: right;\n",
       "    }\n",
       "</style>\n",
       "<table border=\"1\" class=\"dataframe\">\n",
       "  <thead>\n",
       "    <tr style=\"text-align: right;\">\n",
       "      <th></th>\n",
       "      <th>0</th>\n",
       "      <th>1</th>\n",
       "    </tr>\n",
       "  </thead>\n",
       "  <tbody>\n",
       "    <tr>\n",
       "      <th>validation_id</th>\n",
       "      <td>[dataset=load_airline]_[cv_splitter=ExpandingW...</td>\n",
       "      <td>[dataset=load_airline]_[cv_splitter=ExpandingW...</td>\n",
       "    </tr>\n",
       "    <tr>\n",
       "      <th>model_id</th>\n",
       "      <td>NaiveForecaster-last-v1</td>\n",
       "      <td>NaiveForecaster-mean-v1</td>\n",
       "    </tr>\n",
       "    <tr>\n",
       "      <th>runtime_secs</th>\n",
       "      <td>0.531824</td>\n",
       "      <td>0.190186</td>\n",
       "    </tr>\n",
       "    <tr>\n",
       "      <th>MeanSquaredPercentageError_fold_0_test</th>\n",
       "      <td>0.024532</td>\n",
       "      <td>0.049681</td>\n",
       "    </tr>\n",
       "    <tr>\n",
       "      <th>MeanSquaredPercentageError_fold_1_test</th>\n",
       "      <td>0.020831</td>\n",
       "      <td>0.0737</td>\n",
       "    </tr>\n",
       "    <tr>\n",
       "      <th>MeanSquaredPercentageError_fold_2_test</th>\n",
       "      <td>0.001213</td>\n",
       "      <td>0.05352</td>\n",
       "    </tr>\n",
       "    <tr>\n",
       "      <th>MeanSquaredPercentageError_fold_3_test</th>\n",
       "      <td>0.01495</td>\n",
       "      <td>0.081063</td>\n",
       "    </tr>\n",
       "    <tr>\n",
       "      <th>MeanSquaredPercentageError_fold_4_test</th>\n",
       "      <td>0.031067</td>\n",
       "      <td>0.138163</td>\n",
       "    </tr>\n",
       "    <tr>\n",
       "      <th>MeanSquaredPercentageError_fold_5_test</th>\n",
       "      <td>0.008373</td>\n",
       "      <td>0.145125</td>\n",
       "    </tr>\n",
       "    <tr>\n",
       "      <th>MeanSquaredPercentageError_fold_6_test</th>\n",
       "      <td>0.007972</td>\n",
       "      <td>0.154337</td>\n",
       "    </tr>\n",
       "    <tr>\n",
       "      <th>MeanSquaredPercentageError_fold_7_test</th>\n",
       "      <td>0.000009</td>\n",
       "      <td>0.123298</td>\n",
       "    </tr>\n",
       "    <tr>\n",
       "      <th>MeanSquaredPercentageError_fold_8_test</th>\n",
       "      <td>0.028191</td>\n",
       "      <td>0.185644</td>\n",
       "    </tr>\n",
       "    <tr>\n",
       "      <th>MeanSquaredPercentageError_fold_9_test</th>\n",
       "      <td>0.003906</td>\n",
       "      <td>0.184654</td>\n",
       "    </tr>\n",
       "    <tr>\n",
       "      <th>MeanSquaredPercentageError_mean</th>\n",
       "      <td>0.014104</td>\n",
       "      <td>0.118918</td>\n",
       "    </tr>\n",
       "    <tr>\n",
       "      <th>MeanSquaredPercentageError_std</th>\n",
       "      <td>0.011451</td>\n",
       "      <td>0.051265</td>\n",
       "    </tr>\n",
       "  </tbody>\n",
       "</table>\n",
       "</div>"
      ],
      "text/plain": [
       "                                                                                        0  \\\n",
       "validation_id                           [dataset=load_airline]_[cv_splitter=ExpandingW...   \n",
       "model_id                                                          NaiveForecaster-last-v1   \n",
       "runtime_secs                                                                     0.531824   \n",
       "MeanSquaredPercentageError_fold_0_test                                           0.024532   \n",
       "MeanSquaredPercentageError_fold_1_test                                           0.020831   \n",
       "MeanSquaredPercentageError_fold_2_test                                           0.001213   \n",
       "MeanSquaredPercentageError_fold_3_test                                            0.01495   \n",
       "MeanSquaredPercentageError_fold_4_test                                           0.031067   \n",
       "MeanSquaredPercentageError_fold_5_test                                           0.008373   \n",
       "MeanSquaredPercentageError_fold_6_test                                           0.007972   \n",
       "MeanSquaredPercentageError_fold_7_test                                           0.000009   \n",
       "MeanSquaredPercentageError_fold_8_test                                           0.028191   \n",
       "MeanSquaredPercentageError_fold_9_test                                           0.003906   \n",
       "MeanSquaredPercentageError_mean                                                  0.014104   \n",
       "MeanSquaredPercentageError_std                                                   0.011451   \n",
       "\n",
       "                                                                                        1  \n",
       "validation_id                           [dataset=load_airline]_[cv_splitter=ExpandingW...  \n",
       "model_id                                                          NaiveForecaster-mean-v1  \n",
       "runtime_secs                                                                     0.190186  \n",
       "MeanSquaredPercentageError_fold_0_test                                           0.049681  \n",
       "MeanSquaredPercentageError_fold_1_test                                             0.0737  \n",
       "MeanSquaredPercentageError_fold_2_test                                            0.05352  \n",
       "MeanSquaredPercentageError_fold_3_test                                           0.081063  \n",
       "MeanSquaredPercentageError_fold_4_test                                           0.138163  \n",
       "MeanSquaredPercentageError_fold_5_test                                           0.145125  \n",
       "MeanSquaredPercentageError_fold_6_test                                           0.154337  \n",
       "MeanSquaredPercentageError_fold_7_test                                           0.123298  \n",
       "MeanSquaredPercentageError_fold_8_test                                           0.185644  \n",
       "MeanSquaredPercentageError_fold_9_test                                           0.184654  \n",
       "MeanSquaredPercentageError_mean                                                  0.118918  \n",
       "MeanSquaredPercentageError_std                                                   0.051265  "
      ]
     },
     "execution_count": 62,
     "metadata": {},
     "output_type": "execute_result"
    }
   ],
   "source": [
    "results_df = benchmark.run(\"./forecasting_results.csv\")\n",
    "results_df.T"
   ]
  },
  {
   "cell_type": "markdown",
   "metadata": {
    "collapsed": false
   },
   "source": [
    "### Credits: notebook 5 - Metrics and Evaluation\n",
    "\n",
    "notebook creation: fkiraly, benheid"
   ]
  }
 ],
 "metadata": {
  "kernelspec": {
   "display_name": "Python 3 (ipykernel)",
   "language": "python",
   "name": "python3"
  },
  "language_info": {
   "codemirror_mode": {
    "name": "ipython",
    "version": 3
   },
   "file_extension": ".py",
   "mimetype": "text/x-python",
   "name": "python",
   "nbconvert_exporter": "python",
   "pygments_lexer": "ipython3",
   "version": "3.11.3"
  }
 },
 "nbformat": 4,
 "nbformat_minor": 5
}

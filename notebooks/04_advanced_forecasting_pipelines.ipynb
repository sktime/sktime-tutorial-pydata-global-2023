{
 "cells": [
  {
   "cell_type": "markdown",
   "metadata": {},
   "source": [
    "# 4 Advanced Forecasting Pipelines\n",
    "\n",
    "In the previous notebook, we considered\n",
    "* sequential pipelines\n",
    "* tuning their hyperparameters\n",
    "\n",
    "This notebook is about:\n",
    "* tuning the structure of sequential pipelines\n",
    "* introducing graphical pipelines\n",
    "\n",
    "\n",
    "\n"
   ]
  },
  {
   "cell_type": "code",
   "execution_count": 1,
   "metadata": {},
   "outputs": [],
   "source": [
    "import warnings\n",
    "from sklearn.linear_model import Lasso, Ridge\n",
    "from sklearn.preprocessing import StandardScaler, PowerTransformer, RobustScaler\n",
    "\n",
    "from sktime.datasets import load_arrow_head, load_longley, load_macroeconomic, load_shampoo_sales\n",
    "from sktime.forecasting.base import ForecastingHorizon\n",
    "from sktime.forecasting.compose import (\n",
    "    ColumnEnsembleForecaster,\n",
    "    ForecastX,\n",
    "    MultiplexForecaster,\n",
    "    make_reduction,\n",
    ")\n",
    "from sktime.forecasting.model_selection import (\n",
    "    ForecastingGridSearchCV,\n",
    "    SlidingWindowSplitter,\n",
    "    temporal_train_test_split,\n",
    ")\n",
    "from sktime.forecasting.compose import TransformedTargetForecaster\n",
    "from sktime.forecasting.exp_smoothing import ExponentialSmoothing\n",
    "from sktime.forecasting.naive import NaiveForecaster\n",
    "from sktime.forecasting.arima import ARIMA\n",
    "from sktime.forecasting.trend import STLForecaster\n",
    "from sktime.forecasting.theta import ThetaForecaster\n",
    "\n",
    "from sktime.performance_metrics.forecasting import mean_absolute_error, MeanSquaredError\n",
    "from sktime.pipeline.pipeline import Pipeline\n",
    "from sktime.transformations.series.adapt import TabularToSeriesAdaptor\n",
    "from sktime.transformations.series.detrend import Deseasonalizer, Detrender\n",
    "from sktime.transformations.series.difference import Differencer\n",
    "from sktime.transformations.series.exponent import ExponentTransformer\n",
    "from sktime.transformations.series.subset import ColumnSelect\n",
    "warnings.filterwarnings(\"ignore\")"
   ]
  },
  {
   "cell_type": "markdown",
   "metadata": {},
   "source": [
    "## 4.1 Tuning the Pipeline's Structure (AutoML)\n",
    "\n",
    "* Until now, we only optimised the hyperparameters of the single models. \n",
    "* The pipeline structure choose influences the performance too."
   ]
  },
  {
   "cell_type": "markdown",
   "metadata": {},
   "source": [
    "`sktime` allows to expose these choices via structural compositors:\n",
    "\n",
    "* switch between transform/forecast: `MultiplexTransformer`, `MultiplexForecaster`\n",
    "* transformer on/off: `OptionalPassthrough`\n",
    "\n",
    "Combine with pipelines and `FeatureUnion` for rich structure space"
   ]
  },
  {
   "cell_type": "markdown",
   "metadata": {},
   "source": [
    "#### `MultiplexForecaster`\n",
    "Switch between multiple forecasters. It is with a parameter `selected_forecaster: str` that can be tuned with a grid search.\n"
   ]
  },
  {
   "cell_type": "markdown",
   "metadata": {},
   "source": [
    "<img src=\"img/multiplexer.png\" width=900  style=\"background-color:white; padding:5px\" />"
   ]
  },
  {
   "cell_type": "code",
   "execution_count": 2,
   "metadata": {},
   "outputs": [],
   "source": [
    "from sktime.forecasting.compose import MultiplexForecaster\n",
    "\n",
    "forecaster = MultiplexForecaster(\n",
    "    forecasters=[\n",
    "        (\"naive\", NaiveForecaster()),\n",
    "        (\"stl\", STLForecaster()),\n",
    "        (\"theta\", ThetaForecaster()),\n",
    "    ]\n",
    ")\n"
   ]
  },
  {
   "cell_type": "code",
   "execution_count": 3,
   "metadata": {},
   "outputs": [
    {
     "data": {
      "text/plain": [
       "1993-07    400.583931\n",
       "1993-08    463.705542\n",
       "1993-09    414.450488\n",
       "1993-10    477.572099\n",
       "1993-11    428.317045\n",
       "1993-12    491.438656\n",
       "Freq: M, Name: Number of shampoo sales, dtype: float64"
      ]
     },
     "execution_count": 3,
     "metadata": {},
     "output_type": "execute_result"
    }
   ],
   "source": [
    "y = load_shampoo_sales()\n",
    "y_train, y_test = temporal_train_test_split(y=y, test_size=6)\n",
    "fh = ForecastingHorizon(y_test.index, is_relative=False).to_relative(\n",
    "    cutoff=y_train.index[-1]\n",
    ")\n",
    "\n",
    "forecaster.set_params(selected_forecaster=\"stl\")\n",
    "forecaster.fit(y_train)\n",
    "forecaster.predict(fh)"
   ]
  },
  {
   "cell_type": "code",
   "execution_count": 4,
   "metadata": {},
   "outputs": [
    {
     "data": {
      "text/plain": [
       "1993-07    437.4\n",
       "1993-08    437.4\n",
       "1993-09    437.4\n",
       "1993-10    437.4\n",
       "1993-11    437.4\n",
       "1993-12    437.4\n",
       "Freq: M, Name: Number of shampoo sales, dtype: float64"
      ]
     },
     "execution_count": 4,
     "metadata": {},
     "output_type": "execute_result"
    }
   ],
   "source": [
    "forecaster.set_params(selected_forecaster=\"naive\")\n",
    "forecaster.fit(y_train)\n",
    "forecaster.predict(fh)"
   ]
  },
  {
   "cell_type": "code",
   "execution_count": 5,
   "metadata": {},
   "outputs": [
    {
     "data": {
      "text/plain": [
       "{'selected_forecaster': 'theta'}"
      ]
     },
     "execution_count": 5,
     "metadata": {},
     "output_type": "execute_result"
    }
   ],
   "source": [
    "cv = SlidingWindowSplitter(fh=fh, window_length=len(y_train) - 6)\n",
    "\n",
    "gscv = ForecastingGridSearchCV(\n",
    "    forecaster=forecaster,\n",
    "    param_grid={\"selected_forecaster\": [\"naive\", \"stl\", \"theta\"]},\n",
    "    cv=cv,\n",
    "    n_jobs=-1,\n",
    ")\n",
    "\n",
    "gscv.fit(y)\n",
    "gscv.best_params_"
   ]
  },
  {
   "cell_type": "markdown",
   "metadata": {
    "collapsed": false
   },
   "source": [
    "#### `Optional Passthrough`"
   ]
  },
  {
   "cell_type": "markdown",
   "metadata": {},
   "source": [
    "Compositor that wraps a transformer and has a parameter `passthrough: bool`.\n",
    "* Setting `passthrough=True` will return an identity transformation for the given data.\n",
    "*  Setting `passthrough=False` will apply the given inner transformer on the data.\n",
    "\n",
    "<img src=\"img/optional_passthrough.png\" width=900  style=\"background-color:white; padding:5px\" />\n"
   ]
  },
  {
   "cell_type": "code",
   "execution_count": 6,
   "metadata": {},
   "outputs": [
    {
     "data": {
      "text/plain": [
       "Period\n",
       "1991-01    266.0\n",
       "1991-02    145.9\n",
       "1991-03    183.1\n",
       "1991-04    119.3\n",
       "1991-05    180.3\n",
       "Freq: M, Name: Number of shampoo sales, dtype: float64"
      ]
     },
     "execution_count": 6,
     "metadata": {},
     "output_type": "execute_result"
    }
   ],
   "source": [
    "from sktime.transformations.compose import OptionalPassthrough\n",
    "\n",
    "transformer = OptionalPassthrough(transformer=Detrender(), passthrough=True)\n",
    "transformer.fit_transform(y_train).head()"
   ]
  },
  {
   "cell_type": "code",
   "execution_count": 7,
   "metadata": {},
   "outputs": [
    {
     "data": {
      "text/plain": [
       "Period\n",
       "1991-01    266.0\n",
       "1991-02    145.9\n",
       "1991-03    183.1\n",
       "1991-04    119.3\n",
       "1991-05    180.3\n",
       "Freq: M, Name: Number of shampoo sales, dtype: float64"
      ]
     },
     "execution_count": 7,
     "metadata": {},
     "output_type": "execute_result"
    }
   ],
   "source": [
    "y_train.head()"
   ]
  },
  {
   "cell_type": "code",
   "execution_count": 8,
   "metadata": {},
   "outputs": [
    {
     "data": {
      "text/plain": [
       "Period\n",
       "1991-01    130.376344\n",
       "1991-02      1.503263\n",
       "1991-03     29.930182\n",
       "1991-04    -42.642900\n",
       "1991-05      9.584019\n",
       "Freq: M, Name: Number of shampoo sales, dtype: float64"
      ]
     },
     "execution_count": 8,
     "metadata": {},
     "output_type": "execute_result"
    }
   ],
   "source": [
    "transformer = OptionalPassthrough(transformer=Detrender(), passthrough=False)\n",
    "transformer.fit_transform(y_train).head()"
   ]
  },
  {
   "cell_type": "markdown",
   "metadata": {},
   "source": [
    "## 4.1.1 AutoML and Forecasting\n",
    "\n",
    "Taking all incredients from above examples, we can build a forecaster that comes close to what is usually called [AutoML](https://en.wikipedia.org/wiki/Automated_machine_learning).\n",
    "With AutoML we aim to automate as many steps of an ML model creation as possible. The main compositions from `sktime` that we can use for this are:\n",
    "- `TransformedTargetForecaster`\n",
    "- `MultiplexForecaster`\n",
    "- `ForecastingGridSearchCV`\n",
    "- `OptionalPassthrough`"
   ]
  },
  {
   "cell_type": "markdown",
   "metadata": {},
   "source": [
    "### Univariate example\n",
    "Please see appendix section for an example with exogenous data"
   ]
  },
  {
   "cell_type": "code",
   "execution_count": 9,
   "metadata": {},
   "outputs": [
    {
     "name": "stdout",
     "output_type": "stream",
     "text": [
      "Fitting 1 folds for each of 96 candidates, totalling 96 fits\n"
     ]
    },
    {
     "data": {
      "text/html": [
       "<style>#sk-7a28312a-2151-4f79-afdc-302a4ee199e3 {color: black;background-color: white;}#sk-7a28312a-2151-4f79-afdc-302a4ee199e3 pre{padding: 0;}#sk-7a28312a-2151-4f79-afdc-302a4ee199e3 div.sk-toggleable {background-color: white;}#sk-7a28312a-2151-4f79-afdc-302a4ee199e3 label.sk-toggleable__label {cursor: pointer;display: block;width: 100%;margin-bottom: 0;padding: 0.3em;box-sizing: border-box;text-align: center;}#sk-7a28312a-2151-4f79-afdc-302a4ee199e3 label.sk-toggleable__label-arrow:before {content: \"▸\";float: left;margin-right: 0.25em;color: #696969;}#sk-7a28312a-2151-4f79-afdc-302a4ee199e3 label.sk-toggleable__label-arrow:hover:before {color: black;}#sk-7a28312a-2151-4f79-afdc-302a4ee199e3 div.sk-estimator:hover label.sk-toggleable__label-arrow:before {color: black;}#sk-7a28312a-2151-4f79-afdc-302a4ee199e3 div.sk-toggleable__content {max-height: 0;max-width: 0;overflow: hidden;text-align: left;background-color: #f0f8ff;}#sk-7a28312a-2151-4f79-afdc-302a4ee199e3 div.sk-toggleable__content pre {margin: 0.2em;color: black;border-radius: 0.25em;background-color: #f0f8ff;}#sk-7a28312a-2151-4f79-afdc-302a4ee199e3 input.sk-toggleable__control:checked~div.sk-toggleable__content {max-height: 200px;max-width: 100%;overflow: auto;}#sk-7a28312a-2151-4f79-afdc-302a4ee199e3 input.sk-toggleable__control:checked~label.sk-toggleable__label-arrow:before {content: \"▾\";}#sk-7a28312a-2151-4f79-afdc-302a4ee199e3 div.sk-estimator input.sk-toggleable__control:checked~label.sk-toggleable__label {background-color: #d4ebff;}#sk-7a28312a-2151-4f79-afdc-302a4ee199e3 div.sk-label input.sk-toggleable__control:checked~label.sk-toggleable__label {background-color: #d4ebff;}#sk-7a28312a-2151-4f79-afdc-302a4ee199e3 input.sk-hidden--visually {border: 0;clip: rect(1px 1px 1px 1px);clip: rect(1px, 1px, 1px, 1px);height: 1px;margin: -1px;overflow: hidden;padding: 0;position: absolute;width: 1px;}#sk-7a28312a-2151-4f79-afdc-302a4ee199e3 div.sk-estimator {font-family: monospace;background-color: #f0f8ff;border: 1px dotted black;border-radius: 0.25em;box-sizing: border-box;margin-bottom: 0.5em;}#sk-7a28312a-2151-4f79-afdc-302a4ee199e3 div.sk-estimator:hover {background-color: #d4ebff;}#sk-7a28312a-2151-4f79-afdc-302a4ee199e3 div.sk-parallel-item::after {content: \"\";width: 100%;border-bottom: 1px solid gray;flex-grow: 1;}#sk-7a28312a-2151-4f79-afdc-302a4ee199e3 div.sk-label:hover label.sk-toggleable__label {background-color: #d4ebff;}#sk-7a28312a-2151-4f79-afdc-302a4ee199e3 div.sk-serial::before {content: \"\";position: absolute;border-left: 1px solid gray;box-sizing: border-box;top: 2em;bottom: 0;left: 50%;}#sk-7a28312a-2151-4f79-afdc-302a4ee199e3 div.sk-serial {display: flex;flex-direction: column;align-items: center;background-color: white;padding-right: 0.2em;padding-left: 0.2em;}#sk-7a28312a-2151-4f79-afdc-302a4ee199e3 div.sk-item {z-index: 1;}#sk-7a28312a-2151-4f79-afdc-302a4ee199e3 div.sk-parallel {display: flex;align-items: stretch;justify-content: center;background-color: white;}#sk-7a28312a-2151-4f79-afdc-302a4ee199e3 div.sk-parallel::before {content: \"\";position: absolute;border-left: 1px solid gray;box-sizing: border-box;top: 2em;bottom: 0;left: 50%;}#sk-7a28312a-2151-4f79-afdc-302a4ee199e3 div.sk-parallel-item {display: flex;flex-direction: column;position: relative;background-color: white;}#sk-7a28312a-2151-4f79-afdc-302a4ee199e3 div.sk-parallel-item:first-child::after {align-self: flex-end;width: 50%;}#sk-7a28312a-2151-4f79-afdc-302a4ee199e3 div.sk-parallel-item:last-child::after {align-self: flex-start;width: 50%;}#sk-7a28312a-2151-4f79-afdc-302a4ee199e3 div.sk-parallel-item:only-child::after {width: 0;}#sk-7a28312a-2151-4f79-afdc-302a4ee199e3 div.sk-dashed-wrapped {border: 1px dashed gray;margin: 0 0.4em 0.5em 0.4em;box-sizing: border-box;padding-bottom: 0.4em;background-color: white;position: relative;}#sk-7a28312a-2151-4f79-afdc-302a4ee199e3 div.sk-label label {font-family: monospace;font-weight: bold;background-color: white;display: inline-block;line-height: 1.2em;}#sk-7a28312a-2151-4f79-afdc-302a4ee199e3 div.sk-label-container {position: relative;z-index: 2;text-align: center;}#sk-7a28312a-2151-4f79-afdc-302a4ee199e3 div.sk-container {/* jupyter's `normalize.less` sets `[hidden] { display: none; }` but bootstrap.min.css set `[hidden] { display: none !important; }` so we also need the `!important` here to be able to override the default hidden behavior on the sphinx rendered scikit-learn.org. See: https://github.com/scikit-learn/scikit-learn/issues/21755 */display: inline-block !important;position: relative;}#sk-7a28312a-2151-4f79-afdc-302a4ee199e3 div.sk-text-repr-fallback {display: none;}</style><div id='sk-7a28312a-2151-4f79-afdc-302a4ee199e3' class=\"sk-top-container\"><div class=\"sk-text-repr-fallback\"><pre>ForecastingGridSearchCV(cv=SlidingWindowSplitter(fh=ForecastingHorizon([1, 2, 3, 4, 5, 6], dtype=&#x27;int32&#x27;, is_relative=True),\n",
       "                                                 window_length=24),\n",
       "                        error_score=&#x27;raise&#x27;,\n",
       "                        forecaster=TransformedTargetForecaster(steps=[(&#x27;detrender&#x27;,\n",
       "                                                                       OptionalPassthrough(transformer=Detrender())),\n",
       "                                                                      (&#x27;deseasonalizer&#x27;,\n",
       "                                                                       OptionalPassthrough(transformer=Deseasonalizer())),\n",
       "                                                                      (&#x27;scaler&#x27;,\n",
       "                                                                       OptionalPas...\n",
       "                        param_grid={&#x27;deseasonalizer__passthrough&#x27;: [True,\n",
       "                                                                    False],\n",
       "                                    &#x27;detrender__passthrough&#x27;: [True, False],\n",
       "                                    &#x27;forecaster__selected_forecaster&#x27;: [&#x27;naive&#x27;,\n",
       "                                                                        &#x27;stl&#x27;,\n",
       "                                                                        &#x27;theta&#x27;],\n",
       "                                    &#x27;scaler__passthrough&#x27;: [True, False],\n",
       "                                    &#x27;scaler__transformer__transformer__with_centering&#x27;: [True,\n",
       "                                                                                         False],\n",
       "                                    &#x27;scaler__transformer__transformer__with_scaling&#x27;: [True,\n",
       "                                                                                       False]},\n",
       "                        scoring=MeanSquaredError(square_root=True), verbose=1)</pre><b>Please rerun this cell to show the HTML repr or trust the notebook.</b></div><div class=\"sk-container\" hidden><div class=\"sk-item sk-dashed-wrapped\"><div class='sk-label-container'><div class=\"sk-label sk-toggleable\"><input class=\"sk-toggleable__control sk-hidden--visually\" id=UUID('7916aca1-bb8d-4d2c-88ec-2be75e75c1e1') type=\"checkbox\" ><label for=UUID('7916aca1-bb8d-4d2c-88ec-2be75e75c1e1') class='sk-toggleable__label sk-toggleable__label-arrow'>ForecastingGridSearchCV</label><div class=\"sk-toggleable__content\"><pre>ForecastingGridSearchCV(cv=SlidingWindowSplitter(fh=ForecastingHorizon([1, 2, 3, 4, 5, 6], dtype=&#x27;int32&#x27;, is_relative=True),\n",
       "                                                 window_length=24),\n",
       "                        error_score=&#x27;raise&#x27;,\n",
       "                        forecaster=TransformedTargetForecaster(steps=[(&#x27;detrender&#x27;,\n",
       "                                                                       OptionalPassthrough(transformer=Detrender())),\n",
       "                                                                      (&#x27;deseasonalizer&#x27;,\n",
       "                                                                       OptionalPassthrough(transformer=Deseasonalizer())),\n",
       "                                                                      (&#x27;scaler&#x27;,\n",
       "                                                                       OptionalPas...\n",
       "                        param_grid={&#x27;deseasonalizer__passthrough&#x27;: [True,\n",
       "                                                                    False],\n",
       "                                    &#x27;detrender__passthrough&#x27;: [True, False],\n",
       "                                    &#x27;forecaster__selected_forecaster&#x27;: [&#x27;naive&#x27;,\n",
       "                                                                        &#x27;stl&#x27;,\n",
       "                                                                        &#x27;theta&#x27;],\n",
       "                                    &#x27;scaler__passthrough&#x27;: [True, False],\n",
       "                                    &#x27;scaler__transformer__transformer__with_centering&#x27;: [True,\n",
       "                                                                                         False],\n",
       "                                    &#x27;scaler__transformer__transformer__with_scaling&#x27;: [True,\n",
       "                                                                                       False]},\n",
       "                        scoring=MeanSquaredError(square_root=True), verbose=1)</pre></div></div></div><div class=\"sk-parallel\"><div class=\"sk-parallel-item\"><div class=\"sk-item\"><div class=\"sk-serial\"><div class='sk-item'><div class=\"sk-estimator sk-toggleable\"><input class=\"sk-toggleable__control sk-hidden--visually\" id=UUID('fc0b60dd-ee92-44b7-9d07-a143245176ed') type=\"checkbox\" ><label for=UUID('fc0b60dd-ee92-44b7-9d07-a143245176ed') class='sk-toggleable__label sk-toggleable__label-arrow'>SlidingWindowSplitter</label><div class=\"sk-toggleable__content\"><pre>SlidingWindowSplitter(fh=ForecastingHorizon([1, 2, 3, 4, 5, 6], dtype=&#x27;int32&#x27;, is_relative=True),\n",
       "                      window_length=24)</pre></div></div></div></div></div></div><div class=\"sk-parallel-item\"><div class=\"sk-item\"><div class=\"sk-serial\"><div class=\"sk-item sk-dashed-wrapped\"><div class=\"sk-parallel\"><div class=\"sk-parallel-item\"><div class=\"sk-item\"><div class=\"sk-serial\"><div class=\"sk-item sk-dashed-wrapped\"><div class=\"sk-parallel\"><div class=\"sk-parallel-item\"><div class=\"sk-item\"><div class=\"sk-serial\"><div class='sk-item'><div class=\"sk-estimator sk-toggleable\"><input class=\"sk-toggleable__control sk-hidden--visually\" id=UUID('de575aaa-0ea9-4d86-8c57-c34e855750e5') type=\"checkbox\" ><label for=UUID('de575aaa-0ea9-4d86-8c57-c34e855750e5') class='sk-toggleable__label sk-toggleable__label-arrow'>Detrender</label><div class=\"sk-toggleable__content\"><pre>Detrender()</pre></div></div></div></div></div></div></div></div></div></div></div><div class=\"sk-parallel-item\"><div class=\"sk-item\"><div class=\"sk-serial\"><div class=\"sk-item sk-dashed-wrapped\"><div class=\"sk-parallel\"><div class=\"sk-parallel-item\"><div class=\"sk-item\"><div class=\"sk-serial\"><div class='sk-item'><div class=\"sk-estimator sk-toggleable\"><input class=\"sk-toggleable__control sk-hidden--visually\" id=UUID('15679cb8-4ade-44bb-9b2a-cb1eb2a2dba0') type=\"checkbox\" ><label for=UUID('15679cb8-4ade-44bb-9b2a-cb1eb2a2dba0') class='sk-toggleable__label sk-toggleable__label-arrow'>Deseasonalizer</label><div class=\"sk-toggleable__content\"><pre>Deseasonalizer()</pre></div></div></div></div></div></div></div></div></div></div></div><div class=\"sk-parallel-item\"><div class=\"sk-item\"><div class=\"sk-serial\"><div class=\"sk-item sk-dashed-wrapped\"><div class=\"sk-parallel\"><div class=\"sk-parallel-item\"><div class=\"sk-item\"><div class=\"sk-serial\"><div class=\"sk-item sk-dashed-wrapped\"><div class=\"sk-parallel\"><div class=\"sk-parallel-item\"><div class=\"sk-item\"><div class=\"sk-serial\"><div class='sk-item'><div class=\"sk-estimator sk-toggleable\"><input class=\"sk-toggleable__control sk-hidden--visually\" id=UUID('694c499a-a2e2-4060-801b-f383d6423626') type=\"checkbox\" ><label for=UUID('694c499a-a2e2-4060-801b-f383d6423626') class='sk-toggleable__label sk-toggleable__label-arrow'>RobustScaler</label><div class=\"sk-toggleable__content\"><pre>RobustScaler()</pre></div></div></div></div></div></div></div></div></div></div></div></div></div></div></div></div><div class=\"sk-parallel-item\"><div class=\"sk-item\"><div class=\"sk-serial\"><div class=\"sk-item sk-dashed-wrapped\"><div class=\"sk-parallel\"><div class=\"sk-parallel-item\"><div class=\"sk-item\"><div class=\"sk-serial\"><div class='sk-item'><div class=\"sk-estimator sk-toggleable\"><input class=\"sk-toggleable__control sk-hidden--visually\" id=UUID('6d365750-8048-4f30-b1ea-1393a5f91f43') type=\"checkbox\" ><label for=UUID('6d365750-8048-4f30-b1ea-1393a5f91f43') class='sk-toggleable__label sk-toggleable__label-arrow'>NaiveForecaster</label><div class=\"sk-toggleable__content\"><pre>NaiveForecaster()</pre></div></div></div></div></div></div><div class=\"sk-parallel-item\"><div class=\"sk-item\"><div class=\"sk-serial\"><div class='sk-item'><div class=\"sk-estimator sk-toggleable\"><input class=\"sk-toggleable__control sk-hidden--visually\" id=UUID('a82bdc55-72e9-4619-bc84-d0e835f68544') type=\"checkbox\" ><label for=UUID('a82bdc55-72e9-4619-bc84-d0e835f68544') class='sk-toggleable__label sk-toggleable__label-arrow'>STLForecaster</label><div class=\"sk-toggleable__content\"><pre>STLForecaster()</pre></div></div></div></div></div></div><div class=\"sk-parallel-item\"><div class=\"sk-item\"><div class=\"sk-serial\"><div class='sk-item'><div class=\"sk-estimator sk-toggleable\"><input class=\"sk-toggleable__control sk-hidden--visually\" id=UUID('b80d6956-1e4a-4e1d-8d71-502d5a982a51') type=\"checkbox\" ><label for=UUID('b80d6956-1e4a-4e1d-8d71-502d5a982a51') class='sk-toggleable__label sk-toggleable__label-arrow'>ThetaForecaster</label><div class=\"sk-toggleable__content\"><pre>ThetaForecaster(deseasonalize=False)</pre></div></div></div></div></div></div></div></div></div></div></div></div></div></div></div></div><div class=\"sk-parallel-item\"><div class=\"sk-item\"><div class=\"sk-serial\"><div class='sk-item'><div class=\"sk-estimator sk-toggleable\"><input class=\"sk-toggleable__control sk-hidden--visually\" id=UUID('6692cd5b-d75d-4dba-af1c-0426910afdc9') type=\"checkbox\" ><label for=UUID('6692cd5b-d75d-4dba-af1c-0426910afdc9') class='sk-toggleable__label sk-toggleable__label-arrow'>MeanSquaredError</label><div class=\"sk-toggleable__content\"><pre>MeanSquaredError(square_root=True)</pre></div></div></div></div></div></div></div></div></div></div>"
      ],
      "text/plain": [
       "ForecastingGridSearchCV(cv=SlidingWindowSplitter(fh=ForecastingHorizon([1, 2, 3, 4, 5, 6], dtype='int32', is_relative=True),\n",
       "                                                 window_length=24),\n",
       "                        error_score='raise',\n",
       "                        forecaster=TransformedTargetForecaster(steps=[('detrender',\n",
       "                                                                       OptionalPassthrough(transformer=Detrender())),\n",
       "                                                                      ('deseasonalizer',\n",
       "                                                                       OptionalPassthrough(transformer=Deseasonalizer())),\n",
       "                                                                      ('scaler',\n",
       "                                                                       OptionalPas...\n",
       "                        param_grid={'deseasonalizer__passthrough': [True,\n",
       "                                                                    False],\n",
       "                                    'detrender__passthrough': [True, False],\n",
       "                                    'forecaster__selected_forecaster': ['naive',\n",
       "                                                                        'stl',\n",
       "                                                                        'theta'],\n",
       "                                    'scaler__passthrough': [True, False],\n",
       "                                    'scaler__transformer__transformer__with_centering': [True,\n",
       "                                                                                         False],\n",
       "                                    'scaler__transformer__transformer__with_scaling': [True,\n",
       "                                                                                       False]},\n",
       "                        scoring=MeanSquaredError(square_root=True), verbose=1)"
      ]
     },
     "execution_count": 9,
     "metadata": {},
     "output_type": "execute_result"
    }
   ],
   "source": [
    "pipe_y = TransformedTargetForecaster(\n",
    "    steps=[\n",
    "        (\"detrender\", OptionalPassthrough(Detrender())),\n",
    "        (\"deseasonalizer\", OptionalPassthrough(Deseasonalizer())),\n",
    "        (\"scaler\", OptionalPassthrough(TabularToSeriesAdaptor(RobustScaler()))),\n",
    "        (\"forecaster\",  MultiplexForecaster(forecasters=[\n",
    "            (\"naive\", NaiveForecaster()),\n",
    "            (\"stl\", STLForecaster()),\n",
    "            (\"theta\", ThetaForecaster(deseasonalize=False)),\n",
    "            ])),\n",
    "    ]\n",
    ")\n",
    "\n",
    "param_grid = {\n",
    "    \"detrender__passthrough\": [True, False],\n",
    "    \"deseasonalizer__passthrough\": [True, False],\n",
    "    \"scaler__passthrough\": [True, False],\n",
    "    \"scaler__transformer__transformer__with_scaling\": [True, False],\n",
    "    \"scaler__transformer__transformer__with_centering\": [True, False],\n",
    "    \"forecaster__selected_forecaster\": [\"naive\", \"stl\", \"theta\"],\n",
    "}\n",
    "\n",
    "gscv = ForecastingGridSearchCV(\n",
    "    forecaster=pipe_y,\n",
    "    param_grid=param_grid,\n",
    "    cv=cv,\n",
    "    n_jobs=-1,\n",
    "    verbose=1,\n",
    "    scoring=MeanSquaredError(square_root=True),\n",
    "    error_score=\"raise\",\n",
    ")\n",
    "\n",
    "gscv.fit(y=y_train, fh=fh)"
   ]
  },
  {
   "cell_type": "code",
   "execution_count": 10,
   "metadata": {},
   "outputs": [
    {
     "data": {
      "text/plain": [
       "{'deseasonalizer__passthrough': True,\n",
       " 'detrender__passthrough': False,\n",
       " 'forecaster__selected_forecaster': 'naive',\n",
       " 'scaler__passthrough': True,\n",
       " 'scaler__transformer__transformer__with_centering': True,\n",
       " 'scaler__transformer__transformer__with_scaling': True}"
      ]
     },
     "execution_count": 10,
     "metadata": {},
     "output_type": "execute_result"
    }
   ],
   "source": [
    "gscv.best_params_"
   ]
  },
  {
   "cell_type": "code",
   "execution_count": 11,
   "metadata": {},
   "outputs": [
    {
     "data": {
      "text/plain": [
       "55.17836792311908"
      ]
     },
     "execution_count": 11,
     "metadata": {},
     "output_type": "execute_result"
    }
   ],
   "source": [
    "gscv.cv_results_[\"mean_test_MeanSquaredError\"].min()"
   ]
  },
  {
   "cell_type": "code",
   "execution_count": 12,
   "metadata": {},
   "outputs": [
    {
     "data": {
      "text/plain": [
       "100.14534270723088"
      ]
     },
     "execution_count": 12,
     "metadata": {},
     "output_type": "execute_result"
    }
   ],
   "source": [
    "gscv.cv_results_[\"mean_test_MeanSquaredError\"].max()"
   ]
  },
  {
   "cell_type": "markdown",
   "metadata": {},
   "source": [
    "## 4.2 Graphical Pipeline\n",
    "\n",
    "### What are Graphical Pipelines?\n",
    "Recap sequential pipelines:\n",
    "\n",
    "<img src=\"img/sequential_pipeline.png\" width=900  style=\"background-color:white; padding:5px\" />\n",
    "\n",
    "Many tasks are non-sequential. To solve this two possibilities exist:\n",
    "1. Nesting Sequential Pipelines.\n",
    "2. Using Graphical Pipelines.\n"
   ]
  },
  {
   "cell_type": "markdown",
   "metadata": {},
   "source": [
    "Generalised Graphical Pipeline in sktime:\n",
    "\n",
    "* Graphical means that different steps may share the same predecessor or provide their outputs to the same successor (the dataflows can branch and merge).\n",
    "\n",
    "<img src=\"img/graphical_pipeline.png\" width=900  style=\"background-color:white; padding:5px\" />\n",
    "\n",
    "\n",
    "* Generalised means that the pipeline can be used for multiple tasks (e.g. forecasting, classification, ...).\n"
   ]
  },
  {
   "cell_type": "markdown",
   "metadata": {},
   "source": [
    "**Note**\n",
    "\n",
    "The graphical pipeline is still experimental. \n",
    "Thus, usual risk with bleeding edge features. \n",
    "However, we would be happy to get feedback on the graphical pipeline."
   ]
  },
  {
   "cell_type": "markdown",
   "metadata": {},
   "source": [
    "\n",
    "#### Forecasting Use-Case for Graphical Pipelines\n",
    "\n",
    "\n",
    "The input of forecasters depends on the output of other forecasters, which same the same input.\n",
    "* Forecaster could use the same preprocessing (branching of data flow)\n",
    "* Forecaster could use outputs of multiple predeccessors (merging of data flow)\n",
    "\n",
    "<img src=\"img/graphical_pipeline_example.png\" width=900  style=\"background-color:white; padding:5px\" />\n"
   ]
  },
  {
   "cell_type": "markdown",
   "metadata": {},
   "source": [
    "### Credits\n",
    "The graphical pipeline was first developed by pyWATTS [1] and was then adapted for sktime. The original implementation can be found [pyWATTS](https://github.com/KIT-IAI/pyWATTS). pyWATTS is a open source library developed at the Institute of Applied Informatics and Automation at the KIT and funded by HelmholtzAI.\n",
    "\n",
    "> [1] Heidrich, Benedikt, et al. \"pyWATTS: Python workflow automation tool for time series.\" arXiv preprint arXiv:2106.10157 (2021).\n",
    "\n",
    "<img src=\"img/kit.png\" height=60  style=\"background-color:white; padding:5px\" /> \n",
    "<p></p>\n",
    "\n",
    "<img src=\"img/helmholtz.png\" width=900  style=\"background-color:white; padding:5px\" />\n"
   ]
  },
  {
   "cell_type": "markdown",
   "metadata": {
    "collapsed": false
   },
   "source": [
    "### 4.2.1 Constructing simple Graphical Pipelines for Forecasting\n",
    "<img src=\"img/forecasting_pipeline.png\" width=900  style=\"background-color:white; padding:5px\" />\n"
   ]
  },
  {
   "cell_type": "markdown",
   "metadata": {},
   "source": [
    "Two ways to create graphical pipelines:\n",
    "\n",
    "1. Pass all steps to the pipeline during initialisation as for the sequential pipeline."
   ]
  },
  {
   "cell_type": "code",
   "execution_count": 13,
   "metadata": {
    "collapsed": false
   },
   "outputs": [],
   "source": [
    "differencer = Differencer()\n",
    "\n",
    "pipe = Pipeline(\n",
    "    [\n",
    "        {\"skobject\": differencer, \"name\": \"differencer\", \"edges\": {\"X\": \"y\"}},\n",
    "        {\n",
    "            \"skobject\": ARIMA(),\n",
    "            \"name\": \"arima\",\n",
    "            \"edges\": {\"X\": \"X\", \"y\": \"differencer\"},\n",
    "        },\n",
    "        {\n",
    "            \"skobject\": differencer,\n",
    "            \"name\": \"differencer_inv\",\n",
    "            \"edges\": {\"X\": \"arima\"},\n",
    "            \"method\": \"inverse_transform\",\n",
    "        },\n",
    "    ]\n",
    ")"
   ]
  },
  {
   "cell_type": "markdown",
   "metadata": {},
   "source": [
    "**Note** if you add the same skobject instance multiple times, the graphical pipelines tracks the identity of these skobjects."
   ]
  },
  {
   "cell_type": "markdown",
   "metadata": {},
   "source": [
    "Alternatively, the pipeline can be also created using `add_step`"
   ]
  },
  {
   "cell_type": "code",
   "execution_count": 14,
   "metadata": {
    "collapsed": false
   },
   "outputs": [],
   "source": [
    "pipe = Pipeline()\n",
    "differencer = Differencer()\n",
    "\n",
    "pipe = pipe.add_step(\n",
    "    differencer, \"differencer\", edges={\"X\": \"y\"}\n",
    ")\n",
    "pipe = pipe.add_step(\n",
    "    ARIMA(), \"arima\", edges={\"X\": \"X\", \"y\": \"differencer\"}\n",
    ")\n",
    "pipe = pipe.add_step(\n",
    "    differencer, \"differencer_inv\", edges={\"X\": \"arima\"}, method=\"inverse_transform\"\n",
    ")"
   ]
  },
  {
   "cell_type": "markdown",
   "metadata": {
    "collapsed": false
   },
   "source": [
    "#### Summary of the arguments:\n",
    "The `add_step`'s parameter or key of the dicts in the step list during initialisation are:\n",
    "\n",
    "* skobject: The sktime object added to the pipeline\n",
    "* name: The name of the step\n",
    "* edges: The keys of the dictionary indicate the input of the skobject (X or y), and the values are the names of the steps that should be connected to the input argument. Note subsetting using `__` and feature union via lists are supported.\n",
    "* method: The skobject's method that should be called. If not provided, the default method would be inferred based on the added skobject. This parameter is used for the inverse_transform method. Optional.\n",
    "* kwargs: Additional keyword arguments passed to the sktime object. Optional."
   ]
  },
  {
   "cell_type": "markdown",
   "metadata": {
    "collapsed": false
   },
   "source": [
    "#### Take Away Messsage:\n",
    "* Two ways to construct graphical pipeline\n",
    "    * Provide all information during initialisation\n",
    "    * Add each step separetely using `add_step` method"
   ]
  },
  {
   "cell_type": "markdown",
   "metadata": {},
   "source": [
    "Fitting with graphical pipeline"
   ]
  },
  {
   "cell_type": "code",
   "execution_count": 15,
   "metadata": {
    "collapsed": false
   },
   "outputs": [
    {
     "data": {
      "text/html": [
       "<style>#sk-82e33ded-b443-4dea-9891-23abbce97a34 {color: black;background-color: white;}#sk-82e33ded-b443-4dea-9891-23abbce97a34 pre{padding: 0;}#sk-82e33ded-b443-4dea-9891-23abbce97a34 div.sk-toggleable {background-color: white;}#sk-82e33ded-b443-4dea-9891-23abbce97a34 label.sk-toggleable__label {cursor: pointer;display: block;width: 100%;margin-bottom: 0;padding: 0.3em;box-sizing: border-box;text-align: center;}#sk-82e33ded-b443-4dea-9891-23abbce97a34 label.sk-toggleable__label-arrow:before {content: \"▸\";float: left;margin-right: 0.25em;color: #696969;}#sk-82e33ded-b443-4dea-9891-23abbce97a34 label.sk-toggleable__label-arrow:hover:before {color: black;}#sk-82e33ded-b443-4dea-9891-23abbce97a34 div.sk-estimator:hover label.sk-toggleable__label-arrow:before {color: black;}#sk-82e33ded-b443-4dea-9891-23abbce97a34 div.sk-toggleable__content {max-height: 0;max-width: 0;overflow: hidden;text-align: left;background-color: #f0f8ff;}#sk-82e33ded-b443-4dea-9891-23abbce97a34 div.sk-toggleable__content pre {margin: 0.2em;color: black;border-radius: 0.25em;background-color: #f0f8ff;}#sk-82e33ded-b443-4dea-9891-23abbce97a34 input.sk-toggleable__control:checked~div.sk-toggleable__content {max-height: 200px;max-width: 100%;overflow: auto;}#sk-82e33ded-b443-4dea-9891-23abbce97a34 input.sk-toggleable__control:checked~label.sk-toggleable__label-arrow:before {content: \"▾\";}#sk-82e33ded-b443-4dea-9891-23abbce97a34 div.sk-estimator input.sk-toggleable__control:checked~label.sk-toggleable__label {background-color: #d4ebff;}#sk-82e33ded-b443-4dea-9891-23abbce97a34 div.sk-label input.sk-toggleable__control:checked~label.sk-toggleable__label {background-color: #d4ebff;}#sk-82e33ded-b443-4dea-9891-23abbce97a34 input.sk-hidden--visually {border: 0;clip: rect(1px 1px 1px 1px);clip: rect(1px, 1px, 1px, 1px);height: 1px;margin: -1px;overflow: hidden;padding: 0;position: absolute;width: 1px;}#sk-82e33ded-b443-4dea-9891-23abbce97a34 div.sk-estimator {font-family: monospace;background-color: #f0f8ff;border: 1px dotted black;border-radius: 0.25em;box-sizing: border-box;margin-bottom: 0.5em;}#sk-82e33ded-b443-4dea-9891-23abbce97a34 div.sk-estimator:hover {background-color: #d4ebff;}#sk-82e33ded-b443-4dea-9891-23abbce97a34 div.sk-parallel-item::after {content: \"\";width: 100%;border-bottom: 1px solid gray;flex-grow: 1;}#sk-82e33ded-b443-4dea-9891-23abbce97a34 div.sk-label:hover label.sk-toggleable__label {background-color: #d4ebff;}#sk-82e33ded-b443-4dea-9891-23abbce97a34 div.sk-serial::before {content: \"\";position: absolute;border-left: 1px solid gray;box-sizing: border-box;top: 2em;bottom: 0;left: 50%;}#sk-82e33ded-b443-4dea-9891-23abbce97a34 div.sk-serial {display: flex;flex-direction: column;align-items: center;background-color: white;padding-right: 0.2em;padding-left: 0.2em;}#sk-82e33ded-b443-4dea-9891-23abbce97a34 div.sk-item {z-index: 1;}#sk-82e33ded-b443-4dea-9891-23abbce97a34 div.sk-parallel {display: flex;align-items: stretch;justify-content: center;background-color: white;}#sk-82e33ded-b443-4dea-9891-23abbce97a34 div.sk-parallel::before {content: \"\";position: absolute;border-left: 1px solid gray;box-sizing: border-box;top: 2em;bottom: 0;left: 50%;}#sk-82e33ded-b443-4dea-9891-23abbce97a34 div.sk-parallel-item {display: flex;flex-direction: column;position: relative;background-color: white;}#sk-82e33ded-b443-4dea-9891-23abbce97a34 div.sk-parallel-item:first-child::after {align-self: flex-end;width: 50%;}#sk-82e33ded-b443-4dea-9891-23abbce97a34 div.sk-parallel-item:last-child::after {align-self: flex-start;width: 50%;}#sk-82e33ded-b443-4dea-9891-23abbce97a34 div.sk-parallel-item:only-child::after {width: 0;}#sk-82e33ded-b443-4dea-9891-23abbce97a34 div.sk-dashed-wrapped {border: 1px dashed gray;margin: 0 0.4em 0.5em 0.4em;box-sizing: border-box;padding-bottom: 0.4em;background-color: white;position: relative;}#sk-82e33ded-b443-4dea-9891-23abbce97a34 div.sk-label label {font-family: monospace;font-weight: bold;background-color: white;display: inline-block;line-height: 1.2em;}#sk-82e33ded-b443-4dea-9891-23abbce97a34 div.sk-label-container {position: relative;z-index: 2;text-align: center;}#sk-82e33ded-b443-4dea-9891-23abbce97a34 div.sk-container {/* jupyter's `normalize.less` sets `[hidden] { display: none; }` but bootstrap.min.css set `[hidden] { display: none !important; }` so we also need the `!important` here to be able to override the default hidden behavior on the sphinx rendered scikit-learn.org. See: https://github.com/scikit-learn/scikit-learn/issues/21755 */display: inline-block !important;position: relative;}#sk-82e33ded-b443-4dea-9891-23abbce97a34 div.sk-text-repr-fallback {display: none;}</style><div id='sk-82e33ded-b443-4dea-9891-23abbce97a34' class=\"sk-top-container\"><div class=\"sk-text-repr-fallback\"><pre>Pipeline(steps=[{&#x27;edges&#x27;: {&#x27;X&#x27;: &#x27;y&#x27;}, &#x27;kwargs&#x27;: {}, &#x27;method&#x27;: None,\n",
       "                 &#x27;name&#x27;: &#x27;differencer&#x27;, &#x27;skobject&#x27;: Differencer()},\n",
       "                {&#x27;edges&#x27;: {&#x27;X&#x27;: &#x27;X&#x27;, &#x27;y&#x27;: &#x27;differencer&#x27;}, &#x27;kwargs&#x27;: {},\n",
       "                 &#x27;method&#x27;: None, &#x27;name&#x27;: &#x27;arima&#x27;, &#x27;skobject&#x27;: ARIMA()},\n",
       "                {&#x27;edges&#x27;: {&#x27;X&#x27;: &#x27;arima&#x27;}, &#x27;kwargs&#x27;: {},\n",
       "                 &#x27;method&#x27;: &#x27;inverse_transform&#x27;, &#x27;name&#x27;: &#x27;differencer_inv&#x27;,\n",
       "                 &#x27;skobject&#x27;: Differencer()}])</pre><b>Please rerun this cell to show the HTML repr or trust the notebook.</b></div><div class=\"sk-container\" hidden><div class='sk-item'><div class=\"sk-estimator sk-toggleable\"><input class=\"sk-toggleable__control sk-hidden--visually\" id=UUID('ae222773-21b9-4948-a141-555a8e63b465') type=\"checkbox\" checked><label for=UUID('ae222773-21b9-4948-a141-555a8e63b465') class='sk-toggleable__label sk-toggleable__label-arrow'>Pipeline</label><div class=\"sk-toggleable__content\"><pre>Pipeline(steps=[{&#x27;edges&#x27;: {&#x27;X&#x27;: &#x27;y&#x27;}, &#x27;kwargs&#x27;: {}, &#x27;method&#x27;: None,\n",
       "                 &#x27;name&#x27;: &#x27;differencer&#x27;, &#x27;skobject&#x27;: Differencer()},\n",
       "                {&#x27;edges&#x27;: {&#x27;X&#x27;: &#x27;X&#x27;, &#x27;y&#x27;: &#x27;differencer&#x27;}, &#x27;kwargs&#x27;: {},\n",
       "                 &#x27;method&#x27;: None, &#x27;name&#x27;: &#x27;arima&#x27;, &#x27;skobject&#x27;: ARIMA()},\n",
       "                {&#x27;edges&#x27;: {&#x27;X&#x27;: &#x27;arima&#x27;}, &#x27;kwargs&#x27;: {},\n",
       "                 &#x27;method&#x27;: &#x27;inverse_transform&#x27;, &#x27;name&#x27;: &#x27;differencer_inv&#x27;,\n",
       "                 &#x27;skobject&#x27;: Differencer()}])</pre></div></div></div></div></div>"
      ],
      "text/plain": [
       "Pipeline(steps=[{'edges': {'X': 'y'}, 'kwargs': {}, 'method': None,\n",
       "                 'name': 'differencer', 'skobject': Differencer()},\n",
       "                {'edges': {'X': 'X', 'y': 'differencer'}, 'kwargs': {},\n",
       "                 'method': None, 'name': 'arima', 'skobject': ARIMA()},\n",
       "                {'edges': {'X': 'arima'}, 'kwargs': {},\n",
       "                 'method': 'inverse_transform', 'name': 'differencer_inv',\n",
       "                 'skobject': Differencer()}])"
      ]
     },
     "execution_count": 15,
     "metadata": {},
     "output_type": "execute_result"
    }
   ],
   "source": [
    "y, X = load_longley()\n",
    "y_train, y_test, X_train, X_test = temporal_train_test_split(y, X)\n",
    "\n",
    "pipe.fit(y=y_train, X=X_train, fh=[1, 2, 3, 4])\n"
   ]
  },
  {
   "cell_type": "markdown",
   "metadata": {},
   "source": [
    "Predicting with graphical pipelines"
   ]
  },
  {
   "cell_type": "code",
   "execution_count": 16,
   "metadata": {},
   "outputs": [
    {
     "data": {
      "text/plain": [
       "1959    67213.735360\n",
       "1960    68328.076304\n",
       "1961    68737.861389\n",
       "1962    71322.894013\n",
       "Freq: A-DEC, Name: TOTEMP, dtype: float64"
      ]
     },
     "execution_count": 16,
     "metadata": {},
     "output_type": "execute_result"
    }
   ],
   "source": [
    "pipe.predict(X=X_test)"
   ]
  },
  {
   "cell_type": "code",
   "execution_count": 17,
   "metadata": {},
   "outputs": [
    {
     "data": {
      "text/html": [
       "<div>\n",
       "<style scoped>\n",
       "    .dataframe tbody tr th:only-of-type {\n",
       "        vertical-align: middle;\n",
       "    }\n",
       "\n",
       "    .dataframe tbody tr th {\n",
       "        vertical-align: top;\n",
       "    }\n",
       "\n",
       "    .dataframe thead tr th {\n",
       "        text-align: left;\n",
       "    }\n",
       "</style>\n",
       "<table border=\"1\" class=\"dataframe\">\n",
       "  <thead>\n",
       "    <tr>\n",
       "      <th></th>\n",
       "      <th colspan=\"2\" halign=\"left\">TOTEMP</th>\n",
       "    </tr>\n",
       "    <tr>\n",
       "      <th></th>\n",
       "      <th>0.05</th>\n",
       "      <th>0.95</th>\n",
       "    </tr>\n",
       "  </thead>\n",
       "  <tbody>\n",
       "    <tr>\n",
       "      <th>1959</th>\n",
       "      <td>66086.772692</td>\n",
       "      <td>68340.698028</td>\n",
       "    </tr>\n",
       "    <tr>\n",
       "      <th>1960</th>\n",
       "      <td>66067.640903</td>\n",
       "      <td>70588.511705</td>\n",
       "    </tr>\n",
       "    <tr>\n",
       "      <th>1961</th>\n",
       "      <td>65343.878044</td>\n",
       "      <td>72131.844734</td>\n",
       "    </tr>\n",
       "    <tr>\n",
       "      <th>1962</th>\n",
       "      <td>66795.361853</td>\n",
       "      <td>75850.426173</td>\n",
       "    </tr>\n",
       "  </tbody>\n",
       "</table>\n",
       "</div>"
      ],
      "text/plain": [
       "            TOTEMP              \n",
       "              0.05          0.95\n",
       "1959  66086.772692  68340.698028\n",
       "1960  66067.640903  70588.511705\n",
       "1961  65343.878044  72131.844734\n",
       "1962  66795.361853  75850.426173"
      ]
     },
     "execution_count": 17,
     "metadata": {},
     "output_type": "execute_result"
    }
   ],
   "source": [
    "pipe.predict_quantiles(X=X_test)"
   ]
  },
  {
   "cell_type": "code",
   "execution_count": 18,
   "metadata": {},
   "outputs": [
    {
     "data": {
      "text/html": [
       "<div>\n",
       "<style scoped>\n",
       "    .dataframe tbody tr th:only-of-type {\n",
       "        vertical-align: middle;\n",
       "    }\n",
       "\n",
       "    .dataframe tbody tr th {\n",
       "        vertical-align: top;\n",
       "    }\n",
       "\n",
       "    .dataframe thead tr th {\n",
       "        text-align: left;\n",
       "    }\n",
       "</style>\n",
       "<table border=\"1\" class=\"dataframe\">\n",
       "  <thead>\n",
       "    <tr>\n",
       "      <th></th>\n",
       "      <th colspan=\"2\" halign=\"left\">TOTEMP</th>\n",
       "    </tr>\n",
       "    <tr>\n",
       "      <th></th>\n",
       "      <th colspan=\"2\" halign=\"left\">0.9</th>\n",
       "    </tr>\n",
       "    <tr>\n",
       "      <th></th>\n",
       "      <th>lower</th>\n",
       "      <th>upper</th>\n",
       "    </tr>\n",
       "  </thead>\n",
       "  <tbody>\n",
       "    <tr>\n",
       "      <th>1959</th>\n",
       "      <td>66086.772692</td>\n",
       "      <td>68340.698028</td>\n",
       "    </tr>\n",
       "    <tr>\n",
       "      <th>1960</th>\n",
       "      <td>66067.640903</td>\n",
       "      <td>70588.511705</td>\n",
       "    </tr>\n",
       "    <tr>\n",
       "      <th>1961</th>\n",
       "      <td>65343.878044</td>\n",
       "      <td>72131.844734</td>\n",
       "    </tr>\n",
       "    <tr>\n",
       "      <th>1962</th>\n",
       "      <td>66795.361853</td>\n",
       "      <td>75850.426173</td>\n",
       "    </tr>\n",
       "  </tbody>\n",
       "</table>\n",
       "</div>"
      ],
      "text/plain": [
       "            TOTEMP              \n",
       "               0.9              \n",
       "             lower         upper\n",
       "1959  66086.772692  68340.698028\n",
       "1960  66067.640903  70588.511705\n",
       "1961  65343.878044  72131.844734\n",
       "1962  66795.361853  75850.426173"
      ]
     },
     "execution_count": 18,
     "metadata": {},
     "output_type": "execute_result"
    }
   ],
   "source": [
    "pipe.predict_interval(X=X_test)"
   ]
  },
  {
   "cell_type": "code",
   "execution_count": 19,
   "metadata": {},
   "outputs": [
    {
     "data": {
      "text/plain": [
       "Period\n",
       "1959    1441.264640\n",
       "1960    1235.923696\n",
       "1961     593.138611\n",
       "1962    -771.894013\n",
       "Freq: A-DEC, Name: TOTEMP, dtype: float64"
      ]
     },
     "execution_count": 19,
     "metadata": {},
     "output_type": "execute_result"
    }
   ],
   "source": [
    "pipe.predict_residuals(X=X_test, y=y_test)"
   ]
  },
  {
   "cell_type": "markdown",
   "metadata": {
    "collapsed": false
   },
   "source": [
    "### 4.2.2 A more complex example\n",
    "The considered use-case is to forecast the inflation using forecasts of the real gross domestic product, real disposable personal income, and the unemployment rate. Furthermore the unemployment rate is forecasted using the same features except the unemployment rate itself.\n",
    "\n",
    "<img src=\"img/graphical_pipeline_example.png\" width=900 style=\"background-color:white; padding:5px\" />\n",
    "\n",
    "\n",
    "The data is taken from the macrodata dataset from the statsmodels package.\n",
    "\n",
    "**Note** We stick with the `add_step` in the following.\n"
   ]
  },
  {
   "cell_type": "markdown",
   "metadata": {},
   "source": [
    "Create Graphical Pipeline Instance"
   ]
  },
  {
   "cell_type": "code",
   "execution_count": 20,
   "metadata": {},
   "outputs": [],
   "source": [
    "pipe = Pipeline()"
   ]
  },
  {
   "cell_type": "markdown",
   "metadata": {},
   "source": [
    "Add Preprocessing"
   ]
  },
  {
   "cell_type": "code",
   "execution_count": 21,
   "metadata": {},
   "outputs": [],
   "source": [
    "pipe = pipe.add_step(\n",
    "    TabularToSeriesAdaptor(StandardScaler()), name=\"scaler\", edges={\"X\": \"X__realgdp_realdpi_unemp\"}\n",
    ")\n",
    "pipe = pipe.add_step(\n",
    "    Deseasonalizer(sp=4), name=\"deseasonalizer\", edges={\"X\": \"X__realgdp_realdpi\"}\n",
    ")"
   ]
  },
  {
   "cell_type": "markdown",
   "metadata": {},
   "source": [
    "Add forecastesr for GDP and DPI"
   ]
  },
  {
   "cell_type": "code",
   "execution_count": 22,
   "metadata": {},
   "outputs": [],
   "source": [
    "pipe = pipe.add_step(\n",
    "    make_reduction(Ridge(), windows_identical=False, window_length=5),\n",
    "    name=\"forecaster_gdp\",\n",
    "    edges={\"y\": \"deseasonalizer__realgdp\"},\n",
    ")\n",
    "\n",
    "pipe = pipe.add_step(\n",
    "    make_reduction(Ridge(), windows_identical=False, window_length=5),\n",
    "    name=\"forecaster_dpi\",\n",
    "    edges={\"y\": \"deseasonalizer__realdpi\"},\n",
    ")"
   ]
  },
  {
   "cell_type": "markdown",
   "metadata": {},
   "source": [
    "Add Forecaster for unemployment rate that depends on forecasts of GDP and DPI"
   ]
  },
  {
   "cell_type": "code",
   "execution_count": 23,
   "metadata": {},
   "outputs": [],
   "source": [
    "pipe = pipe.add_step(\n",
    "    make_reduction(Ridge(), windows_identical=False, window_length=5),\n",
    "    name=\"forecaster_unemp\",\n",
    "    edges={\n",
    "        \"y\": \"scaler__unemp\",\n",
    "        \"X\": [\n",
    "            \"forecaster_gdp\",\n",
    "            \"forecaster_dpi\",\n",
    "        ],\n",
    "    },\n",
    ")"
   ]
  },
  {
   "cell_type": "markdown",
   "metadata": {},
   "source": [
    "Add forecaster for the inflation that depends on forecasted DPI and unemployment rate"
   ]
  },
  {
   "cell_type": "code",
   "execution_count": 24,
   "metadata": {},
   "outputs": [],
   "source": [
    "pipe = pipe.add_step(\n",
    "    make_reduction(Ridge(), windows_identical=False, window_length=5),\n",
    "    name=\"forecaster_inflation\",\n",
    "    edges={\"X\": [\"forecaster_dpi\", \"forecaster_unemp\"], \"y\": \"y\"},\n",
    ")"
   ]
  },
  {
   "cell_type": "markdown",
   "metadata": {},
   "source": [
    "Load data and split them into train and test"
   ]
  },
  {
   "cell_type": "code",
   "execution_count": 25,
   "metadata": {
    "collapsed": false
   },
   "outputs": [
    {
     "data": {
      "text/html": [
       "<div>\n",
       "<style scoped>\n",
       "    .dataframe tbody tr th:only-of-type {\n",
       "        vertical-align: middle;\n",
       "    }\n",
       "\n",
       "    .dataframe tbody tr th {\n",
       "        vertical-align: top;\n",
       "    }\n",
       "\n",
       "    .dataframe thead th {\n",
       "        text-align: right;\n",
       "    }\n",
       "</style>\n",
       "<table border=\"1\" class=\"dataframe\">\n",
       "  <thead>\n",
       "    <tr style=\"text-align: right;\">\n",
       "      <th></th>\n",
       "      <th>realgdp</th>\n",
       "      <th>realdpi</th>\n",
       "      <th>unemp</th>\n",
       "    </tr>\n",
       "    <tr>\n",
       "      <th>Period</th>\n",
       "      <th></th>\n",
       "      <th></th>\n",
       "      <th></th>\n",
       "    </tr>\n",
       "  </thead>\n",
       "  <tbody>\n",
       "    <tr>\n",
       "      <th>1959Q1</th>\n",
       "      <td>2710.349</td>\n",
       "      <td>1886.9</td>\n",
       "      <td>5.8</td>\n",
       "    </tr>\n",
       "    <tr>\n",
       "      <th>1959Q2</th>\n",
       "      <td>2778.801</td>\n",
       "      <td>1919.7</td>\n",
       "      <td>5.1</td>\n",
       "    </tr>\n",
       "    <tr>\n",
       "      <th>1959Q3</th>\n",
       "      <td>2775.488</td>\n",
       "      <td>1916.4</td>\n",
       "      <td>5.3</td>\n",
       "    </tr>\n",
       "    <tr>\n",
       "      <th>1959Q4</th>\n",
       "      <td>2785.204</td>\n",
       "      <td>1931.3</td>\n",
       "      <td>5.6</td>\n",
       "    </tr>\n",
       "    <tr>\n",
       "      <th>1960Q1</th>\n",
       "      <td>2847.699</td>\n",
       "      <td>1955.5</td>\n",
       "      <td>5.2</td>\n",
       "    </tr>\n",
       "    <tr>\n",
       "      <th>...</th>\n",
       "      <td>...</td>\n",
       "      <td>...</td>\n",
       "      <td>...</td>\n",
       "    </tr>\n",
       "    <tr>\n",
       "      <th>2005Q3</th>\n",
       "      <td>12683.153</td>\n",
       "      <td>9308.0</td>\n",
       "      <td>5.0</td>\n",
       "    </tr>\n",
       "    <tr>\n",
       "      <th>2005Q4</th>\n",
       "      <td>12748.699</td>\n",
       "      <td>9358.7</td>\n",
       "      <td>4.9</td>\n",
       "    </tr>\n",
       "    <tr>\n",
       "      <th>2006Q1</th>\n",
       "      <td>12915.938</td>\n",
       "      <td>9533.8</td>\n",
       "      <td>4.7</td>\n",
       "    </tr>\n",
       "    <tr>\n",
       "      <th>2006Q2</th>\n",
       "      <td>12962.462</td>\n",
       "      <td>9617.3</td>\n",
       "      <td>4.7</td>\n",
       "    </tr>\n",
       "    <tr>\n",
       "      <th>2006Q3</th>\n",
       "      <td>12965.916</td>\n",
       "      <td>9662.5</td>\n",
       "      <td>4.7</td>\n",
       "    </tr>\n",
       "  </tbody>\n",
       "</table>\n",
       "<p>191 rows × 3 columns</p>\n",
       "</div>"
      ],
      "text/plain": [
       "          realgdp  realdpi  unemp\n",
       "Period                           \n",
       "1959Q1   2710.349   1886.9    5.8\n",
       "1959Q2   2778.801   1919.7    5.1\n",
       "1959Q3   2775.488   1916.4    5.3\n",
       "1959Q4   2785.204   1931.3    5.6\n",
       "1960Q1   2847.699   1955.5    5.2\n",
       "...           ...      ...    ...\n",
       "2005Q3  12683.153   9308.0    5.0\n",
       "2005Q4  12748.699   9358.7    4.9\n",
       "2006Q1  12915.938   9533.8    4.7\n",
       "2006Q2  12962.462   9617.3    4.7\n",
       "2006Q3  12965.916   9662.5    4.7\n",
       "\n",
       "[191 rows x 3 columns]"
      ]
     },
     "execution_count": 25,
     "metadata": {},
     "output_type": "execute_result"
    }
   ],
   "source": [
    "data = load_macroeconomic()\n",
    "\n",
    "X = data[[\"realgdp\", \"realdpi\", \"unemp\"]]\n",
    "y = data[[\"infl\"]]\n",
    "fh = ForecastingHorizon([1, 2, 3, 4, 5, 6, 7, 8, 9, 10, 11, 12])\n",
    "\n",
    "y_train, y_test, X_train, X_test = temporal_train_test_split(y, X=X, fh=fh)\n",
    "X_train"
   ]
  },
  {
   "cell_type": "code",
   "execution_count": 26,
   "metadata": {
    "collapsed": false
   },
   "outputs": [
    {
     "data": {
      "text/html": [
       "<div>\n",
       "<style scoped>\n",
       "    .dataframe tbody tr th:only-of-type {\n",
       "        vertical-align: middle;\n",
       "    }\n",
       "\n",
       "    .dataframe tbody tr th {\n",
       "        vertical-align: top;\n",
       "    }\n",
       "\n",
       "    .dataframe thead th {\n",
       "        text-align: right;\n",
       "    }\n",
       "</style>\n",
       "<table border=\"1\" class=\"dataframe\">\n",
       "  <thead>\n",
       "    <tr style=\"text-align: right;\">\n",
       "      <th></th>\n",
       "      <th>infl</th>\n",
       "    </tr>\n",
       "    <tr>\n",
       "      <th>Period</th>\n",
       "      <th></th>\n",
       "    </tr>\n",
       "  </thead>\n",
       "  <tbody>\n",
       "    <tr>\n",
       "      <th>2006Q4</th>\n",
       "      <td>3.090428</td>\n",
       "    </tr>\n",
       "    <tr>\n",
       "      <th>2007Q1</th>\n",
       "      <td>1.676421</td>\n",
       "    </tr>\n",
       "    <tr>\n",
       "      <th>2007Q2</th>\n",
       "      <td>0.219586</td>\n",
       "    </tr>\n",
       "    <tr>\n",
       "      <th>2007Q3</th>\n",
       "      <td>1.570087</td>\n",
       "    </tr>\n",
       "    <tr>\n",
       "      <th>2007Q4</th>\n",
       "      <td>0.350137</td>\n",
       "    </tr>\n",
       "    <tr>\n",
       "      <th>2008Q1</th>\n",
       "      <td>0.438966</td>\n",
       "    </tr>\n",
       "    <tr>\n",
       "      <th>2008Q2</th>\n",
       "      <td>0.615457</td>\n",
       "    </tr>\n",
       "    <tr>\n",
       "      <th>2008Q3</th>\n",
       "      <td>0.119022</td>\n",
       "    </tr>\n",
       "    <tr>\n",
       "      <th>2008Q4</th>\n",
       "      <td>0.257887</td>\n",
       "    </tr>\n",
       "    <tr>\n",
       "      <th>2009Q1</th>\n",
       "      <td>0.129785</td>\n",
       "    </tr>\n",
       "    <tr>\n",
       "      <th>2009Q2</th>\n",
       "      <td>-0.056094</td>\n",
       "    </tr>\n",
       "    <tr>\n",
       "      <th>2009Q3</th>\n",
       "      <td>-0.066123</td>\n",
       "    </tr>\n",
       "  </tbody>\n",
       "</table>\n",
       "</div>"
      ],
      "text/plain": [
       "            infl\n",
       "Period          \n",
       "2006Q4  3.090428\n",
       "2007Q1  1.676421\n",
       "2007Q2  0.219586\n",
       "2007Q3  1.570087\n",
       "2007Q4  0.350137\n",
       "2008Q1  0.438966\n",
       "2008Q2  0.615457\n",
       "2008Q3  0.119022\n",
       "2008Q4  0.257887\n",
       "2009Q1  0.129785\n",
       "2009Q2 -0.056094\n",
       "2009Q3 -0.066123"
      ]
     },
     "execution_count": 26,
     "metadata": {},
     "output_type": "execute_result"
    }
   ],
   "source": [
    "pipe.fit(y=y_train, X=X_train, fh=fh)\n",
    "result = pipe.predict(X=None, fh=y_test.index)\n",
    "result"
   ]
  },
  {
   "cell_type": "markdown",
   "metadata": {},
   "source": [
    "#### But what are the best hyperparameters?\n",
    "\n",
    "* which forecaster should be used for which variable -> `MultiplexForecaster`\n",
    "* what should be the hyperparameters of the forecaster\n",
    "* which features should be used for the different forecasters -> Tune the edges of the graphical pipeline!\n",
    "\n",
    "**Idea:** Combine graphical pipeline with ForecastingGridSearchCV.\n"
   ]
  },
  {
   "cell_type": "markdown",
   "metadata": {},
   "source": [
    "##### Simple Example\n",
    "\n",
    "1. Define blueprint pipeline"
   ]
  },
  {
   "cell_type": "code",
   "execution_count": 27,
   "metadata": {},
   "outputs": [],
   "source": [
    "differencer = Differencer()\n",
    "\n",
    "pipe = Pipeline(\n",
    "    [\n",
    "        {\"skobject\": differencer, \"name\": \"differencery\", \"edges\": {\"X\": \"y\"}},\n",
    "        {\"skobject\": Differencer(), \"name\": \"differencerX\", \"edges\": {\"X\": \"X\"}},\n",
    "        {\n",
    "            \"skobject\": MultiplexForecaster([\n",
    "                (\"arima\", ARIMA()),\n",
    "                (\"ridge\", make_reduction(Ridge(), windows_identical=False, window_length=3)),\n",
    "                (\"lasso\", make_reduction(Lasso(), windows_identical=False, window_length=3))\n",
    "            ]),\n",
    "            \"name\": \"forecaster\",\n",
    "            \"edges\": {\"X\": \"differencerX\", \"y\": \"differencery\"},\n",
    "        },\n",
    "        {\n",
    "            \"skobject\": differencer,\n",
    "            \"name\": \"differencer_inv\",\n",
    "            \"edges\": {\"X\": \"forecaster\"},\n",
    "            \"method\": \"inverse_transform\",\n",
    "        },\n",
    "    ]\n",
    ")"
   ]
  },
  {
   "cell_type": "markdown",
   "metadata": {},
   "source": [
    "2. Create parameter grid\n",
    "\n",
    "The keys of the dictionary are the parameters' in the pipeline, and the values specify which options should be tested.\n",
    "Keys have the following structure: parameter of a step `<step_name>__skobject__<parameter-name>` and input edges of a step `<step-name>__edges__<Xory>`."
   ]
  },
  {
   "cell_type": "code",
   "execution_count": 28,
   "metadata": {},
   "outputs": [],
   "source": [
    "param_grid = {\n",
    "    \"forecaster__skobject__selected_forecaster\": [\"ridge\", \"lasso\", \"arima\"],\n",
    "    \"forecaster__edges__X\": [\n",
    "        [],\n",
    "        [\"differencerX\"],\n",
    "    ],\n",
    "}"
   ]
  },
  {
   "cell_type": "markdown",
   "metadata": {
    "collapsed": false
   },
   "source": [
    "3. Initialise the gridsearch using pipeline, cross-validation strategy, scoring, and param_grid.\n"
   ]
  },
  {
   "cell_type": "code",
   "execution_count": 29,
   "metadata": {},
   "outputs": [],
   "source": [
    "gridcv = ForecastingGridSearchCV(\n",
    "    pipe,\n",
    "    cv=SlidingWindowSplitter(\n",
    "        window_length=len(X_train) - 4,\n",
    "        step_length=4,\n",
    "        fh=[1, 2, 3, 4],\n",
    "    ),\n",
    "    scoring=mean_absolute_error,\n",
    "    param_grid=param_grid,\n",
    ")"
   ]
  },
  {
   "cell_type": "markdown",
   "metadata": {},
   "source": [
    "4. Perform Grid Search"
   ]
  },
  {
   "cell_type": "code",
   "execution_count": 30,
   "metadata": {},
   "outputs": [
    {
     "name": "stderr",
     "output_type": "stream",
     "text": [
      "c:\\Users\\bi4372\\PycharmProjects\\sktime-workshop-pydata-prague-2023\\venv\\lib\\site-packages\\statsmodels\\base\\model.py:607: ConvergenceWarning: Maximum Likelihood optimization failed to converge. Check mle_retvals\n",
      "  warnings.warn(\"Maximum Likelihood optimization failed to \"\n"
     ]
    },
    {
     "data": {
      "text/html": [
       "<style>#sk-d4495322-5574-43cc-b7fe-f7cd3adbd70f {color: black;background-color: white;}#sk-d4495322-5574-43cc-b7fe-f7cd3adbd70f pre{padding: 0;}#sk-d4495322-5574-43cc-b7fe-f7cd3adbd70f div.sk-toggleable {background-color: white;}#sk-d4495322-5574-43cc-b7fe-f7cd3adbd70f label.sk-toggleable__label {cursor: pointer;display: block;width: 100%;margin-bottom: 0;padding: 0.3em;box-sizing: border-box;text-align: center;}#sk-d4495322-5574-43cc-b7fe-f7cd3adbd70f label.sk-toggleable__label-arrow:before {content: \"▸\";float: left;margin-right: 0.25em;color: #696969;}#sk-d4495322-5574-43cc-b7fe-f7cd3adbd70f label.sk-toggleable__label-arrow:hover:before {color: black;}#sk-d4495322-5574-43cc-b7fe-f7cd3adbd70f div.sk-estimator:hover label.sk-toggleable__label-arrow:before {color: black;}#sk-d4495322-5574-43cc-b7fe-f7cd3adbd70f div.sk-toggleable__content {max-height: 0;max-width: 0;overflow: hidden;text-align: left;background-color: #f0f8ff;}#sk-d4495322-5574-43cc-b7fe-f7cd3adbd70f div.sk-toggleable__content pre {margin: 0.2em;color: black;border-radius: 0.25em;background-color: #f0f8ff;}#sk-d4495322-5574-43cc-b7fe-f7cd3adbd70f input.sk-toggleable__control:checked~div.sk-toggleable__content {max-height: 200px;max-width: 100%;overflow: auto;}#sk-d4495322-5574-43cc-b7fe-f7cd3adbd70f input.sk-toggleable__control:checked~label.sk-toggleable__label-arrow:before {content: \"▾\";}#sk-d4495322-5574-43cc-b7fe-f7cd3adbd70f div.sk-estimator input.sk-toggleable__control:checked~label.sk-toggleable__label {background-color: #d4ebff;}#sk-d4495322-5574-43cc-b7fe-f7cd3adbd70f div.sk-label input.sk-toggleable__control:checked~label.sk-toggleable__label {background-color: #d4ebff;}#sk-d4495322-5574-43cc-b7fe-f7cd3adbd70f input.sk-hidden--visually {border: 0;clip: rect(1px 1px 1px 1px);clip: rect(1px, 1px, 1px, 1px);height: 1px;margin: -1px;overflow: hidden;padding: 0;position: absolute;width: 1px;}#sk-d4495322-5574-43cc-b7fe-f7cd3adbd70f div.sk-estimator {font-family: monospace;background-color: #f0f8ff;border: 1px dotted black;border-radius: 0.25em;box-sizing: border-box;margin-bottom: 0.5em;}#sk-d4495322-5574-43cc-b7fe-f7cd3adbd70f div.sk-estimator:hover {background-color: #d4ebff;}#sk-d4495322-5574-43cc-b7fe-f7cd3adbd70f div.sk-parallel-item::after {content: \"\";width: 100%;border-bottom: 1px solid gray;flex-grow: 1;}#sk-d4495322-5574-43cc-b7fe-f7cd3adbd70f div.sk-label:hover label.sk-toggleable__label {background-color: #d4ebff;}#sk-d4495322-5574-43cc-b7fe-f7cd3adbd70f div.sk-serial::before {content: \"\";position: absolute;border-left: 1px solid gray;box-sizing: border-box;top: 2em;bottom: 0;left: 50%;}#sk-d4495322-5574-43cc-b7fe-f7cd3adbd70f div.sk-serial {display: flex;flex-direction: column;align-items: center;background-color: white;padding-right: 0.2em;padding-left: 0.2em;}#sk-d4495322-5574-43cc-b7fe-f7cd3adbd70f div.sk-item {z-index: 1;}#sk-d4495322-5574-43cc-b7fe-f7cd3adbd70f div.sk-parallel {display: flex;align-items: stretch;justify-content: center;background-color: white;}#sk-d4495322-5574-43cc-b7fe-f7cd3adbd70f div.sk-parallel::before {content: \"\";position: absolute;border-left: 1px solid gray;box-sizing: border-box;top: 2em;bottom: 0;left: 50%;}#sk-d4495322-5574-43cc-b7fe-f7cd3adbd70f div.sk-parallel-item {display: flex;flex-direction: column;position: relative;background-color: white;}#sk-d4495322-5574-43cc-b7fe-f7cd3adbd70f div.sk-parallel-item:first-child::after {align-self: flex-end;width: 50%;}#sk-d4495322-5574-43cc-b7fe-f7cd3adbd70f div.sk-parallel-item:last-child::after {align-self: flex-start;width: 50%;}#sk-d4495322-5574-43cc-b7fe-f7cd3adbd70f div.sk-parallel-item:only-child::after {width: 0;}#sk-d4495322-5574-43cc-b7fe-f7cd3adbd70f div.sk-dashed-wrapped {border: 1px dashed gray;margin: 0 0.4em 0.5em 0.4em;box-sizing: border-box;padding-bottom: 0.4em;background-color: white;position: relative;}#sk-d4495322-5574-43cc-b7fe-f7cd3adbd70f div.sk-label label {font-family: monospace;font-weight: bold;background-color: white;display: inline-block;line-height: 1.2em;}#sk-d4495322-5574-43cc-b7fe-f7cd3adbd70f div.sk-label-container {position: relative;z-index: 2;text-align: center;}#sk-d4495322-5574-43cc-b7fe-f7cd3adbd70f div.sk-container {/* jupyter's `normalize.less` sets `[hidden] { display: none; }` but bootstrap.min.css set `[hidden] { display: none !important; }` so we also need the `!important` here to be able to override the default hidden behavior on the sphinx rendered scikit-learn.org. See: https://github.com/scikit-learn/scikit-learn/issues/21755 */display: inline-block !important;position: relative;}#sk-d4495322-5574-43cc-b7fe-f7cd3adbd70f div.sk-text-repr-fallback {display: none;}</style><div id='sk-d4495322-5574-43cc-b7fe-f7cd3adbd70f' class=\"sk-top-container\"><div class=\"sk-text-repr-fallback\"><pre>ForecastingGridSearchCV(cv=SlidingWindowSplitter(fh=[1, 2, 3, 4], step_length=4,\n",
       "                                                 window_length=187),\n",
       "                        forecaster=Pipeline(steps=[{&#x27;edges&#x27;: {&#x27;X&#x27;: &#x27;y&#x27;},\n",
       "                                                    &#x27;kwargs&#x27;: {},\n",
       "                                                    &#x27;method&#x27;: None,\n",
       "                                                    &#x27;name&#x27;: &#x27;differencery&#x27;,\n",
       "                                                    &#x27;skobject&#x27;: Differencer()},\n",
       "                                                   {&#x27;edges&#x27;: {&#x27;X&#x27;: &#x27;X&#x27;},\n",
       "                                                    &#x27;kwargs&#x27;: {},\n",
       "                                                    &#x27;method&#x27;: None,\n",
       "                                                    &#x27;name&#x27;: &#x27;differencerX&#x27;,\n",
       "                                                    &#x27;skobject&#x27;: Differencer()},\n",
       "                                                   {&#x27;edges&#x27;: {&#x27;X&#x27;: &#x27;differencerX&#x27;,\n",
       "                                                              &#x27;y&#x27;: &#x27;differen...\n",
       "                                                                                                  RecursiveTabularRegressionForecaster(estimator=Lasso(),\n",
       "                                                                                                                                       window_length=3))])},\n",
       "                                                   {&#x27;edges&#x27;: {&#x27;X&#x27;: &#x27;forecaster&#x27;},\n",
       "                                                    &#x27;kwargs&#x27;: {},\n",
       "                                                    &#x27;method&#x27;: &#x27;inverse_transform&#x27;,\n",
       "                                                    &#x27;name&#x27;: &#x27;differencer_inv&#x27;,\n",
       "                                                    &#x27;skobject&#x27;: Differencer()}]),\n",
       "                        param_grid={&#x27;forecaster__edges__X&#x27;: [[],\n",
       "                                                             [&#x27;differencerX&#x27;]],\n",
       "                                    &#x27;forecaster__skobject__selected_forecaster&#x27;: [&#x27;ridge&#x27;,\n",
       "                                                                                  &#x27;lasso&#x27;,\n",
       "                                                                                  &#x27;arima&#x27;]},\n",
       "                        scoring=&lt;function mean_absolute_error at 0x00000287E82D9430&gt;)</pre><b>Please rerun this cell to show the HTML repr or trust the notebook.</b></div><div class=\"sk-container\" hidden><div class=\"sk-item sk-dashed-wrapped\"><div class='sk-label-container'><div class=\"sk-label sk-toggleable\"><input class=\"sk-toggleable__control sk-hidden--visually\" id=UUID('8e41bb3e-29fb-4851-86e4-d648e8eb6a65') type=\"checkbox\" ><label for=UUID('8e41bb3e-29fb-4851-86e4-d648e8eb6a65') class='sk-toggleable__label sk-toggleable__label-arrow'>ForecastingGridSearchCV</label><div class=\"sk-toggleable__content\"><pre>ForecastingGridSearchCV(cv=SlidingWindowSplitter(fh=[1, 2, 3, 4], step_length=4,\n",
       "                                                 window_length=187),\n",
       "                        forecaster=Pipeline(steps=[{&#x27;edges&#x27;: {&#x27;X&#x27;: &#x27;y&#x27;},\n",
       "                                                    &#x27;kwargs&#x27;: {},\n",
       "                                                    &#x27;method&#x27;: None,\n",
       "                                                    &#x27;name&#x27;: &#x27;differencery&#x27;,\n",
       "                                                    &#x27;skobject&#x27;: Differencer()},\n",
       "                                                   {&#x27;edges&#x27;: {&#x27;X&#x27;: &#x27;X&#x27;},\n",
       "                                                    &#x27;kwargs&#x27;: {},\n",
       "                                                    &#x27;method&#x27;: None,\n",
       "                                                    &#x27;name&#x27;: &#x27;differencerX&#x27;,\n",
       "                                                    &#x27;skobject&#x27;: Differencer()},\n",
       "                                                   {&#x27;edges&#x27;: {&#x27;X&#x27;: &#x27;differencerX&#x27;,\n",
       "                                                              &#x27;y&#x27;: &#x27;differen...\n",
       "                                                                                                  RecursiveTabularRegressionForecaster(estimator=Lasso(),\n",
       "                                                                                                                                       window_length=3))])},\n",
       "                                                   {&#x27;edges&#x27;: {&#x27;X&#x27;: &#x27;forecaster&#x27;},\n",
       "                                                    &#x27;kwargs&#x27;: {},\n",
       "                                                    &#x27;method&#x27;: &#x27;inverse_transform&#x27;,\n",
       "                                                    &#x27;name&#x27;: &#x27;differencer_inv&#x27;,\n",
       "                                                    &#x27;skobject&#x27;: Differencer()}]),\n",
       "                        param_grid={&#x27;forecaster__edges__X&#x27;: [[],\n",
       "                                                             [&#x27;differencerX&#x27;]],\n",
       "                                    &#x27;forecaster__skobject__selected_forecaster&#x27;: [&#x27;ridge&#x27;,\n",
       "                                                                                  &#x27;lasso&#x27;,\n",
       "                                                                                  &#x27;arima&#x27;]},\n",
       "                        scoring=&lt;function mean_absolute_error at 0x00000287E82D9430&gt;)</pre></div></div></div><div class=\"sk-parallel\"><div class=\"sk-parallel-item\"><div class=\"sk-item\"><div class=\"sk-serial\"><div class='sk-item'><div class=\"sk-estimator sk-toggleable\"><input class=\"sk-toggleable__control sk-hidden--visually\" id=UUID('955a74b5-3cb6-4d1f-ac92-9ea141fdc5db') type=\"checkbox\" ><label for=UUID('955a74b5-3cb6-4d1f-ac92-9ea141fdc5db') class='sk-toggleable__label sk-toggleable__label-arrow'>SlidingWindowSplitter</label><div class=\"sk-toggleable__content\"><pre>SlidingWindowSplitter(fh=[1, 2, 3, 4], step_length=4, window_length=187)</pre></div></div></div></div></div></div><div class=\"sk-parallel-item\"><div class=\"sk-item\"><div class=\"sk-serial\"><div class='sk-item'><div class=\"sk-estimator sk-toggleable\"><input class=\"sk-toggleable__control sk-hidden--visually\" id=UUID('2abd4190-fee4-421c-81cf-afa213ac67d1') type=\"checkbox\" ><label for=UUID('2abd4190-fee4-421c-81cf-afa213ac67d1') class='sk-toggleable__label sk-toggleable__label-arrow'>Pipeline</label><div class=\"sk-toggleable__content\"><pre>Pipeline(steps=[{&#x27;edges&#x27;: {&#x27;X&#x27;: &#x27;y&#x27;}, &#x27;kwargs&#x27;: {}, &#x27;method&#x27;: None,\n",
       "                 &#x27;name&#x27;: &#x27;differencery&#x27;, &#x27;skobject&#x27;: Differencer()},\n",
       "                {&#x27;edges&#x27;: {&#x27;X&#x27;: &#x27;X&#x27;}, &#x27;kwargs&#x27;: {}, &#x27;method&#x27;: None,\n",
       "                 &#x27;name&#x27;: &#x27;differencerX&#x27;, &#x27;skobject&#x27;: Differencer()},\n",
       "                {&#x27;edges&#x27;: {&#x27;X&#x27;: &#x27;differencerX&#x27;, &#x27;y&#x27;: &#x27;differencery&#x27;},\n",
       "                 &#x27;kwargs&#x27;: {}, &#x27;method&#x27;: None, &#x27;name&#x27;: &#x27;forecaster&#x27;,\n",
       "                 &#x27;skobject&#x27;: MultiplexForecaster(forecasters=[(&#x27;arima&#x27;,\n",
       "                                                               ARIMA()),\n",
       "                                                              (&#x27;ridge&#x27;,\n",
       "                                                               RecursiveTabularRegressionForecaster(estimator=Ridge(),\n",
       "                                                                                                    window_length=3)),\n",
       "                                                              (&#x27;lasso&#x27;,\n",
       "                                                               RecursiveTabularRegressionForecaster(estimator=Lasso(),\n",
       "                                                                                                    window_length=3))])},\n",
       "                {&#x27;edges&#x27;: {&#x27;X&#x27;: &#x27;forecaster&#x27;}, &#x27;kwargs&#x27;: {},\n",
       "                 &#x27;method&#x27;: &#x27;inverse_transform&#x27;, &#x27;name&#x27;: &#x27;differencer_inv&#x27;,\n",
       "                 &#x27;skobject&#x27;: Differencer()}])</pre></div></div></div></div></div></div></div></div></div></div>"
      ],
      "text/plain": [
       "ForecastingGridSearchCV(cv=SlidingWindowSplitter(fh=[1, 2, 3, 4], step_length=4,\n",
       "                                                 window_length=187),\n",
       "                        forecaster=Pipeline(steps=[{'edges': {'X': 'y'},\n",
       "                                                    'kwargs': {},\n",
       "                                                    'method': None,\n",
       "                                                    'name': 'differencery',\n",
       "                                                    'skobject': Differencer()},\n",
       "                                                   {'edges': {'X': 'X'},\n",
       "                                                    'kwargs': {},\n",
       "                                                    'method': None,\n",
       "                                                    'name': 'differencerX',\n",
       "                                                    'skobject': Differencer()},\n",
       "                                                   {'edges': {'X': 'differencerX',\n",
       "                                                              'y': 'differen...\n",
       "                                                                                                  RecursiveTabularRegressionForecaster(estimator=Lasso(),\n",
       "                                                                                                                                       window_length=3))])},\n",
       "                                                   {'edges': {'X': 'forecaster'},\n",
       "                                                    'kwargs': {},\n",
       "                                                    'method': 'inverse_transform',\n",
       "                                                    'name': 'differencer_inv',\n",
       "                                                    'skobject': Differencer()}]),\n",
       "                        param_grid={'forecaster__edges__X': [[],\n",
       "                                                             ['differencerX']],\n",
       "                                    'forecaster__skobject__selected_forecaster': ['ridge',\n",
       "                                                                                  'lasso',\n",
       "                                                                                  'arima']},\n",
       "                        scoring=<function mean_absolute_error at 0x00000287E82D9430>)"
      ]
     },
     "execution_count": 30,
     "metadata": {},
     "output_type": "execute_result"
    }
   ],
   "source": [
    "gridcv.fit(y=y_train, X=X_train)"
   ]
  },
  {
   "cell_type": "code",
   "execution_count": 31,
   "metadata": {},
   "outputs": [
    {
     "data": {
      "text/plain": [
       "{'forecaster__edges__X': [],\n",
       " 'forecaster__skobject__selected_forecaster': 'ridge'}"
      ]
     },
     "execution_count": 31,
     "metadata": {},
     "output_type": "execute_result"
    }
   ],
   "source": [
    "gridcv.best_params_"
   ]
  },
  {
   "cell_type": "markdown",
   "metadata": {},
   "source": [
    "#### Hyperparamter optimisation for complex example\n",
    "\n",
    "<img src=\"img/graphical_pipeline_example_grid.png\" width=900  style=\"background-color:white; padding:5px\" />\n",
    "\n",
    "1. Create blue print of the pipeline"
   ]
  },
  {
   "cell_type": "code",
   "execution_count": 32,
   "metadata": {},
   "outputs": [],
   "source": [
    "pipe = Pipeline()\n",
    "sklearn_scaler = StandardScaler()\n",
    "sktime_scaler = TabularToSeriesAdaptor(sklearn_scaler)\n",
    "deseasonalizer = Deseasonalizer(sp=4)\n",
    "\n",
    "pipe = pipe.add_step(\n",
    "    sktime_scaler, name=\"scaler\", edges={\"X\": \"X__realgdp_realdpi_unemp\"}\n",
    ")\n",
    "pipe = pipe.add_step(\n",
    "    deseasonalizer, name=\"deseasonalizer\", edges={\"X\": \"X__realgdp_realdpi\"}\n",
    ")\n",
    "\n",
    "pipe = pipe.add_step(\n",
    "    MultiplexForecaster(\n",
    "        [\n",
    "            (\n",
    "                \"ridge\",\n",
    "                make_reduction(Ridge(), windows_identical=False, window_length=5),\n",
    "            ),\n",
    "            (\n",
    "                \"lasso\",\n",
    "                make_reduction(Lasso(), windows_identical=False, window_length=5),\n",
    "            ),\n",
    "        ]\n",
    "    ),\n",
    "    name=\"forecaster_gdp\",\n",
    "    edges={\"y\": \"deseasonalizer__realgdp\"},\n",
    ")\n",
    "\n",
    "pipe = pipe.add_step(\n",
    "    MultiplexForecaster(\n",
    "        [\n",
    "            (\n",
    "                \"ridge\",\n",
    "                make_reduction(Ridge(), windows_identical=False, window_length=5),\n",
    "            ),\n",
    "            (\n",
    "                \"lasso\",\n",
    "                make_reduction(Lasso(), windows_identical=False, window_length=5),\n",
    "            ),\n",
    "        ]\n",
    "    ),\n",
    "    name=\"forecaster_dpi\",\n",
    "    edges={\"y\": \"deseasonalizer__realdpi\"},\n",
    ")\n",
    "\n",
    "pipe = pipe.add_step(\n",
    "    MultiplexForecaster(\n",
    "        [\n",
    "            (\n",
    "                \"ridge\",\n",
    "                make_reduction(Ridge(), windows_identical=False, window_length=5),\n",
    "            ),\n",
    "            (\n",
    "                \"lasso\",\n",
    "                make_reduction(Lasso(), windows_identical=False, window_length=5),\n",
    "            ),\n",
    "        ]\n",
    "    ),\n",
    "    name=\"forecaster_unemp\",\n",
    "    edges={\n",
    "        \"y\": \"scaler__unemp\",\n",
    "        \"X\": [\n",
    "            \"forecaster_gdp\",\n",
    "            \"forecaster_dpi\",\n",
    "        ],\n",
    "    },\n",
    ")\n",
    "\n",
    "pipe = pipe.add_step(\n",
    "    MultiplexForecaster(\n",
    "        [\n",
    "            (\n",
    "                \"ridge\",\n",
    "                make_reduction(Ridge(), windows_identical=False, window_length=5),\n",
    "            ),\n",
    "            (\n",
    "                \"lasso\",\n",
    "                make_reduction(Lasso(), windows_identical=False, window_length=5),\n",
    "            ),\n",
    "        ]\n",
    "    ),\n",
    "    name=\"forecaster_inflation\",\n",
    "    edges={\"X\": [\"forecaster_dpi\", \"forecaster_unemp\"], \"y\": \"y\"},\n",
    ")"
   ]
  },
  {
   "cell_type": "markdown",
   "metadata": {},
   "source": [
    "2. Specify Parameter Grid"
   ]
  },
  {
   "cell_type": "code",
   "execution_count": 33,
   "metadata": {
    "collapsed": false
   },
   "outputs": [],
   "source": [
    "param_grid = {\n",
    "    \"forecaster_inflation__skobject__selected_forecaster\": [\"ridge\", \"lasso\"],\n",
    "    \"forecaster_unemp__skobject__selected_forecaster\": [\"ridge\", \"lasso\"],\n",
    "    \"forecaster_dpi__skobject__selected_forecaster\": [\"ridge\", \"lasso\"],\n",
    "    \"forecaster_gdp__skobject__selected_forecaster\": [\"ridge\", \"lasso\"],\n",
    "    \"forecaster_inflation__edges__X\": [\n",
    "        [\"forecaster_unemp\"],\n",
    "        [\"forecaster_unemp\", \"forecaster_dpi\"],\n",
    "    ],\n",
    "    \"forecaster_unemp__edges__X\": [\n",
    "        [],\n",
    "        [\"forecaster_dpi\"],\n",
    "        [\"forecaster_gdp\", \"forecaster_dpi\"],\n",
    "    ],\n",
    "    \"deseasonalizer__edges__X\": [\"X__realgdp_realdpi\", \"scaler__realgdp_realdpi\"],\n",
    "}"
   ]
  },
  {
   "cell_type": "markdown",
   "metadata": {
    "collapsed": false
   },
   "source": [
    "3. Initialise the gridsearch using pipeline, cross-validation strategy, scoring, and param_grid.\n"
   ]
  },
  {
   "cell_type": "code",
   "execution_count": 34,
   "metadata": {
    "collapsed": false
   },
   "outputs": [],
   "source": [
    "gridcv = ForecastingGridSearchCV(\n",
    "    pipe,\n",
    "    cv=SlidingWindowSplitter(\n",
    "        window_length=len(X_train) - 20,\n",
    "        step_length=4,\n",
    "        fh=[1, 2, 3, 4, 5, 6, 7, 8, 9, 10, 11, 12],\n",
    "    ),\n",
    "    scoring=mean_absolute_error,\n",
    "    param_grid=param_grid,\n",
    "    n_jobs=-1,\n",
    ")"
   ]
  },
  {
   "cell_type": "markdown",
   "metadata": {
    "collapsed": false
   },
   "source": [
    "4. Call fit on the gridsearch object.\n"
   ]
  },
  {
   "cell_type": "code",
   "execution_count": 35,
   "metadata": {
    "collapsed": false
   },
   "outputs": [
    {
     "data": {
      "text/html": [
       "<style>#sk-ac044853-d1bd-467b-bcc3-847d5e4b683e {color: black;background-color: white;}#sk-ac044853-d1bd-467b-bcc3-847d5e4b683e pre{padding: 0;}#sk-ac044853-d1bd-467b-bcc3-847d5e4b683e div.sk-toggleable {background-color: white;}#sk-ac044853-d1bd-467b-bcc3-847d5e4b683e label.sk-toggleable__label {cursor: pointer;display: block;width: 100%;margin-bottom: 0;padding: 0.3em;box-sizing: border-box;text-align: center;}#sk-ac044853-d1bd-467b-bcc3-847d5e4b683e label.sk-toggleable__label-arrow:before {content: \"▸\";float: left;margin-right: 0.25em;color: #696969;}#sk-ac044853-d1bd-467b-bcc3-847d5e4b683e label.sk-toggleable__label-arrow:hover:before {color: black;}#sk-ac044853-d1bd-467b-bcc3-847d5e4b683e div.sk-estimator:hover label.sk-toggleable__label-arrow:before {color: black;}#sk-ac044853-d1bd-467b-bcc3-847d5e4b683e div.sk-toggleable__content {max-height: 0;max-width: 0;overflow: hidden;text-align: left;background-color: #f0f8ff;}#sk-ac044853-d1bd-467b-bcc3-847d5e4b683e div.sk-toggleable__content pre {margin: 0.2em;color: black;border-radius: 0.25em;background-color: #f0f8ff;}#sk-ac044853-d1bd-467b-bcc3-847d5e4b683e input.sk-toggleable__control:checked~div.sk-toggleable__content {max-height: 200px;max-width: 100%;overflow: auto;}#sk-ac044853-d1bd-467b-bcc3-847d5e4b683e input.sk-toggleable__control:checked~label.sk-toggleable__label-arrow:before {content: \"▾\";}#sk-ac044853-d1bd-467b-bcc3-847d5e4b683e div.sk-estimator input.sk-toggleable__control:checked~label.sk-toggleable__label {background-color: #d4ebff;}#sk-ac044853-d1bd-467b-bcc3-847d5e4b683e div.sk-label input.sk-toggleable__control:checked~label.sk-toggleable__label {background-color: #d4ebff;}#sk-ac044853-d1bd-467b-bcc3-847d5e4b683e input.sk-hidden--visually {border: 0;clip: rect(1px 1px 1px 1px);clip: rect(1px, 1px, 1px, 1px);height: 1px;margin: -1px;overflow: hidden;padding: 0;position: absolute;width: 1px;}#sk-ac044853-d1bd-467b-bcc3-847d5e4b683e div.sk-estimator {font-family: monospace;background-color: #f0f8ff;border: 1px dotted black;border-radius: 0.25em;box-sizing: border-box;margin-bottom: 0.5em;}#sk-ac044853-d1bd-467b-bcc3-847d5e4b683e div.sk-estimator:hover {background-color: #d4ebff;}#sk-ac044853-d1bd-467b-bcc3-847d5e4b683e div.sk-parallel-item::after {content: \"\";width: 100%;border-bottom: 1px solid gray;flex-grow: 1;}#sk-ac044853-d1bd-467b-bcc3-847d5e4b683e div.sk-label:hover label.sk-toggleable__label {background-color: #d4ebff;}#sk-ac044853-d1bd-467b-bcc3-847d5e4b683e div.sk-serial::before {content: \"\";position: absolute;border-left: 1px solid gray;box-sizing: border-box;top: 2em;bottom: 0;left: 50%;}#sk-ac044853-d1bd-467b-bcc3-847d5e4b683e div.sk-serial {display: flex;flex-direction: column;align-items: center;background-color: white;padding-right: 0.2em;padding-left: 0.2em;}#sk-ac044853-d1bd-467b-bcc3-847d5e4b683e div.sk-item {z-index: 1;}#sk-ac044853-d1bd-467b-bcc3-847d5e4b683e div.sk-parallel {display: flex;align-items: stretch;justify-content: center;background-color: white;}#sk-ac044853-d1bd-467b-bcc3-847d5e4b683e div.sk-parallel::before {content: \"\";position: absolute;border-left: 1px solid gray;box-sizing: border-box;top: 2em;bottom: 0;left: 50%;}#sk-ac044853-d1bd-467b-bcc3-847d5e4b683e div.sk-parallel-item {display: flex;flex-direction: column;position: relative;background-color: white;}#sk-ac044853-d1bd-467b-bcc3-847d5e4b683e div.sk-parallel-item:first-child::after {align-self: flex-end;width: 50%;}#sk-ac044853-d1bd-467b-bcc3-847d5e4b683e div.sk-parallel-item:last-child::after {align-self: flex-start;width: 50%;}#sk-ac044853-d1bd-467b-bcc3-847d5e4b683e div.sk-parallel-item:only-child::after {width: 0;}#sk-ac044853-d1bd-467b-bcc3-847d5e4b683e div.sk-dashed-wrapped {border: 1px dashed gray;margin: 0 0.4em 0.5em 0.4em;box-sizing: border-box;padding-bottom: 0.4em;background-color: white;position: relative;}#sk-ac044853-d1bd-467b-bcc3-847d5e4b683e div.sk-label label {font-family: monospace;font-weight: bold;background-color: white;display: inline-block;line-height: 1.2em;}#sk-ac044853-d1bd-467b-bcc3-847d5e4b683e div.sk-label-container {position: relative;z-index: 2;text-align: center;}#sk-ac044853-d1bd-467b-bcc3-847d5e4b683e div.sk-container {/* jupyter's `normalize.less` sets `[hidden] { display: none; }` but bootstrap.min.css set `[hidden] { display: none !important; }` so we also need the `!important` here to be able to override the default hidden behavior on the sphinx rendered scikit-learn.org. See: https://github.com/scikit-learn/scikit-learn/issues/21755 */display: inline-block !important;position: relative;}#sk-ac044853-d1bd-467b-bcc3-847d5e4b683e div.sk-text-repr-fallback {display: none;}</style><div id='sk-ac044853-d1bd-467b-bcc3-847d5e4b683e' class=\"sk-top-container\"><div class=\"sk-text-repr-fallback\"><pre>ForecastingGridSearchCV(cv=SlidingWindowSplitter(fh=[1, 2, 3, 4, 5, 6, 7, 8, 9,\n",
       "                                                     10, 11, 12],\n",
       "                                                 step_length=4,\n",
       "                                                 window_length=171),\n",
       "                        forecaster=Pipeline(steps=[{&#x27;edges&#x27;: {&#x27;X&#x27;: &#x27;X__realgdp_realdpi_unemp&#x27;},\n",
       "                                                    &#x27;kwargs&#x27;: {},\n",
       "                                                    &#x27;method&#x27;: None,\n",
       "                                                    &#x27;name&#x27;: &#x27;scaler&#x27;,\n",
       "                                                    &#x27;skobject&#x27;: TabularToSeriesAdaptor(transformer=StandardScaler())},\n",
       "                                                   {&#x27;edges&#x27;: {&#x27;X&#x27;: &#x27;X__realgdp_realdpi&#x27;},\n",
       "                                                    &#x27;kwargs&#x27;: {},\n",
       "                                                    &#x27;method&#x27;: Non...\n",
       "                                    &#x27;forecaster_inflation__edges__X&#x27;: [[&#x27;forecaster_unemp&#x27;],\n",
       "                                                                       [&#x27;forecaster_unemp&#x27;,\n",
       "                                                                        &#x27;forecaster_dpi&#x27;]],\n",
       "                                    &#x27;forecaster_inflation__skobject__selected_forecaster&#x27;: [&#x27;ridge&#x27;,\n",
       "                                                                                            &#x27;lasso&#x27;],\n",
       "                                    &#x27;forecaster_unemp__edges__X&#x27;: [[],\n",
       "                                                                   [&#x27;forecaster_dpi&#x27;],\n",
       "                                                                   [&#x27;forecaster_gdp&#x27;,\n",
       "                                                                    &#x27;forecaster_dpi&#x27;]],\n",
       "                                    &#x27;forecaster_unemp__skobject__selected_forecaster&#x27;: [&#x27;ridge&#x27;,\n",
       "                                                                                        &#x27;lasso&#x27;]},\n",
       "                        scoring=&lt;function mean_absolute_error at 0x00000287E82D9430&gt;)</pre><b>Please rerun this cell to show the HTML repr or trust the notebook.</b></div><div class=\"sk-container\" hidden><div class=\"sk-item sk-dashed-wrapped\"><div class='sk-label-container'><div class=\"sk-label sk-toggleable\"><input class=\"sk-toggleable__control sk-hidden--visually\" id=UUID('8c9fb186-3f11-4270-a002-b1842e1c01e3') type=\"checkbox\" ><label for=UUID('8c9fb186-3f11-4270-a002-b1842e1c01e3') class='sk-toggleable__label sk-toggleable__label-arrow'>ForecastingGridSearchCV</label><div class=\"sk-toggleable__content\"><pre>ForecastingGridSearchCV(cv=SlidingWindowSplitter(fh=[1, 2, 3, 4, 5, 6, 7, 8, 9,\n",
       "                                                     10, 11, 12],\n",
       "                                                 step_length=4,\n",
       "                                                 window_length=171),\n",
       "                        forecaster=Pipeline(steps=[{&#x27;edges&#x27;: {&#x27;X&#x27;: &#x27;X__realgdp_realdpi_unemp&#x27;},\n",
       "                                                    &#x27;kwargs&#x27;: {},\n",
       "                                                    &#x27;method&#x27;: None,\n",
       "                                                    &#x27;name&#x27;: &#x27;scaler&#x27;,\n",
       "                                                    &#x27;skobject&#x27;: TabularToSeriesAdaptor(transformer=StandardScaler())},\n",
       "                                                   {&#x27;edges&#x27;: {&#x27;X&#x27;: &#x27;X__realgdp_realdpi&#x27;},\n",
       "                                                    &#x27;kwargs&#x27;: {},\n",
       "                                                    &#x27;method&#x27;: Non...\n",
       "                                    &#x27;forecaster_inflation__edges__X&#x27;: [[&#x27;forecaster_unemp&#x27;],\n",
       "                                                                       [&#x27;forecaster_unemp&#x27;,\n",
       "                                                                        &#x27;forecaster_dpi&#x27;]],\n",
       "                                    &#x27;forecaster_inflation__skobject__selected_forecaster&#x27;: [&#x27;ridge&#x27;,\n",
       "                                                                                            &#x27;lasso&#x27;],\n",
       "                                    &#x27;forecaster_unemp__edges__X&#x27;: [[],\n",
       "                                                                   [&#x27;forecaster_dpi&#x27;],\n",
       "                                                                   [&#x27;forecaster_gdp&#x27;,\n",
       "                                                                    &#x27;forecaster_dpi&#x27;]],\n",
       "                                    &#x27;forecaster_unemp__skobject__selected_forecaster&#x27;: [&#x27;ridge&#x27;,\n",
       "                                                                                        &#x27;lasso&#x27;]},\n",
       "                        scoring=&lt;function mean_absolute_error at 0x00000287E82D9430&gt;)</pre></div></div></div><div class=\"sk-parallel\"><div class=\"sk-parallel-item\"><div class=\"sk-item\"><div class=\"sk-serial\"><div class='sk-item'><div class=\"sk-estimator sk-toggleable\"><input class=\"sk-toggleable__control sk-hidden--visually\" id=UUID('72dfcb84-9d01-4c6c-bc3f-1537bd5a89d2') type=\"checkbox\" ><label for=UUID('72dfcb84-9d01-4c6c-bc3f-1537bd5a89d2') class='sk-toggleable__label sk-toggleable__label-arrow'>SlidingWindowSplitter</label><div class=\"sk-toggleable__content\"><pre>SlidingWindowSplitter(fh=[1, 2, 3, 4, 5, 6, 7, 8, 9, 10, 11, 12], step_length=4,\n",
       "                      window_length=171)</pre></div></div></div></div></div></div><div class=\"sk-parallel-item\"><div class=\"sk-item\"><div class=\"sk-serial\"><div class='sk-item'><div class=\"sk-estimator sk-toggleable\"><input class=\"sk-toggleable__control sk-hidden--visually\" id=UUID('abd503d2-3314-4f0d-bb35-3d2f40e7ffd7') type=\"checkbox\" ><label for=UUID('abd503d2-3314-4f0d-bb35-3d2f40e7ffd7') class='sk-toggleable__label sk-toggleable__label-arrow'>Pipeline</label><div class=\"sk-toggleable__content\"><pre>Pipeline(steps=[{&#x27;edges&#x27;: {&#x27;X&#x27;: &#x27;X__realgdp_realdpi_unemp&#x27;}, &#x27;kwargs&#x27;: {},\n",
       "                 &#x27;method&#x27;: None, &#x27;name&#x27;: &#x27;scaler&#x27;,\n",
       "                 &#x27;skobject&#x27;: TabularToSeriesAdaptor(transformer=StandardScaler())},\n",
       "                {&#x27;edges&#x27;: {&#x27;X&#x27;: &#x27;X__realgdp_realdpi&#x27;}, &#x27;kwargs&#x27;: {},\n",
       "                 &#x27;method&#x27;: None, &#x27;name&#x27;: &#x27;deseasonalizer&#x27;,\n",
       "                 &#x27;skobject&#x27;: Deseasonalizer(sp=4)},\n",
       "                {&#x27;edges&#x27;: {&#x27;y&#x27;: &#x27;deseasonalizer__realgdp&#x27;}, &#x27;kwargs&#x27;: {},\n",
       "                 &#x27;method&#x27;: None...\n",
       "                                                                                                    window_length=5))])},\n",
       "                {&#x27;edges&#x27;: {&#x27;X&#x27;: [&#x27;forecaster_dpi&#x27;, &#x27;forecaster_unemp&#x27;],\n",
       "                           &#x27;y&#x27;: &#x27;y&#x27;},\n",
       "                 &#x27;kwargs&#x27;: {}, &#x27;method&#x27;: None, &#x27;name&#x27;: &#x27;forecaster_inflation&#x27;,\n",
       "                 &#x27;skobject&#x27;: MultiplexForecaster(forecasters=[(&#x27;ridge&#x27;,\n",
       "                                                               RecursiveTabularRegressionForecaster(estimator=Ridge(),\n",
       "                                                                                                    window_length=5)),\n",
       "                                                              (&#x27;lasso&#x27;,\n",
       "                                                               RecursiveTabularRegressionForecaster(estimator=Lasso(),\n",
       "                                                                                                    window_length=5))])}])</pre></div></div></div></div></div></div></div></div></div></div>"
      ],
      "text/plain": [
       "ForecastingGridSearchCV(cv=SlidingWindowSplitter(fh=[1, 2, 3, 4, 5, 6, 7, 8, 9,\n",
       "                                                     10, 11, 12],\n",
       "                                                 step_length=4,\n",
       "                                                 window_length=171),\n",
       "                        forecaster=Pipeline(steps=[{'edges': {'X': 'X__realgdp_realdpi_unemp'},\n",
       "                                                    'kwargs': {},\n",
       "                                                    'method': None,\n",
       "                                                    'name': 'scaler',\n",
       "                                                    'skobject': TabularToSeriesAdaptor(transformer=StandardScaler())},\n",
       "                                                   {'edges': {'X': 'X__realgdp_realdpi'},\n",
       "                                                    'kwargs': {},\n",
       "                                                    'method': Non...\n",
       "                                    'forecaster_inflation__edges__X': [['forecaster_unemp'],\n",
       "                                                                       ['forecaster_unemp',\n",
       "                                                                        'forecaster_dpi']],\n",
       "                                    'forecaster_inflation__skobject__selected_forecaster': ['ridge',\n",
       "                                                                                            'lasso'],\n",
       "                                    'forecaster_unemp__edges__X': [[],\n",
       "                                                                   ['forecaster_dpi'],\n",
       "                                                                   ['forecaster_gdp',\n",
       "                                                                    'forecaster_dpi']],\n",
       "                                    'forecaster_unemp__skobject__selected_forecaster': ['ridge',\n",
       "                                                                                        'lasso']},\n",
       "                        scoring=<function mean_absolute_error at 0x00000287E82D9430>)"
      ]
     },
     "execution_count": 35,
     "metadata": {},
     "output_type": "execute_result"
    }
   ],
   "source": [
    "gridcv.fit(y=y_train, X=X_train)"
   ]
  },
  {
   "cell_type": "code",
   "execution_count": 36,
   "metadata": {
    "collapsed": false
   },
   "outputs": [
    {
     "data": {
      "text/html": [
       "<div>\n",
       "<style scoped>\n",
       "    .dataframe tbody tr th:only-of-type {\n",
       "        vertical-align: middle;\n",
       "    }\n",
       "\n",
       "    .dataframe tbody tr th {\n",
       "        vertical-align: top;\n",
       "    }\n",
       "\n",
       "    .dataframe thead th {\n",
       "        text-align: right;\n",
       "    }\n",
       "</style>\n",
       "<table border=\"1\" class=\"dataframe\">\n",
       "  <thead>\n",
       "    <tr style=\"text-align: right;\">\n",
       "      <th></th>\n",
       "      <th>mean_test__DynamicForecastingErrorMetric</th>\n",
       "      <th>mean_fit_time</th>\n",
       "      <th>mean_pred_time</th>\n",
       "      <th>params</th>\n",
       "      <th>rank_test__DynamicForecastingErrorMetric</th>\n",
       "    </tr>\n",
       "  </thead>\n",
       "  <tbody>\n",
       "    <tr>\n",
       "      <th>0</th>\n",
       "      <td>1.539329</td>\n",
       "      <td>0.220413</td>\n",
       "      <td>0.128662</td>\n",
       "      <td>{'deseasonalizer__edges__X': 'X__realgdp_reald...</td>\n",
       "      <td>107.5</td>\n",
       "    </tr>\n",
       "    <tr>\n",
       "      <th>1</th>\n",
       "      <td>1.720565</td>\n",
       "      <td>0.156704</td>\n",
       "      <td>0.075365</td>\n",
       "      <td>{'deseasonalizer__edges__X': 'X__realgdp_reald...</td>\n",
       "      <td>119.5</td>\n",
       "    </tr>\n",
       "    <tr>\n",
       "      <th>2</th>\n",
       "      <td>1.394329</td>\n",
       "      <td>0.435990</td>\n",
       "      <td>0.219232</td>\n",
       "      <td>{'deseasonalizer__edges__X': 'X__realgdp_reald...</td>\n",
       "      <td>97.5</td>\n",
       "    </tr>\n",
       "    <tr>\n",
       "      <th>3</th>\n",
       "      <td>1.942051</td>\n",
       "      <td>0.445285</td>\n",
       "      <td>0.230354</td>\n",
       "      <td>{'deseasonalizer__edges__X': 'X__realgdp_reald...</td>\n",
       "      <td>129.5</td>\n",
       "    </tr>\n",
       "    <tr>\n",
       "      <th>4</th>\n",
       "      <td>2.033714</td>\n",
       "      <td>0.318611</td>\n",
       "      <td>0.172922</td>\n",
       "      <td>{'deseasonalizer__edges__X': 'X__realgdp_reald...</td>\n",
       "      <td>136.0</td>\n",
       "    </tr>\n",
       "    <tr>\n",
       "      <th>...</th>\n",
       "      <td>...</td>\n",
       "      <td>...</td>\n",
       "      <td>...</td>\n",
       "      <td>...</td>\n",
       "      <td>...</td>\n",
       "    </tr>\n",
       "    <tr>\n",
       "      <th>187</th>\n",
       "      <td>1.329079</td>\n",
       "      <td>0.391476</td>\n",
       "      <td>0.149731</td>\n",
       "      <td>{'deseasonalizer__edges__X': 'scaler__realgdp_...</td>\n",
       "      <td>48.5</td>\n",
       "    </tr>\n",
       "    <tr>\n",
       "      <th>188</th>\n",
       "      <td>1.329079</td>\n",
       "      <td>0.253248</td>\n",
       "      <td>0.142579</td>\n",
       "      <td>{'deseasonalizer__edges__X': 'scaler__realgdp_...</td>\n",
       "      <td>48.5</td>\n",
       "    </tr>\n",
       "    <tr>\n",
       "      <th>189</th>\n",
       "      <td>1.329079</td>\n",
       "      <td>0.290770</td>\n",
       "      <td>0.131217</td>\n",
       "      <td>{'deseasonalizer__edges__X': 'scaler__realgdp_...</td>\n",
       "      <td>48.5</td>\n",
       "    </tr>\n",
       "    <tr>\n",
       "      <th>190</th>\n",
       "      <td>1.329079</td>\n",
       "      <td>0.292910</td>\n",
       "      <td>0.170033</td>\n",
       "      <td>{'deseasonalizer__edges__X': 'scaler__realgdp_...</td>\n",
       "      <td>48.5</td>\n",
       "    </tr>\n",
       "    <tr>\n",
       "      <th>191</th>\n",
       "      <td>1.329079</td>\n",
       "      <td>0.369142</td>\n",
       "      <td>0.215177</td>\n",
       "      <td>{'deseasonalizer__edges__X': 'scaler__realgdp_...</td>\n",
       "      <td>48.5</td>\n",
       "    </tr>\n",
       "  </tbody>\n",
       "</table>\n",
       "<p>192 rows × 5 columns</p>\n",
       "</div>"
      ],
      "text/plain": [
       "     mean_test__DynamicForecastingErrorMetric  mean_fit_time  mean_pred_time  \\\n",
       "0                                    1.539329       0.220413        0.128662   \n",
       "1                                    1.720565       0.156704        0.075365   \n",
       "2                                    1.394329       0.435990        0.219232   \n",
       "3                                    1.942051       0.445285        0.230354   \n",
       "4                                    2.033714       0.318611        0.172922   \n",
       "..                                        ...            ...             ...   \n",
       "187                                  1.329079       0.391476        0.149731   \n",
       "188                                  1.329079       0.253248        0.142579   \n",
       "189                                  1.329079       0.290770        0.131217   \n",
       "190                                  1.329079       0.292910        0.170033   \n",
       "191                                  1.329079       0.369142        0.215177   \n",
       "\n",
       "                                                params  \\\n",
       "0    {'deseasonalizer__edges__X': 'X__realgdp_reald...   \n",
       "1    {'deseasonalizer__edges__X': 'X__realgdp_reald...   \n",
       "2    {'deseasonalizer__edges__X': 'X__realgdp_reald...   \n",
       "3    {'deseasonalizer__edges__X': 'X__realgdp_reald...   \n",
       "4    {'deseasonalizer__edges__X': 'X__realgdp_reald...   \n",
       "..                                                 ...   \n",
       "187  {'deseasonalizer__edges__X': 'scaler__realgdp_...   \n",
       "188  {'deseasonalizer__edges__X': 'scaler__realgdp_...   \n",
       "189  {'deseasonalizer__edges__X': 'scaler__realgdp_...   \n",
       "190  {'deseasonalizer__edges__X': 'scaler__realgdp_...   \n",
       "191  {'deseasonalizer__edges__X': 'scaler__realgdp_...   \n",
       "\n",
       "     rank_test__DynamicForecastingErrorMetric  \n",
       "0                                       107.5  \n",
       "1                                       119.5  \n",
       "2                                        97.5  \n",
       "3                                       129.5  \n",
       "4                                       136.0  \n",
       "..                                        ...  \n",
       "187                                      48.5  \n",
       "188                                      48.5  \n",
       "189                                      48.5  \n",
       "190                                      48.5  \n",
       "191                                      48.5  \n",
       "\n",
       "[192 rows x 5 columns]"
      ]
     },
     "execution_count": 36,
     "metadata": {},
     "output_type": "execute_result"
    }
   ],
   "source": [
    "gridcv.cv_results_"
   ]
  },
  {
   "cell_type": "code",
   "execution_count": 37,
   "metadata": {
    "collapsed": false
   },
   "outputs": [
    {
     "data": {
      "text/plain": [
       "{'deseasonalizer__edges__X': 'X__realgdp_realdpi',\n",
       " 'forecaster_dpi__skobject__selected_forecaster': 'ridge',\n",
       " 'forecaster_gdp__skobject__selected_forecaster': 'ridge',\n",
       " 'forecaster_inflation__edges__X': ['forecaster_unemp', 'forecaster_dpi'],\n",
       " 'forecaster_inflation__skobject__selected_forecaster': 'lasso',\n",
       " 'forecaster_unemp__edges__X': [],\n",
       " 'forecaster_unemp__skobject__selected_forecaster': 'ridge'}"
      ]
     },
     "execution_count": 37,
     "metadata": {},
     "output_type": "execute_result"
    }
   ],
   "source": [
    "gridcv.best_params_"
   ]
  },
  {
   "cell_type": "markdown",
   "metadata": {},
   "source": [
    "<img src=\"img/graphical_pipeline_example_grid_best_params.png\" width=900  style=\"background-color:white; padding:5px\" />\n"
   ]
  },
  {
   "cell_type": "code",
   "execution_count": 38,
   "metadata": {
    "collapsed": false
   },
   "outputs": [
    {
     "data": {
      "text/html": [
       "<div>\n",
       "<style scoped>\n",
       "    .dataframe tbody tr th:only-of-type {\n",
       "        vertical-align: middle;\n",
       "    }\n",
       "\n",
       "    .dataframe tbody tr th {\n",
       "        vertical-align: top;\n",
       "    }\n",
       "\n",
       "    .dataframe thead th {\n",
       "        text-align: right;\n",
       "    }\n",
       "</style>\n",
       "<table border=\"1\" class=\"dataframe\">\n",
       "  <thead>\n",
       "    <tr style=\"text-align: right;\">\n",
       "      <th></th>\n",
       "      <th>infl</th>\n",
       "    </tr>\n",
       "    <tr>\n",
       "      <th>Period</th>\n",
       "      <th></th>\n",
       "    </tr>\n",
       "  </thead>\n",
       "  <tbody>\n",
       "    <tr>\n",
       "      <th>2006Q4</th>\n",
       "      <td>2.188182</td>\n",
       "    </tr>\n",
       "    <tr>\n",
       "      <th>2007Q1</th>\n",
       "      <td>2.124281</td>\n",
       "    </tr>\n",
       "    <tr>\n",
       "      <th>2007Q2</th>\n",
       "      <td>1.045280</td>\n",
       "    </tr>\n",
       "    <tr>\n",
       "      <th>2007Q3</th>\n",
       "      <td>1.857716</td>\n",
       "    </tr>\n",
       "    <tr>\n",
       "      <th>2007Q4</th>\n",
       "      <td>1.790664</td>\n",
       "    </tr>\n",
       "    <tr>\n",
       "      <th>2008Q1</th>\n",
       "      <td>1.649457</td>\n",
       "    </tr>\n",
       "    <tr>\n",
       "      <th>2008Q2</th>\n",
       "      <td>1.874361</td>\n",
       "    </tr>\n",
       "    <tr>\n",
       "      <th>2008Q3</th>\n",
       "      <td>1.855627</td>\n",
       "    </tr>\n",
       "    <tr>\n",
       "      <th>2008Q4</th>\n",
       "      <td>1.858207</td>\n",
       "    </tr>\n",
       "    <tr>\n",
       "      <th>2009Q1</th>\n",
       "      <td>1.909693</td>\n",
       "    </tr>\n",
       "    <tr>\n",
       "      <th>2009Q2</th>\n",
       "      <td>1.905106</td>\n",
       "    </tr>\n",
       "    <tr>\n",
       "      <th>2009Q3</th>\n",
       "      <td>1.910452</td>\n",
       "    </tr>\n",
       "  </tbody>\n",
       "</table>\n",
       "</div>"
      ],
      "text/plain": [
       "            infl\n",
       "Period          \n",
       "2006Q4  2.188182\n",
       "2007Q1  2.124281\n",
       "2007Q2  1.045280\n",
       "2007Q3  1.857716\n",
       "2007Q4  1.790664\n",
       "2008Q1  1.649457\n",
       "2008Q2  1.874361\n",
       "2008Q3  1.855627\n",
       "2008Q4  1.858207\n",
       "2009Q1  1.909693\n",
       "2009Q2  1.905106\n",
       "2009Q3  1.910452"
      ]
     },
     "execution_count": 38,
     "metadata": {},
     "output_type": "execute_result"
    }
   ],
   "source": [
    "result = gridcv.predict(X=None, fh=y_test.index)\n",
    "result"
   ]
  },
  {
   "cell_type": "markdown",
   "metadata": {
    "collapsed": false
   },
   "source": [
    "### 4.2.3 How does the graphical pipeline compare to the sequential pipeline?\n",
    "\n",
    "Let us try to implement a simplified version of the above example using sequential pipelines with nesting.\n",
    "\n",
    "<img src=\"img/graphical_pipeline_simplified.png\" width=900  style=\"background-color:white; padding:5px\" />\n"
   ]
  },
  {
   "cell_type": "markdown",
   "metadata": {
    "collapsed": false
   },
   "source": [
    "Create sequential pipelines for forecasting the GDP, DPI and unemployment rate.\n"
   ]
  },
  {
   "cell_type": "code",
   "execution_count": 39,
   "metadata": {
    "collapsed": false
   },
   "outputs": [],
   "source": [
    "forecasting_pipeline_gdp = (\n",
    "    ColumnSelect([\"realgdp\"])  # To train the forecaster only on the realgdp column\n",
    "    * Deseasonalizer()\n",
    "    * MultiplexForecaster(\n",
    "        [\n",
    "            (\n",
    "                \"ridge\",\n",
    "                make_reduction(Ridge(), windows_identical=False, window_length=5),\n",
    "            ),\n",
    "            (\n",
    "                \"lasso\",\n",
    "                make_reduction(Lasso(), windows_identical=False, window_length=5),\n",
    "            ),\n",
    "        ]\n",
    "    )\n",
    ")\n",
    "forecasting_pipeline_dpi = (\n",
    "    ColumnSelect([\"realdpi\"])\n",
    "    * Deseasonalizer()\n",
    "    * MultiplexForecaster(\n",
    "        [\n",
    "            (\n",
    "                \"ridge\",\n",
    "                make_reduction(Ridge(), windows_identical=False, window_length=5),\n",
    "            ),\n",
    "            (\n",
    "                \"lasso\",\n",
    "                make_reduction(Lasso(), windows_identical=False, window_length=5),\n",
    "            ),\n",
    "        ]\n",
    "    )\n",
    ")\n",
    "\n",
    "forecasting_pipeline_unemp = (\n",
    "    ColumnSelect([\"unemp\"])\n",
    "    * Deseasonalizer()\n",
    "    * MultiplexForecaster(\n",
    "        [\n",
    "            (\n",
    "                \"ridge\",\n",
    "                make_reduction(Ridge(), windows_identical=False, window_length=5),\n",
    "            ),\n",
    "            (\n",
    "                \"lasso\",\n",
    "                make_reduction(Lasso(), windows_identical=False, window_length=5),\n",
    "            ),\n",
    "        ]\n",
    "    )\n",
    ")"
   ]
  },
  {
   "cell_type": "markdown",
   "metadata": {
    "collapsed": false
   },
   "source": [
    "Use ColunmEnsembleForecaster to combine the forecasts of the DPI, GDP, UNEMP. (Union of forecasts)"
   ]
  },
  {
   "cell_type": "code",
   "execution_count": 40,
   "metadata": {
    "collapsed": false
   },
   "outputs": [],
   "source": [
    "input_inflation_forecast = ColumnEnsembleForecaster(\n",
    "    [\n",
    "        (\"realdpi\", forecasting_pipeline_dpi, \"realdpi\"),\n",
    "        (\"realgdp\", forecasting_pipeline_gdp, \"realgdp\"),\n",
    "        (\"unemp\", forecasting_pipeline_unemp, \"unemp\"),\n",
    "    ]\n",
    ")"
   ]
  },
  {
   "cell_type": "markdown",
   "metadata": {
    "collapsed": false
   },
   "source": [
    "Create the inflation forecaster."
   ]
  },
  {
   "cell_type": "code",
   "execution_count": 41,
   "metadata": {
    "collapsed": false
   },
   "outputs": [],
   "source": [
    "inflation_forecast = ForecastX(\n",
    "    MultiplexForecaster(\n",
    "        [\n",
    "            (\n",
    "                \"ridge\",\n",
    "                make_reduction(Ridge(), windows_identical=False, window_length=5),\n",
    "            ),\n",
    "            (\n",
    "                \"lasso\",\n",
    "                make_reduction(Lasso(), windows_identical=False, window_length=5),\n",
    "            ),\n",
    "        ]\n",
    "    ),\n",
    "    input_inflation_forecast,\n",
    ")"
   ]
  },
  {
   "cell_type": "code",
   "execution_count": 42,
   "metadata": {
    "collapsed": false
   },
   "outputs": [
    {
     "data": {
      "text/html": [
       "<style>#sk-cafde7e2-90d4-4021-ab74-00ecb6c3dd49 {color: black;background-color: white;}#sk-cafde7e2-90d4-4021-ab74-00ecb6c3dd49 pre{padding: 0;}#sk-cafde7e2-90d4-4021-ab74-00ecb6c3dd49 div.sk-toggleable {background-color: white;}#sk-cafde7e2-90d4-4021-ab74-00ecb6c3dd49 label.sk-toggleable__label {cursor: pointer;display: block;width: 100%;margin-bottom: 0;padding: 0.3em;box-sizing: border-box;text-align: center;}#sk-cafde7e2-90d4-4021-ab74-00ecb6c3dd49 label.sk-toggleable__label-arrow:before {content: \"▸\";float: left;margin-right: 0.25em;color: #696969;}#sk-cafde7e2-90d4-4021-ab74-00ecb6c3dd49 label.sk-toggleable__label-arrow:hover:before {color: black;}#sk-cafde7e2-90d4-4021-ab74-00ecb6c3dd49 div.sk-estimator:hover label.sk-toggleable__label-arrow:before {color: black;}#sk-cafde7e2-90d4-4021-ab74-00ecb6c3dd49 div.sk-toggleable__content {max-height: 0;max-width: 0;overflow: hidden;text-align: left;background-color: #f0f8ff;}#sk-cafde7e2-90d4-4021-ab74-00ecb6c3dd49 div.sk-toggleable__content pre {margin: 0.2em;color: black;border-radius: 0.25em;background-color: #f0f8ff;}#sk-cafde7e2-90d4-4021-ab74-00ecb6c3dd49 input.sk-toggleable__control:checked~div.sk-toggleable__content {max-height: 200px;max-width: 100%;overflow: auto;}#sk-cafde7e2-90d4-4021-ab74-00ecb6c3dd49 input.sk-toggleable__control:checked~label.sk-toggleable__label-arrow:before {content: \"▾\";}#sk-cafde7e2-90d4-4021-ab74-00ecb6c3dd49 div.sk-estimator input.sk-toggleable__control:checked~label.sk-toggleable__label {background-color: #d4ebff;}#sk-cafde7e2-90d4-4021-ab74-00ecb6c3dd49 div.sk-label input.sk-toggleable__control:checked~label.sk-toggleable__label {background-color: #d4ebff;}#sk-cafde7e2-90d4-4021-ab74-00ecb6c3dd49 input.sk-hidden--visually {border: 0;clip: rect(1px 1px 1px 1px);clip: rect(1px, 1px, 1px, 1px);height: 1px;margin: -1px;overflow: hidden;padding: 0;position: absolute;width: 1px;}#sk-cafde7e2-90d4-4021-ab74-00ecb6c3dd49 div.sk-estimator {font-family: monospace;background-color: #f0f8ff;border: 1px dotted black;border-radius: 0.25em;box-sizing: border-box;margin-bottom: 0.5em;}#sk-cafde7e2-90d4-4021-ab74-00ecb6c3dd49 div.sk-estimator:hover {background-color: #d4ebff;}#sk-cafde7e2-90d4-4021-ab74-00ecb6c3dd49 div.sk-parallel-item::after {content: \"\";width: 100%;border-bottom: 1px solid gray;flex-grow: 1;}#sk-cafde7e2-90d4-4021-ab74-00ecb6c3dd49 div.sk-label:hover label.sk-toggleable__label {background-color: #d4ebff;}#sk-cafde7e2-90d4-4021-ab74-00ecb6c3dd49 div.sk-serial::before {content: \"\";position: absolute;border-left: 1px solid gray;box-sizing: border-box;top: 2em;bottom: 0;left: 50%;}#sk-cafde7e2-90d4-4021-ab74-00ecb6c3dd49 div.sk-serial {display: flex;flex-direction: column;align-items: center;background-color: white;padding-right: 0.2em;padding-left: 0.2em;}#sk-cafde7e2-90d4-4021-ab74-00ecb6c3dd49 div.sk-item {z-index: 1;}#sk-cafde7e2-90d4-4021-ab74-00ecb6c3dd49 div.sk-parallel {display: flex;align-items: stretch;justify-content: center;background-color: white;}#sk-cafde7e2-90d4-4021-ab74-00ecb6c3dd49 div.sk-parallel::before {content: \"\";position: absolute;border-left: 1px solid gray;box-sizing: border-box;top: 2em;bottom: 0;left: 50%;}#sk-cafde7e2-90d4-4021-ab74-00ecb6c3dd49 div.sk-parallel-item {display: flex;flex-direction: column;position: relative;background-color: white;}#sk-cafde7e2-90d4-4021-ab74-00ecb6c3dd49 div.sk-parallel-item:first-child::after {align-self: flex-end;width: 50%;}#sk-cafde7e2-90d4-4021-ab74-00ecb6c3dd49 div.sk-parallel-item:last-child::after {align-self: flex-start;width: 50%;}#sk-cafde7e2-90d4-4021-ab74-00ecb6c3dd49 div.sk-parallel-item:only-child::after {width: 0;}#sk-cafde7e2-90d4-4021-ab74-00ecb6c3dd49 div.sk-dashed-wrapped {border: 1px dashed gray;margin: 0 0.4em 0.5em 0.4em;box-sizing: border-box;padding-bottom: 0.4em;background-color: white;position: relative;}#sk-cafde7e2-90d4-4021-ab74-00ecb6c3dd49 div.sk-label label {font-family: monospace;font-weight: bold;background-color: white;display: inline-block;line-height: 1.2em;}#sk-cafde7e2-90d4-4021-ab74-00ecb6c3dd49 div.sk-label-container {position: relative;z-index: 2;text-align: center;}#sk-cafde7e2-90d4-4021-ab74-00ecb6c3dd49 div.sk-container {/* jupyter's `normalize.less` sets `[hidden] { display: none; }` but bootstrap.min.css set `[hidden] { display: none !important; }` so we also need the `!important` here to be able to override the default hidden behavior on the sphinx rendered scikit-learn.org. See: https://github.com/scikit-learn/scikit-learn/issues/21755 */display: inline-block !important;position: relative;}#sk-cafde7e2-90d4-4021-ab74-00ecb6c3dd49 div.sk-text-repr-fallback {display: none;}</style><div id='sk-cafde7e2-90d4-4021-ab74-00ecb6c3dd49' class=\"sk-top-container\"><div class=\"sk-text-repr-fallback\"><pre>ForecastX(forecaster_X=ColumnEnsembleForecaster(forecasters=[(&#x27;realdpi&#x27;,\n",
       "                                                              TransformedTargetForecaster(steps=[ColumnSelect(columns=[&#x27;realdpi&#x27;]),\n",
       "                                                                                                 Deseasonalizer(),\n",
       "                                                                                                 MultiplexForecaster(forecasters=[(&#x27;ridge&#x27;,\n",
       "                                                                                                                                   RecursiveTabularRegressionForecaster(estimator=Ridge(),\n",
       "                                                                                                                                                                        window_length=5)),\n",
       "                                                                                                                                  (&#x27;lasso&#x27;,\n",
       "                                                                                                                                   RecursiveTabularRegressionForecaster(estimator=Lasso(),\n",
       "                                                                                                                                                                        window_length...\n",
       "                                                                                                                                   RecursiveTabularRegressionForecaster(estimator=Ridge(),\n",
       "                                                                                                                                                                        window_length=5)),\n",
       "                                                                                                                                  (&#x27;lasso&#x27;,\n",
       "                                                                                                                                   RecursiveTabularRegressionForecaster(estimator=Lasso(),\n",
       "                                                                                                                                                                        window_length=5))])]),\n",
       "                                                              &#x27;unemp&#x27;)]),\n",
       "          forecaster_y=MultiplexForecaster(forecasters=[(&#x27;ridge&#x27;,\n",
       "                                                         RecursiveTabularRegressionForecaster(estimator=Ridge(),\n",
       "                                                                                              window_length=5)),\n",
       "                                                        (&#x27;lasso&#x27;,\n",
       "                                                         RecursiveTabularRegressionForecaster(estimator=Lasso(),\n",
       "                                                                                              window_length=5))]))</pre><b>Please rerun this cell to show the HTML repr or trust the notebook.</b></div><div class=\"sk-container\" hidden><div class=\"sk-item sk-dashed-wrapped\"><div class='sk-label-container'><div class=\"sk-label sk-toggleable\"><input class=\"sk-toggleable__control sk-hidden--visually\" id=UUID('e1c80707-549a-479e-bbf5-a1764920d2b5') type=\"checkbox\" ><label for=UUID('e1c80707-549a-479e-bbf5-a1764920d2b5') class='sk-toggleable__label sk-toggleable__label-arrow'>ForecastX</label><div class=\"sk-toggleable__content\"><pre>ForecastX(forecaster_X=ColumnEnsembleForecaster(forecasters=[(&#x27;realdpi&#x27;,\n",
       "                                                              TransformedTargetForecaster(steps=[ColumnSelect(columns=[&#x27;realdpi&#x27;]),\n",
       "                                                                                                 Deseasonalizer(),\n",
       "                                                                                                 MultiplexForecaster(forecasters=[(&#x27;ridge&#x27;,\n",
       "                                                                                                                                   RecursiveTabularRegressionForecaster(estimator=Ridge(),\n",
       "                                                                                                                                                                        window_length=5)),\n",
       "                                                                                                                                  (&#x27;lasso&#x27;,\n",
       "                                                                                                                                   RecursiveTabularRegressionForecaster(estimator=Lasso(),\n",
       "                                                                                                                                                                        window_length...\n",
       "                                                                                                                                   RecursiveTabularRegressionForecaster(estimator=Ridge(),\n",
       "                                                                                                                                                                        window_length=5)),\n",
       "                                                                                                                                  (&#x27;lasso&#x27;,\n",
       "                                                                                                                                   RecursiveTabularRegressionForecaster(estimator=Lasso(),\n",
       "                                                                                                                                                                        window_length=5))])]),\n",
       "                                                              &#x27;unemp&#x27;)]),\n",
       "          forecaster_y=MultiplexForecaster(forecasters=[(&#x27;ridge&#x27;,\n",
       "                                                         RecursiveTabularRegressionForecaster(estimator=Ridge(),\n",
       "                                                                                              window_length=5)),\n",
       "                                                        (&#x27;lasso&#x27;,\n",
       "                                                         RecursiveTabularRegressionForecaster(estimator=Lasso(),\n",
       "                                                                                              window_length=5))]))</pre></div></div></div><div class=\"sk-parallel\"><div class=\"sk-parallel-item\"><div class=\"sk-item\"><div class=\"sk-serial\"><div class=\"sk-item sk-dashed-wrapped\"><div class=\"sk-parallel\"><div class=\"sk-parallel-item\"><div class=\"sk-item\"><div class=\"sk-serial\"><div class=\"sk-item sk-dashed-wrapped\"><div class=\"sk-parallel\"><div class=\"sk-parallel-item\"><div class=\"sk-item\"><div class=\"sk-serial\"><div class='sk-item'><div class=\"sk-estimator sk-toggleable\"><input class=\"sk-toggleable__control sk-hidden--visually\" id=UUID('4da19fd1-ef3c-41fe-8b20-d4c0efc23d92') type=\"checkbox\" ><label for=UUID('4da19fd1-ef3c-41fe-8b20-d4c0efc23d92') class='sk-toggleable__label sk-toggleable__label-arrow'>ColumnSelect</label><div class=\"sk-toggleable__content\"><pre>ColumnSelect(columns=[&#x27;realdpi&#x27;])</pre></div></div></div></div></div></div><div class=\"sk-parallel-item\"><div class=\"sk-item\"><div class=\"sk-serial\"><div class='sk-item'><div class=\"sk-estimator sk-toggleable\"><input class=\"sk-toggleable__control sk-hidden--visually\" id=UUID('afd9edb5-3cde-4ed6-a170-5586a4f705c2') type=\"checkbox\" ><label for=UUID('afd9edb5-3cde-4ed6-a170-5586a4f705c2') class='sk-toggleable__label sk-toggleable__label-arrow'>Deseasonalizer</label><div class=\"sk-toggleable__content\"><pre>Deseasonalizer()</pre></div></div></div></div></div></div><div class=\"sk-parallel-item\"><div class=\"sk-item\"><div class=\"sk-serial\"><div class=\"sk-item sk-dashed-wrapped\"><div class=\"sk-parallel\"><div class=\"sk-parallel-item\"><div class=\"sk-item\"><div class=\"sk-serial\"><div class=\"sk-item sk-dashed-wrapped\"><div class=\"sk-parallel\"><div class=\"sk-parallel-item\"><div class=\"sk-item\"><div class=\"sk-serial\"><div class='sk-item'><div class=\"sk-estimator sk-toggleable\"><input class=\"sk-toggleable__control sk-hidden--visually\" id=UUID('a40cd86e-38cc-48c1-aa32-880fb6614828') type=\"checkbox\" ><label for=UUID('a40cd86e-38cc-48c1-aa32-880fb6614828') class='sk-toggleable__label sk-toggleable__label-arrow'>Ridge</label><div class=\"sk-toggleable__content\"><pre>Ridge()</pre></div></div></div></div></div></div></div></div></div></div></div><div class=\"sk-parallel-item\"><div class=\"sk-item\"><div class=\"sk-serial\"><div class=\"sk-item sk-dashed-wrapped\"><div class=\"sk-parallel\"><div class=\"sk-parallel-item\"><div class=\"sk-item\"><div class=\"sk-serial\"><div class='sk-item'><div class=\"sk-estimator sk-toggleable\"><input class=\"sk-toggleable__control sk-hidden--visually\" id=UUID('10cb9a05-c0b0-4d8c-8fc8-702aa91359ff') type=\"checkbox\" ><label for=UUID('10cb9a05-c0b0-4d8c-8fc8-702aa91359ff') class='sk-toggleable__label sk-toggleable__label-arrow'>Lasso</label><div class=\"sk-toggleable__content\"><pre>Lasso()</pre></div></div></div></div></div></div></div></div></div></div></div></div></div></div></div></div></div></div></div></div></div><div class=\"sk-parallel-item\"><div class=\"sk-item\"><div class=\"sk-serial\"><div class=\"sk-item sk-dashed-wrapped\"><div class=\"sk-parallel\"><div class=\"sk-parallel-item\"><div class=\"sk-item\"><div class=\"sk-serial\"><div class='sk-item'><div class=\"sk-estimator sk-toggleable\"><input class=\"sk-toggleable__control sk-hidden--visually\" id=UUID('1756cfa4-d3d3-4952-b594-b8d76269b698') type=\"checkbox\" ><label for=UUID('1756cfa4-d3d3-4952-b594-b8d76269b698') class='sk-toggleable__label sk-toggleable__label-arrow'>ColumnSelect</label><div class=\"sk-toggleable__content\"><pre>ColumnSelect(columns=[&#x27;realgdp&#x27;])</pre></div></div></div></div></div></div><div class=\"sk-parallel-item\"><div class=\"sk-item\"><div class=\"sk-serial\"><div class='sk-item'><div class=\"sk-estimator sk-toggleable\"><input class=\"sk-toggleable__control sk-hidden--visually\" id=UUID('a6a39d52-1803-4f66-85ed-ce0d55964447') type=\"checkbox\" ><label for=UUID('a6a39d52-1803-4f66-85ed-ce0d55964447') class='sk-toggleable__label sk-toggleable__label-arrow'>Deseasonalizer</label><div class=\"sk-toggleable__content\"><pre>Deseasonalizer()</pre></div></div></div></div></div></div><div class=\"sk-parallel-item\"><div class=\"sk-item\"><div class=\"sk-serial\"><div class=\"sk-item sk-dashed-wrapped\"><div class=\"sk-parallel\"><div class=\"sk-parallel-item\"><div class=\"sk-item\"><div class=\"sk-serial\"><div class=\"sk-item sk-dashed-wrapped\"><div class=\"sk-parallel\"><div class=\"sk-parallel-item\"><div class=\"sk-item\"><div class=\"sk-serial\"><div class='sk-item'><div class=\"sk-estimator sk-toggleable\"><input class=\"sk-toggleable__control sk-hidden--visually\" id=UUID('90c5b59b-14f5-4254-bedb-bdda7ffa6046') type=\"checkbox\" ><label for=UUID('90c5b59b-14f5-4254-bedb-bdda7ffa6046') class='sk-toggleable__label sk-toggleable__label-arrow'>Ridge</label><div class=\"sk-toggleable__content\"><pre>Ridge()</pre></div></div></div></div></div></div></div></div></div></div></div><div class=\"sk-parallel-item\"><div class=\"sk-item\"><div class=\"sk-serial\"><div class=\"sk-item sk-dashed-wrapped\"><div class=\"sk-parallel\"><div class=\"sk-parallel-item\"><div class=\"sk-item\"><div class=\"sk-serial\"><div class='sk-item'><div class=\"sk-estimator sk-toggleable\"><input class=\"sk-toggleable__control sk-hidden--visually\" id=UUID('f7932160-817e-4666-80bd-e8b135736e6d') type=\"checkbox\" ><label for=UUID('f7932160-817e-4666-80bd-e8b135736e6d') class='sk-toggleable__label sk-toggleable__label-arrow'>Lasso</label><div class=\"sk-toggleable__content\"><pre>Lasso()</pre></div></div></div></div></div></div></div></div></div></div></div></div></div></div></div></div></div></div></div></div></div><div class=\"sk-parallel-item\"><div class=\"sk-item\"><div class=\"sk-serial\"><div class=\"sk-item sk-dashed-wrapped\"><div class=\"sk-parallel\"><div class=\"sk-parallel-item\"><div class=\"sk-item\"><div class=\"sk-serial\"><div class='sk-item'><div class=\"sk-estimator sk-toggleable\"><input class=\"sk-toggleable__control sk-hidden--visually\" id=UUID('41a6a105-5b5e-4580-82e3-e9a973bf3070') type=\"checkbox\" ><label for=UUID('41a6a105-5b5e-4580-82e3-e9a973bf3070') class='sk-toggleable__label sk-toggleable__label-arrow'>ColumnSelect</label><div class=\"sk-toggleable__content\"><pre>ColumnSelect(columns=[&#x27;unemp&#x27;])</pre></div></div></div></div></div></div><div class=\"sk-parallel-item\"><div class=\"sk-item\"><div class=\"sk-serial\"><div class='sk-item'><div class=\"sk-estimator sk-toggleable\"><input class=\"sk-toggleable__control sk-hidden--visually\" id=UUID('0b84b77b-3ccd-437c-ab54-e283bec1920c') type=\"checkbox\" ><label for=UUID('0b84b77b-3ccd-437c-ab54-e283bec1920c') class='sk-toggleable__label sk-toggleable__label-arrow'>Deseasonalizer</label><div class=\"sk-toggleable__content\"><pre>Deseasonalizer()</pre></div></div></div></div></div></div><div class=\"sk-parallel-item\"><div class=\"sk-item\"><div class=\"sk-serial\"><div class=\"sk-item sk-dashed-wrapped\"><div class=\"sk-parallel\"><div class=\"sk-parallel-item\"><div class=\"sk-item\"><div class=\"sk-serial\"><div class=\"sk-item sk-dashed-wrapped\"><div class=\"sk-parallel\"><div class=\"sk-parallel-item\"><div class=\"sk-item\"><div class=\"sk-serial\"><div class='sk-item'><div class=\"sk-estimator sk-toggleable\"><input class=\"sk-toggleable__control sk-hidden--visually\" id=UUID('859e8ff4-120d-4d6d-a4f6-1bf31a0493aa') type=\"checkbox\" ><label for=UUID('859e8ff4-120d-4d6d-a4f6-1bf31a0493aa') class='sk-toggleable__label sk-toggleable__label-arrow'>Ridge</label><div class=\"sk-toggleable__content\"><pre>Ridge()</pre></div></div></div></div></div></div></div></div></div></div></div><div class=\"sk-parallel-item\"><div class=\"sk-item\"><div class=\"sk-serial\"><div class=\"sk-item sk-dashed-wrapped\"><div class=\"sk-parallel\"><div class=\"sk-parallel-item\"><div class=\"sk-item\"><div class=\"sk-serial\"><div class='sk-item'><div class=\"sk-estimator sk-toggleable\"><input class=\"sk-toggleable__control sk-hidden--visually\" id=UUID('3afe6dcb-e224-473d-8266-5fca416193a9') type=\"checkbox\" ><label for=UUID('3afe6dcb-e224-473d-8266-5fca416193a9') class='sk-toggleable__label sk-toggleable__label-arrow'>Lasso</label><div class=\"sk-toggleable__content\"><pre>Lasso()</pre></div></div></div></div></div></div></div></div></div></div></div></div></div></div></div></div></div></div></div></div></div></div></div></div></div></div><div class=\"sk-parallel-item\"><div class=\"sk-item\"><div class=\"sk-serial\"><div class=\"sk-item sk-dashed-wrapped\"><div class=\"sk-parallel\"><div class=\"sk-parallel-item\"><div class=\"sk-item\"><div class=\"sk-serial\"><div class=\"sk-item sk-dashed-wrapped\"><div class=\"sk-parallel\"><div class=\"sk-parallel-item\"><div class=\"sk-item\"><div class=\"sk-serial\"><div class='sk-item'><div class=\"sk-estimator sk-toggleable\"><input class=\"sk-toggleable__control sk-hidden--visually\" id=UUID('1aa3a0f0-7d48-4dac-ac0a-b669d0a1e536') type=\"checkbox\" ><label for=UUID('1aa3a0f0-7d48-4dac-ac0a-b669d0a1e536') class='sk-toggleable__label sk-toggleable__label-arrow'>Ridge</label><div class=\"sk-toggleable__content\"><pre>Ridge()</pre></div></div></div></div></div></div></div></div></div></div></div><div class=\"sk-parallel-item\"><div class=\"sk-item\"><div class=\"sk-serial\"><div class=\"sk-item sk-dashed-wrapped\"><div class=\"sk-parallel\"><div class=\"sk-parallel-item\"><div class=\"sk-item\"><div class=\"sk-serial\"><div class='sk-item'><div class=\"sk-estimator sk-toggleable\"><input class=\"sk-toggleable__control sk-hidden--visually\" id=UUID('1532ad0d-d74a-43a6-a5a9-6aca490bbcc4') type=\"checkbox\" ><label for=UUID('1532ad0d-d74a-43a6-a5a9-6aca490bbcc4') class='sk-toggleable__label sk-toggleable__label-arrow'>Lasso</label><div class=\"sk-toggleable__content\"><pre>Lasso()</pre></div></div></div></div></div></div></div></div></div></div></div></div></div></div></div></div></div></div></div></div>"
      ],
      "text/plain": [
       "ForecastX(forecaster_X=ColumnEnsembleForecaster(forecasters=[('realdpi',\n",
       "                                                              TransformedTargetForecaster(steps=[ColumnSelect(columns=['realdpi']),\n",
       "                                                                                                 Deseasonalizer(),\n",
       "                                                                                                 MultiplexForecaster(forecasters=[('ridge',\n",
       "                                                                                                                                   RecursiveTabularRegressionForecaster(estimator=Ridge(),\n",
       "                                                                                                                                                                        window_length=5)),\n",
       "                                                                                                                                  ('lasso',\n",
       "                                                                                                                                   RecursiveTabularRegressionForecaster(estimator=Lasso(),\n",
       "                                                                                                                                                                        window_length...\n",
       "                                                                                                                                   RecursiveTabularRegressionForecaster(estimator=Ridge(),\n",
       "                                                                                                                                                                        window_length=5)),\n",
       "                                                                                                                                  ('lasso',\n",
       "                                                                                                                                   RecursiveTabularRegressionForecaster(estimator=Lasso(),\n",
       "                                                                                                                                                                        window_length=5))])]),\n",
       "                                                              'unemp')]),\n",
       "          forecaster_y=MultiplexForecaster(forecasters=[('ridge',\n",
       "                                                         RecursiveTabularRegressionForecaster(estimator=Ridge(),\n",
       "                                                                                              window_length=5)),\n",
       "                                                        ('lasso',\n",
       "                                                         RecursiveTabularRegressionForecaster(estimator=Lasso(),\n",
       "                                                                                              window_length=5))]))"
      ]
     },
     "execution_count": 42,
     "metadata": {},
     "output_type": "execute_result"
    }
   ],
   "source": [
    "inflation_forecast.fit(y=y_train, X=X_train, fh=fh)"
   ]
  },
  {
   "cell_type": "code",
   "execution_count": 43,
   "metadata": {
    "collapsed": false,
    "pycharm": {
     "is_executing": true
    }
   },
   "outputs": [
    {
     "data": {
      "text/html": [
       "<div>\n",
       "<style scoped>\n",
       "    .dataframe tbody tr th:only-of-type {\n",
       "        vertical-align: middle;\n",
       "    }\n",
       "\n",
       "    .dataframe tbody tr th {\n",
       "        vertical-align: top;\n",
       "    }\n",
       "\n",
       "    .dataframe thead th {\n",
       "        text-align: right;\n",
       "    }\n",
       "</style>\n",
       "<table border=\"1\" class=\"dataframe\">\n",
       "  <thead>\n",
       "    <tr style=\"text-align: right;\">\n",
       "      <th></th>\n",
       "      <th>infl</th>\n",
       "    </tr>\n",
       "  </thead>\n",
       "  <tbody>\n",
       "    <tr>\n",
       "      <th>2006Q4</th>\n",
       "      <td>3.979318</td>\n",
       "    </tr>\n",
       "    <tr>\n",
       "      <th>2007Q1</th>\n",
       "      <td>2.347512</td>\n",
       "    </tr>\n",
       "    <tr>\n",
       "      <th>2007Q2</th>\n",
       "      <td>1.443598</td>\n",
       "    </tr>\n",
       "    <tr>\n",
       "      <th>2007Q3</th>\n",
       "      <td>3.914533</td>\n",
       "    </tr>\n",
       "    <tr>\n",
       "      <th>2007Q4</th>\n",
       "      <td>2.533117</td>\n",
       "    </tr>\n",
       "    <tr>\n",
       "      <th>2008Q1</th>\n",
       "      <td>3.278010</td>\n",
       "    </tr>\n",
       "    <tr>\n",
       "      <th>2008Q2</th>\n",
       "      <td>3.861517</td>\n",
       "    </tr>\n",
       "    <tr>\n",
       "      <th>2008Q3</th>\n",
       "      <td>3.487510</td>\n",
       "    </tr>\n",
       "    <tr>\n",
       "      <th>2008Q4</th>\n",
       "      <td>4.195074</td>\n",
       "    </tr>\n",
       "    <tr>\n",
       "      <th>2009Q1</th>\n",
       "      <td>4.294984</td>\n",
       "    </tr>\n",
       "    <tr>\n",
       "      <th>2009Q2</th>\n",
       "      <td>4.433578</td>\n",
       "    </tr>\n",
       "    <tr>\n",
       "      <th>2009Q3</th>\n",
       "      <td>4.858610</td>\n",
       "    </tr>\n",
       "  </tbody>\n",
       "</table>\n",
       "</div>"
      ],
      "text/plain": [
       "            infl\n",
       "2006Q4  3.979318\n",
       "2007Q1  2.347512\n",
       "2007Q2  1.443598\n",
       "2007Q3  3.914533\n",
       "2007Q4  2.533117\n",
       "2008Q1  3.278010\n",
       "2008Q2  3.861517\n",
       "2008Q3  3.487510\n",
       "2008Q4  4.195074\n",
       "2009Q1  4.294984\n",
       "2009Q2  4.433578\n",
       "2009Q3  4.858610"
      ]
     },
     "execution_count": 43,
     "metadata": {},
     "output_type": "execute_result"
    }
   ],
   "source": [
    "inflation_forecast.predict()"
   ]
  },
  {
   "cell_type": "markdown",
   "metadata": {
    "collapsed": false
   },
   "source": [
    "Ok, we can built it, but what about the hyperparameter tuning? Let us investigate the paramters.."
   ]
  },
  {
   "cell_type": "code",
   "execution_count": 44,
   "metadata": {
    "collapsed": false
   },
   "outputs": [
    {
     "data": {
      "text/plain": [
       "['behaviour',\n",
       " 'columns',\n",
       " 'fh_X',\n",
       " 'forecaster_X',\n",
       " 'forecaster_y',\n",
       " 'forecaster_X__forecasters',\n",
       " 'forecaster_X__realdpi',\n",
       " 'forecaster_X__realgdp',\n",
       " 'forecaster_X__unemp',\n",
       " 'forecaster_X__realdpi__steps',\n",
       " 'forecaster_X__realdpi__ColumnSelect',\n",
       " 'forecaster_X__realdpi__Deseasonalizer',\n",
       " 'forecaster_X__realdpi__MultiplexForecaster',\n",
       " 'forecaster_X__realdpi__ColumnSelect__columns',\n",
       " 'forecaster_X__realdpi__ColumnSelect__index_treatment',\n",
       " 'forecaster_X__realdpi__ColumnSelect__integer_treatment',\n",
       " 'forecaster_X__realdpi__Deseasonalizer__model',\n",
       " 'forecaster_X__realdpi__Deseasonalizer__sp',\n",
       " 'forecaster_X__realdpi__MultiplexForecaster__forecasters',\n",
       " 'forecaster_X__realdpi__MultiplexForecaster__selected_forecaster',\n",
       " 'forecaster_X__realdpi__MultiplexForecaster__ridge',\n",
       " 'forecaster_X__realdpi__MultiplexForecaster__lasso',\n",
       " 'forecaster_X__realdpi__MultiplexForecaster__ridge__estimator',\n",
       " 'forecaster_X__realdpi__MultiplexForecaster__ridge__pooling',\n",
       " 'forecaster_X__realdpi__MultiplexForecaster__ridge__transformers',\n",
       " 'forecaster_X__realdpi__MultiplexForecaster__ridge__window_length',\n",
       " 'forecaster_X__realdpi__MultiplexForecaster__ridge__estimator__alpha',\n",
       " 'forecaster_X__realdpi__MultiplexForecaster__ridge__estimator__copy_X',\n",
       " 'forecaster_X__realdpi__MultiplexForecaster__ridge__estimator__fit_intercept',\n",
       " 'forecaster_X__realdpi__MultiplexForecaster__ridge__estimator__max_iter',\n",
       " 'forecaster_X__realdpi__MultiplexForecaster__ridge__estimator__normalize',\n",
       " 'forecaster_X__realdpi__MultiplexForecaster__ridge__estimator__positive',\n",
       " 'forecaster_X__realdpi__MultiplexForecaster__ridge__estimator__random_state',\n",
       " 'forecaster_X__realdpi__MultiplexForecaster__ridge__estimator__solver',\n",
       " 'forecaster_X__realdpi__MultiplexForecaster__ridge__estimator__tol',\n",
       " 'forecaster_X__realdpi__MultiplexForecaster__lasso__estimator',\n",
       " 'forecaster_X__realdpi__MultiplexForecaster__lasso__pooling',\n",
       " 'forecaster_X__realdpi__MultiplexForecaster__lasso__transformers',\n",
       " 'forecaster_X__realdpi__MultiplexForecaster__lasso__window_length',\n",
       " 'forecaster_X__realdpi__MultiplexForecaster__lasso__estimator__alpha',\n",
       " 'forecaster_X__realdpi__MultiplexForecaster__lasso__estimator__copy_X',\n",
       " 'forecaster_X__realdpi__MultiplexForecaster__lasso__estimator__fit_intercept',\n",
       " 'forecaster_X__realdpi__MultiplexForecaster__lasso__estimator__max_iter',\n",
       " 'forecaster_X__realdpi__MultiplexForecaster__lasso__estimator__normalize',\n",
       " 'forecaster_X__realdpi__MultiplexForecaster__lasso__estimator__positive',\n",
       " 'forecaster_X__realdpi__MultiplexForecaster__lasso__estimator__precompute',\n",
       " 'forecaster_X__realdpi__MultiplexForecaster__lasso__estimator__random_state',\n",
       " 'forecaster_X__realdpi__MultiplexForecaster__lasso__estimator__selection',\n",
       " 'forecaster_X__realdpi__MultiplexForecaster__lasso__estimator__tol',\n",
       " 'forecaster_X__realdpi__MultiplexForecaster__lasso__estimator__warm_start',\n",
       " 'forecaster_X__realgdp__steps',\n",
       " 'forecaster_X__realgdp__ColumnSelect',\n",
       " 'forecaster_X__realgdp__Deseasonalizer',\n",
       " 'forecaster_X__realgdp__MultiplexForecaster',\n",
       " 'forecaster_X__realgdp__ColumnSelect__columns',\n",
       " 'forecaster_X__realgdp__ColumnSelect__index_treatment',\n",
       " 'forecaster_X__realgdp__ColumnSelect__integer_treatment',\n",
       " 'forecaster_X__realgdp__Deseasonalizer__model',\n",
       " 'forecaster_X__realgdp__Deseasonalizer__sp',\n",
       " 'forecaster_X__realgdp__MultiplexForecaster__forecasters',\n",
       " 'forecaster_X__realgdp__MultiplexForecaster__selected_forecaster',\n",
       " 'forecaster_X__realgdp__MultiplexForecaster__ridge',\n",
       " 'forecaster_X__realgdp__MultiplexForecaster__lasso',\n",
       " 'forecaster_X__realgdp__MultiplexForecaster__ridge__estimator',\n",
       " 'forecaster_X__realgdp__MultiplexForecaster__ridge__pooling',\n",
       " 'forecaster_X__realgdp__MultiplexForecaster__ridge__transformers',\n",
       " 'forecaster_X__realgdp__MultiplexForecaster__ridge__window_length',\n",
       " 'forecaster_X__realgdp__MultiplexForecaster__ridge__estimator__alpha',\n",
       " 'forecaster_X__realgdp__MultiplexForecaster__ridge__estimator__copy_X',\n",
       " 'forecaster_X__realgdp__MultiplexForecaster__ridge__estimator__fit_intercept',\n",
       " 'forecaster_X__realgdp__MultiplexForecaster__ridge__estimator__max_iter',\n",
       " 'forecaster_X__realgdp__MultiplexForecaster__ridge__estimator__normalize',\n",
       " 'forecaster_X__realgdp__MultiplexForecaster__ridge__estimator__positive',\n",
       " 'forecaster_X__realgdp__MultiplexForecaster__ridge__estimator__random_state',\n",
       " 'forecaster_X__realgdp__MultiplexForecaster__ridge__estimator__solver',\n",
       " 'forecaster_X__realgdp__MultiplexForecaster__ridge__estimator__tol',\n",
       " 'forecaster_X__realgdp__MultiplexForecaster__lasso__estimator',\n",
       " 'forecaster_X__realgdp__MultiplexForecaster__lasso__pooling',\n",
       " 'forecaster_X__realgdp__MultiplexForecaster__lasso__transformers',\n",
       " 'forecaster_X__realgdp__MultiplexForecaster__lasso__window_length',\n",
       " 'forecaster_X__realgdp__MultiplexForecaster__lasso__estimator__alpha',\n",
       " 'forecaster_X__realgdp__MultiplexForecaster__lasso__estimator__copy_X',\n",
       " 'forecaster_X__realgdp__MultiplexForecaster__lasso__estimator__fit_intercept',\n",
       " 'forecaster_X__realgdp__MultiplexForecaster__lasso__estimator__max_iter',\n",
       " 'forecaster_X__realgdp__MultiplexForecaster__lasso__estimator__normalize',\n",
       " 'forecaster_X__realgdp__MultiplexForecaster__lasso__estimator__positive',\n",
       " 'forecaster_X__realgdp__MultiplexForecaster__lasso__estimator__precompute',\n",
       " 'forecaster_X__realgdp__MultiplexForecaster__lasso__estimator__random_state',\n",
       " 'forecaster_X__realgdp__MultiplexForecaster__lasso__estimator__selection',\n",
       " 'forecaster_X__realgdp__MultiplexForecaster__lasso__estimator__tol',\n",
       " 'forecaster_X__realgdp__MultiplexForecaster__lasso__estimator__warm_start',\n",
       " 'forecaster_X__unemp__steps',\n",
       " 'forecaster_X__unemp__ColumnSelect',\n",
       " 'forecaster_X__unemp__Deseasonalizer',\n",
       " 'forecaster_X__unemp__MultiplexForecaster',\n",
       " 'forecaster_X__unemp__ColumnSelect__columns',\n",
       " 'forecaster_X__unemp__ColumnSelect__index_treatment',\n",
       " 'forecaster_X__unemp__ColumnSelect__integer_treatment',\n",
       " 'forecaster_X__unemp__Deseasonalizer__model',\n",
       " 'forecaster_X__unemp__Deseasonalizer__sp',\n",
       " 'forecaster_X__unemp__MultiplexForecaster__forecasters',\n",
       " 'forecaster_X__unemp__MultiplexForecaster__selected_forecaster',\n",
       " 'forecaster_X__unemp__MultiplexForecaster__ridge',\n",
       " 'forecaster_X__unemp__MultiplexForecaster__lasso',\n",
       " 'forecaster_X__unemp__MultiplexForecaster__ridge__estimator',\n",
       " 'forecaster_X__unemp__MultiplexForecaster__ridge__pooling',\n",
       " 'forecaster_X__unemp__MultiplexForecaster__ridge__transformers',\n",
       " 'forecaster_X__unemp__MultiplexForecaster__ridge__window_length',\n",
       " 'forecaster_X__unemp__MultiplexForecaster__ridge__estimator__alpha',\n",
       " 'forecaster_X__unemp__MultiplexForecaster__ridge__estimator__copy_X',\n",
       " 'forecaster_X__unemp__MultiplexForecaster__ridge__estimator__fit_intercept',\n",
       " 'forecaster_X__unemp__MultiplexForecaster__ridge__estimator__max_iter',\n",
       " 'forecaster_X__unemp__MultiplexForecaster__ridge__estimator__normalize',\n",
       " 'forecaster_X__unemp__MultiplexForecaster__ridge__estimator__positive',\n",
       " 'forecaster_X__unemp__MultiplexForecaster__ridge__estimator__random_state',\n",
       " 'forecaster_X__unemp__MultiplexForecaster__ridge__estimator__solver',\n",
       " 'forecaster_X__unemp__MultiplexForecaster__ridge__estimator__tol',\n",
       " 'forecaster_X__unemp__MultiplexForecaster__lasso__estimator',\n",
       " 'forecaster_X__unemp__MultiplexForecaster__lasso__pooling',\n",
       " 'forecaster_X__unemp__MultiplexForecaster__lasso__transformers',\n",
       " 'forecaster_X__unemp__MultiplexForecaster__lasso__window_length',\n",
       " 'forecaster_X__unemp__MultiplexForecaster__lasso__estimator__alpha',\n",
       " 'forecaster_X__unemp__MultiplexForecaster__lasso__estimator__copy_X',\n",
       " 'forecaster_X__unemp__MultiplexForecaster__lasso__estimator__fit_intercept',\n",
       " 'forecaster_X__unemp__MultiplexForecaster__lasso__estimator__max_iter',\n",
       " 'forecaster_X__unemp__MultiplexForecaster__lasso__estimator__normalize',\n",
       " 'forecaster_X__unemp__MultiplexForecaster__lasso__estimator__positive',\n",
       " 'forecaster_X__unemp__MultiplexForecaster__lasso__estimator__precompute',\n",
       " 'forecaster_X__unemp__MultiplexForecaster__lasso__estimator__random_state',\n",
       " 'forecaster_X__unemp__MultiplexForecaster__lasso__estimator__selection',\n",
       " 'forecaster_X__unemp__MultiplexForecaster__lasso__estimator__tol',\n",
       " 'forecaster_X__unemp__MultiplexForecaster__lasso__estimator__warm_start',\n",
       " 'forecaster_y__forecasters',\n",
       " 'forecaster_y__selected_forecaster',\n",
       " 'forecaster_y__ridge',\n",
       " 'forecaster_y__lasso',\n",
       " 'forecaster_y__ridge__estimator',\n",
       " 'forecaster_y__ridge__pooling',\n",
       " 'forecaster_y__ridge__transformers',\n",
       " 'forecaster_y__ridge__window_length',\n",
       " 'forecaster_y__ridge__estimator__alpha',\n",
       " 'forecaster_y__ridge__estimator__copy_X',\n",
       " 'forecaster_y__ridge__estimator__fit_intercept',\n",
       " 'forecaster_y__ridge__estimator__max_iter',\n",
       " 'forecaster_y__ridge__estimator__normalize',\n",
       " 'forecaster_y__ridge__estimator__positive',\n",
       " 'forecaster_y__ridge__estimator__random_state',\n",
       " 'forecaster_y__ridge__estimator__solver',\n",
       " 'forecaster_y__ridge__estimator__tol',\n",
       " 'forecaster_y__lasso__estimator',\n",
       " 'forecaster_y__lasso__pooling',\n",
       " 'forecaster_y__lasso__transformers',\n",
       " 'forecaster_y__lasso__window_length',\n",
       " 'forecaster_y__lasso__estimator__alpha',\n",
       " 'forecaster_y__lasso__estimator__copy_X',\n",
       " 'forecaster_y__lasso__estimator__fit_intercept',\n",
       " 'forecaster_y__lasso__estimator__max_iter',\n",
       " 'forecaster_y__lasso__estimator__normalize',\n",
       " 'forecaster_y__lasso__estimator__positive',\n",
       " 'forecaster_y__lasso__estimator__precompute',\n",
       " 'forecaster_y__lasso__estimator__random_state',\n",
       " 'forecaster_y__lasso__estimator__selection',\n",
       " 'forecaster_y__lasso__estimator__tol',\n",
       " 'forecaster_y__lasso__estimator__warm_start']"
      ]
     },
     "execution_count": 44,
     "metadata": {},
     "output_type": "execute_result"
    }
   ],
   "source": [
    "list(inflation_forecast.get_params(True).keys())"
   ]
  },
  {
   "cell_type": "markdown",
   "metadata": {
    "collapsed": false
   },
   "source": [
    "# Augh..."
   ]
  },
  {
   "cell_type": "markdown",
   "metadata": {
    "collapsed": false
   },
   "source": [
    "\n",
    "### Advantages of sequential pipelines\n",
    "* Constructing simple pipelines is very easy.\n",
    "* Inverse operations are automatically applied.\n",
    "* This is a mature feature compared to the experimental graphical pipeline.\n",
    "\n",
    "\n",
    "### Advantages of graphical pipelines\n",
    "* Enable an easy implementation of complex pipelines\n",
    "    * By nesting sequential pipelines, even a simplified version of the graphical pipeline is very complicat to implement.\n",
    "    * By nesting sequential pipelines, some graphical pipelines are not possible to implement (e.g., the example with coupled ForecastX).\n",
    "* Preprocessing steps can not be shared between the different forecasters.\n",
    "* The parameter structure is simpler compared to sequential pipelines. \n",
    "    * Thus easier to tune the structure also in complex secnarios. How would you tune the edges of sequential pipelines?\n",
    "* Only one estimator to track compared to multiples in the sequential pipeline example.\n",
    "\n"
   ]
  },
  {
   "cell_type": "markdown",
   "metadata": {},
   "source": [
    "## Outlook\n",
    "\n",
    "Graphical Pipelines are a powerful tool.\n",
    "\n",
    "You are invited to contribute and to make it production-ready.\n",
    "* Enhance User Experience:\n",
    "    * Enable a drawing of the graphical pipeline\n",
    "    * Add more examples\n",
    "* Apply Graphical Pipelines in Research Topics\n",
    "    * AutoML for optimising forecast value and not only the forecast quality.\n",
    "    * Concept Drift: What parts of the graphical pipelines you want to retrain?\n",
    "* Improve Graphical Pipelines Performance\n",
    "    * Parallelize steps!\n",
    "    * Optimise GridSearch for Graphical Pipelines\n",
    "* Use it and provide feedback"
   ]
  },
  {
   "cell_type": "markdown",
   "metadata": {},
   "source": [
    "---\n",
    "\n",
    "### Credits: notebook 4 - advanced \n",
    "\n",
    "notebook creation: benheid\n",
    "\n",
    "autoML based on:\n",
    "\n",
    "* pyData global 2022 notebook (aiwalter, fkiraly)\n",
    "* notebooks at ODSC and EuroPython 2023 workshops (fkiraly, marrov)\n",
    "\n",
    "graphical pipeline: benheid, fkiraly, pywatts team\\\n",
    "forecaster pipelines: fkiraly, aiwalter\\\n",
    "transformer pipelines & compositors: fkiraly, mloning, miraep8\\\n",
    "dunder interface: fkiraly, miraep8\\\n",
    "tuning, autoML: mloning, fkiraly, aiwalter"
   ]
  }
 ],
 "metadata": {
  "kernelspec": {
   "display_name": "Python 3.8.13 ('pydata22')",
   "language": "python",
   "name": "python3"
  },
  "language_info": {
   "codemirror_mode": {
    "name": "ipython",
    "version": 3
   },
   "file_extension": ".py",
   "mimetype": "text/x-python",
   "name": "python",
   "nbconvert_exporter": "python",
   "pygments_lexer": "ipython3",
   "version": "3.9.13"
  },
  "orig_nbformat": 4,
  "vscode": {
   "interpreter": {
    "hash": "e61b44dca3bf47c8973c8cd627825697e2dad493e19dd6592afda0a0a3c312a0"
   }
  }
 },
 "nbformat": 4,
 "nbformat_minor": 2
}

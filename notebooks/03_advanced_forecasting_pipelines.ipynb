{
 "cells": [
  {
   "cell_type": "markdown",
   "metadata": {},
   "source": [
    "# 4 Graphical Pipelines\n",
    "\n",
    "In the previous notebook, we considered sequential pipelines."
   ]
  },
  {
   "cell_type": "code",
   "execution_count": 1,
   "metadata": {},
   "outputs": [],
   "source": [
    "import warnings\n",
    "\n",
    "warnings.filterwarnings(\"ignore\")"
   ]
  },
  {
   "cell_type": "markdown",
   "metadata": {},
   "source": [
    "## 4.1 What are Graphical Pipelines?\n",
    "Recap sequential pipelines:\n",
    "\n",
    "<img src=\"img/sequential_pipeline.png\" width=900  style=\"background-color:white; padding:5px\" />\n",
    "\n",
    "Many tasks are non-sequential. To solve this two possibilities exist:\n",
    "1. Nesting Sequential Pipelines.\n",
    "2. Using Graphical Pipelines.\n"
   ]
  },
  {
   "cell_type": "markdown",
   "metadata": {},
   "source": [
    "Generalised Graphical Pipeline in sktime:\n",
    "\n",
    "* Graphical means that different steps may share the same predecessor or provide their outputs to the same successor (the dataflows can branch and merge).\n",
    "\n",
    "<img src=\"img/graphical_pipeline.png\" width=900  style=\"background-color:white; padding:5px\" />\n",
    "\n",
    "\n",
    "* Generalised means that the pipeline can be used for multiple tasks (e.g. forecasting, classification, ...).\n"
   ]
  },
  {
   "cell_type": "markdown",
   "metadata": {},
   "source": [
    "**Note**\n",
    "\n",
    "The graphical pipeline is still experimental. \n",
    "Thus, usual risk with bleeding edge features. \n",
    "However, we would be happy to get feedback on the graphical pipeline."
   ]
  },
  {
   "cell_type": "markdown",
   "metadata": {},
   "source": [
    "\n",
    "#### Forecasting Use-Case for Graphical Pipelines\n",
    "\n",
    "\n",
    "The input of forecasters depends on the output of other forecasters, which same the same input.\n",
    "* Forecaster could use the same preprocessing (branching of data flow)\n",
    "* Forecaster could use outputs of multiple predeccessors (merging of data flow)\n",
    "\n",
    "<img src=\"img/graphical_pipeline_example.png\" width=900  style=\"background-color:white; padding:5px\" />\n"
   ]
  },
  {
   "cell_type": "markdown",
   "metadata": {},
   "source": [
    "### Credits\n",
    "The graphical pipeline was first developed by pyWATTS [1] and was then adapted for sktime. The original implementation can be found [pyWATTS](https://github.com/KIT-IAI/pyWATTS). pyWATTS is a open source library developed at the Institute of Applied Informatics and Automation at the KIT and funded by HelmholtzAI.\n",
    "\n",
    "> [1] Heidrich, Benedikt, et al. \"pyWATTS: Python workflow automation tool for time series.\" arXiv preprint arXiv:2106.10157 (2021).\n",
    "\n",
    "<img src=\"img/kit.png\" height=60  style=\"background-color:white; padding:5px\" /> \n",
    "<p></p>\n",
    "\n",
    "<img src=\"img/helmholtz.png\" width=900  style=\"background-color:white; padding:5px\" />\n"
   ]
  },
  {
   "cell_type": "markdown",
   "metadata": {
    "collapsed": false
   },
   "source": [
    "Two ways to create graphical pipelines:\n",
    "\n",
    "1. Pass all steps to the pipeline during initialisation as for the sequential pipeline."
   ]
  },
  {
   "cell_type": "code",
   "execution_count": 2,
   "outputs": [],
   "source": [
    "from sktime.pipeline.pipeline import Pipeline\n",
    "from sktime.transformations.series.difference import Differencer\n",
    "\n",
    "differencer = Differencer()\n",
    "\n",
    "pipe = Pipeline(\n",
    "    [\n",
    "        {\"skobject\": differencer, \"name\": \"differencer\", \"edges\": {\"X\": \"y\"}},\n",
    "        #...,\n",
    "    ]\n",
    ")"
   ],
   "metadata": {
    "collapsed": false
   }
  },
  {
   "cell_type": "markdown",
   "source": [
    "**Note** if you add the same skobject instance multiple times, the graphical pipelines tracks the identity of these skobjects."
   ],
   "metadata": {
    "collapsed": false
   }
  },
  {
   "cell_type": "markdown",
   "source": [
    "Alternatively, the pipeline can be also created using `add_step`"
   ],
   "metadata": {
    "collapsed": false
   }
  },
  {
   "cell_type": "code",
   "execution_count": 3,
   "outputs": [],
   "source": [
    "from sktime.pipeline.pipeline import Pipeline\n",
    "from sktime.transformations.series.difference import Differencer\n",
    "\n",
    "pipe = Pipeline()\n",
    "differencer = Differencer()\n",
    "\n",
    "pipe = pipe.add_step(\n",
    "    differencer, \"differencer\", edges={\"X\": \"y\"}\n",
    ")\n",
    "#..."
   ],
   "metadata": {
    "collapsed": false
   }
  },
  {
   "cell_type": "markdown",
   "metadata": {
    "collapsed": false
   },
   "source": [
    "#### Summary of the arguments:\n",
    "The `add_step`'s parameter or key of the dicts in the step list during initialisation are:\n",
    "\n",
    "* skobject: The sktime object added to the pipeline\n",
    "* name: The name of the step\n",
    "* edges: The keys of the dictionary indicate the input of the skobject (X or y), and the values are the names of the steps that should be connected to the input argument. Note subsetting using `__` and feature union via lists are supported.\n",
    "* method: The skobject's method that should be called. If not provided, the default method would be inferred based on the added skobject. This parameter is used for the inverse_transform method. Optional.\n",
    "* kwargs: Additional keyword arguments passed to the sktime object. Optional."
   ]
  },
  {
   "cell_type": "markdown",
   "metadata": {
    "collapsed": false
   },
   "source": [
    "#### Take Away Messsage:\n",
    "* Two ways to construct graphical pipeline\n",
    "    * Provide all information during initialisation\n",
    "    * Add each step separetely using `add_step` method"
   ]
  },
  {
   "cell_type": "markdown",
   "metadata": {
    "collapsed": false
   },
   "source": [
    "### 4.2.2 A more complex example\n",
    "The considered use-case is to forecast the inflation using forecasts of the real gross domestic product, real disposable personal income, and the unemployment rate. Furthermore the unemployment rate is forecasted using the same features except the unemployment rate itself.\n",
    "\n",
    "<img src=\"img/graphical_pipeline_example.png\" width=900 style=\"background-color:white; padding:5px\" />\n",
    "\n",
    "\n",
    "The data is taken from the macrodata dataset from the statsmodels package.\n",
    "\n",
    "**Note** We stick with the `add_step` in the following.\n"
   ]
  },
  {
   "cell_type": "markdown",
   "metadata": {},
   "source": [
    "Create Graphical Pipeline Instance"
   ]
  },
  {
   "cell_type": "code",
   "execution_count": 4,
   "metadata": {},
   "outputs": [],
   "source": [
    "from sktime.pipeline.pipeline import Pipeline\n",
    "\n",
    "pipe = Pipeline()"
   ]
  },
  {
   "cell_type": "markdown",
   "metadata": {},
   "source": [
    "<img src=\"img/graphical_pipeline_example.png\" width=900 style=\"background-color:white; padding:5px\" />\n",
    "\n",
    "Add Preprocessing"
   ]
  },
  {
   "cell_type": "code",
   "execution_count": 5,
   "metadata": {},
   "outputs": [],
   "source": [
    "\n",
    "from sklearn.preprocessing import StandardScaler\n",
    "\n",
    "from sktime.transformations.series.adapt import TabularToSeriesAdaptor\n",
    "from sktime.transformations.series.detrend import Deseasonalizer\n",
    "\n",
    "pipe = pipe.add_step(\n",
    "    TabularToSeriesAdaptor(StandardScaler()), name=\"scaler\", edges={\"X\": \"X__unemp\"}\n",
    ")\n",
    "pipe = pipe.add_step(\n",
    "    Deseasonalizer(sp=4), name=\"deseasonalizer\", edges={\"X\": \"X__realgdp_realdpi\"}\n",
    ")"
   ]
  },
  {
   "cell_type": "markdown",
   "metadata": {},
   "source": [
    "<img src=\"img/graphical_pipeline_example.png\" width=900 style=\"background-color:white; padding:5px\" />\n",
    "\n",
    "Add forecastesr for GDP and DPI"
   ]
  },
  {
   "cell_type": "code",
   "execution_count": 6,
   "metadata": {},
   "outputs": [],
   "source": [
    "from sklearn.linear_model import Ridge\n",
    "from sktime.forecasting.compose import make_reduction\n",
    "\n",
    "pipe = pipe.add_step(\n",
    "    make_reduction(Ridge(), windows_identical=False, window_length=5),\n",
    "    name=\"forecaster_gdp\",\n",
    "    edges={\"y\": \"deseasonalizer__realgdp\"},\n",
    ")\n",
    "\n",
    "pipe = pipe.add_step(\n",
    "    make_reduction(Ridge(), windows_identical=False, window_length=5),\n",
    "    name=\"forecaster_dpi\",\n",
    "    edges={\"y\": \"deseasonalizer__realdpi\"},\n",
    ")"
   ]
  },
  {
   "cell_type": "markdown",
   "metadata": {},
   "source": [
    "<img src=\"img/graphical_pipeline_example.png\" width=900 style=\"background-color:white; padding:5px\" />\n",
    "\n",
    "Add Forecaster for unemployment rate that depends on forecasts of GDP and DPI"
   ]
  },
  {
   "cell_type": "code",
   "execution_count": 7,
   "metadata": {},
   "outputs": [],
   "source": [
    "pipe = pipe.add_step(\n",
    "    make_reduction(Ridge(), windows_identical=False, window_length=5),\n",
    "    name=\"forecaster_unemp\",\n",
    "    edges={\n",
    "        \"y\": \"scaler__unemp\",\n",
    "        \"X\": [\n",
    "            \"forecaster_gdp\",\n",
    "            \"forecaster_dpi\",\n",
    "        ],\n",
    "    },\n",
    ")"
   ]
  },
  {
   "cell_type": "markdown",
   "metadata": {},
   "source": [
    "<img src=\"img/graphical_pipeline_example.png\" width=900 style=\"background-color:white; padding:5px\" />\n",
    "\n",
    "Add forecaster for the inflation that depends on forecasted DPI and unemployment rate"
   ]
  },
  {
   "cell_type": "code",
   "execution_count": 8,
   "metadata": {},
   "outputs": [],
   "source": [
    "pipe = pipe.add_step(\n",
    "    make_reduction(Ridge(), windows_identical=False, window_length=5),\n",
    "    name=\"forecaster_inflation\",\n",
    "    edges={\"X\": [\"forecaster_dpi\", \"forecaster_unemp\"], \"y\": \"y\"},\n",
    ")"
   ]
  },
  {
   "cell_type": "markdown",
   "metadata": {},
   "source": [
    "Load data and split them into train and test"
   ]
  },
  {
   "cell_type": "code",
   "execution_count": 9,
   "metadata": {
    "collapsed": false
   },
   "outputs": [
    {
     "data": {
      "text/plain": "          realgdp  realdpi  unemp\nPeriod                           \n1959Q1   2710.349   1886.9    5.8\n1959Q2   2778.801   1919.7    5.1\n1959Q3   2775.488   1916.4    5.3\n1959Q4   2785.204   1931.3    5.6\n1960Q1   2847.699   1955.5    5.2\n...           ...      ...    ...\n2005Q3  12683.153   9308.0    5.0\n2005Q4  12748.699   9358.7    4.9\n2006Q1  12915.938   9533.8    4.7\n2006Q2  12962.462   9617.3    4.7\n2006Q3  12965.916   9662.5    4.7\n\n[191 rows x 3 columns]",
      "text/html": "<div>\n<style scoped>\n    .dataframe tbody tr th:only-of-type {\n        vertical-align: middle;\n    }\n\n    .dataframe tbody tr th {\n        vertical-align: top;\n    }\n\n    .dataframe thead th {\n        text-align: right;\n    }\n</style>\n<table border=\"1\" class=\"dataframe\">\n  <thead>\n    <tr style=\"text-align: right;\">\n      <th></th>\n      <th>realgdp</th>\n      <th>realdpi</th>\n      <th>unemp</th>\n    </tr>\n    <tr>\n      <th>Period</th>\n      <th></th>\n      <th></th>\n      <th></th>\n    </tr>\n  </thead>\n  <tbody>\n    <tr>\n      <th>1959Q1</th>\n      <td>2710.349</td>\n      <td>1886.9</td>\n      <td>5.8</td>\n    </tr>\n    <tr>\n      <th>1959Q2</th>\n      <td>2778.801</td>\n      <td>1919.7</td>\n      <td>5.1</td>\n    </tr>\n    <tr>\n      <th>1959Q3</th>\n      <td>2775.488</td>\n      <td>1916.4</td>\n      <td>5.3</td>\n    </tr>\n    <tr>\n      <th>1959Q4</th>\n      <td>2785.204</td>\n      <td>1931.3</td>\n      <td>5.6</td>\n    </tr>\n    <tr>\n      <th>1960Q1</th>\n      <td>2847.699</td>\n      <td>1955.5</td>\n      <td>5.2</td>\n    </tr>\n    <tr>\n      <th>...</th>\n      <td>...</td>\n      <td>...</td>\n      <td>...</td>\n    </tr>\n    <tr>\n      <th>2005Q3</th>\n      <td>12683.153</td>\n      <td>9308.0</td>\n      <td>5.0</td>\n    </tr>\n    <tr>\n      <th>2005Q4</th>\n      <td>12748.699</td>\n      <td>9358.7</td>\n      <td>4.9</td>\n    </tr>\n    <tr>\n      <th>2006Q1</th>\n      <td>12915.938</td>\n      <td>9533.8</td>\n      <td>4.7</td>\n    </tr>\n    <tr>\n      <th>2006Q2</th>\n      <td>12962.462</td>\n      <td>9617.3</td>\n      <td>4.7</td>\n    </tr>\n    <tr>\n      <th>2006Q3</th>\n      <td>12965.916</td>\n      <td>9662.5</td>\n      <td>4.7</td>\n    </tr>\n  </tbody>\n</table>\n<p>191 rows × 3 columns</p>\n</div>"
     },
     "execution_count": 9,
     "metadata": {},
     "output_type": "execute_result"
    }
   ],
   "source": [
    "from sktime.datasets import load_macroeconomic\n",
    "from sktime.forecasting.base import ForecastingHorizon\n",
    "from sktime.forecasting.model_selection import (\n",
    "    temporal_train_test_split,\n",
    ")\n",
    "\n",
    "data = load_macroeconomic()\n",
    "\n",
    "X = data[[\"realgdp\", \"realdpi\", \"unemp\"]]\n",
    "y = data[[\"infl\"]]\n",
    "fh = ForecastingHorizon([1, 2, 3, 4, 5, 6, 7, 8, 9, 10, 11, 12])\n",
    "\n",
    "y_train, y_test, X_train, X_test = temporal_train_test_split(y, X=X, fh=fh)\n",
    "X_train"
   ]
  },
  {
   "cell_type": "code",
   "execution_count": 10,
   "metadata": {
    "collapsed": false
   },
   "outputs": [
    {
     "data": {
      "text/plain": "            infl\nPeriod          \n2006Q4  3.090428\n2007Q1  1.676421\n2007Q2  0.219586\n2007Q3  1.570087\n2007Q4  0.350137\n2008Q1  0.438966\n2008Q2  0.615457\n2008Q3  0.119022\n2008Q4  0.257887\n2009Q1  0.129785\n2009Q2 -0.056094\n2009Q3 -0.066123",
      "text/html": "<div>\n<style scoped>\n    .dataframe tbody tr th:only-of-type {\n        vertical-align: middle;\n    }\n\n    .dataframe tbody tr th {\n        vertical-align: top;\n    }\n\n    .dataframe thead th {\n        text-align: right;\n    }\n</style>\n<table border=\"1\" class=\"dataframe\">\n  <thead>\n    <tr style=\"text-align: right;\">\n      <th></th>\n      <th>infl</th>\n    </tr>\n    <tr>\n      <th>Period</th>\n      <th></th>\n    </tr>\n  </thead>\n  <tbody>\n    <tr>\n      <th>2006Q4</th>\n      <td>3.090428</td>\n    </tr>\n    <tr>\n      <th>2007Q1</th>\n      <td>1.676421</td>\n    </tr>\n    <tr>\n      <th>2007Q2</th>\n      <td>0.219586</td>\n    </tr>\n    <tr>\n      <th>2007Q3</th>\n      <td>1.570087</td>\n    </tr>\n    <tr>\n      <th>2007Q4</th>\n      <td>0.350137</td>\n    </tr>\n    <tr>\n      <th>2008Q1</th>\n      <td>0.438966</td>\n    </tr>\n    <tr>\n      <th>2008Q2</th>\n      <td>0.615457</td>\n    </tr>\n    <tr>\n      <th>2008Q3</th>\n      <td>0.119022</td>\n    </tr>\n    <tr>\n      <th>2008Q4</th>\n      <td>0.257887</td>\n    </tr>\n    <tr>\n      <th>2009Q1</th>\n      <td>0.129785</td>\n    </tr>\n    <tr>\n      <th>2009Q2</th>\n      <td>-0.056094</td>\n    </tr>\n    <tr>\n      <th>2009Q3</th>\n      <td>-0.066123</td>\n    </tr>\n  </tbody>\n</table>\n</div>"
     },
     "execution_count": 10,
     "metadata": {},
     "output_type": "execute_result"
    }
   ],
   "source": [
    "pipe.fit(y=y_train, X=X_train, fh=fh)\n",
    "result = pipe.predict(X=None, fh=y_test.index)\n",
    "result"
   ]
  },
  {
   "cell_type": "markdown",
   "metadata": {
    "collapsed": false
   },
   "source": [
    "### 4.2.3 How does the graphical pipeline compare to the sequential pipeline?\n",
    "\n",
    "Let us try to implement a simplified version of the above example using sequential pipelines with nesting.\n",
    "\n",
    "<img src=\"img/graphical_pipeline_simplified.png\" width=900  style=\"background-color:white; padding:5px\" />\n"
   ]
  },
  {
   "cell_type": "markdown",
   "metadata": {
    "collapsed": false
   },
   "source": [
    "Create sequential pipelines for\n",
    "* forecasting the GDP\n",
    "* forecasting DPI,\n",
    "* and unemployment rate.\n",
    "* ColunmEnsembleForecaster to combine the forecasts of the GDP, DPI, UNEMP (Union of forecasts).\n",
    "* Create the inflation forecaster using the ColumnEnsembleForecaster inside of a ForecastX.\n",
    "\n",
    "(Details in advanced pipeline notebook of pydata Prague 2023)\n"
   ]
  },
  {
   "cell_type": "code",
   "execution_count": 11,
   "outputs": [],
   "source": [
    "from sktime.forecasting.compose import ColumnEnsembleForecaster, ForecastX\n",
    "from sktime.transformations.series.subset import ColumnSelect\n",
    "\n",
    "forecasting_pipeline_gdp = (\n",
    "    ColumnSelect([\"realgdp\"])  # To train the forecaster only on the realgdp column\n",
    "    * Deseasonalizer()\n",
    "    * make_reduction(Ridge(), windows_identical=False, window_length=5)\n",
    ")\n",
    "forecasting_pipeline_dpi = (\n",
    "    ColumnSelect([\"realdpi\"])\n",
    "    * Deseasonalizer()\n",
    "    * make_reduction(Ridge(), windows_identical=False, window_length=5)\n",
    ")\n",
    "\n",
    "forecasting_pipeline_unemp = (\n",
    "    ColumnSelect([\"unemp\"])\n",
    "    * Deseasonalizer()\n",
    "    * make_reduction(Ridge(), windows_identical=False, window_length=5)\n",
    ")\n",
    "\n",
    "input_inflation_forecast = ColumnEnsembleForecaster(\n",
    "    [\n",
    "        (\"realdpi\", forecasting_pipeline_dpi, \"realdpi\"),\n",
    "        (\"realgdp\", forecasting_pipeline_gdp, \"realgdp\"),\n",
    "        (\"unemp\", forecasting_pipeline_unemp, \"unemp\"),\n",
    "    ]\n",
    ")\n",
    "\n",
    "inflation_forecast = ForecastX(\n",
    "    make_reduction(Ridge(), windows_identical=False, window_length=5),\n",
    "    input_inflation_forecast,\n",
    ")\n",
    "\n"
   ],
   "metadata": {
    "collapsed": false
   }
  },
  {
   "cell_type": "code",
   "execution_count": 12,
   "outputs": [
    {
     "data": {
      "text/plain": "            infl\n2006Q4  3.979318\n2007Q1  2.347512\n2007Q2  1.443598\n2007Q3  3.914533\n2007Q4  2.533117\n2008Q1  3.278010\n2008Q2  3.861517\n2008Q3  3.487510\n2008Q4  4.195074\n2009Q1  4.294984\n2009Q2  4.433578\n2009Q3  4.858610",
      "text/html": "<div>\n<style scoped>\n    .dataframe tbody tr th:only-of-type {\n        vertical-align: middle;\n    }\n\n    .dataframe tbody tr th {\n        vertical-align: top;\n    }\n\n    .dataframe thead th {\n        text-align: right;\n    }\n</style>\n<table border=\"1\" class=\"dataframe\">\n  <thead>\n    <tr style=\"text-align: right;\">\n      <th></th>\n      <th>infl</th>\n    </tr>\n  </thead>\n  <tbody>\n    <tr>\n      <th>2006Q4</th>\n      <td>3.979318</td>\n    </tr>\n    <tr>\n      <th>2007Q1</th>\n      <td>2.347512</td>\n    </tr>\n    <tr>\n      <th>2007Q2</th>\n      <td>1.443598</td>\n    </tr>\n    <tr>\n      <th>2007Q3</th>\n      <td>3.914533</td>\n    </tr>\n    <tr>\n      <th>2007Q4</th>\n      <td>2.533117</td>\n    </tr>\n    <tr>\n      <th>2008Q1</th>\n      <td>3.278010</td>\n    </tr>\n    <tr>\n      <th>2008Q2</th>\n      <td>3.861517</td>\n    </tr>\n    <tr>\n      <th>2008Q3</th>\n      <td>3.487510</td>\n    </tr>\n    <tr>\n      <th>2008Q4</th>\n      <td>4.195074</td>\n    </tr>\n    <tr>\n      <th>2009Q1</th>\n      <td>4.294984</td>\n    </tr>\n    <tr>\n      <th>2009Q2</th>\n      <td>4.433578</td>\n    </tr>\n    <tr>\n      <th>2009Q3</th>\n      <td>4.858610</td>\n    </tr>\n  </tbody>\n</table>\n</div>"
     },
     "execution_count": 12,
     "metadata": {},
     "output_type": "execute_result"
    }
   ],
   "source": [
    "inflation_forecast.fit(y=y_train, X=X_train, fh=fh)\n",
    "\n",
    "inflation_forecast.predict()"
   ],
   "metadata": {
    "collapsed": false
   }
  },
  {
   "cell_type": "code",
   "execution_count": 13,
   "outputs": [
    {
     "data": {
      "text/plain": "['behaviour',\n 'columns',\n 'fh_X',\n 'fit_behaviour',\n 'forecaster_X',\n 'forecaster_y',\n 'forecaster_X__forecasters',\n 'forecaster_X__realdpi',\n 'forecaster_X__realgdp',\n 'forecaster_X__unemp',\n 'forecaster_X__realdpi__steps',\n 'forecaster_X__realdpi__ColumnSelect',\n 'forecaster_X__realdpi__Deseasonalizer',\n 'forecaster_X__realdpi__RecursiveTabularRegressionForecaster',\n 'forecaster_X__realdpi__ColumnSelect__columns',\n 'forecaster_X__realdpi__ColumnSelect__index_treatment',\n 'forecaster_X__realdpi__ColumnSelect__integer_treatment',\n 'forecaster_X__realdpi__Deseasonalizer__model',\n 'forecaster_X__realdpi__Deseasonalizer__sp',\n 'forecaster_X__realdpi__RecursiveTabularRegressionForecaster__estimator',\n 'forecaster_X__realdpi__RecursiveTabularRegressionForecaster__pooling',\n 'forecaster_X__realdpi__RecursiveTabularRegressionForecaster__transformers',\n 'forecaster_X__realdpi__RecursiveTabularRegressionForecaster__window_length',\n 'forecaster_X__realdpi__RecursiveTabularRegressionForecaster__estimator__alpha',\n 'forecaster_X__realdpi__RecursiveTabularRegressionForecaster__estimator__copy_X',\n 'forecaster_X__realdpi__RecursiveTabularRegressionForecaster__estimator__fit_intercept',\n 'forecaster_X__realdpi__RecursiveTabularRegressionForecaster__estimator__max_iter',\n 'forecaster_X__realdpi__RecursiveTabularRegressionForecaster__estimator__positive',\n 'forecaster_X__realdpi__RecursiveTabularRegressionForecaster__estimator__random_state',\n 'forecaster_X__realdpi__RecursiveTabularRegressionForecaster__estimator__solver',\n 'forecaster_X__realdpi__RecursiveTabularRegressionForecaster__estimator__tol',\n 'forecaster_X__realgdp__steps',\n 'forecaster_X__realgdp__ColumnSelect',\n 'forecaster_X__realgdp__Deseasonalizer',\n 'forecaster_X__realgdp__RecursiveTabularRegressionForecaster',\n 'forecaster_X__realgdp__ColumnSelect__columns',\n 'forecaster_X__realgdp__ColumnSelect__index_treatment',\n 'forecaster_X__realgdp__ColumnSelect__integer_treatment',\n 'forecaster_X__realgdp__Deseasonalizer__model',\n 'forecaster_X__realgdp__Deseasonalizer__sp',\n 'forecaster_X__realgdp__RecursiveTabularRegressionForecaster__estimator',\n 'forecaster_X__realgdp__RecursiveTabularRegressionForecaster__pooling',\n 'forecaster_X__realgdp__RecursiveTabularRegressionForecaster__transformers',\n 'forecaster_X__realgdp__RecursiveTabularRegressionForecaster__window_length',\n 'forecaster_X__realgdp__RecursiveTabularRegressionForecaster__estimator__alpha',\n 'forecaster_X__realgdp__RecursiveTabularRegressionForecaster__estimator__copy_X',\n 'forecaster_X__realgdp__RecursiveTabularRegressionForecaster__estimator__fit_intercept',\n 'forecaster_X__realgdp__RecursiveTabularRegressionForecaster__estimator__max_iter',\n 'forecaster_X__realgdp__RecursiveTabularRegressionForecaster__estimator__positive',\n 'forecaster_X__realgdp__RecursiveTabularRegressionForecaster__estimator__random_state',\n 'forecaster_X__realgdp__RecursiveTabularRegressionForecaster__estimator__solver',\n 'forecaster_X__realgdp__RecursiveTabularRegressionForecaster__estimator__tol',\n 'forecaster_X__unemp__steps',\n 'forecaster_X__unemp__ColumnSelect',\n 'forecaster_X__unemp__Deseasonalizer',\n 'forecaster_X__unemp__RecursiveTabularRegressionForecaster',\n 'forecaster_X__unemp__ColumnSelect__columns',\n 'forecaster_X__unemp__ColumnSelect__index_treatment',\n 'forecaster_X__unemp__ColumnSelect__integer_treatment',\n 'forecaster_X__unemp__Deseasonalizer__model',\n 'forecaster_X__unemp__Deseasonalizer__sp',\n 'forecaster_X__unemp__RecursiveTabularRegressionForecaster__estimator',\n 'forecaster_X__unemp__RecursiveTabularRegressionForecaster__pooling',\n 'forecaster_X__unemp__RecursiveTabularRegressionForecaster__transformers',\n 'forecaster_X__unemp__RecursiveTabularRegressionForecaster__window_length',\n 'forecaster_X__unemp__RecursiveTabularRegressionForecaster__estimator__alpha',\n 'forecaster_X__unemp__RecursiveTabularRegressionForecaster__estimator__copy_X',\n 'forecaster_X__unemp__RecursiveTabularRegressionForecaster__estimator__fit_intercept',\n 'forecaster_X__unemp__RecursiveTabularRegressionForecaster__estimator__max_iter',\n 'forecaster_X__unemp__RecursiveTabularRegressionForecaster__estimator__positive',\n 'forecaster_X__unemp__RecursiveTabularRegressionForecaster__estimator__random_state',\n 'forecaster_X__unemp__RecursiveTabularRegressionForecaster__estimator__solver',\n 'forecaster_X__unemp__RecursiveTabularRegressionForecaster__estimator__tol',\n 'forecaster_y__estimator',\n 'forecaster_y__pooling',\n 'forecaster_y__transformers',\n 'forecaster_y__window_length',\n 'forecaster_y__estimator__alpha',\n 'forecaster_y__estimator__copy_X',\n 'forecaster_y__estimator__fit_intercept',\n 'forecaster_y__estimator__max_iter',\n 'forecaster_y__estimator__positive',\n 'forecaster_y__estimator__random_state',\n 'forecaster_y__estimator__solver',\n 'forecaster_y__estimator__tol']"
     },
     "execution_count": 13,
     "metadata": {},
     "output_type": "execute_result"
    }
   ],
   "source": [
    "list(inflation_forecast.get_params(True).keys())"
   ],
   "metadata": {
    "collapsed": false
   }
  },
  {
   "cell_type": "markdown",
   "metadata": {
    "collapsed": false
   },
   "source": [
    "\n",
    "### Advantages of sequential pipelines\n",
    "* Constructing simple pipelines is very easy.\n",
    "* Inverse operations are automatically applied.\n",
    "* This is a mature feature compared to the experimental graphical pipeline.\n",
    "\n",
    "\n",
    "### Advantages of graphical pipelines\n",
    "* Enable an easy implementation of complex pipelines\n",
    "    * By nesting sequential pipelines, even a simplified version of the graphical pipeline is very complicat to implement.\n",
    "    * By nesting sequential pipelines, some graphical pipelines are not possible to implement (e.g., the example with coupled ForecastX).\n",
    "* The parameter structure is simpler compared to sequential pipelines.\n",
    "    * Thus easier to tune the structure also in complex secnarios. How would you tune the edges of sequential pipelines?\n",
    "* Only one estimator to track compared to multiples in the sequential pipeline example.\n",
    "\n"
   ]
  },
  {
   "cell_type": "markdown",
   "metadata": {},
   "source": [
    "---\n",
    "\n",
    "### Credits: notebook 4\n",
    "\n",
    "notebook creation: benheid\n",
    "\n",
    "based on:\n",
    "\n",
    "* pyData Prague 2023 notebook (benheid, fkiraly)\n",
    "\n",
    "graphical pipeline: benheid, fkiraly, pywatts team\\\n",
    "forecaster pipelines: fkiraly, aiwalter\\\n",
    "transformer pipelines & compositors: fkiraly, mloning, miraep8\\\n",
    "dunder interface: fkiraly, miraep8\\"
   ]
  },
  {
   "cell_type": "code",
   "execution_count": 13,
   "metadata": {
    "collapsed": false
   },
   "outputs": [],
   "source": []
  }
 ],
 "metadata": {
  "kernelspec": {
   "display_name": "Python 3.8.13 ('pydata22')",
   "language": "python",
   "name": "python3"
  },
  "language_info": {
   "codemirror_mode": {
    "name": "ipython",
    "version": 3
   },
   "file_extension": ".py",
   "mimetype": "text/x-python",
   "name": "python",
   "nbconvert_exporter": "python",
   "pygments_lexer": "ipython3",
   "version": "3.9.13"
  },
  "orig_nbformat": 4,
  "vscode": {
   "interpreter": {
    "hash": "e61b44dca3bf47c8973c8cd627825697e2dad493e19dd6592afda0a0a3c312a0"
   }
  }
 },
 "nbformat": 4,
 "nbformat_minor": 2
}

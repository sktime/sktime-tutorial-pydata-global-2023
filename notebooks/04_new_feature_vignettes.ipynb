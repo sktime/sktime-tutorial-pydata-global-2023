{
 "cells": [
  {
   "cell_type": "markdown",
   "id": "8d8aa145",
   "metadata": {},
   "source": [
    "### further 2022-2023 highlights\n",
    "\n",
    "#### Advanced modelling\n",
    "\n",
    "* extended parallelism, including parallel broadcasting to hierarchical data\n",
    "* fully distributional probabilistic forecasts and metrics, skpro\n",
    "* composable time series classifiers, regressors, distances, time series aligners\n",
    "* benchmarking frameworks for comparing estimator performance\n",
    "\n",
    "#### Marketplace and deployment features\n",
    "\n",
    "* estimator search, estimator tags\n",
    "* scikit-base interface for multiple libraries\n",
    "* blueprint serialization and sharing\n",
    "* fitted estimator serialization and sharing\n",
    "* mlflow deployment via custom flavour"
   ]
  },
  {
   "cell_type": "code",
   "execution_count": 46,
   "id": "a8a0a8ee",
   "metadata": {},
   "outputs": [],
   "source": [
    "import warnings\n",
    "\n",
    "warnings.filterwarnings(\"ignore\")"
   ]
  },
  {
   "cell_type": "markdown",
   "id": "e53820e9",
   "metadata": {},
   "source": [
    "---"
   ]
  },
  {
   "cell_type": "markdown",
   "id": "37897ca3",
   "metadata": {},
   "source": [
    "# Advanced modelling features"
   ]
  },
  {
   "cell_type": "markdown",
   "id": "d8e190cf",
   "metadata": {},
   "source": [
    "## parallelism for multivariate and hierarchical broadcasting"
   ]
  },
  {
   "cell_type": "markdown",
   "id": "a6ad27f6",
   "metadata": {},
   "source": [
    "univariate forecasters broadcast across variables if given multivariate data\n",
    "\n",
    "example:"
   ]
  },
  {
   "cell_type": "code",
   "execution_count": 47,
   "id": "76e1e173",
   "metadata": {},
   "outputs": [
    {
     "data": {
      "text/html": [
       "<div>\n",
       "<style scoped>\n",
       "    .dataframe tbody tr th:only-of-type {\n",
       "        vertical-align: middle;\n",
       "    }\n",
       "\n",
       "    .dataframe tbody tr th {\n",
       "        vertical-align: top;\n",
       "    }\n",
       "\n",
       "    .dataframe thead th {\n",
       "        text-align: right;\n",
       "    }\n",
       "</style>\n",
       "<table border=\"1\" class=\"dataframe\">\n",
       "  <thead>\n",
       "    <tr style=\"text-align: right;\">\n",
       "      <th></th>\n",
       "      <th>GNPDEFL</th>\n",
       "      <th>GNP</th>\n",
       "    </tr>\n",
       "  </thead>\n",
       "  <tbody>\n",
       "    <tr>\n",
       "      <th>forecasters</th>\n",
       "      <td>ARIMA()</td>\n",
       "      <td>ARIMA()</td>\n",
       "    </tr>\n",
       "  </tbody>\n",
       "</table>\n",
       "</div>"
      ],
      "text/plain": [
       "             GNPDEFL      GNP\n",
       "forecasters  ARIMA()  ARIMA()"
      ]
     },
     "execution_count": 47,
     "metadata": {},
     "output_type": "execute_result"
    }
   ],
   "source": [
    "from sktime.datasets import load_longley\n",
    "from sktime.forecasting.arima import ARIMA\n",
    "\n",
    "_, y = load_longley()\n",
    "\n",
    "y = y.drop(columns=[\"UNEMP\", \"ARMED\", \"POP\"])\n",
    "\n",
    "forecaster = ARIMA()\n",
    "forecaster.fit(y, fh=[1, 2, 3])\n",
    "\n",
    "# forecasters_ is a data frame with fitted ARIMA models\n",
    "# entries are references to individual instances of ARIMA, per variable\n",
    "forecaster.forecasters_"
   ]
  },
  {
   "cell_type": "markdown",
   "id": "d20c0f5a",
   "metadata": {},
   "source": [
    "by default, this is base python loop ... but we can use parallel backend!"
   ]
  },
  {
   "cell_type": "code",
   "execution_count": 48,
   "id": "50fe8d79",
   "metadata": {},
   "outputs": [
    {
     "data": {
      "text/html": [
       "<style>#sk-dfeca432-80a2-4f35-a0fb-c6a02f2bd620 {color: black;background-color: white;}#sk-dfeca432-80a2-4f35-a0fb-c6a02f2bd620 pre{padding: 0;}#sk-dfeca432-80a2-4f35-a0fb-c6a02f2bd620 div.sk-toggleable {background-color: white;}#sk-dfeca432-80a2-4f35-a0fb-c6a02f2bd620 label.sk-toggleable__label {cursor: pointer;display: block;width: 100%;margin-bottom: 0;padding: 0.3em;box-sizing: border-box;text-align: center;}#sk-dfeca432-80a2-4f35-a0fb-c6a02f2bd620 label.sk-toggleable__label-arrow:before {content: \"▸\";float: left;margin-right: 0.25em;color: #696969;}#sk-dfeca432-80a2-4f35-a0fb-c6a02f2bd620 label.sk-toggleable__label-arrow:hover:before {color: black;}#sk-dfeca432-80a2-4f35-a0fb-c6a02f2bd620 div.sk-estimator:hover label.sk-toggleable__label-arrow:before {color: black;}#sk-dfeca432-80a2-4f35-a0fb-c6a02f2bd620 div.sk-toggleable__content {max-height: 0;max-width: 0;overflow: hidden;text-align: left;background-color: #f0f8ff;}#sk-dfeca432-80a2-4f35-a0fb-c6a02f2bd620 div.sk-toggleable__content pre {margin: 0.2em;color: black;border-radius: 0.25em;background-color: #f0f8ff;}#sk-dfeca432-80a2-4f35-a0fb-c6a02f2bd620 input.sk-toggleable__control:checked~div.sk-toggleable__content {max-height: 200px;max-width: 100%;overflow: auto;}#sk-dfeca432-80a2-4f35-a0fb-c6a02f2bd620 input.sk-toggleable__control:checked~label.sk-toggleable__label-arrow:before {content: \"▾\";}#sk-dfeca432-80a2-4f35-a0fb-c6a02f2bd620 div.sk-estimator input.sk-toggleable__control:checked~label.sk-toggleable__label {background-color: #d4ebff;}#sk-dfeca432-80a2-4f35-a0fb-c6a02f2bd620 div.sk-label input.sk-toggleable__control:checked~label.sk-toggleable__label {background-color: #d4ebff;}#sk-dfeca432-80a2-4f35-a0fb-c6a02f2bd620 input.sk-hidden--visually {border: 0;clip: rect(1px 1px 1px 1px);clip: rect(1px, 1px, 1px, 1px);height: 1px;margin: -1px;overflow: hidden;padding: 0;position: absolute;width: 1px;}#sk-dfeca432-80a2-4f35-a0fb-c6a02f2bd620 div.sk-estimator {font-family: monospace;background-color: #f0f8ff;border: 1px dotted black;border-radius: 0.25em;box-sizing: border-box;margin-bottom: 0.5em;}#sk-dfeca432-80a2-4f35-a0fb-c6a02f2bd620 div.sk-estimator:hover {background-color: #d4ebff;}#sk-dfeca432-80a2-4f35-a0fb-c6a02f2bd620 div.sk-parallel-item::after {content: \"\";width: 100%;border-bottom: 1px solid gray;flex-grow: 1;}#sk-dfeca432-80a2-4f35-a0fb-c6a02f2bd620 div.sk-label:hover label.sk-toggleable__label {background-color: #d4ebff;}#sk-dfeca432-80a2-4f35-a0fb-c6a02f2bd620 div.sk-serial::before {content: \"\";position: absolute;border-left: 1px solid gray;box-sizing: border-box;top: 2em;bottom: 0;left: 50%;}#sk-dfeca432-80a2-4f35-a0fb-c6a02f2bd620 div.sk-serial {display: flex;flex-direction: column;align-items: center;background-color: white;padding-right: 0.2em;padding-left: 0.2em;}#sk-dfeca432-80a2-4f35-a0fb-c6a02f2bd620 div.sk-item {z-index: 1;}#sk-dfeca432-80a2-4f35-a0fb-c6a02f2bd620 div.sk-parallel {display: flex;align-items: stretch;justify-content: center;background-color: white;}#sk-dfeca432-80a2-4f35-a0fb-c6a02f2bd620 div.sk-parallel::before {content: \"\";position: absolute;border-left: 1px solid gray;box-sizing: border-box;top: 2em;bottom: 0;left: 50%;}#sk-dfeca432-80a2-4f35-a0fb-c6a02f2bd620 div.sk-parallel-item {display: flex;flex-direction: column;position: relative;background-color: white;}#sk-dfeca432-80a2-4f35-a0fb-c6a02f2bd620 div.sk-parallel-item:first-child::after {align-self: flex-end;width: 50%;}#sk-dfeca432-80a2-4f35-a0fb-c6a02f2bd620 div.sk-parallel-item:last-child::after {align-self: flex-start;width: 50%;}#sk-dfeca432-80a2-4f35-a0fb-c6a02f2bd620 div.sk-parallel-item:only-child::after {width: 0;}#sk-dfeca432-80a2-4f35-a0fb-c6a02f2bd620 div.sk-dashed-wrapped {border: 1px dashed gray;margin: 0 0.4em 0.5em 0.4em;box-sizing: border-box;padding-bottom: 0.4em;background-color: white;position: relative;}#sk-dfeca432-80a2-4f35-a0fb-c6a02f2bd620 div.sk-label label {font-family: monospace;font-weight: bold;background-color: white;display: inline-block;line-height: 1.2em;}#sk-dfeca432-80a2-4f35-a0fb-c6a02f2bd620 div.sk-label-container {position: relative;z-index: 2;text-align: center;}#sk-dfeca432-80a2-4f35-a0fb-c6a02f2bd620 div.sk-container {/* jupyter's `normalize.less` sets `[hidden] { display: none; }` but bootstrap.min.css set `[hidden] { display: none !important; }` so we also need the `!important` here to be able to override the default hidden behavior on the sphinx rendered scikit-learn.org. See: https://github.com/scikit-learn/scikit-learn/issues/21755 */display: inline-block !important;position: relative;}#sk-dfeca432-80a2-4f35-a0fb-c6a02f2bd620 div.sk-text-repr-fallback {display: none;}</style><div id='sk-dfeca432-80a2-4f35-a0fb-c6a02f2bd620' class=\"sk-top-container\"><div class=\"sk-text-repr-fallback\"><pre>ARIMA()</pre><b>Please rerun this cell to show the HTML repr or trust the notebook.</b></div><div class=\"sk-container\" hidden><div class='sk-item'><div class=\"sk-estimator sk-toggleable\"><input class=\"sk-toggleable__control sk-hidden--visually\" id=UUID('61136064-6a90-46be-bcde-2c89b5a42384') type=\"checkbox\" checked><label for=UUID('61136064-6a90-46be-bcde-2c89b5a42384') class='sk-toggleable__label sk-toggleable__label-arrow'>ARIMA</label><div class=\"sk-toggleable__content\"><pre>ARIMA()</pre></div></div></div></div></div>"
      ],
      "text/plain": [
       "ARIMA()"
      ]
     },
     "execution_count": 48,
     "metadata": {},
     "output_type": "execute_result"
    }
   ],
   "source": [
    "forecaster = ARIMA()\n",
    "\n",
    "# let's use joblib loky backend, with 2 workers\n",
    "# parallelization configs are accessed via the scikit-base config interface\n",
    "\n",
    "# backends are set via the backend:parallel config\n",
    "forecaster.set_config(\n",
    "    **{\"backend:parallel\": \"loky\"}\n",
    ")  # or \"multiprocessing\", or \"dask\" (requires dask)\n",
    "# backend params are set via the backend:parallel:params config\n",
    "forecaster.set_config(\n",
    "    **{\"backend:parallel:params\": {\"n_jobs\": 2}}\n",
    ")  # passed to joblib.Parallel\n",
    "# for documentation of the config interface, see set_config/get_config docstrings"
   ]
  },
  {
   "cell_type": "code",
   "execution_count": 49,
   "id": "3914f812",
   "metadata": {},
   "outputs": [
    {
     "data": {
      "text/html": [
       "<div>\n",
       "<style scoped>\n",
       "    .dataframe tbody tr th:only-of-type {\n",
       "        vertical-align: middle;\n",
       "    }\n",
       "\n",
       "    .dataframe tbody tr th {\n",
       "        vertical-align: top;\n",
       "    }\n",
       "\n",
       "    .dataframe thead th {\n",
       "        text-align: right;\n",
       "    }\n",
       "</style>\n",
       "<table border=\"1\" class=\"dataframe\">\n",
       "  <thead>\n",
       "    <tr style=\"text-align: right;\">\n",
       "      <th></th>\n",
       "      <th>GNPDEFL</th>\n",
       "      <th>GNP</th>\n",
       "    </tr>\n",
       "  </thead>\n",
       "  <tbody>\n",
       "    <tr>\n",
       "      <th>forecasters</th>\n",
       "      <td>ARIMA()</td>\n",
       "      <td>ARIMA()</td>\n",
       "    </tr>\n",
       "  </tbody>\n",
       "</table>\n",
       "</div>"
      ],
      "text/plain": [
       "             GNPDEFL      GNP\n",
       "forecasters  ARIMA()  ARIMA()"
      ]
     },
     "execution_count": 49,
     "metadata": {},
     "output_type": "execute_result"
    }
   ],
   "source": [
    "# fit/predict methods are now parallelized\n",
    "forecaster.fit(y, fh=[1, 2, 3])\n",
    "forecaster.forecasters_\n",
    "# of course this is more useful for larger data"
   ]
  },
  {
   "cell_type": "markdown",
   "id": "d8a6010e",
   "metadata": {},
   "source": [
    "same for hierarchical data!\n",
    "\n",
    "hierarchical = multiple time series by hierarchical scope or index, e.g., product line/category\n",
    "\n",
    "(typical: 1.000s of low-level hierarchical categories)"
   ]
  },
  {
   "cell_type": "markdown",
   "id": "7c8444ae",
   "metadata": {},
   "source": [
    "![](./img/hierarchy.png)"
   ]
  },
  {
   "cell_type": "code",
   "execution_count": 50,
   "id": "046afbd5",
   "metadata": {},
   "outputs": [
    {
     "data": {
      "text/html": [
       "<div>\n",
       "<style scoped>\n",
       "    .dataframe tbody tr th:only-of-type {\n",
       "        vertical-align: middle;\n",
       "    }\n",
       "\n",
       "    .dataframe tbody tr th {\n",
       "        vertical-align: top;\n",
       "    }\n",
       "\n",
       "    .dataframe thead th {\n",
       "        text-align: right;\n",
       "    }\n",
       "</style>\n",
       "<table border=\"1\" class=\"dataframe\">\n",
       "  <thead>\n",
       "    <tr style=\"text-align: right;\">\n",
       "      <th></th>\n",
       "      <th></th>\n",
       "      <th></th>\n",
       "      <th>Sales</th>\n",
       "    </tr>\n",
       "    <tr>\n",
       "      <th>Product line</th>\n",
       "      <th>Product group</th>\n",
       "      <th>Date</th>\n",
       "      <th></th>\n",
       "    </tr>\n",
       "  </thead>\n",
       "  <tbody>\n",
       "    <tr>\n",
       "      <th rowspan=\"5\" valign=\"top\">Food preparation</th>\n",
       "      <th rowspan=\"5\" valign=\"top\">Hobs</th>\n",
       "      <th>2000-01</th>\n",
       "      <td>245.0</td>\n",
       "    </tr>\n",
       "    <tr>\n",
       "      <th>2000-02</th>\n",
       "      <td>144.0</td>\n",
       "    </tr>\n",
       "    <tr>\n",
       "      <th>2000-03</th>\n",
       "      <td>184.0</td>\n",
       "    </tr>\n",
       "    <tr>\n",
       "      <th>2000-04</th>\n",
       "      <td>265.0</td>\n",
       "    </tr>\n",
       "    <tr>\n",
       "      <th>2000-05</th>\n",
       "      <td>236.0</td>\n",
       "    </tr>\n",
       "    <tr>\n",
       "      <th>...</th>\n",
       "      <th>...</th>\n",
       "      <th>...</th>\n",
       "      <td>...</td>\n",
       "    </tr>\n",
       "    <tr>\n",
       "      <th rowspan=\"5\" valign=\"top\">Food preservation</th>\n",
       "      <th rowspan=\"5\" valign=\"top\">Fridges</th>\n",
       "      <th>2004-04</th>\n",
       "      <td>117.0</td>\n",
       "    </tr>\n",
       "    <tr>\n",
       "      <th>2004-05</th>\n",
       "      <td>126.0</td>\n",
       "    </tr>\n",
       "    <tr>\n",
       "      <th>2004-06</th>\n",
       "      <td>161.0</td>\n",
       "    </tr>\n",
       "    <tr>\n",
       "      <th>2004-07</th>\n",
       "      <td>94.0</td>\n",
       "    </tr>\n",
       "    <tr>\n",
       "      <th>2004-08</th>\n",
       "      <td>176.0</td>\n",
       "    </tr>\n",
       "  </tbody>\n",
       "</table>\n",
       "<p>224 rows × 1 columns</p>\n",
       "</div>"
      ],
      "text/plain": [
       "                                         Sales\n",
       "Product line      Product group Date          \n",
       "Food preparation  Hobs          2000-01  245.0\n",
       "                                2000-02  144.0\n",
       "                                2000-03  184.0\n",
       "                                2000-04  265.0\n",
       "                                2000-05  236.0\n",
       "...                                        ...\n",
       "Food preservation Fridges       2004-04  117.0\n",
       "                                2004-05  126.0\n",
       "                                2004-06  161.0\n",
       "                                2004-07   94.0\n",
       "                                2004-08  176.0\n",
       "\n",
       "[224 rows x 1 columns]"
      ]
     },
     "execution_count": 50,
     "metadata": {},
     "output_type": "execute_result"
    }
   ],
   "source": [
    "from hierarchical_demo_utils import load_product_hierarchy\n",
    "from sktime.forecasting.model_selection import temporal_train_test_split\n",
    "\n",
    "y = load_product_hierarchy()\n",
    "\n",
    "y_train, y_test = temporal_train_test_split(y, test_size=4)\n",
    "y_train"
   ]
  },
  {
   "cell_type": "markdown",
   "id": "86eeca19",
   "metadata": {},
   "source": [
    "sliced at a specific date:"
   ]
  },
  {
   "cell_type": "code",
   "execution_count": 51,
   "id": "1e003e4f",
   "metadata": {},
   "outputs": [
    {
     "data": {
      "text/html": [
       "<div>\n",
       "<style scoped>\n",
       "    .dataframe tbody tr th:only-of-type {\n",
       "        vertical-align: middle;\n",
       "    }\n",
       "\n",
       "    .dataframe tbody tr th {\n",
       "        vertical-align: top;\n",
       "    }\n",
       "\n",
       "    .dataframe thead th {\n",
       "        text-align: right;\n",
       "    }\n",
       "</style>\n",
       "<table border=\"1\" class=\"dataframe\">\n",
       "  <thead>\n",
       "    <tr style=\"text-align: right;\">\n",
       "      <th></th>\n",
       "      <th></th>\n",
       "      <th>Sales</th>\n",
       "    </tr>\n",
       "    <tr>\n",
       "      <th>Product line</th>\n",
       "      <th>Product group</th>\n",
       "      <th></th>\n",
       "    </tr>\n",
       "  </thead>\n",
       "  <tbody>\n",
       "    <tr>\n",
       "      <th rowspan=\"2\" valign=\"top\">Food preparation</th>\n",
       "      <th>Hobs</th>\n",
       "      <td>245.0</td>\n",
       "    </tr>\n",
       "    <tr>\n",
       "      <th>Ovens</th>\n",
       "      <td>114.0</td>\n",
       "    </tr>\n",
       "    <tr>\n",
       "      <th rowspan=\"2\" valign=\"top\">Food preservation</th>\n",
       "      <th>Freezers</th>\n",
       "      <td>164.0</td>\n",
       "    </tr>\n",
       "    <tr>\n",
       "      <th>Fridges</th>\n",
       "      <td>136.0</td>\n",
       "    </tr>\n",
       "  </tbody>\n",
       "</table>\n",
       "</div>"
      ],
      "text/plain": [
       "                                 Sales\n",
       "Product line      Product group       \n",
       "Food preparation  Hobs           245.0\n",
       "                  Ovens          114.0\n",
       "Food preservation Freezers       164.0\n",
       "                  Fridges        136.0"
      ]
     },
     "execution_count": 51,
     "metadata": {},
     "output_type": "execute_result"
    }
   ],
   "source": [
    "# Multiindex slicing can become important when using hierarchical data!\n",
    "y.loc[(slice(None), slice(None), \"2000-01\")]"
   ]
  },
  {
   "cell_type": "markdown",
   "id": "55c6b441",
   "metadata": {},
   "source": [
    "Like for variables, `sktime` broadcasts simple models to hierarchical data:"
   ]
  },
  {
   "cell_type": "code",
   "execution_count": 52,
   "id": "a36a92e9",
   "metadata": {},
   "outputs": [
    {
     "data": {
      "text/html": [
       "<div>\n",
       "<style scoped>\n",
       "    .dataframe tbody tr th:only-of-type {\n",
       "        vertical-align: middle;\n",
       "    }\n",
       "\n",
       "    .dataframe tbody tr th {\n",
       "        vertical-align: top;\n",
       "    }\n",
       "\n",
       "    .dataframe thead th {\n",
       "        text-align: right;\n",
       "    }\n",
       "</style>\n",
       "<table border=\"1\" class=\"dataframe\">\n",
       "  <thead>\n",
       "    <tr style=\"text-align: right;\">\n",
       "      <th></th>\n",
       "      <th></th>\n",
       "      <th></th>\n",
       "      <th>Sales</th>\n",
       "    </tr>\n",
       "    <tr>\n",
       "      <th>Product line</th>\n",
       "      <th>Product group</th>\n",
       "      <th>Date</th>\n",
       "      <th></th>\n",
       "    </tr>\n",
       "  </thead>\n",
       "  <tbody>\n",
       "    <tr>\n",
       "      <th rowspan=\"8\" valign=\"top\">Food preparation</th>\n",
       "      <th rowspan=\"4\" valign=\"top\">Hobs</th>\n",
       "      <th>2004-09</th>\n",
       "      <td>121.444964</td>\n",
       "    </tr>\n",
       "    <tr>\n",
       "      <th>2004-10</th>\n",
       "      <td>120.502170</td>\n",
       "    </tr>\n",
       "    <tr>\n",
       "      <th>2004-11</th>\n",
       "      <td>119.559377</td>\n",
       "    </tr>\n",
       "    <tr>\n",
       "      <th>2004-12</th>\n",
       "      <td>118.616583</td>\n",
       "    </tr>\n",
       "    <tr>\n",
       "      <th rowspan=\"4\" valign=\"top\">Ovens</th>\n",
       "      <th>2004-09</th>\n",
       "      <td>182.823610</td>\n",
       "    </tr>\n",
       "    <tr>\n",
       "      <th>2004-10</th>\n",
       "      <td>183.980932</td>\n",
       "    </tr>\n",
       "    <tr>\n",
       "      <th>2004-11</th>\n",
       "      <td>185.138253</td>\n",
       "    </tr>\n",
       "    <tr>\n",
       "      <th>2004-12</th>\n",
       "      <td>186.295575</td>\n",
       "    </tr>\n",
       "    <tr>\n",
       "      <th rowspan=\"8\" valign=\"top\">Food preservation</th>\n",
       "      <th rowspan=\"4\" valign=\"top\">Freezers</th>\n",
       "      <th>2004-09</th>\n",
       "      <td>148.411369</td>\n",
       "    </tr>\n",
       "    <tr>\n",
       "      <th>2004-10</th>\n",
       "      <td>148.411369</td>\n",
       "    </tr>\n",
       "    <tr>\n",
       "      <th>2004-11</th>\n",
       "      <td>148.411369</td>\n",
       "    </tr>\n",
       "    <tr>\n",
       "      <th>2004-12</th>\n",
       "      <td>148.411369</td>\n",
       "    </tr>\n",
       "    <tr>\n",
       "      <th rowspan=\"4\" valign=\"top\">Fridges</th>\n",
       "      <th>2004-09</th>\n",
       "      <td>139.052209</td>\n",
       "    </tr>\n",
       "    <tr>\n",
       "      <th>2004-10</th>\n",
       "      <td>139.052209</td>\n",
       "    </tr>\n",
       "    <tr>\n",
       "      <th>2004-11</th>\n",
       "      <td>139.052209</td>\n",
       "    </tr>\n",
       "    <tr>\n",
       "      <th>2004-12</th>\n",
       "      <td>139.052209</td>\n",
       "    </tr>\n",
       "  </tbody>\n",
       "</table>\n",
       "</div>"
      ],
      "text/plain": [
       "                                              Sales\n",
       "Product line      Product group Date               \n",
       "Food preparation  Hobs          2004-09  121.444964\n",
       "                                2004-10  120.502170\n",
       "                                2004-11  119.559377\n",
       "                                2004-12  118.616583\n",
       "                  Ovens         2004-09  182.823610\n",
       "                                2004-10  183.980932\n",
       "                                2004-11  185.138253\n",
       "                                2004-12  186.295575\n",
       "Food preservation Freezers      2004-09  148.411369\n",
       "                                2004-10  148.411369\n",
       "                                2004-11  148.411369\n",
       "                                2004-12  148.411369\n",
       "                  Fridges       2004-09  139.052209\n",
       "                                2004-10  139.052209\n",
       "                                2004-11  139.052209\n",
       "                                2004-12  139.052209"
      ]
     },
     "execution_count": 52,
     "metadata": {},
     "output_type": "execute_result"
    }
   ],
   "source": [
    "from sktime.forecasting.ets import AutoETS\n",
    "\n",
    "forecaster = AutoETS(auto=True)\n",
    "\n",
    "forecaster.fit(y_train, fh=[1, 2, 3, 4])\n",
    "y_pred = forecaster.predict()\n",
    "y_pred"
   ]
  },
  {
   "cell_type": "code",
   "execution_count": 53,
   "id": "6d37e901",
   "metadata": {},
   "outputs": [
    {
     "data": {
      "text/html": [
       "<div>\n",
       "<style scoped>\n",
       "    .dataframe tbody tr th:only-of-type {\n",
       "        vertical-align: middle;\n",
       "    }\n",
       "\n",
       "    .dataframe tbody tr th {\n",
       "        vertical-align: top;\n",
       "    }\n",
       "\n",
       "    .dataframe thead th {\n",
       "        text-align: right;\n",
       "    }\n",
       "</style>\n",
       "<table border=\"1\" class=\"dataframe\">\n",
       "  <thead>\n",
       "    <tr style=\"text-align: right;\">\n",
       "      <th></th>\n",
       "      <th></th>\n",
       "      <th>forecasters</th>\n",
       "    </tr>\n",
       "  </thead>\n",
       "  <tbody>\n",
       "    <tr>\n",
       "      <th rowspan=\"2\" valign=\"top\">Food preparation</th>\n",
       "      <th>Hobs</th>\n",
       "      <td>AutoETS(auto=True)</td>\n",
       "    </tr>\n",
       "    <tr>\n",
       "      <th>Ovens</th>\n",
       "      <td>AutoETS(auto=True)</td>\n",
       "    </tr>\n",
       "    <tr>\n",
       "      <th rowspan=\"2\" valign=\"top\">Food preservation</th>\n",
       "      <th>Freezers</th>\n",
       "      <td>AutoETS(auto=True)</td>\n",
       "    </tr>\n",
       "    <tr>\n",
       "      <th>Fridges</th>\n",
       "      <td>AutoETS(auto=True)</td>\n",
       "    </tr>\n",
       "  </tbody>\n",
       "</table>\n",
       "</div>"
      ],
      "text/plain": [
       "                                   forecasters\n",
       "Food preparation  Hobs      AutoETS(auto=True)\n",
       "                  Ovens     AutoETS(auto=True)\n",
       "Food preservation Freezers  AutoETS(auto=True)\n",
       "                  Fridges   AutoETS(auto=True)"
      ]
     },
     "execution_count": 53,
     "metadata": {},
     "output_type": "execute_result"
    }
   ],
   "source": [
    "# forecasters_ has fitted ETS models\n",
    "forecaster.forecasters_"
   ]
  },
  {
   "cell_type": "code",
   "execution_count": 54,
   "id": "c9abc2bb",
   "metadata": {},
   "outputs": [
    {
     "data": {
      "text/html": [
       "<style>#sk-e462443f-ae54-4969-b2f9-bb4d0e979049 {color: black;background-color: white;}#sk-e462443f-ae54-4969-b2f9-bb4d0e979049 pre{padding: 0;}#sk-e462443f-ae54-4969-b2f9-bb4d0e979049 div.sk-toggleable {background-color: white;}#sk-e462443f-ae54-4969-b2f9-bb4d0e979049 label.sk-toggleable__label {cursor: pointer;display: block;width: 100%;margin-bottom: 0;padding: 0.3em;box-sizing: border-box;text-align: center;}#sk-e462443f-ae54-4969-b2f9-bb4d0e979049 label.sk-toggleable__label-arrow:before {content: \"▸\";float: left;margin-right: 0.25em;color: #696969;}#sk-e462443f-ae54-4969-b2f9-bb4d0e979049 label.sk-toggleable__label-arrow:hover:before {color: black;}#sk-e462443f-ae54-4969-b2f9-bb4d0e979049 div.sk-estimator:hover label.sk-toggleable__label-arrow:before {color: black;}#sk-e462443f-ae54-4969-b2f9-bb4d0e979049 div.sk-toggleable__content {max-height: 0;max-width: 0;overflow: hidden;text-align: left;background-color: #f0f8ff;}#sk-e462443f-ae54-4969-b2f9-bb4d0e979049 div.sk-toggleable__content pre {margin: 0.2em;color: black;border-radius: 0.25em;background-color: #f0f8ff;}#sk-e462443f-ae54-4969-b2f9-bb4d0e979049 input.sk-toggleable__control:checked~div.sk-toggleable__content {max-height: 200px;max-width: 100%;overflow: auto;}#sk-e462443f-ae54-4969-b2f9-bb4d0e979049 input.sk-toggleable__control:checked~label.sk-toggleable__label-arrow:before {content: \"▾\";}#sk-e462443f-ae54-4969-b2f9-bb4d0e979049 div.sk-estimator input.sk-toggleable__control:checked~label.sk-toggleable__label {background-color: #d4ebff;}#sk-e462443f-ae54-4969-b2f9-bb4d0e979049 div.sk-label input.sk-toggleable__control:checked~label.sk-toggleable__label {background-color: #d4ebff;}#sk-e462443f-ae54-4969-b2f9-bb4d0e979049 input.sk-hidden--visually {border: 0;clip: rect(1px 1px 1px 1px);clip: rect(1px, 1px, 1px, 1px);height: 1px;margin: -1px;overflow: hidden;padding: 0;position: absolute;width: 1px;}#sk-e462443f-ae54-4969-b2f9-bb4d0e979049 div.sk-estimator {font-family: monospace;background-color: #f0f8ff;border: 1px dotted black;border-radius: 0.25em;box-sizing: border-box;margin-bottom: 0.5em;}#sk-e462443f-ae54-4969-b2f9-bb4d0e979049 div.sk-estimator:hover {background-color: #d4ebff;}#sk-e462443f-ae54-4969-b2f9-bb4d0e979049 div.sk-parallel-item::after {content: \"\";width: 100%;border-bottom: 1px solid gray;flex-grow: 1;}#sk-e462443f-ae54-4969-b2f9-bb4d0e979049 div.sk-label:hover label.sk-toggleable__label {background-color: #d4ebff;}#sk-e462443f-ae54-4969-b2f9-bb4d0e979049 div.sk-serial::before {content: \"\";position: absolute;border-left: 1px solid gray;box-sizing: border-box;top: 2em;bottom: 0;left: 50%;}#sk-e462443f-ae54-4969-b2f9-bb4d0e979049 div.sk-serial {display: flex;flex-direction: column;align-items: center;background-color: white;padding-right: 0.2em;padding-left: 0.2em;}#sk-e462443f-ae54-4969-b2f9-bb4d0e979049 div.sk-item {z-index: 1;}#sk-e462443f-ae54-4969-b2f9-bb4d0e979049 div.sk-parallel {display: flex;align-items: stretch;justify-content: center;background-color: white;}#sk-e462443f-ae54-4969-b2f9-bb4d0e979049 div.sk-parallel::before {content: \"\";position: absolute;border-left: 1px solid gray;box-sizing: border-box;top: 2em;bottom: 0;left: 50%;}#sk-e462443f-ae54-4969-b2f9-bb4d0e979049 div.sk-parallel-item {display: flex;flex-direction: column;position: relative;background-color: white;}#sk-e462443f-ae54-4969-b2f9-bb4d0e979049 div.sk-parallel-item:first-child::after {align-self: flex-end;width: 50%;}#sk-e462443f-ae54-4969-b2f9-bb4d0e979049 div.sk-parallel-item:last-child::after {align-self: flex-start;width: 50%;}#sk-e462443f-ae54-4969-b2f9-bb4d0e979049 div.sk-parallel-item:only-child::after {width: 0;}#sk-e462443f-ae54-4969-b2f9-bb4d0e979049 div.sk-dashed-wrapped {border: 1px dashed gray;margin: 0 0.4em 0.5em 0.4em;box-sizing: border-box;padding-bottom: 0.4em;background-color: white;position: relative;}#sk-e462443f-ae54-4969-b2f9-bb4d0e979049 div.sk-label label {font-family: monospace;font-weight: bold;background-color: white;display: inline-block;line-height: 1.2em;}#sk-e462443f-ae54-4969-b2f9-bb4d0e979049 div.sk-label-container {position: relative;z-index: 2;text-align: center;}#sk-e462443f-ae54-4969-b2f9-bb4d0e979049 div.sk-container {/* jupyter's `normalize.less` sets `[hidden] { display: none; }` but bootstrap.min.css set `[hidden] { display: none !important; }` so we also need the `!important` here to be able to override the default hidden behavior on the sphinx rendered scikit-learn.org. See: https://github.com/scikit-learn/scikit-learn/issues/21755 */display: inline-block !important;position: relative;}#sk-e462443f-ae54-4969-b2f9-bb4d0e979049 div.sk-text-repr-fallback {display: none;}</style><div id='sk-e462443f-ae54-4969-b2f9-bb4d0e979049' class=\"sk-top-container\"><div class=\"sk-text-repr-fallback\"><pre>AutoETS(auto=True)</pre><b>Please rerun this cell to show the HTML repr or trust the notebook.</b></div><div class=\"sk-container\" hidden><div class='sk-item'><div class=\"sk-estimator sk-toggleable\"><input class=\"sk-toggleable__control sk-hidden--visually\" id=UUID('b7a781ee-c0eb-4ed2-a652-49919d913078') type=\"checkbox\" checked><label for=UUID('b7a781ee-c0eb-4ed2-a652-49919d913078') class='sk-toggleable__label sk-toggleable__label-arrow'>AutoETS</label><div class=\"sk-toggleable__content\"><pre>AutoETS(auto=True)</pre></div></div></div></div></div>"
      ],
      "text/plain": [
       "AutoETS(auto=True)"
      ]
     },
     "execution_count": 54,
     "metadata": {},
     "output_type": "execute_result"
    }
   ],
   "source": [
    "# parallelization is enabled via the same config interface as for variables\n",
    "# (same backend is used for both variables and instances or hierarchy levels)\n",
    "forecaster = AutoETS(auto=True)\n",
    "\n",
    "# backends are set via the backend:parallel config\n",
    "forecaster.set_config(\n",
    "    **{\"backend:parallel\": \"loky\"}\n",
    ")  # or \"multiprocessing\", or \"dask\" (requires dask)\n",
    "# backend params are set via the backend:parallel:params config\n",
    "forecaster.set_config(\n",
    "    **{\"backend:parallel:params\": {\"n_jobs\": 2}}\n",
    ")  # passed to joblib.Parallel\n",
    "# for documentation of the config interface, see set_config/get_config docstrings"
   ]
  },
  {
   "cell_type": "code",
   "execution_count": 55,
   "id": "c7ccc30c",
   "metadata": {},
   "outputs": [],
   "source": [
    "# this is faster now!\n",
    "forecaster.fit(y_train, fh=[1, 2, 3, 4])\n",
    "y_pred = forecaster.predict()  # both fit and predict are parallelized"
   ]
  },
  {
   "cell_type": "markdown",
   "id": "51e28c89",
   "metadata": {},
   "source": [
    "also works for:\n",
    "\n",
    "* performance metrics (e.g., multivariate and hierarchical)\n",
    "* transformation and preprocessing"
   ]
  },
  {
   "cell_type": "markdown",
   "id": "bb60ba4d",
   "metadata": {},
   "source": [
    "side note: the same backend parameters are used for:\n",
    "\n",
    "* embarrassingly parallel \"special\" estimators such as grid search, random search\n",
    "* benchmarking and evaluation frameworks, e.g., `evaluate` for forecast benchmarks\n",
    "\n",
    "estimator or function params are called:\n",
    "\n",
    "* `backend`, string selecting backend, e.g., `loky`, `multiprocessing` or `dask`\n",
    "* `backend_params`, dict with params passed to backend, e.g., `joblib.Parallel`"
   ]
  },
  {
   "cell_type": "code",
   "execution_count": 56,
   "id": "3b0b9d68",
   "metadata": {},
   "outputs": [],
   "source": [
    "# example: parallelizing grid search\n",
    "from sktime.forecasting.exp_smoothing import ExponentialSmoothing\n",
    "from sktime.forecasting.model_selection import ForecastingGridSearchCV\n",
    "from sktime.performance_metrics.forecasting import MeanSquaredError\n",
    "from sktime.split import ExpandingWindowSplitter\n",
    "\n",
    "forecaster = ExponentialSmoothing()\n",
    "\n",
    "cv = ExpandingWindowSplitter(fh=[1, 2, 3, 4, 5, 6], initial_window=12, step_length=1)\n",
    "param_grid = {\n",
    "    \"sp\": [4, 6, 12],\n",
    "    \"seasonal\": [\"add\", \"mul\"],\n",
    "    \"trend\": [\"add\", \"mul\"],\n",
    "    \"damped_trend\": [True, False],\n",
    "}\n",
    "\n",
    "gscv = ForecastingGridSearchCV(\n",
    "    forecaster=forecaster,\n",
    "    param_grid=param_grid,\n",
    "    cv=cv,\n",
    "    backend=\"loky\",\n",
    "    backend_params={\"n_jobs\": 2},\n",
    "    verbose=1,\n",
    "    scoring=MeanSquaredError(square_root=True),\n",
    ")"
   ]
  },
  {
   "cell_type": "markdown",
   "id": "3075538a",
   "metadata": {},
   "source": [
    "## probabilistic forecasting, distribution outputs, skpro"
   ]
  },
  {
   "cell_type": "markdown",
   "metadata": {},
   "source": [
    "recall probabilistic forecaster vignette:"
   ]
  },
  {
   "cell_type": "code",
   "execution_count": 57,
   "id": "8f37bdfb",
   "metadata": {},
   "outputs": [
    {
     "data": {
      "text/html": [
       "<div>\n",
       "<style scoped>\n",
       "    .dataframe tbody tr th:only-of-type {\n",
       "        vertical-align: middle;\n",
       "    }\n",
       "\n",
       "    .dataframe tbody tr th {\n",
       "        vertical-align: top;\n",
       "    }\n",
       "\n",
       "    .dataframe thead tr th {\n",
       "        text-align: left;\n",
       "    }\n",
       "</style>\n",
       "<table border=\"1\" class=\"dataframe\">\n",
       "  <thead>\n",
       "    <tr>\n",
       "      <th></th>\n",
       "      <th colspan=\"2\" halign=\"left\">Number of airline passengers</th>\n",
       "    </tr>\n",
       "    <tr>\n",
       "      <th></th>\n",
       "      <th colspan=\"2\" halign=\"left\">0.9</th>\n",
       "    </tr>\n",
       "    <tr>\n",
       "      <th></th>\n",
       "      <th>lower</th>\n",
       "      <th>upper</th>\n",
       "    </tr>\n",
       "  </thead>\n",
       "  <tbody>\n",
       "    <tr>\n",
       "      <th>1960-01</th>\n",
       "      <td>391.969490</td>\n",
       "      <td>433.006206</td>\n",
       "    </tr>\n",
       "    <tr>\n",
       "      <th>1960-02</th>\n",
       "      <td>378.645958</td>\n",
       "      <td>428.083007</td>\n",
       "    </tr>\n",
       "    <tr>\n",
       "      <th>1960-03</th>\n",
       "      <td>435.831197</td>\n",
       "      <td>492.435363</td>\n",
       "    </tr>\n",
       "    <tr>\n",
       "      <th>1960-04</th>\n",
       "      <td>414.392525</td>\n",
       "      <td>477.353158</td>\n",
       "    </tr>\n",
       "    <tr>\n",
       "      <th>1960-05</th>\n",
       "      <td>414.769824</td>\n",
       "      <td>483.501556</td>\n",
       "    </tr>\n",
       "    <tr>\n",
       "      <th>1960-06</th>\n",
       "      <td>473.933061</td>\n",
       "      <td>547.987506</td>\n",
       "    </tr>\n",
       "    <tr>\n",
       "      <th>1960-07</th>\n",
       "      <td>523.830411</td>\n",
       "      <td>602.849843</td>\n",
       "    </tr>\n",
       "    <tr>\n",
       "      <th>1960-08</th>\n",
       "      <td>519.103324</td>\n",
       "      <td>602.793707</td>\n",
       "    </tr>\n",
       "    <tr>\n",
       "      <th>1960-09</th>\n",
       "      <td>447.674785</td>\n",
       "      <td>535.788858</td>\n",
       "    </tr>\n",
       "    <tr>\n",
       "      <th>1960-10</th>\n",
       "      <td>382.250311</td>\n",
       "      <td>474.576363</td>\n",
       "    </tr>\n",
       "    <tr>\n",
       "      <th>1960-11</th>\n",
       "      <td>324.763079</td>\n",
       "      <td>421.117162</td>\n",
       "    </tr>\n",
       "    <tr>\n",
       "      <th>1960-12</th>\n",
       "      <td>369.999658</td>\n",
       "      <td>470.220011</td>\n",
       "    </tr>\n",
       "  </tbody>\n",
       "</table>\n",
       "</div>"
      ],
      "text/plain": [
       "        Number of airline passengers            \n",
       "                                 0.9            \n",
       "                               lower       upper\n",
       "1960-01                   391.969490  433.006206\n",
       "1960-02                   378.645958  428.083007\n",
       "1960-03                   435.831197  492.435363\n",
       "1960-04                   414.392525  477.353158\n",
       "1960-05                   414.769824  483.501556\n",
       "1960-06                   473.933061  547.987506\n",
       "1960-07                   523.830411  602.849843\n",
       "1960-08                   519.103324  602.793707\n",
       "1960-09                   447.674785  535.788858\n",
       "1960-10                   382.250311  474.576363\n",
       "1960-11                   324.763079  421.117162\n",
       "1960-12                   369.999658  470.220011"
      ]
     },
     "execution_count": 57,
     "metadata": {},
     "output_type": "execute_result"
    }
   ],
   "source": [
    "from sktime.datasets import load_airline\n",
    "from sktime.forecasting.theta import ThetaForecaster\n",
    "\n",
    "\n",
    "# step 1: data specification\n",
    "y = load_airline()\n",
    "y_train = y.iloc[:-12]\n",
    "y_test = y.iloc[-12:]\n",
    "# step 2: specifying forecasting horizon\n",
    "fh = [1, 2, 3, 4, 5, 6, 7, 8, 9, 10, 11, 12]\n",
    "# step 3: specifying the forecasting algorithm\n",
    "forecaster = ThetaForecaster(sp=12)\n",
    "# step 4: fitting the forecaster\n",
    "forecaster.fit(y_train, fh=fh)\n",
    "# step 5: querying predictions\n",
    "y_pred = forecaster.predict()\n",
    "\n",
    "# for probabilistic forecasting:\n",
    "#   call a probabilistic forecasting method after or instead of step 5\n",
    "y_pred_int = forecaster.predict_interval(coverage=0.9)\n",
    "y_pred_int"
   ]
  },
  {
   "cell_type": "markdown",
   "id": "f21fa1f8",
   "metadata": {},
   "source": [
    "**probabilistic forecasting methods in `sktime`**:\n",
    "\n",
    "* forecast intervals    - `predict_interval(fh=None, X=None, coverage=0.90)`\n",
    "* forecast quantiles    - `predict_quantiles(fh=None, X=None, alpha=[0.05, 0.95])`\n",
    "* forecast variance     - `predict_var(fh=None, X=None, cov=False)`\n",
    "* distribution forecast - `predict_proba(fh=None, X=None, marginal=True)`"
   ]
  },
  {
   "cell_type": "markdown",
   "id": "14bca8eb",
   "metadata": {},
   "source": [
    "distribution forecasts have been reworked:"
   ]
  },
  {
   "cell_type": "code",
   "execution_count": 58,
   "id": "4b974b03",
   "metadata": {},
   "outputs": [
    {
     "data": {
      "text/html": [
       "<style>#sk-99eb5c29-215d-45da-94bf-99c96afd4074 {color: black;background-color: white;}#sk-99eb5c29-215d-45da-94bf-99c96afd4074 pre{padding: 0;}#sk-99eb5c29-215d-45da-94bf-99c96afd4074 div.sk-toggleable {background-color: white;}#sk-99eb5c29-215d-45da-94bf-99c96afd4074 label.sk-toggleable__label {cursor: pointer;display: block;width: 100%;margin-bottom: 0;padding: 0.3em;box-sizing: border-box;text-align: center;}#sk-99eb5c29-215d-45da-94bf-99c96afd4074 label.sk-toggleable__label-arrow:before {content: \"▸\";float: left;margin-right: 0.25em;color: #696969;}#sk-99eb5c29-215d-45da-94bf-99c96afd4074 label.sk-toggleable__label-arrow:hover:before {color: black;}#sk-99eb5c29-215d-45da-94bf-99c96afd4074 div.sk-estimator:hover label.sk-toggleable__label-arrow:before {color: black;}#sk-99eb5c29-215d-45da-94bf-99c96afd4074 div.sk-toggleable__content {max-height: 0;max-width: 0;overflow: hidden;text-align: left;background-color: #f0f8ff;}#sk-99eb5c29-215d-45da-94bf-99c96afd4074 div.sk-toggleable__content pre {margin: 0.2em;color: black;border-radius: 0.25em;background-color: #f0f8ff;}#sk-99eb5c29-215d-45da-94bf-99c96afd4074 input.sk-toggleable__control:checked~div.sk-toggleable__content {max-height: 200px;max-width: 100%;overflow: auto;}#sk-99eb5c29-215d-45da-94bf-99c96afd4074 input.sk-toggleable__control:checked~label.sk-toggleable__label-arrow:before {content: \"▾\";}#sk-99eb5c29-215d-45da-94bf-99c96afd4074 div.sk-estimator input.sk-toggleable__control:checked~label.sk-toggleable__label {background-color: #d4ebff;}#sk-99eb5c29-215d-45da-94bf-99c96afd4074 div.sk-label input.sk-toggleable__control:checked~label.sk-toggleable__label {background-color: #d4ebff;}#sk-99eb5c29-215d-45da-94bf-99c96afd4074 input.sk-hidden--visually {border: 0;clip: rect(1px 1px 1px 1px);clip: rect(1px, 1px, 1px, 1px);height: 1px;margin: -1px;overflow: hidden;padding: 0;position: absolute;width: 1px;}#sk-99eb5c29-215d-45da-94bf-99c96afd4074 div.sk-estimator {font-family: monospace;background-color: #f0f8ff;border: 1px dotted black;border-radius: 0.25em;box-sizing: border-box;margin-bottom: 0.5em;}#sk-99eb5c29-215d-45da-94bf-99c96afd4074 div.sk-estimator:hover {background-color: #d4ebff;}#sk-99eb5c29-215d-45da-94bf-99c96afd4074 div.sk-parallel-item::after {content: \"\";width: 100%;border-bottom: 1px solid gray;flex-grow: 1;}#sk-99eb5c29-215d-45da-94bf-99c96afd4074 div.sk-label:hover label.sk-toggleable__label {background-color: #d4ebff;}#sk-99eb5c29-215d-45da-94bf-99c96afd4074 div.sk-serial::before {content: \"\";position: absolute;border-left: 1px solid gray;box-sizing: border-box;top: 2em;bottom: 0;left: 50%;}#sk-99eb5c29-215d-45da-94bf-99c96afd4074 div.sk-serial {display: flex;flex-direction: column;align-items: center;background-color: white;padding-right: 0.2em;padding-left: 0.2em;}#sk-99eb5c29-215d-45da-94bf-99c96afd4074 div.sk-item {z-index: 1;}#sk-99eb5c29-215d-45da-94bf-99c96afd4074 div.sk-parallel {display: flex;align-items: stretch;justify-content: center;background-color: white;}#sk-99eb5c29-215d-45da-94bf-99c96afd4074 div.sk-parallel::before {content: \"\";position: absolute;border-left: 1px solid gray;box-sizing: border-box;top: 2em;bottom: 0;left: 50%;}#sk-99eb5c29-215d-45da-94bf-99c96afd4074 div.sk-parallel-item {display: flex;flex-direction: column;position: relative;background-color: white;}#sk-99eb5c29-215d-45da-94bf-99c96afd4074 div.sk-parallel-item:first-child::after {align-self: flex-end;width: 50%;}#sk-99eb5c29-215d-45da-94bf-99c96afd4074 div.sk-parallel-item:last-child::after {align-self: flex-start;width: 50%;}#sk-99eb5c29-215d-45da-94bf-99c96afd4074 div.sk-parallel-item:only-child::after {width: 0;}#sk-99eb5c29-215d-45da-94bf-99c96afd4074 div.sk-dashed-wrapped {border: 1px dashed gray;margin: 0 0.4em 0.5em 0.4em;box-sizing: border-box;padding-bottom: 0.4em;background-color: white;position: relative;}#sk-99eb5c29-215d-45da-94bf-99c96afd4074 div.sk-label label {font-family: monospace;font-weight: bold;background-color: white;display: inline-block;line-height: 1.2em;}#sk-99eb5c29-215d-45da-94bf-99c96afd4074 div.sk-label-container {position: relative;z-index: 2;text-align: center;}#sk-99eb5c29-215d-45da-94bf-99c96afd4074 div.sk-container {/* jupyter's `normalize.less` sets `[hidden] { display: none; }` but bootstrap.min.css set `[hidden] { display: none !important; }` so we also need the `!important` here to be able to override the default hidden behavior on the sphinx rendered scikit-learn.org. See: https://github.com/scikit-learn/scikit-learn/issues/21755 */display: inline-block !important;position: relative;}#sk-99eb5c29-215d-45da-94bf-99c96afd4074 div.sk-text-repr-fallback {display: none;}</style><div id='sk-99eb5c29-215d-45da-94bf-99c96afd4074' class=\"sk-top-container\"><div class=\"sk-text-repr-fallback\"><pre>Normal(columns=Index([&#x27;Number of airline passengers&#x27;], dtype=&#x27;object&#x27;),\n",
       "       index=PeriodIndex([&#x27;1960-01&#x27;, &#x27;1960-02&#x27;, &#x27;1960-03&#x27;, &#x27;1960-04&#x27;, &#x27;1960-05&#x27;, &#x27;1960-06&#x27;,\n",
       "             &#x27;1960-07&#x27;, &#x27;1960-08&#x27;, &#x27;1960-09&#x27;, &#x27;1960-10&#x27;, &#x27;1960-11&#x27;, &#x27;1960-12&#x27;],\n",
       "            dtype=&#x27;period[M]&#x27;),\n",
       "       mu=         Number of airline passengers\n",
       "1960-01                    412.487848\n",
       "1960-02                    403.364482\n",
       "1960-03                    464.133280\n",
       "1960-04                    445.872842\n",
       "1960-05                    449.135690\n",
       "1960-06                    510.960283\n",
       "1960-07                    563.340127\n",
       "1960-08                    560.948515\n",
       "1960-09                    491.731822\n",
       "1960-10                    428.413337\n",
       "1960-11                    372.940120\n",
       "1960-12                    420.109834,\n",
       "       sigma=         Number of airline passengers\n",
       "1960-01                     12.474276\n",
       "1960-02                     15.027796\n",
       "1960-03                     17.206445\n",
       "1960-04                     19.138674\n",
       "1960-05                     20.892963\n",
       "1960-06                     22.510953\n",
       "1960-07                     24.020202\n",
       "1960-08                     25.440070\n",
       "1960-09                     26.784777\n",
       "1960-10                     28.065127\n",
       "1960-11                     29.289562\n",
       "1960-12                     30.464824)</pre><b>Please rerun this cell to show the HTML repr or trust the notebook.</b></div><div class=\"sk-container\" hidden><div class='sk-item'><div class=\"sk-estimator sk-toggleable\"><input class=\"sk-toggleable__control sk-hidden--visually\" id=UUID('639125a5-ef79-4385-986d-058072116833') type=\"checkbox\" checked><label for=UUID('639125a5-ef79-4385-986d-058072116833') class='sk-toggleable__label sk-toggleable__label-arrow'>Normal</label><div class=\"sk-toggleable__content\"><pre>Normal(columns=Index([&#x27;Number of airline passengers&#x27;], dtype=&#x27;object&#x27;),\n",
       "       index=PeriodIndex([&#x27;1960-01&#x27;, &#x27;1960-02&#x27;, &#x27;1960-03&#x27;, &#x27;1960-04&#x27;, &#x27;1960-05&#x27;, &#x27;1960-06&#x27;,\n",
       "             &#x27;1960-07&#x27;, &#x27;1960-08&#x27;, &#x27;1960-09&#x27;, &#x27;1960-10&#x27;, &#x27;1960-11&#x27;, &#x27;1960-12&#x27;],\n",
       "            dtype=&#x27;period[M]&#x27;),\n",
       "       mu=         Number of airline passengers\n",
       "1960-01                    412.487848\n",
       "1960-02                    403.364482\n",
       "1960-03                    464.133280\n",
       "1960-04                    445.872842\n",
       "1960-05                    449.135690\n",
       "1960-06                    510.960283\n",
       "1960-07                    563.340127\n",
       "1960-08                    560.948515\n",
       "1960-09                    491.731822\n",
       "1960-10                    428.413337\n",
       "1960-11                    372.940120\n",
       "1960-12                    420.109834,\n",
       "       sigma=         Number of airline passengers\n",
       "1960-01                     12.474276\n",
       "1960-02                     15.027796\n",
       "1960-03                     17.206445\n",
       "1960-04                     19.138674\n",
       "1960-05                     20.892963\n",
       "1960-06                     22.510953\n",
       "1960-07                     24.020202\n",
       "1960-08                     25.440070\n",
       "1960-09                     26.784777\n",
       "1960-10                     28.065127\n",
       "1960-11                     29.289562\n",
       "1960-12                     30.464824)</pre></div></div></div></div></div>"
      ],
      "text/plain": [
       "Normal(columns=Index(['Number of airline passengers'], dtype='object'),\n",
       "       index=PeriodIndex(['1960-01', '1960-02', '1960-03', '1960-04', '1960-05', '1960-06',\n",
       "             '1960-07', '1960-08', '1960-09', '1960-10', '1960-11', '1960-12'],\n",
       "            dtype='period[M]'),\n",
       "       mu=         Number of airline passengers\n",
       "1960-01                    412.487848\n",
       "1960-02                    403.364482\n",
       "1960-03                    464.133280\n",
       "1960-04                    445.872842\n",
       "1960-05                    449.135690\n",
       "1960-06                    510.960283\n",
       "1960-07                    563.340127\n",
       "1960-08                    560.948515\n",
       "1960-09                    491.731822\n",
       "1960-10                    428.413337\n",
       "1960-11                    372.940120\n",
       "1960-12                    420.109834,\n",
       "       sigma=         Number of airline passengers\n",
       "1960-01                     12.474276\n",
       "1960-02                     15.027796\n",
       "1960-03                     17.206445\n",
       "1960-04                     19.138674\n",
       "1960-05                     20.892963\n",
       "1960-06                     22.510953\n",
       "1960-07                     24.020202\n",
       "1960-08                     25.440070\n",
       "1960-09                     26.784777\n",
       "1960-10                     28.065127\n",
       "1960-11                     29.289562\n",
       "1960-12                     30.464824)"
      ]
     },
     "execution_count": 58,
     "metadata": {},
     "output_type": "execute_result"
    }
   ],
   "source": [
    "y_pred_distr = forecaster.predict_proba()\n",
    "y_pred_distr"
   ]
  },
  {
   "cell_type": "markdown",
   "id": "cb8db29d",
   "metadata": {},
   "source": [
    "scikit-base distribution object, first class citizen:"
   ]
  },
  {
   "cell_type": "code",
   "execution_count": 59,
   "id": "aadc133c",
   "metadata": {},
   "outputs": [
    {
     "data": {
      "text/plain": [
       "{'object_type': 'distribution',\n",
       " 'python_version': None,\n",
       " 'python_dependencies': None,\n",
       " 'reserved_params': ['index', 'columns'],\n",
       " 'capabilities:approx': ['pdfnorm'],\n",
       " 'approx_mean_spl': 1000,\n",
       " 'approx_var_spl': 1000,\n",
       " 'approx_energy_spl': 1000,\n",
       " 'approx_spl': 1000,\n",
       " 'capabilities:exact': ['mean',\n",
       "  'var',\n",
       "  'energy',\n",
       "  'pdf',\n",
       "  'log_pdf',\n",
       "  'cdf',\n",
       "  'ppf'],\n",
       " 'distr:measuretype': 'continuous'}"
      ]
     },
     "execution_count": 59,
     "metadata": {},
     "output_type": "execute_result"
    }
   ],
   "source": [
    "y_pred_distr.get_tags()"
   ]
  },
  {
   "cell_type": "code",
   "execution_count": 60,
   "id": "43d74bf1",
   "metadata": {},
   "outputs": [
    {
     "data": {
      "text/html": [
       "<div>\n",
       "<style scoped>\n",
       "    .dataframe tbody tr th:only-of-type {\n",
       "        vertical-align: middle;\n",
       "    }\n",
       "\n",
       "    .dataframe tbody tr th {\n",
       "        vertical-align: top;\n",
       "    }\n",
       "\n",
       "    .dataframe thead th {\n",
       "        text-align: right;\n",
       "    }\n",
       "</style>\n",
       "<table border=\"1\" class=\"dataframe\">\n",
       "  <thead>\n",
       "    <tr style=\"text-align: right;\">\n",
       "      <th></th>\n",
       "      <th>Number of airline passengers</th>\n",
       "    </tr>\n",
       "  </thead>\n",
       "  <tbody>\n",
       "    <tr>\n",
       "      <th>1960-01</th>\n",
       "      <td>411.817788</td>\n",
       "    </tr>\n",
       "    <tr>\n",
       "      <th>1960-02</th>\n",
       "      <td>402.612991</td>\n",
       "    </tr>\n",
       "    <tr>\n",
       "      <th>1960-03</th>\n",
       "      <td>469.526162</td>\n",
       "    </tr>\n",
       "    <tr>\n",
       "      <th>1960-04</th>\n",
       "      <td>455.482213</td>\n",
       "    </tr>\n",
       "    <tr>\n",
       "      <th>1960-05</th>\n",
       "      <td>445.002031</td>\n",
       "    </tr>\n",
       "    <tr>\n",
       "      <th>1960-06</th>\n",
       "      <td>469.028909</td>\n",
       "    </tr>\n",
       "    <tr>\n",
       "      <th>1960-07</th>\n",
       "      <td>553.345397</td>\n",
       "    </tr>\n",
       "    <tr>\n",
       "      <th>1960-08</th>\n",
       "      <td>544.543594</td>\n",
       "    </tr>\n",
       "    <tr>\n",
       "      <th>1960-09</th>\n",
       "      <td>457.565508</td>\n",
       "    </tr>\n",
       "    <tr>\n",
       "      <th>1960-10</th>\n",
       "      <td>453.429365</td>\n",
       "    </tr>\n",
       "    <tr>\n",
       "      <th>1960-11</th>\n",
       "      <td>402.188899</td>\n",
       "    </tr>\n",
       "    <tr>\n",
       "      <th>1960-12</th>\n",
       "      <td>400.819593</td>\n",
       "    </tr>\n",
       "  </tbody>\n",
       "</table>\n",
       "</div>"
      ],
      "text/plain": [
       "         Number of airline passengers\n",
       "1960-01                    411.817788\n",
       "1960-02                    402.612991\n",
       "1960-03                    469.526162\n",
       "1960-04                    455.482213\n",
       "1960-05                    445.002031\n",
       "1960-06                    469.028909\n",
       "1960-07                    553.345397\n",
       "1960-08                    544.543594\n",
       "1960-09                    457.565508\n",
       "1960-10                    453.429365\n",
       "1960-11                    402.188899\n",
       "1960-12                    400.819593"
      ]
     },
     "execution_count": 60,
     "metadata": {},
     "output_type": "execute_result"
    }
   ],
   "source": [
    "y_pred_distr.sample()"
   ]
  },
  {
   "cell_type": "markdown",
   "id": "6e4a3fb4",
   "metadata": {},
   "source": [
    "pandas-like interface:"
   ]
  },
  {
   "cell_type": "code",
   "execution_count": 61,
   "id": "c54be394",
   "metadata": {},
   "outputs": [
    {
     "data": {
      "text/plain": [
       "PeriodIndex(['1960-01', '1960-02', '1960-03', '1960-04', '1960-05', '1960-06',\n",
       "             '1960-07', '1960-08', '1960-09', '1960-10', '1960-11', '1960-12'],\n",
       "            dtype='period[M]')"
      ]
     },
     "execution_count": 61,
     "metadata": {},
     "output_type": "execute_result"
    }
   ],
   "source": [
    "y_pred_distr.index"
   ]
  },
  {
   "cell_type": "code",
   "execution_count": 62,
   "id": "533600b3",
   "metadata": {},
   "outputs": [
    {
     "data": {
      "text/html": [
       "<style>#sk-e2fcc0f3-32a8-45d3-972e-af182ae38992 {color: black;background-color: white;}#sk-e2fcc0f3-32a8-45d3-972e-af182ae38992 pre{padding: 0;}#sk-e2fcc0f3-32a8-45d3-972e-af182ae38992 div.sk-toggleable {background-color: white;}#sk-e2fcc0f3-32a8-45d3-972e-af182ae38992 label.sk-toggleable__label {cursor: pointer;display: block;width: 100%;margin-bottom: 0;padding: 0.3em;box-sizing: border-box;text-align: center;}#sk-e2fcc0f3-32a8-45d3-972e-af182ae38992 label.sk-toggleable__label-arrow:before {content: \"▸\";float: left;margin-right: 0.25em;color: #696969;}#sk-e2fcc0f3-32a8-45d3-972e-af182ae38992 label.sk-toggleable__label-arrow:hover:before {color: black;}#sk-e2fcc0f3-32a8-45d3-972e-af182ae38992 div.sk-estimator:hover label.sk-toggleable__label-arrow:before {color: black;}#sk-e2fcc0f3-32a8-45d3-972e-af182ae38992 div.sk-toggleable__content {max-height: 0;max-width: 0;overflow: hidden;text-align: left;background-color: #f0f8ff;}#sk-e2fcc0f3-32a8-45d3-972e-af182ae38992 div.sk-toggleable__content pre {margin: 0.2em;color: black;border-radius: 0.25em;background-color: #f0f8ff;}#sk-e2fcc0f3-32a8-45d3-972e-af182ae38992 input.sk-toggleable__control:checked~div.sk-toggleable__content {max-height: 200px;max-width: 100%;overflow: auto;}#sk-e2fcc0f3-32a8-45d3-972e-af182ae38992 input.sk-toggleable__control:checked~label.sk-toggleable__label-arrow:before {content: \"▾\";}#sk-e2fcc0f3-32a8-45d3-972e-af182ae38992 div.sk-estimator input.sk-toggleable__control:checked~label.sk-toggleable__label {background-color: #d4ebff;}#sk-e2fcc0f3-32a8-45d3-972e-af182ae38992 div.sk-label input.sk-toggleable__control:checked~label.sk-toggleable__label {background-color: #d4ebff;}#sk-e2fcc0f3-32a8-45d3-972e-af182ae38992 input.sk-hidden--visually {border: 0;clip: rect(1px 1px 1px 1px);clip: rect(1px, 1px, 1px, 1px);height: 1px;margin: -1px;overflow: hidden;padding: 0;position: absolute;width: 1px;}#sk-e2fcc0f3-32a8-45d3-972e-af182ae38992 div.sk-estimator {font-family: monospace;background-color: #f0f8ff;border: 1px dotted black;border-radius: 0.25em;box-sizing: border-box;margin-bottom: 0.5em;}#sk-e2fcc0f3-32a8-45d3-972e-af182ae38992 div.sk-estimator:hover {background-color: #d4ebff;}#sk-e2fcc0f3-32a8-45d3-972e-af182ae38992 div.sk-parallel-item::after {content: \"\";width: 100%;border-bottom: 1px solid gray;flex-grow: 1;}#sk-e2fcc0f3-32a8-45d3-972e-af182ae38992 div.sk-label:hover label.sk-toggleable__label {background-color: #d4ebff;}#sk-e2fcc0f3-32a8-45d3-972e-af182ae38992 div.sk-serial::before {content: \"\";position: absolute;border-left: 1px solid gray;box-sizing: border-box;top: 2em;bottom: 0;left: 50%;}#sk-e2fcc0f3-32a8-45d3-972e-af182ae38992 div.sk-serial {display: flex;flex-direction: column;align-items: center;background-color: white;padding-right: 0.2em;padding-left: 0.2em;}#sk-e2fcc0f3-32a8-45d3-972e-af182ae38992 div.sk-item {z-index: 1;}#sk-e2fcc0f3-32a8-45d3-972e-af182ae38992 div.sk-parallel {display: flex;align-items: stretch;justify-content: center;background-color: white;}#sk-e2fcc0f3-32a8-45d3-972e-af182ae38992 div.sk-parallel::before {content: \"\";position: absolute;border-left: 1px solid gray;box-sizing: border-box;top: 2em;bottom: 0;left: 50%;}#sk-e2fcc0f3-32a8-45d3-972e-af182ae38992 div.sk-parallel-item {display: flex;flex-direction: column;position: relative;background-color: white;}#sk-e2fcc0f3-32a8-45d3-972e-af182ae38992 div.sk-parallel-item:first-child::after {align-self: flex-end;width: 50%;}#sk-e2fcc0f3-32a8-45d3-972e-af182ae38992 div.sk-parallel-item:last-child::after {align-self: flex-start;width: 50%;}#sk-e2fcc0f3-32a8-45d3-972e-af182ae38992 div.sk-parallel-item:only-child::after {width: 0;}#sk-e2fcc0f3-32a8-45d3-972e-af182ae38992 div.sk-dashed-wrapped {border: 1px dashed gray;margin: 0 0.4em 0.5em 0.4em;box-sizing: border-box;padding-bottom: 0.4em;background-color: white;position: relative;}#sk-e2fcc0f3-32a8-45d3-972e-af182ae38992 div.sk-label label {font-family: monospace;font-weight: bold;background-color: white;display: inline-block;line-height: 1.2em;}#sk-e2fcc0f3-32a8-45d3-972e-af182ae38992 div.sk-label-container {position: relative;z-index: 2;text-align: center;}#sk-e2fcc0f3-32a8-45d3-972e-af182ae38992 div.sk-container {/* jupyter's `normalize.less` sets `[hidden] { display: none; }` but bootstrap.min.css set `[hidden] { display: none !important; }` so we also need the `!important` here to be able to override the default hidden behavior on the sphinx rendered scikit-learn.org. See: https://github.com/scikit-learn/scikit-learn/issues/21755 */display: inline-block !important;position: relative;}#sk-e2fcc0f3-32a8-45d3-972e-af182ae38992 div.sk-text-repr-fallback {display: none;}</style><div id='sk-e2fcc0f3-32a8-45d3-972e-af182ae38992' class=\"sk-top-container\"><div class=\"sk-text-repr-fallback\"><pre>Normal(columns=Index([&#x27;Number of airline passengers&#x27;], dtype=&#x27;object&#x27;),\n",
       "       index=PeriodIndex([&#x27;1960-01&#x27;, &#x27;1960-02&#x27;, &#x27;1960-03&#x27;], dtype=&#x27;period[M]&#x27;),\n",
       "       mu=array([[412.48784801],\n",
       "       [403.36448248],\n",
       "       [464.13327995]]),\n",
       "       sigma=array([[12.4742762 ],\n",
       "       [15.027796  ],\n",
       "       [17.20644468]]))</pre><b>Please rerun this cell to show the HTML repr or trust the notebook.</b></div><div class=\"sk-container\" hidden><div class='sk-item'><div class=\"sk-estimator sk-toggleable\"><input class=\"sk-toggleable__control sk-hidden--visually\" id=UUID('da3b2151-65f3-4e59-8bc8-b3393e50e018') type=\"checkbox\" checked><label for=UUID('da3b2151-65f3-4e59-8bc8-b3393e50e018') class='sk-toggleable__label sk-toggleable__label-arrow'>Normal</label><div class=\"sk-toggleable__content\"><pre>Normal(columns=Index([&#x27;Number of airline passengers&#x27;], dtype=&#x27;object&#x27;),\n",
       "       index=PeriodIndex([&#x27;1960-01&#x27;, &#x27;1960-02&#x27;, &#x27;1960-03&#x27;], dtype=&#x27;period[M]&#x27;),\n",
       "       mu=array([[412.48784801],\n",
       "       [403.36448248],\n",
       "       [464.13327995]]),\n",
       "       sigma=array([[12.4742762 ],\n",
       "       [15.027796  ],\n",
       "       [17.20644468]]))</pre></div></div></div></div></div>"
      ],
      "text/plain": [
       "Normal(columns=Index(['Number of airline passengers'], dtype='object'),\n",
       "       index=PeriodIndex(['1960-01', '1960-02', '1960-03'], dtype='period[M]'),\n",
       "       mu=array([[412.48784801],\n",
       "       [403.36448248],\n",
       "       [464.13327995]]),\n",
       "       sigma=array([[12.4742762 ],\n",
       "       [15.027796  ],\n",
       "       [17.20644468]]))"
      ]
     },
     "execution_count": 62,
     "metadata": {},
     "output_type": "execute_result"
    }
   ],
   "source": [
    "y_subset = y_pred_distr.iloc[[0, 1, 2]]\n",
    "y_subset"
   ]
  },
  {
   "cell_type": "markdown",
   "id": "7f482fab",
   "metadata": {},
   "source": [
    "distribution-defining functions:"
   ]
  },
  {
   "cell_type": "code",
   "execution_count": 63,
   "id": "4e456ca5",
   "metadata": {},
   "outputs": [
    {
     "data": {
      "text/html": [
       "<div>\n",
       "<style scoped>\n",
       "    .dataframe tbody tr th:only-of-type {\n",
       "        vertical-align: middle;\n",
       "    }\n",
       "\n",
       "    .dataframe tbody tr th {\n",
       "        vertical-align: top;\n",
       "    }\n",
       "\n",
       "    .dataframe thead th {\n",
       "        text-align: right;\n",
       "    }\n",
       "</style>\n",
       "<table border=\"1\" class=\"dataframe\">\n",
       "  <thead>\n",
       "    <tr style=\"text-align: right;\">\n",
       "      <th></th>\n",
       "      <th>Number of airline passengers</th>\n",
       "    </tr>\n",
       "  </thead>\n",
       "  <tbody>\n",
       "    <tr>\n",
       "      <th>1960-01</th>\n",
       "      <td>1.656111e-238</td>\n",
       "    </tr>\n",
       "    <tr>\n",
       "      <th>1960-02</th>\n",
       "      <td>5.684623e-158</td>\n",
       "    </tr>\n",
       "    <tr>\n",
       "      <th>1960-03</th>\n",
       "      <td>1.109667e-159</td>\n",
       "    </tr>\n",
       "  </tbody>\n",
       "</table>\n",
       "</div>"
      ],
      "text/plain": [
       "         Number of airline passengers\n",
       "1960-01                 1.656111e-238\n",
       "1960-02                 5.684623e-158\n",
       "1960-03                 1.109667e-159"
      ]
     },
     "execution_count": 63,
     "metadata": {},
     "output_type": "execute_result"
    }
   ],
   "source": [
    "import pandas as pd\n",
    "\n",
    "x_df = pd.DataFrame([1, 1, 1], index=y_subset.index, columns=y_subset.columns)\n",
    "y_subset.pdf(x_df)"
   ]
  },
  {
   "cell_type": "markdown",
   "id": "ab1bdfe0",
   "metadata": {},
   "source": [
    "works seamlessly with probabilistic metrics:"
   ]
  },
  {
   "cell_type": "code",
   "execution_count": 64,
   "id": "2628a463",
   "metadata": {},
   "outputs": [
    {
     "data": {
      "text/plain": [
       "17.54994064789111"
      ]
     },
     "execution_count": 64,
     "metadata": {},
     "output_type": "execute_result"
    }
   ],
   "source": [
    "from sktime.performance_metrics.forecasting.probabilistic import CRPS\n",
    "\n",
    "crps = CRPS()\n",
    "\n",
    "crps(y_test, y_pred_distr)"
   ]
  },
  {
   "cell_type": "markdown",
   "id": "db62bf6b",
   "metadata": {},
   "source": [
    "same interface also available for scikit-learn tabular regressors, with `skpro`!\n",
    "\n",
    "see [sktime tutorial at pydata Amsterdam 2023](https://github.com/sktime/sktime-tutorial-pydata-Amsterdam-2023)"
   ]
  },
  {
   "cell_type": "markdown",
   "id": "72a808cd",
   "metadata": {},
   "source": [
    "## modular time series distances, classifiers, aligners"
   ]
  },
  {
   "cell_type": "markdown",
   "id": "eb56d22f",
   "metadata": {},
   "source": [
    "Rich component relationships between object types!\n",
    "\n",
    "* many classifiers, regressors, clusterers use distances or kernels\n",
    "* distances and kernels are often composite, e.g., sum-of-distance, independent distance\n",
    "* TS distances are often based on scalar multivariate distances (e.g., Euclidean)\n",
    "* TS distances are often based on alignment, TS aligners are an estimator type!\n",
    "* aligners internally typically use scalar uni/multivariate distances"
   ]
  },
  {
   "cell_type": "markdown",
   "id": "beddfe65",
   "metadata": {},
   "source": [
    "example:\n",
    "\n",
    "* 1-nn using `sklearn` nearest neighbors\n",
    "* with multivariate dynamic time warping distance, from `dtw-python` library \n",
    "* on multivariate `\"mahalanobis\"` distance from `scipy`\n",
    "* in `sktime` compatible interface, constructed from custom components"
   ]
  },
  {
   "cell_type": "markdown",
   "id": "4f92f0b8",
   "metadata": {},
   "source": [
    "so, conceptually:\n",
    "\n",
    "* we build an sequence alignment algorithm (`dtw-python`) using `scipy` Mahalanobis dist\n",
    "* we get the distance matrix computation from alignment algorithm\n",
    "* we use that distance matrix in `sklearn` knn\n",
    "* together this is a time series classifier!"
   ]
  },
  {
   "cell_type": "code",
   "execution_count": 65,
   "id": "e2ea3019",
   "metadata": {},
   "outputs": [],
   "source": [
    "from sktime.alignment.dtw_python import AlignerDTWfromDist\n",
    "from sktime.classification.distance_based import KNeighborsTimeSeriesClassifier\n",
    "from sktime.dists_kernels.compose_from_align import DistFromAligner\n",
    "from sktime.dists_kernels.scipy_dist import ScipyDist\n",
    "\n",
    "# Mahalanobis distance on R^n\n",
    "mahalanobis_dist = ScipyDist(metric=\"mahalanobis\")  # uses scipy distances\n",
    "\n",
    "# pairwise multivariate aligner from dtw-python with Mahalanobis distance\n",
    "mw_aligner = AlignerDTWfromDist(mahalanobis_dist)  # uses dtw-python\n",
    "\n",
    "# turning this into alignment distance on time series\n",
    "dtw_dist = DistFromAligner(mw_aligner)  # interface mutation to distance\n",
    "\n",
    "# and using this distance in a k-nn classifier\n",
    "clf = KNeighborsTimeSeriesClassifier(distance=dtw_dist)  # uses sklearn knn"
   ]
  },
  {
   "cell_type": "markdown",
   "id": "dcd3f32a",
   "metadata": {},
   "source": [
    "works seamlessly with `get_params`, `set_params` for tuning!"
   ]
  },
  {
   "cell_type": "code",
   "execution_count": 66,
   "id": "4f1097cd",
   "metadata": {},
   "outputs": [
    {
     "data": {
      "text/plain": [
       "{'algorithm': 'brute',\n",
       " 'distance': DistFromAligner(aligner=AlignerDTWfromDist(dist_trafo=ScipyDist(metric='mahalanobis'))),\n",
       " 'distance_mtype': None,\n",
       " 'distance_params': None,\n",
       " 'leaf_size': 30,\n",
       " 'n_jobs': None,\n",
       " 'n_neighbors': 1,\n",
       " 'pass_train_distances': False,\n",
       " 'weights': 'uniform',\n",
       " 'distance__aligner': AlignerDTWfromDist(dist_trafo=ScipyDist(metric='mahalanobis')),\n",
       " 'distance__aligner__dist_trafo': ScipyDist(metric='mahalanobis'),\n",
       " 'distance__aligner__open_begin': False,\n",
       " 'distance__aligner__open_end': False,\n",
       " 'distance__aligner__step_pattern': 'symmetric2',\n",
       " 'distance__aligner__window_type': 'none',\n",
       " 'distance__aligner__dist_trafo__colalign': 'intersect',\n",
       " 'distance__aligner__dist_trafo__metric': 'mahalanobis',\n",
       " 'distance__aligner__dist_trafo__metric_kwargs': None,\n",
       " 'distance__aligner__dist_trafo__p': 2,\n",
       " 'distance__aligner__dist_trafo__var_weights': None}"
      ]
     },
     "execution_count": 66,
     "metadata": {},
     "output_type": "execute_result"
    }
   ],
   "source": [
    "clf.get_params()"
   ]
  },
  {
   "cell_type": "markdown",
   "id": "2a41bf49",
   "metadata": {},
   "source": [
    "all object types are first class citizens in sktime!\n",
    "\n",
    "* `\"transformer-panel\"` - time series distances, kernels, pairwise transformers on panel data\n",
    "* `\"transformer-pairwise\"` for all pairwise transformers on tabular data, e.g., scalar distance\n",
    "* `\"aligner\"` for all time series aligners\n",
    "* `\"transformer\"` for all transformers, these can be composed with all the above"
   ]
  },
  {
   "cell_type": "code",
   "execution_count": 67,
   "id": "0e33500e",
   "metadata": {},
   "outputs": [
    {
     "data": {
      "text/html": [
       "<div>\n",
       "<style scoped>\n",
       "    .dataframe tbody tr th:only-of-type {\n",
       "        vertical-align: middle;\n",
       "    }\n",
       "\n",
       "    .dataframe tbody tr th {\n",
       "        vertical-align: top;\n",
       "    }\n",
       "\n",
       "    .dataframe thead th {\n",
       "        text-align: right;\n",
       "    }\n",
       "</style>\n",
       "<table border=\"1\" class=\"dataframe\">\n",
       "  <thead>\n",
       "    <tr style=\"text-align: right;\">\n",
       "      <th></th>\n",
       "      <th>name</th>\n",
       "      <th>object</th>\n",
       "      <th>pwtrafo_type</th>\n",
       "    </tr>\n",
       "  </thead>\n",
       "  <tbody>\n",
       "    <tr>\n",
       "      <th>0</th>\n",
       "      <td>AggrDist</td>\n",
       "      <td>&lt;class 'sktime.dists_kernels.compose_tab_to_pa...</td>\n",
       "      <td>distance</td>\n",
       "    </tr>\n",
       "    <tr>\n",
       "      <th>1</th>\n",
       "      <td>CombinedDistance</td>\n",
       "      <td>&lt;class 'sktime.dists_kernels.algebra.CombinedD...</td>\n",
       "      <td>distance</td>\n",
       "    </tr>\n",
       "    <tr>\n",
       "      <th>2</th>\n",
       "      <td>ConstantPwTrafoPanel</td>\n",
       "      <td>&lt;class 'sktime.dists_kernels.dummy.ConstantPwT...</td>\n",
       "      <td>distance</td>\n",
       "    </tr>\n",
       "    <tr>\n",
       "      <th>3</th>\n",
       "      <td>CtwDistTslearn</td>\n",
       "      <td>&lt;class 'sktime.dists_kernels.ctw.CtwDistTslearn'&gt;</td>\n",
       "      <td>distance</td>\n",
       "    </tr>\n",
       "    <tr>\n",
       "      <th>4</th>\n",
       "      <td>DistFromAligner</td>\n",
       "      <td>&lt;class 'sktime.dists_kernels.compose_from_alig...</td>\n",
       "      <td>distance</td>\n",
       "    </tr>\n",
       "    <tr>\n",
       "      <th>5</th>\n",
       "      <td>DistFromKernel</td>\n",
       "      <td>&lt;class 'sktime.dists_kernels.dist_to_kern.Dist...</td>\n",
       "      <td>distance</td>\n",
       "    </tr>\n",
       "    <tr>\n",
       "      <th>6</th>\n",
       "      <td>DtwDist</td>\n",
       "      <td>&lt;class 'sktime.dists_kernels.dtw._dtw_sktime.D...</td>\n",
       "      <td>distance</td>\n",
       "    </tr>\n",
       "    <tr>\n",
       "      <th>7</th>\n",
       "      <td>DtwDistTslearn</td>\n",
       "      <td>&lt;class 'sktime.dists_kernels.dtw._dtw_tslearn....</td>\n",
       "      <td>distance</td>\n",
       "    </tr>\n",
       "    <tr>\n",
       "      <th>8</th>\n",
       "      <td>DtwPythonDist</td>\n",
       "      <td>&lt;class 'sktime.dists_kernels.dtw._dtw_python.D...</td>\n",
       "      <td>distance</td>\n",
       "    </tr>\n",
       "    <tr>\n",
       "      <th>9</th>\n",
       "      <td>EditDist</td>\n",
       "      <td>&lt;class 'sktime.dists_kernels.edit_dist.EditDist'&gt;</td>\n",
       "      <td>distance</td>\n",
       "    </tr>\n",
       "    <tr>\n",
       "      <th>10</th>\n",
       "      <td>FlatDist</td>\n",
       "      <td>&lt;class 'sktime.dists_kernels.compose_tab_to_pa...</td>\n",
       "      <td>distance</td>\n",
       "    </tr>\n",
       "    <tr>\n",
       "      <th>11</th>\n",
       "      <td>GAKernel</td>\n",
       "      <td>&lt;class 'sktime.dists_kernels.gak.GAKernel'&gt;</td>\n",
       "      <td>kernel</td>\n",
       "    </tr>\n",
       "    <tr>\n",
       "      <th>12</th>\n",
       "      <td>IndepDist</td>\n",
       "      <td>&lt;class 'sktime.dists_kernels.indep.IndepDist'&gt;</td>\n",
       "      <td>distance</td>\n",
       "    </tr>\n",
       "    <tr>\n",
       "      <th>13</th>\n",
       "      <td>KernelFromDist</td>\n",
       "      <td>&lt;class 'sktime.dists_kernels.dist_to_kern.Kern...</td>\n",
       "      <td>kernel</td>\n",
       "    </tr>\n",
       "    <tr>\n",
       "      <th>14</th>\n",
       "      <td>LcssTslearn</td>\n",
       "      <td>&lt;class 'sktime.dists_kernels.lcss.LcssTslearn'&gt;</td>\n",
       "      <td>distance</td>\n",
       "    </tr>\n",
       "    <tr>\n",
       "      <th>15</th>\n",
       "      <td>LuckyDtwDist</td>\n",
       "      <td>&lt;class 'sktime.dists_kernels.lucky.LuckyDtwDist'&gt;</td>\n",
       "      <td>distance</td>\n",
       "    </tr>\n",
       "    <tr>\n",
       "      <th>16</th>\n",
       "      <td>PwTrafoPanelPipeline</td>\n",
       "      <td>&lt;class 'sktime.dists_kernels.compose.PwTrafoPa...</td>\n",
       "      <td>distance</td>\n",
       "    </tr>\n",
       "    <tr>\n",
       "      <th>17</th>\n",
       "      <td>SignatureKernel</td>\n",
       "      <td>&lt;class 'sktime.dists_kernels.signature_kernel....</td>\n",
       "      <td>kernel</td>\n",
       "    </tr>\n",
       "    <tr>\n",
       "      <th>18</th>\n",
       "      <td>SoftDtwDistTslearn</td>\n",
       "      <td>&lt;class 'sktime.dists_kernels.dtw._dtw_tslearn....</td>\n",
       "      <td>distance</td>\n",
       "    </tr>\n",
       "  </tbody>\n",
       "</table>\n",
       "</div>"
      ],
      "text/plain": [
       "                    name                                             object  \\\n",
       "0               AggrDist  <class 'sktime.dists_kernels.compose_tab_to_pa...   \n",
       "1       CombinedDistance  <class 'sktime.dists_kernels.algebra.CombinedD...   \n",
       "2   ConstantPwTrafoPanel  <class 'sktime.dists_kernels.dummy.ConstantPwT...   \n",
       "3         CtwDistTslearn  <class 'sktime.dists_kernels.ctw.CtwDistTslearn'>   \n",
       "4        DistFromAligner  <class 'sktime.dists_kernels.compose_from_alig...   \n",
       "5         DistFromKernel  <class 'sktime.dists_kernels.dist_to_kern.Dist...   \n",
       "6                DtwDist  <class 'sktime.dists_kernels.dtw._dtw_sktime.D...   \n",
       "7         DtwDistTslearn  <class 'sktime.dists_kernels.dtw._dtw_tslearn....   \n",
       "8          DtwPythonDist  <class 'sktime.dists_kernels.dtw._dtw_python.D...   \n",
       "9               EditDist  <class 'sktime.dists_kernels.edit_dist.EditDist'>   \n",
       "10              FlatDist  <class 'sktime.dists_kernels.compose_tab_to_pa...   \n",
       "11              GAKernel        <class 'sktime.dists_kernels.gak.GAKernel'>   \n",
       "12             IndepDist     <class 'sktime.dists_kernels.indep.IndepDist'>   \n",
       "13        KernelFromDist  <class 'sktime.dists_kernels.dist_to_kern.Kern...   \n",
       "14           LcssTslearn    <class 'sktime.dists_kernels.lcss.LcssTslearn'>   \n",
       "15          LuckyDtwDist  <class 'sktime.dists_kernels.lucky.LuckyDtwDist'>   \n",
       "16  PwTrafoPanelPipeline  <class 'sktime.dists_kernels.compose.PwTrafoPa...   \n",
       "17       SignatureKernel  <class 'sktime.dists_kernels.signature_kernel....   \n",
       "18    SoftDtwDistTslearn  <class 'sktime.dists_kernels.dtw._dtw_tslearn....   \n",
       "\n",
       "   pwtrafo_type  \n",
       "0      distance  \n",
       "1      distance  \n",
       "2      distance  \n",
       "3      distance  \n",
       "4      distance  \n",
       "5      distance  \n",
       "6      distance  \n",
       "7      distance  \n",
       "8      distance  \n",
       "9      distance  \n",
       "10     distance  \n",
       "11       kernel  \n",
       "12     distance  \n",
       "13       kernel  \n",
       "14     distance  \n",
       "15     distance  \n",
       "16     distance  \n",
       "17       kernel  \n",
       "18     distance  "
      ]
     },
     "execution_count": 67,
     "metadata": {},
     "output_type": "execute_result"
    }
   ],
   "source": [
    "from sktime.registry import all_estimators\n",
    "\n",
    "all_estimators(\n",
    "    \"transformer-pairwise-panel\", as_dataframe=True, return_tags=[\"pwtrafo_type\"]\n",
    ")"
   ]
  },
  {
   "cell_type": "code",
   "execution_count": 68,
   "id": "05bf7132",
   "metadata": {},
   "outputs": [
    {
     "data": {
      "text/html": [
       "<div>\n",
       "<style scoped>\n",
       "    .dataframe tbody tr th:only-of-type {\n",
       "        vertical-align: middle;\n",
       "    }\n",
       "\n",
       "    .dataframe tbody tr th {\n",
       "        vertical-align: top;\n",
       "    }\n",
       "\n",
       "    .dataframe thead th {\n",
       "        text-align: right;\n",
       "    }\n",
       "</style>\n",
       "<table border=\"1\" class=\"dataframe\">\n",
       "  <thead>\n",
       "    <tr style=\"text-align: right;\">\n",
       "      <th></th>\n",
       "      <th>name</th>\n",
       "      <th>object</th>\n",
       "    </tr>\n",
       "  </thead>\n",
       "  <tbody>\n",
       "    <tr>\n",
       "      <th>0</th>\n",
       "      <td>AlignerDTW</td>\n",
       "      <td>&lt;class 'sktime.alignment.dtw_python.AlignerDTW'&gt;</td>\n",
       "    </tr>\n",
       "    <tr>\n",
       "      <th>1</th>\n",
       "      <td>AlignerDTWfromDist</td>\n",
       "      <td>&lt;class 'sktime.alignment.dtw_python.AlignerDTW...</td>\n",
       "    </tr>\n",
       "    <tr>\n",
       "      <th>2</th>\n",
       "      <td>AlignerDtwNumba</td>\n",
       "      <td>&lt;class 'sktime.alignment.dtw_numba.AlignerDtwN...</td>\n",
       "    </tr>\n",
       "    <tr>\n",
       "      <th>3</th>\n",
       "      <td>AlignerEditNumba</td>\n",
       "      <td>&lt;class 'sktime.alignment.edit_numba.AlignerEdi...</td>\n",
       "    </tr>\n",
       "    <tr>\n",
       "      <th>4</th>\n",
       "      <td>AlignerLuckyDtw</td>\n",
       "      <td>&lt;class 'sktime.alignment.lucky.AlignerLuckyDtw'&gt;</td>\n",
       "    </tr>\n",
       "    <tr>\n",
       "      <th>5</th>\n",
       "      <td>AlignerNaive</td>\n",
       "      <td>&lt;class 'sktime.alignment.naive.AlignerNaive'&gt;</td>\n",
       "    </tr>\n",
       "  </tbody>\n",
       "</table>\n",
       "</div>"
      ],
      "text/plain": [
       "                 name                                             object\n",
       "0          AlignerDTW   <class 'sktime.alignment.dtw_python.AlignerDTW'>\n",
       "1  AlignerDTWfromDist  <class 'sktime.alignment.dtw_python.AlignerDTW...\n",
       "2     AlignerDtwNumba  <class 'sktime.alignment.dtw_numba.AlignerDtwN...\n",
       "3    AlignerEditNumba  <class 'sktime.alignment.edit_numba.AlignerEdi...\n",
       "4     AlignerLuckyDtw   <class 'sktime.alignment.lucky.AlignerLuckyDtw'>\n",
       "5        AlignerNaive      <class 'sktime.alignment.naive.AlignerNaive'>"
      ]
     },
     "execution_count": 68,
     "metadata": {},
     "output_type": "execute_result"
    }
   ],
   "source": [
    "from sktime.registry import all_estimators\n",
    "\n",
    "all_estimators(\"aligner\", as_dataframe=True)"
   ]
  },
  {
   "cell_type": "markdown",
   "id": "fa5a40f3",
   "metadata": {},
   "source": [
    "see [sktime tutorial at pydata London 2023](https://github.com/sktime/sktime-tutorial-pydata-london-2023)"
   ]
  },
  {
   "cell_type": "markdown",
   "id": "0bfeb82e",
   "metadata": {},
   "source": [
    "## Benchmarking - comparing estimator performance\n",
    "\n",
    "the `benchmarking` module allows you to set up experiments to:\n",
    "\n",
    "* compare the performance of one or more algorithms\n",
    "* over one or multiple datasets\n",
    "* against one or multiple performance metrics\n",
    "* for a benchmark configuration defined by temporal resampling scheme\n"
   ]
  },
  {
   "cell_type": "markdown",
   "id": "018330af",
   "metadata": {},
   "source": [
    "`sktime`'s `benchmarking` module is designed to:\n",
    "\n",
    "* provide a high-level specification language\n",
    "* prevent mistakes by abstracting away \"dangerous\" implementation details\n",
    "* allow reproducible sharing of experiment setups and results\n",
    "\n",
    "Any `sktime` compatible object can be plugged in!\n",
    "\n",
    "Use `sktime` extension templates to add custom objects to experiment!\n",
    "\n",
    "(this cell requires `kotsu` in the environment)"
   ]
  },
  {
   "cell_type": "code",
   "execution_count": 69,
   "id": "c1516977",
   "metadata": {},
   "outputs": [
    {
     "data": {
      "text/html": [
       "<div>\n",
       "<style scoped>\n",
       "    .dataframe tbody tr th:only-of-type {\n",
       "        vertical-align: middle;\n",
       "    }\n",
       "\n",
       "    .dataframe tbody tr th {\n",
       "        vertical-align: top;\n",
       "    }\n",
       "\n",
       "    .dataframe thead th {\n",
       "        text-align: right;\n",
       "    }\n",
       "</style>\n",
       "<table border=\"1\" class=\"dataframe\">\n",
       "  <thead>\n",
       "    <tr style=\"text-align: right;\">\n",
       "      <th></th>\n",
       "      <th>0</th>\n",
       "      <th>1</th>\n",
       "    </tr>\n",
       "  </thead>\n",
       "  <tbody>\n",
       "    <tr>\n",
       "      <th>validation_id</th>\n",
       "      <td>[dataset=load_airline]_[cv_splitter=ExpandingW...</td>\n",
       "      <td>[dataset=load_airline]_[cv_splitter=ExpandingW...</td>\n",
       "    </tr>\n",
       "    <tr>\n",
       "      <th>model_id</th>\n",
       "      <td>NaiveForecaster-last-v1</td>\n",
       "      <td>NaiveForecaster-mean-v1</td>\n",
       "    </tr>\n",
       "    <tr>\n",
       "      <th>runtime_secs</th>\n",
       "      <td>0.486894</td>\n",
       "      <td>0.212925</td>\n",
       "    </tr>\n",
       "    <tr>\n",
       "      <th>MeanSquaredPercentageError_fold_0_test</th>\n",
       "      <td>0.024532</td>\n",
       "      <td>0.049681</td>\n",
       "    </tr>\n",
       "    <tr>\n",
       "      <th>MeanSquaredPercentageError_fold_1_test</th>\n",
       "      <td>0.020831</td>\n",
       "      <td>0.0737</td>\n",
       "    </tr>\n",
       "    <tr>\n",
       "      <th>MeanSquaredPercentageError_fold_2_test</th>\n",
       "      <td>0.001213</td>\n",
       "      <td>0.05352</td>\n",
       "    </tr>\n",
       "    <tr>\n",
       "      <th>MeanSquaredPercentageError_fold_3_test</th>\n",
       "      <td>0.01495</td>\n",
       "      <td>0.081063</td>\n",
       "    </tr>\n",
       "    <tr>\n",
       "      <th>MeanSquaredPercentageError_fold_4_test</th>\n",
       "      <td>0.031067</td>\n",
       "      <td>0.138163</td>\n",
       "    </tr>\n",
       "    <tr>\n",
       "      <th>MeanSquaredPercentageError_fold_5_test</th>\n",
       "      <td>0.008373</td>\n",
       "      <td>0.145125</td>\n",
       "    </tr>\n",
       "    <tr>\n",
       "      <th>MeanSquaredPercentageError_fold_6_test</th>\n",
       "      <td>0.007972</td>\n",
       "      <td>0.154337</td>\n",
       "    </tr>\n",
       "    <tr>\n",
       "      <th>MeanSquaredPercentageError_fold_7_test</th>\n",
       "      <td>0.000009</td>\n",
       "      <td>0.123298</td>\n",
       "    </tr>\n",
       "    <tr>\n",
       "      <th>MeanSquaredPercentageError_fold_8_test</th>\n",
       "      <td>0.028191</td>\n",
       "      <td>0.185644</td>\n",
       "    </tr>\n",
       "    <tr>\n",
       "      <th>MeanSquaredPercentageError_fold_9_test</th>\n",
       "      <td>0.003906</td>\n",
       "      <td>0.184654</td>\n",
       "    </tr>\n",
       "    <tr>\n",
       "      <th>MeanSquaredPercentageError_mean</th>\n",
       "      <td>0.014104</td>\n",
       "      <td>0.118918</td>\n",
       "    </tr>\n",
       "    <tr>\n",
       "      <th>MeanSquaredPercentageError_std</th>\n",
       "      <td>0.011451</td>\n",
       "      <td>0.051265</td>\n",
       "    </tr>\n",
       "  </tbody>\n",
       "</table>\n",
       "</div>"
      ],
      "text/plain": [
       "                                                                                        0  \\\n",
       "validation_id                           [dataset=load_airline]_[cv_splitter=ExpandingW...   \n",
       "model_id                                                          NaiveForecaster-last-v1   \n",
       "runtime_secs                                                                     0.486894   \n",
       "MeanSquaredPercentageError_fold_0_test                                           0.024532   \n",
       "MeanSquaredPercentageError_fold_1_test                                           0.020831   \n",
       "MeanSquaredPercentageError_fold_2_test                                           0.001213   \n",
       "MeanSquaredPercentageError_fold_3_test                                            0.01495   \n",
       "MeanSquaredPercentageError_fold_4_test                                           0.031067   \n",
       "MeanSquaredPercentageError_fold_5_test                                           0.008373   \n",
       "MeanSquaredPercentageError_fold_6_test                                           0.007972   \n",
       "MeanSquaredPercentageError_fold_7_test                                           0.000009   \n",
       "MeanSquaredPercentageError_fold_8_test                                           0.028191   \n",
       "MeanSquaredPercentageError_fold_9_test                                           0.003906   \n",
       "MeanSquaredPercentageError_mean                                                  0.014104   \n",
       "MeanSquaredPercentageError_std                                                   0.011451   \n",
       "\n",
       "                                                                                        1  \n",
       "validation_id                           [dataset=load_airline]_[cv_splitter=ExpandingW...  \n",
       "model_id                                                          NaiveForecaster-mean-v1  \n",
       "runtime_secs                                                                     0.212925  \n",
       "MeanSquaredPercentageError_fold_0_test                                           0.049681  \n",
       "MeanSquaredPercentageError_fold_1_test                                             0.0737  \n",
       "MeanSquaredPercentageError_fold_2_test                                            0.05352  \n",
       "MeanSquaredPercentageError_fold_3_test                                           0.081063  \n",
       "MeanSquaredPercentageError_fold_4_test                                           0.138163  \n",
       "MeanSquaredPercentageError_fold_5_test                                           0.145125  \n",
       "MeanSquaredPercentageError_fold_6_test                                           0.154337  \n",
       "MeanSquaredPercentageError_fold_7_test                                           0.123298  \n",
       "MeanSquaredPercentageError_fold_8_test                                           0.185644  \n",
       "MeanSquaredPercentageError_fold_9_test                                           0.184654  \n",
       "MeanSquaredPercentageError_mean                                                  0.118918  \n",
       "MeanSquaredPercentageError_std                                                   0.051265  "
      ]
     },
     "execution_count": 69,
     "metadata": {},
     "output_type": "execute_result"
    }
   ],
   "source": [
    "from sktime.benchmarking.forecasting import ForecastingBenchmark\n",
    "from sktime.datasets import load_airline\n",
    "from sktime.forecasting.model_selection import ExpandingWindowSplitter\n",
    "from sktime.forecasting.naive import NaiveForecaster\n",
    "from sktime.performance_metrics.forecasting import MeanSquaredPercentageError\n",
    "\n",
    "# set up benchmark\n",
    "benchmark = ForecastingBenchmark()\n",
    "\n",
    "# add competing estimators\n",
    "benchmark.add_estimator(\n",
    "    estimator=NaiveForecaster(strategy=\"mean\", sp=12),\n",
    "    estimator_id=\"NaiveForecaster-mean-v1\",\n",
    ")\n",
    "benchmark.add_estimator(\n",
    "    estimator=NaiveForecaster(strategy=\"last\", sp=12),\n",
    "    estimator_id=\"NaiveForecaster-last-v1\",\n",
    ")\n",
    "\n",
    "# define tasks, for forecasting:\n",
    "# backtesting schema, cv splitter, scorer, data\n",
    "cv_splitter = ExpandingWindowSplitter(\n",
    "    initial_window=24,\n",
    "    step_length=12,\n",
    "    fh=12,\n",
    ")\n",
    "scorers = [MeanSquaredPercentageError()]\n",
    "dataset_loaders = [load_airline]\n",
    "\n",
    "# add task\n",
    "for dataset_loader in dataset_loaders:\n",
    "    benchmark.add_task(\n",
    "        dataset_loader,\n",
    "        cv_splitter,\n",
    "        scorers,\n",
    "    )\n",
    "\n",
    "# run the experiment, write to csv\n",
    "results_df = benchmark.run(\"./forecasting_results.csv\")\n",
    "results_df.T"
   ]
  },
  {
   "cell_type": "markdown",
   "id": "d6b460b0",
   "metadata": {},
   "source": [
    "for forecasting, use `evaluate` utility for smaller runs"
   ]
  },
  {
   "cell_type": "markdown",
   "id": "79797d2b",
   "metadata": {},
   "source": [
    "see [sktime tutorial at pycon Prague 2023](https://github.com/sktime/sktime-tutorial-pydata-global-2023)"
   ]
  },
  {
   "cell_type": "markdown",
   "id": "2bab92a0",
   "metadata": {},
   "source": [
    "---"
   ]
  },
  {
   "cell_type": "markdown",
   "id": "6cd55181",
   "metadata": {
    "collapsed": false
   },
   "source": [
    "# Marketplace and deployment features"
   ]
  },
  {
   "cell_type": "markdown",
   "id": "11cbd704",
   "metadata": {},
   "source": [
    "* estimator search, estimator tags\n",
    "* scikit-base interface\n",
    "* blueprint serialization and sharing\n",
    "* fitted estimator serialization and sharing\n",
    "* mlflow deployment via custom flavour"
   ]
  },
  {
   "cell_type": "markdown",
   "id": "10f77c01",
   "metadata": {},
   "source": [
    "## listing estimators, estimator search, estimator tags"
   ]
  },
  {
   "cell_type": "markdown",
   "id": "b3b55b1d",
   "metadata": {},
   "source": [
    "* all objects now \"first class citizens\" with a type - scikit-base objects\n",
    "* use `all_estimators` for search subset"
   ]
  },
  {
   "cell_type": "markdown",
   "id": "85459607",
   "metadata": {},
   "source": [
    "example: list all forecasters (`sktime` native scope)"
   ]
  },
  {
   "cell_type": "code",
   "execution_count": 70,
   "id": "95139a03",
   "metadata": {},
   "outputs": [
    {
     "data": {
      "text/html": [
       "<div>\n",
       "<style scoped>\n",
       "    .dataframe tbody tr th:only-of-type {\n",
       "        vertical-align: middle;\n",
       "    }\n",
       "\n",
       "    .dataframe tbody tr th {\n",
       "        vertical-align: top;\n",
       "    }\n",
       "\n",
       "    .dataframe thead th {\n",
       "        text-align: right;\n",
       "    }\n",
       "</style>\n",
       "<table border=\"1\" class=\"dataframe\">\n",
       "  <thead>\n",
       "    <tr style=\"text-align: right;\">\n",
       "      <th></th>\n",
       "      <th>name</th>\n",
       "      <th>object</th>\n",
       "    </tr>\n",
       "  </thead>\n",
       "  <tbody>\n",
       "    <tr>\n",
       "      <th>0</th>\n",
       "      <td>ARCH</td>\n",
       "      <td>&lt;class 'sktime.forecasting.arch._uarch.ARCH'&gt;</td>\n",
       "    </tr>\n",
       "    <tr>\n",
       "      <th>1</th>\n",
       "      <td>ARDL</td>\n",
       "      <td>&lt;class 'sktime.forecasting.ardl.ARDL'&gt;</td>\n",
       "    </tr>\n",
       "    <tr>\n",
       "      <th>2</th>\n",
       "      <td>ARIMA</td>\n",
       "      <td>&lt;class 'sktime.forecasting.arima.ARIMA'&gt;</td>\n",
       "    </tr>\n",
       "    <tr>\n",
       "      <th>3</th>\n",
       "      <td>AutoARIMA</td>\n",
       "      <td>&lt;class 'sktime.forecasting.arima.AutoARIMA'&gt;</td>\n",
       "    </tr>\n",
       "    <tr>\n",
       "      <th>4</th>\n",
       "      <td>AutoETS</td>\n",
       "      <td>&lt;class 'sktime.forecasting.ets.AutoETS'&gt;</td>\n",
       "    </tr>\n",
       "    <tr>\n",
       "      <th>...</th>\n",
       "      <td>...</td>\n",
       "      <td>...</td>\n",
       "    </tr>\n",
       "    <tr>\n",
       "      <th>65</th>\n",
       "      <td>UpdateRefitsEvery</td>\n",
       "      <td>&lt;class 'sktime.forecasting.stream._update.Upda...</td>\n",
       "    </tr>\n",
       "    <tr>\n",
       "      <th>66</th>\n",
       "      <td>VAR</td>\n",
       "      <td>&lt;class 'sktime.forecasting.var.VAR'&gt;</td>\n",
       "    </tr>\n",
       "    <tr>\n",
       "      <th>67</th>\n",
       "      <td>VARMAX</td>\n",
       "      <td>&lt;class 'sktime.forecasting.varmax.VARMAX'&gt;</td>\n",
       "    </tr>\n",
       "    <tr>\n",
       "      <th>68</th>\n",
       "      <td>VECM</td>\n",
       "      <td>&lt;class 'sktime.forecasting.vecm.VECM'&gt;</td>\n",
       "    </tr>\n",
       "    <tr>\n",
       "      <th>69</th>\n",
       "      <td>YfromX</td>\n",
       "      <td>&lt;class 'sktime.forecasting.compose._reduce.Yfr...</td>\n",
       "    </tr>\n",
       "  </tbody>\n",
       "</table>\n",
       "<p>70 rows × 2 columns</p>\n",
       "</div>"
      ],
      "text/plain": [
       "                 name                                             object\n",
       "0                ARCH      <class 'sktime.forecasting.arch._uarch.ARCH'>\n",
       "1                ARDL             <class 'sktime.forecasting.ardl.ARDL'>\n",
       "2               ARIMA           <class 'sktime.forecasting.arima.ARIMA'>\n",
       "3           AutoARIMA       <class 'sktime.forecasting.arima.AutoARIMA'>\n",
       "4             AutoETS           <class 'sktime.forecasting.ets.AutoETS'>\n",
       "..                ...                                                ...\n",
       "65  UpdateRefitsEvery  <class 'sktime.forecasting.stream._update.Upda...\n",
       "66                VAR               <class 'sktime.forecasting.var.VAR'>\n",
       "67             VARMAX         <class 'sktime.forecasting.varmax.VARMAX'>\n",
       "68               VECM             <class 'sktime.forecasting.vecm.VECM'>\n",
       "69             YfromX  <class 'sktime.forecasting.compose._reduce.Yfr...\n",
       "\n",
       "[70 rows x 2 columns]"
      ]
     },
     "execution_count": 70,
     "metadata": {},
     "output_type": "execute_result"
    }
   ],
   "source": [
    "from sktime.registry import all_estimators\n",
    "\n",
    "all_estimators(\"forecaster\", as_dataframe=True)"
   ]
  },
  {
   "cell_type": "markdown",
   "id": "4edc8d60",
   "metadata": {},
   "source": [
    "or, list all splitters:"
   ]
  },
  {
   "cell_type": "code",
   "execution_count": 71,
   "id": "abbed856",
   "metadata": {},
   "outputs": [
    {
     "data": {
      "text/html": [
       "<div>\n",
       "<style scoped>\n",
       "    .dataframe tbody tr th:only-of-type {\n",
       "        vertical-align: middle;\n",
       "    }\n",
       "\n",
       "    .dataframe tbody tr th {\n",
       "        vertical-align: top;\n",
       "    }\n",
       "\n",
       "    .dataframe thead th {\n",
       "        text-align: right;\n",
       "    }\n",
       "</style>\n",
       "<table border=\"1\" class=\"dataframe\">\n",
       "  <thead>\n",
       "    <tr style=\"text-align: right;\">\n",
       "      <th></th>\n",
       "      <th>name</th>\n",
       "      <th>object</th>\n",
       "    </tr>\n",
       "  </thead>\n",
       "  <tbody>\n",
       "    <tr>\n",
       "      <th>0</th>\n",
       "      <td>CutoffSplitter</td>\n",
       "      <td>&lt;class 'sktime.split.cutoff.CutoffSplitter'&gt;</td>\n",
       "    </tr>\n",
       "    <tr>\n",
       "      <th>1</th>\n",
       "      <td>ExpandingGreedySplitter</td>\n",
       "      <td>&lt;class 'sktime.split.expandinggreedy.Expanding...</td>\n",
       "    </tr>\n",
       "    <tr>\n",
       "      <th>2</th>\n",
       "      <td>ExpandingWindowSplitter</td>\n",
       "      <td>&lt;class 'sktime.split.expandingwindow.Expanding...</td>\n",
       "    </tr>\n",
       "    <tr>\n",
       "      <th>3</th>\n",
       "      <td>SameLocSplitter</td>\n",
       "      <td>&lt;class 'sktime.split.sameloc.SameLocSplitter'&gt;</td>\n",
       "    </tr>\n",
       "    <tr>\n",
       "      <th>4</th>\n",
       "      <td>SingleWindowSplitter</td>\n",
       "      <td>&lt;class 'sktime.split.singlewindow.SingleWindow...</td>\n",
       "    </tr>\n",
       "    <tr>\n",
       "      <th>5</th>\n",
       "      <td>SlidingWindowSplitter</td>\n",
       "      <td>&lt;class 'sktime.split.slidingwindow.SlidingWind...</td>\n",
       "    </tr>\n",
       "    <tr>\n",
       "      <th>6</th>\n",
       "      <td>TemporalTrainTestSplitter</td>\n",
       "      <td>&lt;class 'sktime.split.temporal_train_test_split...</td>\n",
       "    </tr>\n",
       "    <tr>\n",
       "      <th>7</th>\n",
       "      <td>TestPlusTrainSplitter</td>\n",
       "      <td>&lt;class 'sktime.split.testplustrain.TestPlusTra...</td>\n",
       "    </tr>\n",
       "  </tbody>\n",
       "</table>\n",
       "</div>"
      ],
      "text/plain": [
       "                        name  \\\n",
       "0             CutoffSplitter   \n",
       "1    ExpandingGreedySplitter   \n",
       "2    ExpandingWindowSplitter   \n",
       "3            SameLocSplitter   \n",
       "4       SingleWindowSplitter   \n",
       "5      SlidingWindowSplitter   \n",
       "6  TemporalTrainTestSplitter   \n",
       "7      TestPlusTrainSplitter   \n",
       "\n",
       "                                              object  \n",
       "0       <class 'sktime.split.cutoff.CutoffSplitter'>  \n",
       "1  <class 'sktime.split.expandinggreedy.Expanding...  \n",
       "2  <class 'sktime.split.expandingwindow.Expanding...  \n",
       "3     <class 'sktime.split.sameloc.SameLocSplitter'>  \n",
       "4  <class 'sktime.split.singlewindow.SingleWindow...  \n",
       "5  <class 'sktime.split.slidingwindow.SlidingWind...  \n",
       "6  <class 'sktime.split.temporal_train_test_split...  \n",
       "7  <class 'sktime.split.testplustrain.TestPlusTra...  "
      ]
     },
     "execution_count": 71,
     "metadata": {},
     "output_type": "execute_result"
    }
   ],
   "source": [
    "all_estimators(\"splitter\", as_dataframe=True)"
   ]
  },
  {
   "cell_type": "markdown",
   "id": "500072a9",
   "metadata": {},
   "source": [
    "all classes, objects come with tags:"
   ]
  },
  {
   "cell_type": "code",
   "execution_count": 72,
   "id": "559e17dc",
   "metadata": {},
   "outputs": [
    {
     "data": {
      "text/plain": [
       "{'python_dependencies_alias': {'scikit-learn': 'sklearn'},\n",
       " 'object_type': 'forecaster',\n",
       " 'scitype:y': 'univariate',\n",
       " 'ignores-exogeneous-X': False,\n",
       " 'capability:insample': True,\n",
       " 'capability:pred_int': True,\n",
       " 'capability:pred_int:insample': True,\n",
       " 'handles-missing-data': True,\n",
       " 'y_inner_mtype': 'pd.Series',\n",
       " 'X_inner_mtype': 'pd.DataFrame',\n",
       " 'requires-fh-in-fit': False,\n",
       " 'X-y-must-have-same-index': True,\n",
       " 'enforce_index_type': None,\n",
       " 'fit_is_empty': False,\n",
       " 'python_version': None,\n",
       " 'python_dependencies': 'pmdarima'}"
      ]
     },
     "execution_count": 72,
     "metadata": {},
     "output_type": "execute_result"
    }
   ],
   "source": [
    "# class tags\n",
    "from sktime.forecasting.arima import ARIMA\n",
    "\n",
    "ARIMA.get_class_tags()\n",
    "# interesting for users:\n",
    "# object_type tells us this is a forecaster\n",
    "# capability tags, e.g., \"capability:insample\", \"capability:pred_int\""
   ]
  },
  {
   "cell_type": "code",
   "execution_count": 73,
   "id": "2ebf4451",
   "metadata": {},
   "outputs": [
    {
     "data": {
      "text/plain": [
       "{'python_dependencies_alias': {'scikit-learn': 'sklearn'},\n",
       " 'object_type': 'forecaster',\n",
       " 'scitype:y': 'univariate',\n",
       " 'ignores-exogeneous-X': True,\n",
       " 'capability:insample': True,\n",
       " 'capability:pred_int': True,\n",
       " 'capability:pred_int:insample': True,\n",
       " 'handles-missing-data': True,\n",
       " 'y_inner_mtype': 'pd.Series',\n",
       " 'X_inner_mtype': 'pd.DataFrame',\n",
       " 'requires-fh-in-fit': False,\n",
       " 'X-y-must-have-same-index': True,\n",
       " 'enforce_index_type': None,\n",
       " 'fit_is_empty': False,\n",
       " 'python_version': None,\n",
       " 'python_dependencies': None,\n",
       " 'capability:pred_var': True}"
      ]
     },
     "execution_count": 73,
     "metadata": {},
     "output_type": "execute_result"
    }
   ],
   "source": [
    "# object tags\n",
    "from sktime.forecasting.naive import NaiveForecaster\n",
    "\n",
    "NaiveForecaster().get_tags()\n",
    "# same tags\n",
    "# values may depend on the object parameters, e.g., \"handles-missing-data\"\n",
    "# class tags are \"most general\" capabilities"
   ]
  },
  {
   "cell_type": "markdown",
   "id": "076854dc",
   "metadata": {},
   "source": [
    "produce table with class tags:"
   ]
  },
  {
   "cell_type": "code",
   "execution_count": 74,
   "id": "f89b0760",
   "metadata": {},
   "outputs": [
    {
     "data": {
      "text/html": [
       "<div>\n",
       "<style scoped>\n",
       "    .dataframe tbody tr th:only-of-type {\n",
       "        vertical-align: middle;\n",
       "    }\n",
       "\n",
       "    .dataframe tbody tr th {\n",
       "        vertical-align: top;\n",
       "    }\n",
       "\n",
       "    .dataframe thead th {\n",
       "        text-align: right;\n",
       "    }\n",
       "</style>\n",
       "<table border=\"1\" class=\"dataframe\">\n",
       "  <thead>\n",
       "    <tr style=\"text-align: right;\">\n",
       "      <th></th>\n",
       "      <th>name</th>\n",
       "      <th>object</th>\n",
       "      <th>capability:insample</th>\n",
       "      <th>capability:pred_int</th>\n",
       "    </tr>\n",
       "  </thead>\n",
       "  <tbody>\n",
       "    <tr>\n",
       "      <th>0</th>\n",
       "      <td>ARCH</td>\n",
       "      <td>&lt;class 'sktime.forecasting.arch._uarch.ARCH'&gt;</td>\n",
       "      <td>True</td>\n",
       "      <td>True</td>\n",
       "    </tr>\n",
       "    <tr>\n",
       "      <th>1</th>\n",
       "      <td>ARDL</td>\n",
       "      <td>&lt;class 'sktime.forecasting.ardl.ARDL'&gt;</td>\n",
       "      <td>True</td>\n",
       "      <td>False</td>\n",
       "    </tr>\n",
       "    <tr>\n",
       "      <th>2</th>\n",
       "      <td>ARIMA</td>\n",
       "      <td>&lt;class 'sktime.forecasting.arima.ARIMA'&gt;</td>\n",
       "      <td>True</td>\n",
       "      <td>True</td>\n",
       "    </tr>\n",
       "    <tr>\n",
       "      <th>3</th>\n",
       "      <td>AutoARIMA</td>\n",
       "      <td>&lt;class 'sktime.forecasting.arima.AutoARIMA'&gt;</td>\n",
       "      <td>True</td>\n",
       "      <td>True</td>\n",
       "    </tr>\n",
       "    <tr>\n",
       "      <th>4</th>\n",
       "      <td>AutoETS</td>\n",
       "      <td>&lt;class 'sktime.forecasting.ets.AutoETS'&gt;</td>\n",
       "      <td>True</td>\n",
       "      <td>True</td>\n",
       "    </tr>\n",
       "    <tr>\n",
       "      <th>...</th>\n",
       "      <td>...</td>\n",
       "      <td>...</td>\n",
       "      <td>...</td>\n",
       "      <td>...</td>\n",
       "    </tr>\n",
       "    <tr>\n",
       "      <th>65</th>\n",
       "      <td>UpdateRefitsEvery</td>\n",
       "      <td>&lt;class 'sktime.forecasting.stream._update.Upda...</td>\n",
       "      <td>True</td>\n",
       "      <td>False</td>\n",
       "    </tr>\n",
       "    <tr>\n",
       "      <th>66</th>\n",
       "      <td>VAR</td>\n",
       "      <td>&lt;class 'sktime.forecasting.var.VAR'&gt;</td>\n",
       "      <td>True</td>\n",
       "      <td>True</td>\n",
       "    </tr>\n",
       "    <tr>\n",
       "      <th>67</th>\n",
       "      <td>VARMAX</td>\n",
       "      <td>&lt;class 'sktime.forecasting.varmax.VARMAX'&gt;</td>\n",
       "      <td>True</td>\n",
       "      <td>False</td>\n",
       "    </tr>\n",
       "    <tr>\n",
       "      <th>68</th>\n",
       "      <td>VECM</td>\n",
       "      <td>&lt;class 'sktime.forecasting.vecm.VECM'&gt;</td>\n",
       "      <td>True</td>\n",
       "      <td>True</td>\n",
       "    </tr>\n",
       "    <tr>\n",
       "      <th>69</th>\n",
       "      <td>YfromX</td>\n",
       "      <td>&lt;class 'sktime.forecasting.compose._reduce.Yfr...</td>\n",
       "      <td>True</td>\n",
       "      <td>True</td>\n",
       "    </tr>\n",
       "  </tbody>\n",
       "</table>\n",
       "<p>70 rows × 4 columns</p>\n",
       "</div>"
      ],
      "text/plain": [
       "                 name                                             object  \\\n",
       "0                ARCH      <class 'sktime.forecasting.arch._uarch.ARCH'>   \n",
       "1                ARDL             <class 'sktime.forecasting.ardl.ARDL'>   \n",
       "2               ARIMA           <class 'sktime.forecasting.arima.ARIMA'>   \n",
       "3           AutoARIMA       <class 'sktime.forecasting.arima.AutoARIMA'>   \n",
       "4             AutoETS           <class 'sktime.forecasting.ets.AutoETS'>   \n",
       "..                ...                                                ...   \n",
       "65  UpdateRefitsEvery  <class 'sktime.forecasting.stream._update.Upda...   \n",
       "66                VAR               <class 'sktime.forecasting.var.VAR'>   \n",
       "67             VARMAX         <class 'sktime.forecasting.varmax.VARMAX'>   \n",
       "68               VECM             <class 'sktime.forecasting.vecm.VECM'>   \n",
       "69             YfromX  <class 'sktime.forecasting.compose._reduce.Yfr...   \n",
       "\n",
       "    capability:insample  capability:pred_int  \n",
       "0                  True                 True  \n",
       "1                  True                False  \n",
       "2                  True                 True  \n",
       "3                  True                 True  \n",
       "4                  True                 True  \n",
       "..                  ...                  ...  \n",
       "65                 True                False  \n",
       "66                 True                 True  \n",
       "67                 True                False  \n",
       "68                 True                 True  \n",
       "69                 True                 True  \n",
       "\n",
       "[70 rows x 4 columns]"
      ]
     },
     "execution_count": 74,
     "metadata": {},
     "output_type": "execute_result"
    }
   ],
   "source": [
    "from sktime.registry import all_estimators\n",
    "\n",
    "# list all forecasters, in a table, with two added columns\n",
    "# capability:insample - can produce in-sample forecasts?\n",
    "# capability:pred_int - can produce prediction intervals?\n",
    "all_estimators(\n",
    "    \"forecaster\",\n",
    "    as_dataframe=True,\n",
    "    return_tags=[\"capability:insample\", \"capability:pred_int\"],\n",
    ")"
   ]
  },
  {
   "cell_type": "markdown",
   "id": "80231644",
   "metadata": {},
   "source": [
    "filter for class tags:"
   ]
  },
  {
   "cell_type": "code",
   "execution_count": 75,
   "id": "9390dca7",
   "metadata": {},
   "outputs": [
    {
     "data": {
      "text/html": [
       "<div>\n",
       "<style scoped>\n",
       "    .dataframe tbody tr th:only-of-type {\n",
       "        vertical-align: middle;\n",
       "    }\n",
       "\n",
       "    .dataframe tbody tr th {\n",
       "        vertical-align: top;\n",
       "    }\n",
       "\n",
       "    .dataframe thead th {\n",
       "        text-align: right;\n",
       "    }\n",
       "</style>\n",
       "<table border=\"1\" class=\"dataframe\">\n",
       "  <thead>\n",
       "    <tr style=\"text-align: right;\">\n",
       "      <th></th>\n",
       "      <th>name</th>\n",
       "      <th>object</th>\n",
       "    </tr>\n",
       "  </thead>\n",
       "  <tbody>\n",
       "    <tr>\n",
       "      <th>0</th>\n",
       "      <td>ARCH</td>\n",
       "      <td>&lt;class 'sktime.forecasting.arch._uarch.ARCH'&gt;</td>\n",
       "    </tr>\n",
       "    <tr>\n",
       "      <th>1</th>\n",
       "      <td>ARIMA</td>\n",
       "      <td>&lt;class 'sktime.forecasting.arima.ARIMA'&gt;</td>\n",
       "    </tr>\n",
       "    <tr>\n",
       "      <th>2</th>\n",
       "      <td>AutoARIMA</td>\n",
       "      <td>&lt;class 'sktime.forecasting.arima.AutoARIMA'&gt;</td>\n",
       "    </tr>\n",
       "    <tr>\n",
       "      <th>3</th>\n",
       "      <td>AutoETS</td>\n",
       "      <td>&lt;class 'sktime.forecasting.ets.AutoETS'&gt;</td>\n",
       "    </tr>\n",
       "    <tr>\n",
       "      <th>4</th>\n",
       "      <td>BATS</td>\n",
       "      <td>&lt;class 'sktime.forecasting.bats.BATS'&gt;</td>\n",
       "    </tr>\n",
       "    <tr>\n",
       "      <th>5</th>\n",
       "      <td>BaggingForecaster</td>\n",
       "      <td>&lt;class 'sktime.forecasting.compose._bagging.Ba...</td>\n",
       "    </tr>\n",
       "    <tr>\n",
       "      <th>6</th>\n",
       "      <td>ColumnEnsembleForecaster</td>\n",
       "      <td>&lt;class 'sktime.forecasting.compose._column_ens...</td>\n",
       "    </tr>\n",
       "    <tr>\n",
       "      <th>7</th>\n",
       "      <td>ConformalIntervals</td>\n",
       "      <td>&lt;class 'sktime.forecasting.conformal.Conformal...</td>\n",
       "    </tr>\n",
       "    <tr>\n",
       "      <th>8</th>\n",
       "      <td>DynamicFactor</td>\n",
       "      <td>&lt;class 'sktime.forecasting.dynamic_factor.Dyna...</td>\n",
       "    </tr>\n",
       "    <tr>\n",
       "      <th>9</th>\n",
       "      <td>FhPlexForecaster</td>\n",
       "      <td>&lt;class 'sktime.forecasting.compose._fhplex.FhP...</td>\n",
       "    </tr>\n",
       "    <tr>\n",
       "      <th>10</th>\n",
       "      <td>ForecastX</td>\n",
       "      <td>&lt;class 'sktime.forecasting.compose._pipeline.F...</td>\n",
       "    </tr>\n",
       "    <tr>\n",
       "      <th>11</th>\n",
       "      <td>ForecastingGridSearchCV</td>\n",
       "      <td>&lt;class 'sktime.forecasting.model_selection._tu...</td>\n",
       "    </tr>\n",
       "    <tr>\n",
       "      <th>12</th>\n",
       "      <td>ForecastingPipeline</td>\n",
       "      <td>&lt;class 'sktime.forecasting.compose._pipeline.F...</td>\n",
       "    </tr>\n",
       "    <tr>\n",
       "      <th>13</th>\n",
       "      <td>ForecastingRandomizedSearchCV</td>\n",
       "      <td>&lt;class 'sktime.forecasting.model_selection._tu...</td>\n",
       "    </tr>\n",
       "    <tr>\n",
       "      <th>14</th>\n",
       "      <td>ForecastingSkoptSearchCV</td>\n",
       "      <td>&lt;class 'sktime.forecasting.model_selection._tu...</td>\n",
       "    </tr>\n",
       "    <tr>\n",
       "      <th>15</th>\n",
       "      <td>NaiveForecaster</td>\n",
       "      <td>&lt;class 'sktime.forecasting.naive.NaiveForecast...</td>\n",
       "    </tr>\n",
       "    <tr>\n",
       "      <th>16</th>\n",
       "      <td>NaiveVariance</td>\n",
       "      <td>&lt;class 'sktime.forecasting.naive.NaiveVariance'&gt;</td>\n",
       "    </tr>\n",
       "    <tr>\n",
       "      <th>17</th>\n",
       "      <td>Permute</td>\n",
       "      <td>&lt;class 'sktime.forecasting.compose._pipeline.P...</td>\n",
       "    </tr>\n",
       "    <tr>\n",
       "      <th>18</th>\n",
       "      <td>Prophet</td>\n",
       "      <td>&lt;class 'sktime.forecasting.fbprophet.Prophet'&gt;</td>\n",
       "    </tr>\n",
       "    <tr>\n",
       "      <th>19</th>\n",
       "      <td>SARIMAX</td>\n",
       "      <td>&lt;class 'sktime.forecasting.sarimax.SARIMAX'&gt;</td>\n",
       "    </tr>\n",
       "    <tr>\n",
       "      <th>20</th>\n",
       "      <td>SquaringResiduals</td>\n",
       "      <td>&lt;class 'sktime.forecasting.squaring_residuals....</td>\n",
       "    </tr>\n",
       "    <tr>\n",
       "      <th>21</th>\n",
       "      <td>StatsForecastARCH</td>\n",
       "      <td>&lt;class 'sktime.forecasting.arch._statsforecast...</td>\n",
       "    </tr>\n",
       "    <tr>\n",
       "      <th>22</th>\n",
       "      <td>StatsForecastAutoARIMA</td>\n",
       "      <td>&lt;class 'sktime.forecasting.statsforecast.Stats...</td>\n",
       "    </tr>\n",
       "    <tr>\n",
       "      <th>23</th>\n",
       "      <td>StatsForecastAutoCES</td>\n",
       "      <td>&lt;class 'sktime.forecasting.statsforecast.Stats...</td>\n",
       "    </tr>\n",
       "    <tr>\n",
       "      <th>24</th>\n",
       "      <td>StatsForecastAutoETS</td>\n",
       "      <td>&lt;class 'sktime.forecasting.statsforecast.Stats...</td>\n",
       "    </tr>\n",
       "    <tr>\n",
       "      <th>25</th>\n",
       "      <td>StatsForecastAutoTheta</td>\n",
       "      <td>&lt;class 'sktime.forecasting.statsforecast.Stats...</td>\n",
       "    </tr>\n",
       "    <tr>\n",
       "      <th>26</th>\n",
       "      <td>StatsForecastGARCH</td>\n",
       "      <td>&lt;class 'sktime.forecasting.arch._statsforecast...</td>\n",
       "    </tr>\n",
       "    <tr>\n",
       "      <th>27</th>\n",
       "      <td>StatsForecastMSTL</td>\n",
       "      <td>&lt;class 'sktime.forecasting.statsforecast.Stats...</td>\n",
       "    </tr>\n",
       "    <tr>\n",
       "      <th>28</th>\n",
       "      <td>TBATS</td>\n",
       "      <td>&lt;class 'sktime.forecasting.tbats.TBATS'&gt;</td>\n",
       "    </tr>\n",
       "    <tr>\n",
       "      <th>29</th>\n",
       "      <td>ThetaForecaster</td>\n",
       "      <td>&lt;class 'sktime.forecasting.theta.ThetaForecast...</td>\n",
       "    </tr>\n",
       "    <tr>\n",
       "      <th>30</th>\n",
       "      <td>TransformedTargetForecaster</td>\n",
       "      <td>&lt;class 'sktime.forecasting.compose._pipeline.T...</td>\n",
       "    </tr>\n",
       "    <tr>\n",
       "      <th>31</th>\n",
       "      <td>UnobservedComponents</td>\n",
       "      <td>&lt;class 'sktime.forecasting.structural.Unobserv...</td>\n",
       "    </tr>\n",
       "    <tr>\n",
       "      <th>32</th>\n",
       "      <td>VAR</td>\n",
       "      <td>&lt;class 'sktime.forecasting.var.VAR'&gt;</td>\n",
       "    </tr>\n",
       "    <tr>\n",
       "      <th>33</th>\n",
       "      <td>VECM</td>\n",
       "      <td>&lt;class 'sktime.forecasting.vecm.VECM'&gt;</td>\n",
       "    </tr>\n",
       "    <tr>\n",
       "      <th>34</th>\n",
       "      <td>YfromX</td>\n",
       "      <td>&lt;class 'sktime.forecasting.compose._reduce.Yfr...</td>\n",
       "    </tr>\n",
       "  </tbody>\n",
       "</table>\n",
       "</div>"
      ],
      "text/plain": [
       "                             name  \\\n",
       "0                            ARCH   \n",
       "1                           ARIMA   \n",
       "2                       AutoARIMA   \n",
       "3                         AutoETS   \n",
       "4                            BATS   \n",
       "5               BaggingForecaster   \n",
       "6        ColumnEnsembleForecaster   \n",
       "7              ConformalIntervals   \n",
       "8                   DynamicFactor   \n",
       "9                FhPlexForecaster   \n",
       "10                      ForecastX   \n",
       "11        ForecastingGridSearchCV   \n",
       "12            ForecastingPipeline   \n",
       "13  ForecastingRandomizedSearchCV   \n",
       "14       ForecastingSkoptSearchCV   \n",
       "15                NaiveForecaster   \n",
       "16                  NaiveVariance   \n",
       "17                        Permute   \n",
       "18                        Prophet   \n",
       "19                        SARIMAX   \n",
       "20              SquaringResiduals   \n",
       "21              StatsForecastARCH   \n",
       "22         StatsForecastAutoARIMA   \n",
       "23           StatsForecastAutoCES   \n",
       "24           StatsForecastAutoETS   \n",
       "25         StatsForecastAutoTheta   \n",
       "26             StatsForecastGARCH   \n",
       "27              StatsForecastMSTL   \n",
       "28                          TBATS   \n",
       "29                ThetaForecaster   \n",
       "30    TransformedTargetForecaster   \n",
       "31           UnobservedComponents   \n",
       "32                            VAR   \n",
       "33                           VECM   \n",
       "34                         YfromX   \n",
       "\n",
       "                                               object  \n",
       "0       <class 'sktime.forecasting.arch._uarch.ARCH'>  \n",
       "1            <class 'sktime.forecasting.arima.ARIMA'>  \n",
       "2        <class 'sktime.forecasting.arima.AutoARIMA'>  \n",
       "3            <class 'sktime.forecasting.ets.AutoETS'>  \n",
       "4              <class 'sktime.forecasting.bats.BATS'>  \n",
       "5   <class 'sktime.forecasting.compose._bagging.Ba...  \n",
       "6   <class 'sktime.forecasting.compose._column_ens...  \n",
       "7   <class 'sktime.forecasting.conformal.Conformal...  \n",
       "8   <class 'sktime.forecasting.dynamic_factor.Dyna...  \n",
       "9   <class 'sktime.forecasting.compose._fhplex.FhP...  \n",
       "10  <class 'sktime.forecasting.compose._pipeline.F...  \n",
       "11  <class 'sktime.forecasting.model_selection._tu...  \n",
       "12  <class 'sktime.forecasting.compose._pipeline.F...  \n",
       "13  <class 'sktime.forecasting.model_selection._tu...  \n",
       "14  <class 'sktime.forecasting.model_selection._tu...  \n",
       "15  <class 'sktime.forecasting.naive.NaiveForecast...  \n",
       "16   <class 'sktime.forecasting.naive.NaiveVariance'>  \n",
       "17  <class 'sktime.forecasting.compose._pipeline.P...  \n",
       "18     <class 'sktime.forecasting.fbprophet.Prophet'>  \n",
       "19       <class 'sktime.forecasting.sarimax.SARIMAX'>  \n",
       "20  <class 'sktime.forecasting.squaring_residuals....  \n",
       "21  <class 'sktime.forecasting.arch._statsforecast...  \n",
       "22  <class 'sktime.forecasting.statsforecast.Stats...  \n",
       "23  <class 'sktime.forecasting.statsforecast.Stats...  \n",
       "24  <class 'sktime.forecasting.statsforecast.Stats...  \n",
       "25  <class 'sktime.forecasting.statsforecast.Stats...  \n",
       "26  <class 'sktime.forecasting.arch._statsforecast...  \n",
       "27  <class 'sktime.forecasting.statsforecast.Stats...  \n",
       "28           <class 'sktime.forecasting.tbats.TBATS'>  \n",
       "29  <class 'sktime.forecasting.theta.ThetaForecast...  \n",
       "30  <class 'sktime.forecasting.compose._pipeline.T...  \n",
       "31  <class 'sktime.forecasting.structural.Unobserv...  \n",
       "32               <class 'sktime.forecasting.var.VAR'>  \n",
       "33             <class 'sktime.forecasting.vecm.VECM'>  \n",
       "34  <class 'sktime.forecasting.compose._reduce.Yfr...  "
      ]
     },
     "execution_count": 75,
     "metadata": {},
     "output_type": "execute_result"
    }
   ],
   "source": [
    "# list all forecasters that can produce probabilistic forecasts\n",
    "all_estimators(\n",
    "    \"forecaster\", as_dataframe=True, filter_tags={\"capability:pred_int\": True}\n",
    ")\n",
    "# of course you can do this with simple pandas filtering too,\n",
    "# or anything else you want to do with pandas, but it avoids tedious wrangling"
   ]
  },
  {
   "cell_type": "markdown",
   "id": "72a0cc68",
   "metadata": {},
   "source": [
    "roadmap, contribute!\n",
    "\n",
    "* easy way to specify variable scope across packages, 1st, 2nd, and 3rd party\n",
    "* updating estimator overview frontend"
   ]
  },
  {
   "cell_type": "markdown",
   "id": "b1750d80",
   "metadata": {},
   "source": [
    "## sharing model blueprints and fitted models"
   ]
  },
  {
   "cell_type": "markdown",
   "id": "1c3ba3ae",
   "metadata": {},
   "source": [
    "how to share these with your friends?\n",
    "\n",
    "* model blueprint specs, e.g., equivalent of spec `Pipeline([(\"foo\", Foo()), (\"bar\", Bar(42))])`\n",
    "* fitted models, e.g., state of `my_pipe.fit(y)` after the `fit` - specific to data!"
   ]
  },
  {
   "cell_type": "markdown",
   "id": "c8d16ee8",
   "metadata": {},
   "source": [
    "### sharing model blueprints"
   ]
  },
  {
   "cell_type": "markdown",
   "id": "4d733376",
   "metadata": {},
   "source": [
    "blueprint specs can be serialized using simple string print - this contains all information!"
   ]
  },
  {
   "cell_type": "code",
   "execution_count": 76,
   "id": "40207180",
   "metadata": {},
   "outputs": [],
   "source": [
    "# let's define an example pipeline\n",
    "from sktime.forecasting.compose._pipeline import TransformedTargetForecaster\n",
    "from sktime.forecasting.naive import NaiveForecaster\n",
    "from sktime.transformations.series.impute import Imputer\n",
    "\n",
    "pipe = TransformedTargetForecaster(\n",
    "    steps=[\n",
    "        (\"imputer\", Imputer()),\n",
    "        (\"forecaster\", NaiveForecaster()),\n",
    "    ]\n",
    ")"
   ]
  },
  {
   "cell_type": "code",
   "execution_count": 77,
   "id": "eb0991da",
   "metadata": {},
   "outputs": [
    {
     "data": {
      "text/plain": [
       "\"TransformedTargetForecaster(steps=[('imputer', Imputer()),\\n                                   ('forecaster', NaiveForecaster())])\""
      ]
     },
     "execution_count": 77,
     "metadata": {},
     "output_type": "execute_result"
    }
   ],
   "source": [
    "# serialize the pipeline to a string\n",
    "# this is useful for logging and sharing\n",
    "# pipe_str can be saved to a file, database, or shared over the internet\n",
    "pipe_str = str(pipe)\n",
    "pipe_str"
   ]
  },
  {
   "cell_type": "markdown",
   "id": "27604a73",
   "metadata": {},
   "source": [
    "for pseudo-random determinism, set any `random_state` parameters in the estimators"
   ]
  },
  {
   "cell_type": "markdown",
   "id": "ec360734",
   "metadata": {},
   "source": [
    "to deserialize, use `registry.craft` in the same python environment\n",
    "\n",
    "for python environment, e.g., use `pip freeze`"
   ]
  },
  {
   "cell_type": "code",
   "execution_count": 78,
   "id": "e889565e",
   "metadata": {},
   "outputs": [
    {
     "data": {
      "text/html": [
       "<style>#sk-1b025d2c-bccc-43c1-9e2e-3f54c3c87441 {color: black;background-color: white;}#sk-1b025d2c-bccc-43c1-9e2e-3f54c3c87441 pre{padding: 0;}#sk-1b025d2c-bccc-43c1-9e2e-3f54c3c87441 div.sk-toggleable {background-color: white;}#sk-1b025d2c-bccc-43c1-9e2e-3f54c3c87441 label.sk-toggleable__label {cursor: pointer;display: block;width: 100%;margin-bottom: 0;padding: 0.3em;box-sizing: border-box;text-align: center;}#sk-1b025d2c-bccc-43c1-9e2e-3f54c3c87441 label.sk-toggleable__label-arrow:before {content: \"▸\";float: left;margin-right: 0.25em;color: #696969;}#sk-1b025d2c-bccc-43c1-9e2e-3f54c3c87441 label.sk-toggleable__label-arrow:hover:before {color: black;}#sk-1b025d2c-bccc-43c1-9e2e-3f54c3c87441 div.sk-estimator:hover label.sk-toggleable__label-arrow:before {color: black;}#sk-1b025d2c-bccc-43c1-9e2e-3f54c3c87441 div.sk-toggleable__content {max-height: 0;max-width: 0;overflow: hidden;text-align: left;background-color: #f0f8ff;}#sk-1b025d2c-bccc-43c1-9e2e-3f54c3c87441 div.sk-toggleable__content pre {margin: 0.2em;color: black;border-radius: 0.25em;background-color: #f0f8ff;}#sk-1b025d2c-bccc-43c1-9e2e-3f54c3c87441 input.sk-toggleable__control:checked~div.sk-toggleable__content {max-height: 200px;max-width: 100%;overflow: auto;}#sk-1b025d2c-bccc-43c1-9e2e-3f54c3c87441 input.sk-toggleable__control:checked~label.sk-toggleable__label-arrow:before {content: \"▾\";}#sk-1b025d2c-bccc-43c1-9e2e-3f54c3c87441 div.sk-estimator input.sk-toggleable__control:checked~label.sk-toggleable__label {background-color: #d4ebff;}#sk-1b025d2c-bccc-43c1-9e2e-3f54c3c87441 div.sk-label input.sk-toggleable__control:checked~label.sk-toggleable__label {background-color: #d4ebff;}#sk-1b025d2c-bccc-43c1-9e2e-3f54c3c87441 input.sk-hidden--visually {border: 0;clip: rect(1px 1px 1px 1px);clip: rect(1px, 1px, 1px, 1px);height: 1px;margin: -1px;overflow: hidden;padding: 0;position: absolute;width: 1px;}#sk-1b025d2c-bccc-43c1-9e2e-3f54c3c87441 div.sk-estimator {font-family: monospace;background-color: #f0f8ff;border: 1px dotted black;border-radius: 0.25em;box-sizing: border-box;margin-bottom: 0.5em;}#sk-1b025d2c-bccc-43c1-9e2e-3f54c3c87441 div.sk-estimator:hover {background-color: #d4ebff;}#sk-1b025d2c-bccc-43c1-9e2e-3f54c3c87441 div.sk-parallel-item::after {content: \"\";width: 100%;border-bottom: 1px solid gray;flex-grow: 1;}#sk-1b025d2c-bccc-43c1-9e2e-3f54c3c87441 div.sk-label:hover label.sk-toggleable__label {background-color: #d4ebff;}#sk-1b025d2c-bccc-43c1-9e2e-3f54c3c87441 div.sk-serial::before {content: \"\";position: absolute;border-left: 1px solid gray;box-sizing: border-box;top: 2em;bottom: 0;left: 50%;}#sk-1b025d2c-bccc-43c1-9e2e-3f54c3c87441 div.sk-serial {display: flex;flex-direction: column;align-items: center;background-color: white;padding-right: 0.2em;padding-left: 0.2em;}#sk-1b025d2c-bccc-43c1-9e2e-3f54c3c87441 div.sk-item {z-index: 1;}#sk-1b025d2c-bccc-43c1-9e2e-3f54c3c87441 div.sk-parallel {display: flex;align-items: stretch;justify-content: center;background-color: white;}#sk-1b025d2c-bccc-43c1-9e2e-3f54c3c87441 div.sk-parallel::before {content: \"\";position: absolute;border-left: 1px solid gray;box-sizing: border-box;top: 2em;bottom: 0;left: 50%;}#sk-1b025d2c-bccc-43c1-9e2e-3f54c3c87441 div.sk-parallel-item {display: flex;flex-direction: column;position: relative;background-color: white;}#sk-1b025d2c-bccc-43c1-9e2e-3f54c3c87441 div.sk-parallel-item:first-child::after {align-self: flex-end;width: 50%;}#sk-1b025d2c-bccc-43c1-9e2e-3f54c3c87441 div.sk-parallel-item:last-child::after {align-self: flex-start;width: 50%;}#sk-1b025d2c-bccc-43c1-9e2e-3f54c3c87441 div.sk-parallel-item:only-child::after {width: 0;}#sk-1b025d2c-bccc-43c1-9e2e-3f54c3c87441 div.sk-dashed-wrapped {border: 1px dashed gray;margin: 0 0.4em 0.5em 0.4em;box-sizing: border-box;padding-bottom: 0.4em;background-color: white;position: relative;}#sk-1b025d2c-bccc-43c1-9e2e-3f54c3c87441 div.sk-label label {font-family: monospace;font-weight: bold;background-color: white;display: inline-block;line-height: 1.2em;}#sk-1b025d2c-bccc-43c1-9e2e-3f54c3c87441 div.sk-label-container {position: relative;z-index: 2;text-align: center;}#sk-1b025d2c-bccc-43c1-9e2e-3f54c3c87441 div.sk-container {/* jupyter's `normalize.less` sets `[hidden] { display: none; }` but bootstrap.min.css set `[hidden] { display: none !important; }` so we also need the `!important` here to be able to override the default hidden behavior on the sphinx rendered scikit-learn.org. See: https://github.com/scikit-learn/scikit-learn/issues/21755 */display: inline-block !important;position: relative;}#sk-1b025d2c-bccc-43c1-9e2e-3f54c3c87441 div.sk-text-repr-fallback {display: none;}</style><div id='sk-1b025d2c-bccc-43c1-9e2e-3f54c3c87441' class=\"sk-top-container\"><div class=\"sk-text-repr-fallback\"><pre>TransformedTargetForecaster(steps=[(&#x27;imputer&#x27;, Imputer()),\n",
       "                                   (&#x27;forecaster&#x27;, NaiveForecaster())])</pre><b>Please rerun this cell to show the HTML repr or trust the notebook.</b></div><div class=\"sk-container\" hidden><div class=\"sk-item sk-dashed-wrapped\"><div class='sk-label-container'><div class=\"sk-label sk-toggleable\"><input class=\"sk-toggleable__control sk-hidden--visually\" id=UUID('064ba968-c459-425f-bbcc-fe3042e79330') type=\"checkbox\" ><label for=UUID('064ba968-c459-425f-bbcc-fe3042e79330') class='sk-toggleable__label sk-toggleable__label-arrow'>TransformedTargetForecaster</label><div class=\"sk-toggleable__content\"><pre>TransformedTargetForecaster(steps=[(&#x27;imputer&#x27;, Imputer()),\n",
       "                                   (&#x27;forecaster&#x27;, NaiveForecaster())])</pre></div></div></div><div class=\"sk-parallel\"><div class=\"sk-parallel-item\"><div class=\"sk-item\"><div class=\"sk-serial\"><div class='sk-item'><div class=\"sk-estimator sk-toggleable\"><input class=\"sk-toggleable__control sk-hidden--visually\" id=UUID('fe37ed65-b712-46de-b6d8-72ae59171971') type=\"checkbox\" ><label for=UUID('fe37ed65-b712-46de-b6d8-72ae59171971') class='sk-toggleable__label sk-toggleable__label-arrow'>Imputer</label><div class=\"sk-toggleable__content\"><pre>Imputer()</pre></div></div></div></div></div></div><div class=\"sk-parallel-item\"><div class=\"sk-item\"><div class=\"sk-serial\"><div class='sk-item'><div class=\"sk-estimator sk-toggleable\"><input class=\"sk-toggleable__control sk-hidden--visually\" id=UUID('461c0b17-318e-42f9-9844-b873091712c5') type=\"checkbox\" ><label for=UUID('461c0b17-318e-42f9-9844-b873091712c5') class='sk-toggleable__label sk-toggleable__label-arrow'>NaiveForecaster</label><div class=\"sk-toggleable__content\"><pre>NaiveForecaster()</pre></div></div></div></div></div></div></div></div></div></div>"
      ],
      "text/plain": [
       "TransformedTargetForecaster(steps=[('imputer', Imputer()),\n",
       "                                   ('forecaster', NaiveForecaster())])"
      ]
     },
     "execution_count": 78,
     "metadata": {},
     "output_type": "execute_result"
    }
   ],
   "source": [
    "from sktime.registry import craft\n",
    "\n",
    "pipe_new = craft(pipe_str)\n",
    "pipe_new"
   ]
  },
  {
   "cell_type": "markdown",
   "id": "5cfffddf",
   "metadata": {},
   "source": [
    "this is the same estimator blueprint as `pipe`!\n",
    "\n",
    "To compare blueprint, simply use the `==` operator (this is a `scikit-base` feature)"
   ]
  },
  {
   "cell_type": "code",
   "execution_count": 79,
   "id": "66a5725c",
   "metadata": {},
   "outputs": [
    {
     "data": {
      "text/plain": [
       "True"
      ]
     },
     "execution_count": 79,
     "metadata": {},
     "output_type": "execute_result"
    }
   ],
   "source": [
    "pipe_new == pipe"
   ]
  },
  {
   "cell_type": "markdown",
   "id": "51e7ed2a",
   "metadata": {},
   "source": [
    "sharing process:\n",
    "\n",
    "* origin shares `pipe_str = str(pipe)` or `str(my_estimator)` and `pip freeze > requirements.txt` output\n",
    "* recipient installs env from `requirements.txt` and runs `craft(pipe_str)` in that env\n",
    "\n",
    "For custom estimators, in addition, the custom module needs to be shared."
   ]
  },
  {
   "cell_type": "markdown",
   "id": "9a0672d7",
   "metadata": {},
   "source": [
    "Highly complex estimators can consist of multiple definition blocks - this is also supported by `craft` as follows.\n",
    "\n",
    "Instead of a string conversion, we can also serialize:"
   ]
  },
  {
   "cell_type": "code",
   "execution_count": 80,
   "id": "f5b721f9",
   "metadata": {},
   "outputs": [],
   "source": [
    "# pipe_spec is a string representation of the pipeline\n",
    "# it can be stored in a file or a database like this\n",
    "# the \"return\" statement indicates which object we store\n",
    "# temporary variables like pipe, cv can be defined\n",
    "pipe_spec = \"\"\"\n",
    "pipe = TransformedTargetForecaster(steps=[\n",
    "    (\"imputer\", Imputer()),\n",
    "    (\"forecaster\", NaiveForecaster())])\n",
    "cv = ExpandingWindowSplitter(\n",
    "    initial_window=24,\n",
    "    step_length=12,\n",
    "    fh=[1, 2, 3])\n",
    "\n",
    "return ForecastingGridSearchCV(\n",
    "    forecaster=pipe,\n",
    "    param_grid=[{\n",
    "        \"forecaster\": [NaiveForecaster(sp=12)],\n",
    "        \"forecaster__strategy\": [\"drift\", \"last\", \"mean\"],\n",
    "    },\n",
    "    {\n",
    "        \"imputer__method\": [\"mean\", \"drift\"],\n",
    "        \"forecaster\": [ThetaForecaster(sp=12)],\n",
    "    },\n",
    "    {\n",
    "        \"imputer__method\": [\"mean\", \"median\"],\n",
    "        \"forecaster\": [ExponentialSmoothing(sp=12)],\n",
    "        \"forecaster__trend\": [\"add\", \"mul\"],\n",
    "    },\n",
    "    ],\n",
    "    cv=cv,\n",
    "    n_jobs=-1)\n",
    "\"\"\""
   ]
  },
  {
   "cell_type": "code",
   "execution_count": 81,
   "id": "49d58a06",
   "metadata": {},
   "outputs": [
    {
     "data": {
      "text/html": [
       "<style>#sk-5938bbd0-fae6-434b-9bbe-b5ab5ae0a54c {color: black;background-color: white;}#sk-5938bbd0-fae6-434b-9bbe-b5ab5ae0a54c pre{padding: 0;}#sk-5938bbd0-fae6-434b-9bbe-b5ab5ae0a54c div.sk-toggleable {background-color: white;}#sk-5938bbd0-fae6-434b-9bbe-b5ab5ae0a54c label.sk-toggleable__label {cursor: pointer;display: block;width: 100%;margin-bottom: 0;padding: 0.3em;box-sizing: border-box;text-align: center;}#sk-5938bbd0-fae6-434b-9bbe-b5ab5ae0a54c label.sk-toggleable__label-arrow:before {content: \"▸\";float: left;margin-right: 0.25em;color: #696969;}#sk-5938bbd0-fae6-434b-9bbe-b5ab5ae0a54c label.sk-toggleable__label-arrow:hover:before {color: black;}#sk-5938bbd0-fae6-434b-9bbe-b5ab5ae0a54c div.sk-estimator:hover label.sk-toggleable__label-arrow:before {color: black;}#sk-5938bbd0-fae6-434b-9bbe-b5ab5ae0a54c div.sk-toggleable__content {max-height: 0;max-width: 0;overflow: hidden;text-align: left;background-color: #f0f8ff;}#sk-5938bbd0-fae6-434b-9bbe-b5ab5ae0a54c div.sk-toggleable__content pre {margin: 0.2em;color: black;border-radius: 0.25em;background-color: #f0f8ff;}#sk-5938bbd0-fae6-434b-9bbe-b5ab5ae0a54c input.sk-toggleable__control:checked~div.sk-toggleable__content {max-height: 200px;max-width: 100%;overflow: auto;}#sk-5938bbd0-fae6-434b-9bbe-b5ab5ae0a54c input.sk-toggleable__control:checked~label.sk-toggleable__label-arrow:before {content: \"▾\";}#sk-5938bbd0-fae6-434b-9bbe-b5ab5ae0a54c div.sk-estimator input.sk-toggleable__control:checked~label.sk-toggleable__label {background-color: #d4ebff;}#sk-5938bbd0-fae6-434b-9bbe-b5ab5ae0a54c div.sk-label input.sk-toggleable__control:checked~label.sk-toggleable__label {background-color: #d4ebff;}#sk-5938bbd0-fae6-434b-9bbe-b5ab5ae0a54c input.sk-hidden--visually {border: 0;clip: rect(1px 1px 1px 1px);clip: rect(1px, 1px, 1px, 1px);height: 1px;margin: -1px;overflow: hidden;padding: 0;position: absolute;width: 1px;}#sk-5938bbd0-fae6-434b-9bbe-b5ab5ae0a54c div.sk-estimator {font-family: monospace;background-color: #f0f8ff;border: 1px dotted black;border-radius: 0.25em;box-sizing: border-box;margin-bottom: 0.5em;}#sk-5938bbd0-fae6-434b-9bbe-b5ab5ae0a54c div.sk-estimator:hover {background-color: #d4ebff;}#sk-5938bbd0-fae6-434b-9bbe-b5ab5ae0a54c div.sk-parallel-item::after {content: \"\";width: 100%;border-bottom: 1px solid gray;flex-grow: 1;}#sk-5938bbd0-fae6-434b-9bbe-b5ab5ae0a54c div.sk-label:hover label.sk-toggleable__label {background-color: #d4ebff;}#sk-5938bbd0-fae6-434b-9bbe-b5ab5ae0a54c div.sk-serial::before {content: \"\";position: absolute;border-left: 1px solid gray;box-sizing: border-box;top: 2em;bottom: 0;left: 50%;}#sk-5938bbd0-fae6-434b-9bbe-b5ab5ae0a54c div.sk-serial {display: flex;flex-direction: column;align-items: center;background-color: white;padding-right: 0.2em;padding-left: 0.2em;}#sk-5938bbd0-fae6-434b-9bbe-b5ab5ae0a54c div.sk-item {z-index: 1;}#sk-5938bbd0-fae6-434b-9bbe-b5ab5ae0a54c div.sk-parallel {display: flex;align-items: stretch;justify-content: center;background-color: white;}#sk-5938bbd0-fae6-434b-9bbe-b5ab5ae0a54c div.sk-parallel::before {content: \"\";position: absolute;border-left: 1px solid gray;box-sizing: border-box;top: 2em;bottom: 0;left: 50%;}#sk-5938bbd0-fae6-434b-9bbe-b5ab5ae0a54c div.sk-parallel-item {display: flex;flex-direction: column;position: relative;background-color: white;}#sk-5938bbd0-fae6-434b-9bbe-b5ab5ae0a54c div.sk-parallel-item:first-child::after {align-self: flex-end;width: 50%;}#sk-5938bbd0-fae6-434b-9bbe-b5ab5ae0a54c div.sk-parallel-item:last-child::after {align-self: flex-start;width: 50%;}#sk-5938bbd0-fae6-434b-9bbe-b5ab5ae0a54c div.sk-parallel-item:only-child::after {width: 0;}#sk-5938bbd0-fae6-434b-9bbe-b5ab5ae0a54c div.sk-dashed-wrapped {border: 1px dashed gray;margin: 0 0.4em 0.5em 0.4em;box-sizing: border-box;padding-bottom: 0.4em;background-color: white;position: relative;}#sk-5938bbd0-fae6-434b-9bbe-b5ab5ae0a54c div.sk-label label {font-family: monospace;font-weight: bold;background-color: white;display: inline-block;line-height: 1.2em;}#sk-5938bbd0-fae6-434b-9bbe-b5ab5ae0a54c div.sk-label-container {position: relative;z-index: 2;text-align: center;}#sk-5938bbd0-fae6-434b-9bbe-b5ab5ae0a54c div.sk-container {/* jupyter's `normalize.less` sets `[hidden] { display: none; }` but bootstrap.min.css set `[hidden] { display: none !important; }` so we also need the `!important` here to be able to override the default hidden behavior on the sphinx rendered scikit-learn.org. See: https://github.com/scikit-learn/scikit-learn/issues/21755 */display: inline-block !important;position: relative;}#sk-5938bbd0-fae6-434b-9bbe-b5ab5ae0a54c div.sk-text-repr-fallback {display: none;}</style><div id='sk-5938bbd0-fae6-434b-9bbe-b5ab5ae0a54c' class=\"sk-top-container\"><div class=\"sk-text-repr-fallback\"><pre>ForecastingGridSearchCV(cv=ExpandingWindowSplitter(fh=[1, 2, 3],\n",
       "                                                   initial_window=24,\n",
       "                                                   step_length=12),\n",
       "                        forecaster=TransformedTargetForecaster(steps=[(&#x27;imputer&#x27;,\n",
       "                                                                       Imputer()),\n",
       "                                                                      (&#x27;forecaster&#x27;,\n",
       "                                                                       NaiveForecaster())]),\n",
       "                        n_jobs=-1,\n",
       "                        param_grid=[{&#x27;forecaster&#x27;: [NaiveForecaster(sp=12)],\n",
       "                                     &#x27;forecaster__strategy&#x27;: [&#x27;drift&#x27;, &#x27;last&#x27;,\n",
       "                                                              &#x27;mean&#x27;]},\n",
       "                                    {&#x27;forecaster&#x27;: [ThetaForecaster(sp=12)],\n",
       "                                     &#x27;imputer__method&#x27;: [&#x27;mean&#x27;, &#x27;drift&#x27;]},\n",
       "                                    {&#x27;forecaster&#x27;: [ExponentialSmoothing(sp=12)],\n",
       "                                     &#x27;forecaster__trend&#x27;: [&#x27;add&#x27;, &#x27;mul&#x27;],\n",
       "                                     &#x27;imputer__method&#x27;: [&#x27;mean&#x27;, &#x27;median&#x27;]}])</pre><b>Please rerun this cell to show the HTML repr or trust the notebook.</b></div><div class=\"sk-container\" hidden><div class=\"sk-item sk-dashed-wrapped\"><div class='sk-label-container'><div class=\"sk-label sk-toggleable\"><input class=\"sk-toggleable__control sk-hidden--visually\" id=UUID('d36cf296-fab3-4c96-aab2-120c16e36457') type=\"checkbox\" ><label for=UUID('d36cf296-fab3-4c96-aab2-120c16e36457') class='sk-toggleable__label sk-toggleable__label-arrow'>ForecastingGridSearchCV</label><div class=\"sk-toggleable__content\"><pre>ForecastingGridSearchCV(cv=ExpandingWindowSplitter(fh=[1, 2, 3],\n",
       "                                                   initial_window=24,\n",
       "                                                   step_length=12),\n",
       "                        forecaster=TransformedTargetForecaster(steps=[(&#x27;imputer&#x27;,\n",
       "                                                                       Imputer()),\n",
       "                                                                      (&#x27;forecaster&#x27;,\n",
       "                                                                       NaiveForecaster())]),\n",
       "                        n_jobs=-1,\n",
       "                        param_grid=[{&#x27;forecaster&#x27;: [NaiveForecaster(sp=12)],\n",
       "                                     &#x27;forecaster__strategy&#x27;: [&#x27;drift&#x27;, &#x27;last&#x27;,\n",
       "                                                              &#x27;mean&#x27;]},\n",
       "                                    {&#x27;forecaster&#x27;: [ThetaForecaster(sp=12)],\n",
       "                                     &#x27;imputer__method&#x27;: [&#x27;mean&#x27;, &#x27;drift&#x27;]},\n",
       "                                    {&#x27;forecaster&#x27;: [ExponentialSmoothing(sp=12)],\n",
       "                                     &#x27;forecaster__trend&#x27;: [&#x27;add&#x27;, &#x27;mul&#x27;],\n",
       "                                     &#x27;imputer__method&#x27;: [&#x27;mean&#x27;, &#x27;median&#x27;]}])</pre></div></div></div><div class=\"sk-parallel\"><div class=\"sk-parallel-item\"><div class=\"sk-item\"><div class=\"sk-serial\"><div class='sk-item'><div class=\"sk-estimator sk-toggleable\"><input class=\"sk-toggleable__control sk-hidden--visually\" id=UUID('ccebf390-13e1-4e39-92ae-8741b80119de') type=\"checkbox\" ><label for=UUID('ccebf390-13e1-4e39-92ae-8741b80119de') class='sk-toggleable__label sk-toggleable__label-arrow'>ExpandingWindowSplitter</label><div class=\"sk-toggleable__content\"><pre>ExpandingWindowSplitter(fh=[1, 2, 3], initial_window=24, step_length=12)</pre></div></div></div></div></div></div><div class=\"sk-parallel-item\"><div class=\"sk-item\"><div class=\"sk-serial\"><div class=\"sk-item sk-dashed-wrapped\"><div class=\"sk-parallel\"><div class=\"sk-parallel-item\"><div class=\"sk-item\"><div class=\"sk-serial\"><div class='sk-item'><div class=\"sk-estimator sk-toggleable\"><input class=\"sk-toggleable__control sk-hidden--visually\" id=UUID('14708f37-d97a-457d-bd65-34f59d530633') type=\"checkbox\" ><label for=UUID('14708f37-d97a-457d-bd65-34f59d530633') class='sk-toggleable__label sk-toggleable__label-arrow'>Imputer</label><div class=\"sk-toggleable__content\"><pre>Imputer()</pre></div></div></div></div></div></div><div class=\"sk-parallel-item\"><div class=\"sk-item\"><div class=\"sk-serial\"><div class='sk-item'><div class=\"sk-estimator sk-toggleable\"><input class=\"sk-toggleable__control sk-hidden--visually\" id=UUID('8df00f02-e014-4933-9c0c-37edd54b3134') type=\"checkbox\" ><label for=UUID('8df00f02-e014-4933-9c0c-37edd54b3134') class='sk-toggleable__label sk-toggleable__label-arrow'>NaiveForecaster</label><div class=\"sk-toggleable__content\"><pre>NaiveForecaster()</pre></div></div></div></div></div></div></div></div></div></div></div></div></div></div></div>"
      ],
      "text/plain": [
       "ForecastingGridSearchCV(cv=ExpandingWindowSplitter(fh=[1, 2, 3],\n",
       "                                                   initial_window=24,\n",
       "                                                   step_length=12),\n",
       "                        forecaster=TransformedTargetForecaster(steps=[('imputer',\n",
       "                                                                       Imputer()),\n",
       "                                                                      ('forecaster',\n",
       "                                                                       NaiveForecaster())]),\n",
       "                        n_jobs=-1,\n",
       "                        param_grid=[{'forecaster': [NaiveForecaster(sp=12)],\n",
       "                                     'forecaster__strategy': ['drift', 'last',\n",
       "                                                              'mean']},\n",
       "                                    {'forecaster': [ThetaForecaster(sp=12)],\n",
       "                                     'imputer__method': ['mean', 'drift']},\n",
       "                                    {'forecaster': [ExponentialSmoothing(sp=12)],\n",
       "                                     'forecaster__trend': ['add', 'mul'],\n",
       "                                     'imputer__method': ['mean', 'median']}])"
      ]
     },
     "execution_count": 81,
     "metadata": {},
     "output_type": "execute_result"
    }
   ],
   "source": [
    "craft(pipe_spec)"
   ]
  },
  {
   "cell_type": "markdown",
   "id": "7a5019fa",
   "metadata": {},
   "source": [
    "some estimators require soft dependencies to be installed at `craft`\n",
    "\n",
    "query required dependencies can *before* construction via `deps`:"
   ]
  },
  {
   "cell_type": "code",
   "execution_count": 82,
   "id": "d2a2f566",
   "metadata": {},
   "outputs": [
    {
     "data": {
      "text/plain": [
       "['statsmodels']"
      ]
     },
     "execution_count": 82,
     "metadata": {},
     "output_type": "execute_result"
    }
   ],
   "source": [
    "from sktime.registry import deps\n",
    "\n",
    "deps(pipe_spec)"
   ]
  },
  {
   "cell_type": "markdown",
   "id": "eacc98de",
   "metadata": {},
   "source": [
    "(if `pip freeze` is not enough)"
   ]
  },
  {
   "cell_type": "markdown",
   "id": "87929231",
   "metadata": {},
   "source": [
    "`imports` can be used to print a full import block:"
   ]
  },
  {
   "cell_type": "code",
   "execution_count": 83,
   "id": "864dd970",
   "metadata": {},
   "outputs": [
    {
     "data": {
      "text/plain": [
       "'from sktime.forecasting.compose._pipeline import TransformedTargetForecaster\\nfrom sktime.forecasting.exp_smoothing import ExponentialSmoothing\\nfrom sktime.forecasting.model_selection._tune import ForecastingGridSearchCV\\nfrom sktime.forecasting.naive import NaiveForecaster\\nfrom sktime.forecasting.naive import NaiveForecaster\\nfrom sktime.forecasting.theta import ThetaForecaster\\nfrom sktime.split.expandingwindow import ExpandingWindowSplitter\\nfrom sktime.transformations.series.impute import Imputer'"
      ]
     },
     "execution_count": 83,
     "metadata": {},
     "output_type": "execute_result"
    }
   ],
   "source": [
    "from sktime.registry import imports\n",
    "\n",
    "imports(pipe_spec)  # the result can be copied above the spec in to a jupyter cell"
   ]
  },
  {
   "cell_type": "markdown",
   "id": "af39fe09",
   "metadata": {},
   "source": [
    "### Persisting fitted models"
   ]
  },
  {
   "cell_type": "markdown",
   "id": "ab450c88",
   "metadata": {},
   "source": [
    "to persist a fitted model:"
   ]
  },
  {
   "cell_type": "code",
   "execution_count": 84,
   "id": "b6a5ffd1",
   "metadata": {},
   "outputs": [],
   "source": [
    "from sktime.datasets import load_airline\n",
    "\n",
    "y = load_airline()"
   ]
  },
  {
   "cell_type": "code",
   "execution_count": 85,
   "id": "6a159e25",
   "metadata": {},
   "outputs": [
    {
     "data": {
      "text/html": [
       "<style>#sk-11d874c0-83d3-41bd-bba8-9c1eac88ca41 {color: black;background-color: white;}#sk-11d874c0-83d3-41bd-bba8-9c1eac88ca41 pre{padding: 0;}#sk-11d874c0-83d3-41bd-bba8-9c1eac88ca41 div.sk-toggleable {background-color: white;}#sk-11d874c0-83d3-41bd-bba8-9c1eac88ca41 label.sk-toggleable__label {cursor: pointer;display: block;width: 100%;margin-bottom: 0;padding: 0.3em;box-sizing: border-box;text-align: center;}#sk-11d874c0-83d3-41bd-bba8-9c1eac88ca41 label.sk-toggleable__label-arrow:before {content: \"▸\";float: left;margin-right: 0.25em;color: #696969;}#sk-11d874c0-83d3-41bd-bba8-9c1eac88ca41 label.sk-toggleable__label-arrow:hover:before {color: black;}#sk-11d874c0-83d3-41bd-bba8-9c1eac88ca41 div.sk-estimator:hover label.sk-toggleable__label-arrow:before {color: black;}#sk-11d874c0-83d3-41bd-bba8-9c1eac88ca41 div.sk-toggleable__content {max-height: 0;max-width: 0;overflow: hidden;text-align: left;background-color: #f0f8ff;}#sk-11d874c0-83d3-41bd-bba8-9c1eac88ca41 div.sk-toggleable__content pre {margin: 0.2em;color: black;border-radius: 0.25em;background-color: #f0f8ff;}#sk-11d874c0-83d3-41bd-bba8-9c1eac88ca41 input.sk-toggleable__control:checked~div.sk-toggleable__content {max-height: 200px;max-width: 100%;overflow: auto;}#sk-11d874c0-83d3-41bd-bba8-9c1eac88ca41 input.sk-toggleable__control:checked~label.sk-toggleable__label-arrow:before {content: \"▾\";}#sk-11d874c0-83d3-41bd-bba8-9c1eac88ca41 div.sk-estimator input.sk-toggleable__control:checked~label.sk-toggleable__label {background-color: #d4ebff;}#sk-11d874c0-83d3-41bd-bba8-9c1eac88ca41 div.sk-label input.sk-toggleable__control:checked~label.sk-toggleable__label {background-color: #d4ebff;}#sk-11d874c0-83d3-41bd-bba8-9c1eac88ca41 input.sk-hidden--visually {border: 0;clip: rect(1px 1px 1px 1px);clip: rect(1px, 1px, 1px, 1px);height: 1px;margin: -1px;overflow: hidden;padding: 0;position: absolute;width: 1px;}#sk-11d874c0-83d3-41bd-bba8-9c1eac88ca41 div.sk-estimator {font-family: monospace;background-color: #f0f8ff;border: 1px dotted black;border-radius: 0.25em;box-sizing: border-box;margin-bottom: 0.5em;}#sk-11d874c0-83d3-41bd-bba8-9c1eac88ca41 div.sk-estimator:hover {background-color: #d4ebff;}#sk-11d874c0-83d3-41bd-bba8-9c1eac88ca41 div.sk-parallel-item::after {content: \"\";width: 100%;border-bottom: 1px solid gray;flex-grow: 1;}#sk-11d874c0-83d3-41bd-bba8-9c1eac88ca41 div.sk-label:hover label.sk-toggleable__label {background-color: #d4ebff;}#sk-11d874c0-83d3-41bd-bba8-9c1eac88ca41 div.sk-serial::before {content: \"\";position: absolute;border-left: 1px solid gray;box-sizing: border-box;top: 2em;bottom: 0;left: 50%;}#sk-11d874c0-83d3-41bd-bba8-9c1eac88ca41 div.sk-serial {display: flex;flex-direction: column;align-items: center;background-color: white;padding-right: 0.2em;padding-left: 0.2em;}#sk-11d874c0-83d3-41bd-bba8-9c1eac88ca41 div.sk-item {z-index: 1;}#sk-11d874c0-83d3-41bd-bba8-9c1eac88ca41 div.sk-parallel {display: flex;align-items: stretch;justify-content: center;background-color: white;}#sk-11d874c0-83d3-41bd-bba8-9c1eac88ca41 div.sk-parallel::before {content: \"\";position: absolute;border-left: 1px solid gray;box-sizing: border-box;top: 2em;bottom: 0;left: 50%;}#sk-11d874c0-83d3-41bd-bba8-9c1eac88ca41 div.sk-parallel-item {display: flex;flex-direction: column;position: relative;background-color: white;}#sk-11d874c0-83d3-41bd-bba8-9c1eac88ca41 div.sk-parallel-item:first-child::after {align-self: flex-end;width: 50%;}#sk-11d874c0-83d3-41bd-bba8-9c1eac88ca41 div.sk-parallel-item:last-child::after {align-self: flex-start;width: 50%;}#sk-11d874c0-83d3-41bd-bba8-9c1eac88ca41 div.sk-parallel-item:only-child::after {width: 0;}#sk-11d874c0-83d3-41bd-bba8-9c1eac88ca41 div.sk-dashed-wrapped {border: 1px dashed gray;margin: 0 0.4em 0.5em 0.4em;box-sizing: border-box;padding-bottom: 0.4em;background-color: white;position: relative;}#sk-11d874c0-83d3-41bd-bba8-9c1eac88ca41 div.sk-label label {font-family: monospace;font-weight: bold;background-color: white;display: inline-block;line-height: 1.2em;}#sk-11d874c0-83d3-41bd-bba8-9c1eac88ca41 div.sk-label-container {position: relative;z-index: 2;text-align: center;}#sk-11d874c0-83d3-41bd-bba8-9c1eac88ca41 div.sk-container {/* jupyter's `normalize.less` sets `[hidden] { display: none; }` but bootstrap.min.css set `[hidden] { display: none !important; }` so we also need the `!important` here to be able to override the default hidden behavior on the sphinx rendered scikit-learn.org. See: https://github.com/scikit-learn/scikit-learn/issues/21755 */display: inline-block !important;position: relative;}#sk-11d874c0-83d3-41bd-bba8-9c1eac88ca41 div.sk-text-repr-fallback {display: none;}</style><div id='sk-11d874c0-83d3-41bd-bba8-9c1eac88ca41' class=\"sk-top-container\"><div class=\"sk-text-repr-fallback\"><pre>TransformedTargetForecaster(steps=[(&#x27;imputer&#x27;, Imputer()),\n",
       "                                   (&#x27;forecaster&#x27;, NaiveForecaster())])</pre><b>Please rerun this cell to show the HTML repr or trust the notebook.</b></div><div class=\"sk-container\" hidden><div class=\"sk-item sk-dashed-wrapped\"><div class='sk-label-container'><div class=\"sk-label sk-toggleable\"><input class=\"sk-toggleable__control sk-hidden--visually\" id=UUID('27610ed2-2cc3-4ec6-bf85-d4988e1c29d3') type=\"checkbox\" ><label for=UUID('27610ed2-2cc3-4ec6-bf85-d4988e1c29d3') class='sk-toggleable__label sk-toggleable__label-arrow'>TransformedTargetForecaster</label><div class=\"sk-toggleable__content\"><pre>TransformedTargetForecaster(steps=[(&#x27;imputer&#x27;, Imputer()),\n",
       "                                   (&#x27;forecaster&#x27;, NaiveForecaster())])</pre></div></div></div><div class=\"sk-parallel\"><div class=\"sk-parallel-item\"><div class=\"sk-item\"><div class=\"sk-serial\"><div class='sk-item'><div class=\"sk-estimator sk-toggleable\"><input class=\"sk-toggleable__control sk-hidden--visually\" id=UUID('bfcf36a5-af87-4d7c-ab1b-78bff4d1f8bd') type=\"checkbox\" ><label for=UUID('bfcf36a5-af87-4d7c-ab1b-78bff4d1f8bd') class='sk-toggleable__label sk-toggleable__label-arrow'>Imputer</label><div class=\"sk-toggleable__content\"><pre>Imputer()</pre></div></div></div></div></div></div><div class=\"sk-parallel-item\"><div class=\"sk-item\"><div class=\"sk-serial\"><div class='sk-item'><div class=\"sk-estimator sk-toggleable\"><input class=\"sk-toggleable__control sk-hidden--visually\" id=UUID('ef82a6bf-fd29-46dd-8ace-3b9f94b4382d') type=\"checkbox\" ><label for=UUID('ef82a6bf-fd29-46dd-8ace-3b9f94b4382d') class='sk-toggleable__label sk-toggleable__label-arrow'>NaiveForecaster</label><div class=\"sk-toggleable__content\"><pre>NaiveForecaster()</pre></div></div></div></div></div></div></div></div></div></div>"
      ],
      "text/plain": [
       "TransformedTargetForecaster(steps=[('imputer', Imputer()),\n",
       "                                   ('forecaster', NaiveForecaster())])"
      ]
     },
     "execution_count": 85,
     "metadata": {},
     "output_type": "execute_result"
    }
   ],
   "source": [
    "# example pipeline\n",
    "from sktime.forecasting.compose._pipeline import TransformedTargetForecaster\n",
    "from sktime.forecasting.naive import NaiveForecaster\n",
    "from sktime.transformations.series.impute import Imputer\n",
    "\n",
    "pipe = TransformedTargetForecaster(\n",
    "    steps=[\n",
    "        (\"imputer\", Imputer()),\n",
    "        (\"forecaster\", NaiveForecaster()),\n",
    "    ]\n",
    ")\n",
    "\n",
    "pipe.fit(y, fh=[1, 2, 3])"
   ]
  },
  {
   "cell_type": "markdown",
   "id": "587a47e1",
   "metadata": {},
   "source": [
    "to serialize fitted objects, use `save` - default is `pkl`, but may differ for deep learning\n",
    "\n",
    "* no args produces in-memory object\n",
    "* `str` or `Path` arg will serialize to file"
   ]
  },
  {
   "cell_type": "code",
   "execution_count": 86,
   "id": "f20bdb5f",
   "metadata": {},
   "outputs": [],
   "source": [
    "pipe_mem = pipe.save()\n",
    "# pipe_mem is a pickle"
   ]
  },
  {
   "cell_type": "markdown",
   "id": "e0889ecc",
   "metadata": {},
   "source": [
    "to deserialize use the `load` method on the memory object or a `str`, `Path`:"
   ]
  },
  {
   "cell_type": "code",
   "execution_count": 87,
   "id": "dc0b24ee",
   "metadata": {},
   "outputs": [],
   "source": [
    "from sktime.base import load\n",
    "\n",
    "pipe_new = load(pipe_mem)"
   ]
  },
  {
   "cell_type": "markdown",
   "id": "0255919c",
   "metadata": {},
   "source": [
    "the loaded object can be used for prediction now."
   ]
  },
  {
   "cell_type": "code",
   "execution_count": 88,
   "id": "c10dd21b",
   "metadata": {},
   "outputs": [
    {
     "data": {
      "text/plain": [
       "1961-01    432.0\n",
       "1961-02    432.0\n",
       "1961-03    432.0\n",
       "Freq: M, Name: Number of airline passengers, dtype: float64"
      ]
     },
     "execution_count": 88,
     "metadata": {},
     "output_type": "execute_result"
    }
   ],
   "source": [
    "pipe_new.predict()"
   ]
  },
  {
   "cell_type": "markdown",
   "id": "89327329",
   "metadata": {},
   "source": [
    "for more, see [sktime tutorial at pycon Prague 2023](https://github.com/sktime/sktime-tutorial-pydata-global-2023)"
   ]
  },
  {
   "cell_type": "markdown",
   "id": "b6a94791",
   "metadata": {},
   "source": [
    "### mlflow custom flavour"
   ]
  },
  {
   "cell_type": "markdown",
   "id": "071aa452",
   "metadata": {},
   "source": [
    "with `mlflow` / `mlflavors`:\n",
    "\n",
    "* use `mlflow` context manager `start_run`\n",
    "* results are logged/saved using standard `mlflow.log_params`, `log_metrics`\n",
    "* model is logged/saved using `mlflavors.sktime.log_model`\n",
    "\n",
    "for further use (load), get artefact URI using `get_artifact_uri`"
   ]
  },
  {
   "cell_type": "markdown",
   "id": "79f6724b",
   "metadata": {},
   "source": [
    "Example: save fitted model, model parameters, and results of this experiment to server\n",
    "\n",
    "* fit `NaiveForecaster` on longley data (with exogenous vars)\n",
    "* evaluate via MAE and MAPE"
   ]
  },
  {
   "cell_type": "code",
   "execution_count": null,
   "id": "ee6a0a20",
   "metadata": {},
   "outputs": [],
   "source": [
    "import json\n",
    "\n",
    "import mlflavors\n",
    "import mlflow\n",
    "from sktime.datasets import load_longley\n",
    "from sktime.forecasting.model_selection import temporal_train_test_split\n",
    "from sktime.forecasting.naive import NaiveForecaster\n",
    "from sktime.performance_metrics.forecasting import (\n",
    "    mean_absolute_error,\n",
    "    mean_absolute_percentage_error,\n",
    ")\n",
    "\n",
    "\n",
    "ARTIFACT_PATH = \"model\"\n",
    "\n",
    "with mlflow.start_run() as run:\n",
    "    y, X = load_longley()\n",
    "    y_train, y_test, X_train, X_test = temporal_train_test_split(y, X)\n",
    "\n",
    "    forecaster = NaiveForecaster()\n",
    "    forecaster.fit(\n",
    "        y_train,\n",
    "        X=X_train,\n",
    "        fh=[1, 2, 3, 4],\n",
    "    )\n",
    "\n",
    "    # Extract parameters\n",
    "    parameters = forecaster.get_params()\n",
    "\n",
    "    # Evaluate model\n",
    "    y_pred = forecaster.predict(X=X_test)\n",
    "    metrics = {\n",
    "        \"mae\": mean_absolute_error(y_test, y_pred),\n",
    "        \"mape\": mean_absolute_percentage_error(y_test, y_pred),\n",
    "    }\n",
    "\n",
    "    print(f\"Parameters: \\n{json.dumps(parameters, indent=2)}\")\n",
    "    print(f\"\\nMetrics: \\n{json.dumps(metrics, indent=2)}\")\n",
    "\n",
    "    # Log parameters and metrics\n",
    "    mlflow.log_params(parameters)\n",
    "    mlflow.log_metrics(metrics)\n",
    "\n",
    "    # Log model to MLflow tracking server\n",
    "    mlflavors.sktime.log_model(\n",
    "        sktime_model=forecaster,\n",
    "        artifact_path=ARTIFACT_PATH,\n",
    "    )\n",
    "\n",
    "    # Return model uri from the current run\n",
    "    model_uri = mlflow.get_artifact_uri(ARTIFACT_PATH)\n",
    "\n",
    "# Print the run id which is used below for serving the model to a local REST API endpoint\n",
    "print(f\"\\nMLflow run id:\\n{run.info.run_id}\")"
   ]
  },
  {
   "cell_type": "markdown",
   "id": "3b5482f9",
   "metadata": {},
   "source": [
    "loading via `load_model` (below) or `pyfunc`:"
   ]
  },
  {
   "cell_type": "code",
   "execution_count": null,
   "id": "68cbc87c",
   "metadata": {},
   "outputs": [],
   "source": [
    "loaded_model = mlflavors.sktime.load_model(model_uri=model_uri)\n",
    "print(loaded_model.predict_interval(fh=[1, 2, 3], X=X_test, coverage=[0.9, 0.95]))"
   ]
  },
  {
   "cell_type": "markdown",
   "id": "3effae1e",
   "metadata": {},
   "source": [
    "see [sktime tutorial at ODSC Europe 2023](https://github.com/sktime/sktime-tutorial-ODSC-Europe-2023)"
   ]
  },
  {
   "cell_type": "markdown",
   "id": "f9180220",
   "metadata": {},
   "source": [
    "---"
   ]
  },
  {
   "cell_type": "markdown",
   "id": "48f15725",
   "metadata": {},
   "source": [
    "### 2022-2023 highlights seen today\n",
    "\n",
    "#### Forecasting\n",
    "\n",
    "* streamlined interface\n",
    "* pipelines introduction\n",
    "* new: graphical pipeline\n",
    "\n",
    "#### Advanced modelling\n",
    "\n",
    "* extended parallelism, including parallel broadcasting to hierarchical data\n",
    "* fully distributional probabilistic forecasts and metrics, skpro\n",
    "* composable time series classifiers, regressors, distances, time series aligners\n",
    "* benchmarking frameworks for comparing estimator performance\n",
    "\n",
    "#### Marketplace and deployment features\n",
    "\n",
    "* estimator search, estimator tags\n",
    "* scikit-base interface for multiple libraries\n",
    "* blueprint serialization and sharing\n",
    "* fitted estimator serialization and sharing\n",
    "* mlflow deployment via custom flavour"
   ]
  },
  {
   "cell_type": "markdown",
   "metadata": {
    "collapsed": false
   },
   "source": [
    "---\n",
    "### Credits: notebook 4 - new feature vignettes\n",
    "\n",
    "notebook creation: fkiraly\n",
    "\n",
    "some vignettes based on previous workshops, as linked\n",
    "\n",
    "General credit also to `sklearn` and `sktime` contributors"
   ]
  }
 ],
 "metadata": {
  "kernelspec": {
   "display_name": "Python 3 (ipykernel)",
   "language": "python",
   "name": "python3"
  },
  "language_info": {
   "codemirror_mode": {
    "name": "ipython",
    "version": 3
   },
   "file_extension": ".py",
   "mimetype": "text/x-python",
   "name": "python",
   "nbconvert_exporter": "python",
   "pygments_lexer": "ipython3",
   "version": "3.11.5"
  }
 },
 "nbformat": 4,
 "nbformat_minor": 5
}
